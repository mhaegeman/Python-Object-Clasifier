{
 "cells": [
  {
   "cell_type": "markdown",
   "metadata": {},
   "source": [
    "# P6 Classifiez automatiquement des biens de consommation : Traitement de texte\n",
    "## Importation des librairies et des données\n",
    "### Importation des librairies python utilisées"
   ]
  },
  {
   "cell_type": "code",
   "execution_count": 1,
   "metadata": {},
   "outputs": [
    {
     "data": {
      "text/html": [
       "\n",
       "    <div class=\"bk-root\">\n",
       "        <a href=\"https://bokeh.org\" target=\"_blank\" class=\"bk-logo bk-logo-small bk-logo-notebook\"></a>\n",
       "        <span id=\"1001\">Loading BokehJS ...</span>\n",
       "    </div>"
      ]
     },
     "metadata": {},
     "output_type": "display_data"
    },
    {
     "data": {
      "application/javascript": [
       "\n",
       "(function(root) {\n",
       "  function now() {\n",
       "    return new Date();\n",
       "  }\n",
       "\n",
       "  var force = true;\n",
       "\n",
       "  if (typeof root._bokeh_onload_callbacks === \"undefined\" || force === true) {\n",
       "    root._bokeh_onload_callbacks = [];\n",
       "    root._bokeh_is_loading = undefined;\n",
       "  }\n",
       "\n",
       "  var JS_MIME_TYPE = 'application/javascript';\n",
       "  var HTML_MIME_TYPE = 'text/html';\n",
       "  var EXEC_MIME_TYPE = 'application/vnd.bokehjs_exec.v0+json';\n",
       "  var CLASS_NAME = 'output_bokeh rendered_html';\n",
       "\n",
       "  /**\n",
       "   * Render data to the DOM node\n",
       "   */\n",
       "  function render(props, node) {\n",
       "    var script = document.createElement(\"script\");\n",
       "    node.appendChild(script);\n",
       "  }\n",
       "\n",
       "  /**\n",
       "   * Handle when an output is cleared or removed\n",
       "   */\n",
       "  function handleClearOutput(event, handle) {\n",
       "    var cell = handle.cell;\n",
       "\n",
       "    var id = cell.output_area._bokeh_element_id;\n",
       "    var server_id = cell.output_area._bokeh_server_id;\n",
       "    // Clean up Bokeh references\n",
       "    if (id != null && id in Bokeh.index) {\n",
       "      Bokeh.index[id].model.document.clear();\n",
       "      delete Bokeh.index[id];\n",
       "    }\n",
       "\n",
       "    if (server_id !== undefined) {\n",
       "      // Clean up Bokeh references\n",
       "      var cmd = \"from bokeh.io.state import curstate; print(curstate().uuid_to_server['\" + server_id + \"'].get_sessions()[0].document.roots[0]._id)\";\n",
       "      cell.notebook.kernel.execute(cmd, {\n",
       "        iopub: {\n",
       "          output: function(msg) {\n",
       "            var id = msg.content.text.trim();\n",
       "            if (id in Bokeh.index) {\n",
       "              Bokeh.index[id].model.document.clear();\n",
       "              delete Bokeh.index[id];\n",
       "            }\n",
       "          }\n",
       "        }\n",
       "      });\n",
       "      // Destroy server and session\n",
       "      var cmd = \"import bokeh.io.notebook as ion; ion.destroy_server('\" + server_id + \"')\";\n",
       "      cell.notebook.kernel.execute(cmd);\n",
       "    }\n",
       "  }\n",
       "\n",
       "  /**\n",
       "   * Handle when a new output is added\n",
       "   */\n",
       "  function handleAddOutput(event, handle) {\n",
       "    var output_area = handle.output_area;\n",
       "    var output = handle.output;\n",
       "\n",
       "    // limit handleAddOutput to display_data with EXEC_MIME_TYPE content only\n",
       "    if ((output.output_type != \"display_data\") || (!output.data.hasOwnProperty(EXEC_MIME_TYPE))) {\n",
       "      return\n",
       "    }\n",
       "\n",
       "    var toinsert = output_area.element.find(\".\" + CLASS_NAME.split(' ')[0]);\n",
       "\n",
       "    if (output.metadata[EXEC_MIME_TYPE][\"id\"] !== undefined) {\n",
       "      toinsert[toinsert.length - 1].firstChild.textContent = output.data[JS_MIME_TYPE];\n",
       "      // store reference to embed id on output_area\n",
       "      output_area._bokeh_element_id = output.metadata[EXEC_MIME_TYPE][\"id\"];\n",
       "    }\n",
       "    if (output.metadata[EXEC_MIME_TYPE][\"server_id\"] !== undefined) {\n",
       "      var bk_div = document.createElement(\"div\");\n",
       "      bk_div.innerHTML = output.data[HTML_MIME_TYPE];\n",
       "      var script_attrs = bk_div.children[0].attributes;\n",
       "      for (var i = 0; i < script_attrs.length; i++) {\n",
       "        toinsert[toinsert.length - 1].firstChild.setAttribute(script_attrs[i].name, script_attrs[i].value);\n",
       "        toinsert[toinsert.length - 1].firstChild.textContent = bk_div.children[0].textContent\n",
       "      }\n",
       "      // store reference to server id on output_area\n",
       "      output_area._bokeh_server_id = output.metadata[EXEC_MIME_TYPE][\"server_id\"];\n",
       "    }\n",
       "  }\n",
       "\n",
       "  function register_renderer(events, OutputArea) {\n",
       "\n",
       "    function append_mime(data, metadata, element) {\n",
       "      // create a DOM node to render to\n",
       "      var toinsert = this.create_output_subarea(\n",
       "        metadata,\n",
       "        CLASS_NAME,\n",
       "        EXEC_MIME_TYPE\n",
       "      );\n",
       "      this.keyboard_manager.register_events(toinsert);\n",
       "      // Render to node\n",
       "      var props = {data: data, metadata: metadata[EXEC_MIME_TYPE]};\n",
       "      render(props, toinsert[toinsert.length - 1]);\n",
       "      element.append(toinsert);\n",
       "      return toinsert\n",
       "    }\n",
       "\n",
       "    /* Handle when an output is cleared or removed */\n",
       "    events.on('clear_output.CodeCell', handleClearOutput);\n",
       "    events.on('delete.Cell', handleClearOutput);\n",
       "\n",
       "    /* Handle when a new output is added */\n",
       "    events.on('output_added.OutputArea', handleAddOutput);\n",
       "\n",
       "    /**\n",
       "     * Register the mime type and append_mime function with output_area\n",
       "     */\n",
       "    OutputArea.prototype.register_mime_type(EXEC_MIME_TYPE, append_mime, {\n",
       "      /* Is output safe? */\n",
       "      safe: true,\n",
       "      /* Index of renderer in `output_area.display_order` */\n",
       "      index: 0\n",
       "    });\n",
       "  }\n",
       "\n",
       "  // register the mime type if in Jupyter Notebook environment and previously unregistered\n",
       "  if (root.Jupyter !== undefined) {\n",
       "    var events = require('base/js/events');\n",
       "    var OutputArea = require('notebook/js/outputarea').OutputArea;\n",
       "\n",
       "    if (OutputArea.prototype.mime_types().indexOf(EXEC_MIME_TYPE) == -1) {\n",
       "      register_renderer(events, OutputArea);\n",
       "    }\n",
       "  }\n",
       "\n",
       "  \n",
       "  if (typeof (root._bokeh_timeout) === \"undefined\" || force === true) {\n",
       "    root._bokeh_timeout = Date.now() + 5000;\n",
       "    root._bokeh_failed_load = false;\n",
       "  }\n",
       "\n",
       "  var NB_LOAD_WARNING = {'data': {'text/html':\n",
       "     \"<div style='background-color: #fdd'>\\n\"+\n",
       "     \"<p>\\n\"+\n",
       "     \"BokehJS does not appear to have successfully loaded. If loading BokehJS from CDN, this \\n\"+\n",
       "     \"may be due to a slow or bad network connection. Possible fixes:\\n\"+\n",
       "     \"</p>\\n\"+\n",
       "     \"<ul>\\n\"+\n",
       "     \"<li>re-rerun `output_notebook()` to attempt to load from CDN again, or</li>\\n\"+\n",
       "     \"<li>use INLINE resources instead, as so:</li>\\n\"+\n",
       "     \"</ul>\\n\"+\n",
       "     \"<code>\\n\"+\n",
       "     \"from bokeh.resources import INLINE\\n\"+\n",
       "     \"output_notebook(resources=INLINE)\\n\"+\n",
       "     \"</code>\\n\"+\n",
       "     \"</div>\"}};\n",
       "\n",
       "  function display_loaded() {\n",
       "    var el = document.getElementById(\"1001\");\n",
       "    if (el != null) {\n",
       "      el.textContent = \"BokehJS is loading...\";\n",
       "    }\n",
       "    if (root.Bokeh !== undefined) {\n",
       "      if (el != null) {\n",
       "        el.textContent = \"BokehJS \" + root.Bokeh.version + \" successfully loaded.\";\n",
       "      }\n",
       "    } else if (Date.now() < root._bokeh_timeout) {\n",
       "      setTimeout(display_loaded, 100)\n",
       "    }\n",
       "  }\n",
       "\n",
       "\n",
       "  function run_callbacks() {\n",
       "    try {\n",
       "      root._bokeh_onload_callbacks.forEach(function(callback) {\n",
       "        if (callback != null)\n",
       "          callback();\n",
       "      });\n",
       "    } finally {\n",
       "      delete root._bokeh_onload_callbacks\n",
       "    }\n",
       "    console.debug(\"Bokeh: all callbacks have finished\");\n",
       "  }\n",
       "\n",
       "  function load_libs(css_urls, js_urls, callback) {\n",
       "    if (css_urls == null) css_urls = [];\n",
       "    if (js_urls == null) js_urls = [];\n",
       "\n",
       "    root._bokeh_onload_callbacks.push(callback);\n",
       "    if (root._bokeh_is_loading > 0) {\n",
       "      console.debug(\"Bokeh: BokehJS is being loaded, scheduling callback at\", now());\n",
       "      return null;\n",
       "    }\n",
       "    if (js_urls == null || js_urls.length === 0) {\n",
       "      run_callbacks();\n",
       "      return null;\n",
       "    }\n",
       "    console.debug(\"Bokeh: BokehJS not loaded, scheduling load and callback at\", now());\n",
       "    root._bokeh_is_loading = css_urls.length + js_urls.length;\n",
       "\n",
       "    function on_load() {\n",
       "      root._bokeh_is_loading--;\n",
       "      if (root._bokeh_is_loading === 0) {\n",
       "        console.debug(\"Bokeh: all BokehJS libraries/stylesheets loaded\");\n",
       "        run_callbacks()\n",
       "      }\n",
       "    }\n",
       "\n",
       "    function on_error() {\n",
       "      console.error(\"failed to load \" + url);\n",
       "    }\n",
       "\n",
       "    for (var i = 0; i < css_urls.length; i++) {\n",
       "      var url = css_urls[i];\n",
       "      const element = document.createElement(\"link\");\n",
       "      element.onload = on_load;\n",
       "      element.onerror = on_error;\n",
       "      element.rel = \"stylesheet\";\n",
       "      element.type = \"text/css\";\n",
       "      element.href = url;\n",
       "      console.debug(\"Bokeh: injecting link tag for BokehJS stylesheet: \", url);\n",
       "      document.body.appendChild(element);\n",
       "    }\n",
       "\n",
       "    const hashes = {\"https://cdn.bokeh.org/bokeh/release/bokeh-2.1.1.min.js\": \"kLr4fYcqcSpbuI95brIH3vnnYCquzzSxHPU6XGQCIkQRGJwhg0StNbj1eegrHs12\", \"https://cdn.bokeh.org/bokeh/release/bokeh-widgets-2.1.1.min.js\": \"xIGPmVtaOm+z0BqfSOMn4lOR6ciex448GIKG4eE61LsAvmGj48XcMQZtKcE/UXZe\", \"https://cdn.bokeh.org/bokeh/release/bokeh-tables-2.1.1.min.js\": \"Dc9u1wF/0zApGIWoBbH77iWEHtdmkuYWG839Uzmv8y8yBLXebjO9ZnERsde5Ln/P\", \"https://cdn.bokeh.org/bokeh/release/bokeh-gl-2.1.1.min.js\": \"cT9JaBz7GiRXdENrJLZNSC6eMNF3nh3fa5fTF51Svp+ukxPdwcU5kGXGPBgDCa2j\"};\n",
       "\n",
       "    for (var i = 0; i < js_urls.length; i++) {\n",
       "      var url = js_urls[i];\n",
       "      var element = document.createElement('script');\n",
       "      element.onload = on_load;\n",
       "      element.onerror = on_error;\n",
       "      element.async = false;\n",
       "      element.src = url;\n",
       "      if (url in hashes) {\n",
       "        element.crossOrigin = \"anonymous\";\n",
       "        element.integrity = \"sha384-\" + hashes[url];\n",
       "      }\n",
       "      console.debug(\"Bokeh: injecting script tag for BokehJS library: \", url);\n",
       "      document.head.appendChild(element);\n",
       "    }\n",
       "  };\n",
       "\n",
       "  function inject_raw_css(css) {\n",
       "    const element = document.createElement(\"style\");\n",
       "    element.appendChild(document.createTextNode(css));\n",
       "    document.body.appendChild(element);\n",
       "  }\n",
       "\n",
       "  \n",
       "  var js_urls = [\"https://cdn.bokeh.org/bokeh/release/bokeh-2.1.1.min.js\", \"https://cdn.bokeh.org/bokeh/release/bokeh-widgets-2.1.1.min.js\", \"https://cdn.bokeh.org/bokeh/release/bokeh-tables-2.1.1.min.js\", \"https://cdn.bokeh.org/bokeh/release/bokeh-gl-2.1.1.min.js\"];\n",
       "  var css_urls = [];\n",
       "  \n",
       "\n",
       "  var inline_js = [\n",
       "    function(Bokeh) {\n",
       "      Bokeh.set_log_level(\"info\");\n",
       "    },\n",
       "    function(Bokeh) {\n",
       "    \n",
       "    \n",
       "    }\n",
       "  ];\n",
       "\n",
       "  function run_inline_js() {\n",
       "    \n",
       "    if (root.Bokeh !== undefined || force === true) {\n",
       "      \n",
       "    for (var i = 0; i < inline_js.length; i++) {\n",
       "      inline_js[i].call(root, root.Bokeh);\n",
       "    }\n",
       "    if (force === true) {\n",
       "        display_loaded();\n",
       "      }} else if (Date.now() < root._bokeh_timeout) {\n",
       "      setTimeout(run_inline_js, 100);\n",
       "    } else if (!root._bokeh_failed_load) {\n",
       "      console.log(\"Bokeh: BokehJS failed to load within specified timeout.\");\n",
       "      root._bokeh_failed_load = true;\n",
       "    } else if (force !== true) {\n",
       "      var cell = $(document.getElementById(\"1001\")).parents('.cell').data().cell;\n",
       "      cell.output_area.append_execute_result(NB_LOAD_WARNING)\n",
       "    }\n",
       "\n",
       "  }\n",
       "\n",
       "  if (root._bokeh_is_loading === 0) {\n",
       "    console.debug(\"Bokeh: BokehJS loaded, going straight to plotting\");\n",
       "    run_inline_js();\n",
       "  } else {\n",
       "    load_libs(css_urls, js_urls, function() {\n",
       "      console.debug(\"Bokeh: BokehJS plotting callback run at\", now());\n",
       "      run_inline_js();\n",
       "    });\n",
       "  }\n",
       "}(window));"
      ],
      "application/vnd.bokehjs_load.v0+json": "\n(function(root) {\n  function now() {\n    return new Date();\n  }\n\n  var force = true;\n\n  if (typeof root._bokeh_onload_callbacks === \"undefined\" || force === true) {\n    root._bokeh_onload_callbacks = [];\n    root._bokeh_is_loading = undefined;\n  }\n\n  \n\n  \n  if (typeof (root._bokeh_timeout) === \"undefined\" || force === true) {\n    root._bokeh_timeout = Date.now() + 5000;\n    root._bokeh_failed_load = false;\n  }\n\n  var NB_LOAD_WARNING = {'data': {'text/html':\n     \"<div style='background-color: #fdd'>\\n\"+\n     \"<p>\\n\"+\n     \"BokehJS does not appear to have successfully loaded. If loading BokehJS from CDN, this \\n\"+\n     \"may be due to a slow or bad network connection. Possible fixes:\\n\"+\n     \"</p>\\n\"+\n     \"<ul>\\n\"+\n     \"<li>re-rerun `output_notebook()` to attempt to load from CDN again, or</li>\\n\"+\n     \"<li>use INLINE resources instead, as so:</li>\\n\"+\n     \"</ul>\\n\"+\n     \"<code>\\n\"+\n     \"from bokeh.resources import INLINE\\n\"+\n     \"output_notebook(resources=INLINE)\\n\"+\n     \"</code>\\n\"+\n     \"</div>\"}};\n\n  function display_loaded() {\n    var el = document.getElementById(\"1001\");\n    if (el != null) {\n      el.textContent = \"BokehJS is loading...\";\n    }\n    if (root.Bokeh !== undefined) {\n      if (el != null) {\n        el.textContent = \"BokehJS \" + root.Bokeh.version + \" successfully loaded.\";\n      }\n    } else if (Date.now() < root._bokeh_timeout) {\n      setTimeout(display_loaded, 100)\n    }\n  }\n\n\n  function run_callbacks() {\n    try {\n      root._bokeh_onload_callbacks.forEach(function(callback) {\n        if (callback != null)\n          callback();\n      });\n    } finally {\n      delete root._bokeh_onload_callbacks\n    }\n    console.debug(\"Bokeh: all callbacks have finished\");\n  }\n\n  function load_libs(css_urls, js_urls, callback) {\n    if (css_urls == null) css_urls = [];\n    if (js_urls == null) js_urls = [];\n\n    root._bokeh_onload_callbacks.push(callback);\n    if (root._bokeh_is_loading > 0) {\n      console.debug(\"Bokeh: BokehJS is being loaded, scheduling callback at\", now());\n      return null;\n    }\n    if (js_urls == null || js_urls.length === 0) {\n      run_callbacks();\n      return null;\n    }\n    console.debug(\"Bokeh: BokehJS not loaded, scheduling load and callback at\", now());\n    root._bokeh_is_loading = css_urls.length + js_urls.length;\n\n    function on_load() {\n      root._bokeh_is_loading--;\n      if (root._bokeh_is_loading === 0) {\n        console.debug(\"Bokeh: all BokehJS libraries/stylesheets loaded\");\n        run_callbacks()\n      }\n    }\n\n    function on_error() {\n      console.error(\"failed to load \" + url);\n    }\n\n    for (var i = 0; i < css_urls.length; i++) {\n      var url = css_urls[i];\n      const element = document.createElement(\"link\");\n      element.onload = on_load;\n      element.onerror = on_error;\n      element.rel = \"stylesheet\";\n      element.type = \"text/css\";\n      element.href = url;\n      console.debug(\"Bokeh: injecting link tag for BokehJS stylesheet: \", url);\n      document.body.appendChild(element);\n    }\n\n    const hashes = {\"https://cdn.bokeh.org/bokeh/release/bokeh-2.1.1.min.js\": \"kLr4fYcqcSpbuI95brIH3vnnYCquzzSxHPU6XGQCIkQRGJwhg0StNbj1eegrHs12\", \"https://cdn.bokeh.org/bokeh/release/bokeh-widgets-2.1.1.min.js\": \"xIGPmVtaOm+z0BqfSOMn4lOR6ciex448GIKG4eE61LsAvmGj48XcMQZtKcE/UXZe\", \"https://cdn.bokeh.org/bokeh/release/bokeh-tables-2.1.1.min.js\": \"Dc9u1wF/0zApGIWoBbH77iWEHtdmkuYWG839Uzmv8y8yBLXebjO9ZnERsde5Ln/P\", \"https://cdn.bokeh.org/bokeh/release/bokeh-gl-2.1.1.min.js\": \"cT9JaBz7GiRXdENrJLZNSC6eMNF3nh3fa5fTF51Svp+ukxPdwcU5kGXGPBgDCa2j\"};\n\n    for (var i = 0; i < js_urls.length; i++) {\n      var url = js_urls[i];\n      var element = document.createElement('script');\n      element.onload = on_load;\n      element.onerror = on_error;\n      element.async = false;\n      element.src = url;\n      if (url in hashes) {\n        element.crossOrigin = \"anonymous\";\n        element.integrity = \"sha384-\" + hashes[url];\n      }\n      console.debug(\"Bokeh: injecting script tag for BokehJS library: \", url);\n      document.head.appendChild(element);\n    }\n  };\n\n  function inject_raw_css(css) {\n    const element = document.createElement(\"style\");\n    element.appendChild(document.createTextNode(css));\n    document.body.appendChild(element);\n  }\n\n  \n  var js_urls = [\"https://cdn.bokeh.org/bokeh/release/bokeh-2.1.1.min.js\", \"https://cdn.bokeh.org/bokeh/release/bokeh-widgets-2.1.1.min.js\", \"https://cdn.bokeh.org/bokeh/release/bokeh-tables-2.1.1.min.js\", \"https://cdn.bokeh.org/bokeh/release/bokeh-gl-2.1.1.min.js\"];\n  var css_urls = [];\n  \n\n  var inline_js = [\n    function(Bokeh) {\n      Bokeh.set_log_level(\"info\");\n    },\n    function(Bokeh) {\n    \n    \n    }\n  ];\n\n  function run_inline_js() {\n    \n    if (root.Bokeh !== undefined || force === true) {\n      \n    for (var i = 0; i < inline_js.length; i++) {\n      inline_js[i].call(root, root.Bokeh);\n    }\n    if (force === true) {\n        display_loaded();\n      }} else if (Date.now() < root._bokeh_timeout) {\n      setTimeout(run_inline_js, 100);\n    } else if (!root._bokeh_failed_load) {\n      console.log(\"Bokeh: BokehJS failed to load within specified timeout.\");\n      root._bokeh_failed_load = true;\n    } else if (force !== true) {\n      var cell = $(document.getElementById(\"1001\")).parents('.cell').data().cell;\n      cell.output_area.append_execute_result(NB_LOAD_WARNING)\n    }\n\n  }\n\n  if (root._bokeh_is_loading === 0) {\n    console.debug(\"Bokeh: BokehJS loaded, going straight to plotting\");\n    run_inline_js();\n  } else {\n    load_libs(css_urls, js_urls, function() {\n      console.debug(\"Bokeh: BokehJS plotting callback run at\", now());\n      run_inline_js();\n    });\n  }\n}(window));"
     },
     "metadata": {},
     "output_type": "display_data"
    }
   ],
   "source": [
    "import numpy as np\n",
    "import pandas as pd\n",
    "from IPython.display import display\n",
    "from tqdm import tqdm\n",
    "from collections import Counter\n",
    "import ast\n",
    "\n",
    "import matplotlib.pyplot as plt\n",
    "import matplotlib.mlab as mlab\n",
    "import matplotlib.patches as mpatches\n",
    "import seaborn as sb\n",
    "import matplotlib\n",
    "\n",
    "from textblob import TextBlob\n",
    "import scipy.stats as stats\n",
    "\n",
    "from nltk.tokenize import word_tokenize\n",
    "from nltk.corpus import stopwords \n",
    "import nltk\n",
    "from string import punctuation\n",
    "from nltk.stem import WordNetLemmatizer\n",
    "\n",
    "from sklearn.feature_extraction.text import CountVectorizer\n",
    "from sklearn.decomposition import LatentDirichletAllocation\n",
    "from sklearn.manifold import TSNE\n",
    "from sklearn.model_selection import train_test_split\n",
    "from sklearn.metrics import accuracy_score\n",
    "from sklearn.metrics import confusion_matrix\n",
    "from sklearn.metrics import plot_confusion_matrix\n",
    "\n",
    "from bokeh.plotting import figure, output_file, show\n",
    "from bokeh.models import Label\n",
    "from bokeh.io import output_notebook\n",
    "output_notebook()\n",
    "\n",
    "%matplotlib inline"
   ]
  },
  {
   "cell_type": "markdown",
   "metadata": {},
   "source": [
    "### Importation du jeu de données et visualisation des variables"
   ]
  },
  {
   "cell_type": "code",
   "execution_count": 2,
   "metadata": {},
   "outputs": [],
   "source": [
    "raw_data = pd.read_csv('text_1050.csv')"
   ]
  },
  {
   "cell_type": "code",
   "execution_count": 3,
   "metadata": {
    "scrolled": false
   },
   "outputs": [
    {
     "name": "stdout",
     "output_type": "stream",
     "text": [
      "<class 'pandas.core.frame.DataFrame'>\n",
      "RangeIndex: 1050 entries, 0 to 1049\n",
      "Data columns (total 15 columns):\n",
      " #   Column                   Non-Null Count  Dtype  \n",
      "---  ------                   --------------  -----  \n",
      " 0   uniq_id                  1050 non-null   object \n",
      " 1   crawl_timestamp          1050 non-null   object \n",
      " 2   product_url              1050 non-null   object \n",
      " 3   product_name             1050 non-null   object \n",
      " 4   product_category_tree    1050 non-null   object \n",
      " 5   pid                      1050 non-null   object \n",
      " 6   retail_price             1049 non-null   float64\n",
      " 7   discounted_price         1049 non-null   float64\n",
      " 8   image                    1050 non-null   object \n",
      " 9   is_FK_Advantage_product  1050 non-null   bool   \n",
      " 10  description              1050 non-null   object \n",
      " 11  product_rating           1050 non-null   object \n",
      " 12  overall_rating           1050 non-null   object \n",
      " 13  brand                    712 non-null    object \n",
      " 14  product_specifications   1049 non-null   object \n",
      "dtypes: bool(1), float64(2), object(12)\n",
      "memory usage: 116.0+ KB\n"
     ]
    }
   ],
   "source": [
    "raw_data.info()"
   ]
  },
  {
   "cell_type": "code",
   "execution_count": 4,
   "metadata": {
    "scrolled": false
   },
   "outputs": [
    {
     "data": {
      "text/html": [
       "<div>\n",
       "<style scoped>\n",
       "    .dataframe tbody tr th:only-of-type {\n",
       "        vertical-align: middle;\n",
       "    }\n",
       "\n",
       "    .dataframe tbody tr th {\n",
       "        vertical-align: top;\n",
       "    }\n",
       "\n",
       "    .dataframe thead th {\n",
       "        text-align: right;\n",
       "    }\n",
       "</style>\n",
       "<table border=\"1\" class=\"dataframe\">\n",
       "  <thead>\n",
       "    <tr style=\"text-align: right;\">\n",
       "      <th></th>\n",
       "      <th>uniq_id</th>\n",
       "      <th>crawl_timestamp</th>\n",
       "      <th>product_url</th>\n",
       "      <th>product_name</th>\n",
       "      <th>product_category_tree</th>\n",
       "      <th>pid</th>\n",
       "      <th>retail_price</th>\n",
       "      <th>discounted_price</th>\n",
       "      <th>image</th>\n",
       "      <th>is_FK_Advantage_product</th>\n",
       "      <th>description</th>\n",
       "      <th>product_rating</th>\n",
       "      <th>overall_rating</th>\n",
       "      <th>brand</th>\n",
       "      <th>product_specifications</th>\n",
       "    </tr>\n",
       "  </thead>\n",
       "  <tbody>\n",
       "    <tr>\n",
       "      <th>0</th>\n",
       "      <td>55b85ea15a1536d46b7190ad6fff8ce7</td>\n",
       "      <td>2016-04-30 03:22:56 +0000</td>\n",
       "      <td>http://www.flipkart.com/elegance-polyester-mul...</td>\n",
       "      <td>Elegance Polyester Multicolor Abstract Eyelet ...</td>\n",
       "      <td>[\"Home Furnishing &gt;&gt; Curtains &amp; Accessories &gt;&gt;...</td>\n",
       "      <td>CRNEG7BKMFFYHQ8Z</td>\n",
       "      <td>1899.0</td>\n",
       "      <td>899.0</td>\n",
       "      <td>55b85ea15a1536d46b7190ad6fff8ce7.jpg</td>\n",
       "      <td>False</td>\n",
       "      <td>Key Features of Elegance Polyester Multicolor ...</td>\n",
       "      <td>No rating available</td>\n",
       "      <td>No rating available</td>\n",
       "      <td>Elegance</td>\n",
       "      <td>{\"product_specification\"=&gt;[{\"key\"=&gt;\"Brand\", \"v...</td>\n",
       "    </tr>\n",
       "    <tr>\n",
       "      <th>1</th>\n",
       "      <td>7b72c92c2f6c40268628ec5f14c6d590</td>\n",
       "      <td>2016-04-30 03:22:56 +0000</td>\n",
       "      <td>http://www.flipkart.com/sathiyas-cotton-bath-t...</td>\n",
       "      <td>Sathiyas Cotton Bath Towel</td>\n",
       "      <td>[\"Baby Care &gt;&gt; Baby Bath &amp; Skin &gt;&gt; Baby Bath T...</td>\n",
       "      <td>BTWEGFZHGBXPHZUH</td>\n",
       "      <td>600.0</td>\n",
       "      <td>449.0</td>\n",
       "      <td>7b72c92c2f6c40268628ec5f14c6d590.jpg</td>\n",
       "      <td>False</td>\n",
       "      <td>Specifications of Sathiyas Cotton Bath Towel (...</td>\n",
       "      <td>No rating available</td>\n",
       "      <td>No rating available</td>\n",
       "      <td>Sathiyas</td>\n",
       "      <td>{\"product_specification\"=&gt;[{\"key\"=&gt;\"Machine Wa...</td>\n",
       "    </tr>\n",
       "    <tr>\n",
       "      <th>2</th>\n",
       "      <td>64d5d4a258243731dc7bbb1eef49ad74</td>\n",
       "      <td>2016-04-30 03:22:56 +0000</td>\n",
       "      <td>http://www.flipkart.com/eurospa-cotton-terry-f...</td>\n",
       "      <td>Eurospa Cotton Terry Face Towel Set</td>\n",
       "      <td>[\"Baby Care &gt;&gt; Baby Bath &amp; Skin &gt;&gt; Baby Bath T...</td>\n",
       "      <td>BTWEG6SHXTDB2A2Y</td>\n",
       "      <td>NaN</td>\n",
       "      <td>NaN</td>\n",
       "      <td>64d5d4a258243731dc7bbb1eef49ad74.jpg</td>\n",
       "      <td>False</td>\n",
       "      <td>Key Features of Eurospa Cotton Terry Face Towe...</td>\n",
       "      <td>No rating available</td>\n",
       "      <td>No rating available</td>\n",
       "      <td>Eurospa</td>\n",
       "      <td>{\"product_specification\"=&gt;[{\"key\"=&gt;\"Material\",...</td>\n",
       "    </tr>\n",
       "    <tr>\n",
       "      <th>3</th>\n",
       "      <td>d4684dcdc759dd9cdf41504698d737d8</td>\n",
       "      <td>2016-06-20 08:49:52 +0000</td>\n",
       "      <td>http://www.flipkart.com/santosh-royal-fashion-...</td>\n",
       "      <td>SANTOSH ROYAL FASHION Cotton Printed King size...</td>\n",
       "      <td>[\"Home Furnishing &gt;&gt; Bed Linen &gt;&gt; Bedsheets &gt;&gt;...</td>\n",
       "      <td>BDSEJT9UQWHDUBH4</td>\n",
       "      <td>2699.0</td>\n",
       "      <td>1299.0</td>\n",
       "      <td>d4684dcdc759dd9cdf41504698d737d8.jpg</td>\n",
       "      <td>False</td>\n",
       "      <td>Key Features of SANTOSH ROYAL FASHION Cotton P...</td>\n",
       "      <td>No rating available</td>\n",
       "      <td>No rating available</td>\n",
       "      <td>SANTOSH ROYAL FASHION</td>\n",
       "      <td>{\"product_specification\"=&gt;[{\"key\"=&gt;\"Brand\", \"v...</td>\n",
       "    </tr>\n",
       "    <tr>\n",
       "      <th>4</th>\n",
       "      <td>6325b6870c54cd47be6ebfbffa620ec7</td>\n",
       "      <td>2016-06-20 08:49:52 +0000</td>\n",
       "      <td>http://www.flipkart.com/jaipur-print-cotton-fl...</td>\n",
       "      <td>Jaipur Print Cotton Floral King sized Double B...</td>\n",
       "      <td>[\"Home Furnishing &gt;&gt; Bed Linen &gt;&gt; Bedsheets &gt;&gt;...</td>\n",
       "      <td>BDSEJTHNGWVGWWQU</td>\n",
       "      <td>2599.0</td>\n",
       "      <td>698.0</td>\n",
       "      <td>6325b6870c54cd47be6ebfbffa620ec7.jpg</td>\n",
       "      <td>False</td>\n",
       "      <td>Key Features of Jaipur Print Cotton Floral Kin...</td>\n",
       "      <td>No rating available</td>\n",
       "      <td>No rating available</td>\n",
       "      <td>Jaipur Print</td>\n",
       "      <td>{\"product_specification\"=&gt;[{\"key\"=&gt;\"Machine Wa...</td>\n",
       "    </tr>\n",
       "  </tbody>\n",
       "</table>\n",
       "</div>"
      ],
      "text/plain": [
       "                            uniq_id            crawl_timestamp  \\\n",
       "0  55b85ea15a1536d46b7190ad6fff8ce7  2016-04-30 03:22:56 +0000   \n",
       "1  7b72c92c2f6c40268628ec5f14c6d590  2016-04-30 03:22:56 +0000   \n",
       "2  64d5d4a258243731dc7bbb1eef49ad74  2016-04-30 03:22:56 +0000   \n",
       "3  d4684dcdc759dd9cdf41504698d737d8  2016-06-20 08:49:52 +0000   \n",
       "4  6325b6870c54cd47be6ebfbffa620ec7  2016-06-20 08:49:52 +0000   \n",
       "\n",
       "                                         product_url  \\\n",
       "0  http://www.flipkart.com/elegance-polyester-mul...   \n",
       "1  http://www.flipkart.com/sathiyas-cotton-bath-t...   \n",
       "2  http://www.flipkart.com/eurospa-cotton-terry-f...   \n",
       "3  http://www.flipkart.com/santosh-royal-fashion-...   \n",
       "4  http://www.flipkart.com/jaipur-print-cotton-fl...   \n",
       "\n",
       "                                        product_name  \\\n",
       "0  Elegance Polyester Multicolor Abstract Eyelet ...   \n",
       "1                         Sathiyas Cotton Bath Towel   \n",
       "2                Eurospa Cotton Terry Face Towel Set   \n",
       "3  SANTOSH ROYAL FASHION Cotton Printed King size...   \n",
       "4  Jaipur Print Cotton Floral King sized Double B...   \n",
       "\n",
       "                               product_category_tree               pid  \\\n",
       "0  [\"Home Furnishing >> Curtains & Accessories >>...  CRNEG7BKMFFYHQ8Z   \n",
       "1  [\"Baby Care >> Baby Bath & Skin >> Baby Bath T...  BTWEGFZHGBXPHZUH   \n",
       "2  [\"Baby Care >> Baby Bath & Skin >> Baby Bath T...  BTWEG6SHXTDB2A2Y   \n",
       "3  [\"Home Furnishing >> Bed Linen >> Bedsheets >>...  BDSEJT9UQWHDUBH4   \n",
       "4  [\"Home Furnishing >> Bed Linen >> Bedsheets >>...  BDSEJTHNGWVGWWQU   \n",
       "\n",
       "   retail_price  discounted_price                                 image  \\\n",
       "0        1899.0             899.0  55b85ea15a1536d46b7190ad6fff8ce7.jpg   \n",
       "1         600.0             449.0  7b72c92c2f6c40268628ec5f14c6d590.jpg   \n",
       "2           NaN               NaN  64d5d4a258243731dc7bbb1eef49ad74.jpg   \n",
       "3        2699.0            1299.0  d4684dcdc759dd9cdf41504698d737d8.jpg   \n",
       "4        2599.0             698.0  6325b6870c54cd47be6ebfbffa620ec7.jpg   \n",
       "\n",
       "   is_FK_Advantage_product                                        description  \\\n",
       "0                    False  Key Features of Elegance Polyester Multicolor ...   \n",
       "1                    False  Specifications of Sathiyas Cotton Bath Towel (...   \n",
       "2                    False  Key Features of Eurospa Cotton Terry Face Towe...   \n",
       "3                    False  Key Features of SANTOSH ROYAL FASHION Cotton P...   \n",
       "4                    False  Key Features of Jaipur Print Cotton Floral Kin...   \n",
       "\n",
       "        product_rating       overall_rating                  brand  \\\n",
       "0  No rating available  No rating available               Elegance   \n",
       "1  No rating available  No rating available               Sathiyas   \n",
       "2  No rating available  No rating available                Eurospa   \n",
       "3  No rating available  No rating available  SANTOSH ROYAL FASHION   \n",
       "4  No rating available  No rating available           Jaipur Print   \n",
       "\n",
       "                              product_specifications  \n",
       "0  {\"product_specification\"=>[{\"key\"=>\"Brand\", \"v...  \n",
       "1  {\"product_specification\"=>[{\"key\"=>\"Machine Wa...  \n",
       "2  {\"product_specification\"=>[{\"key\"=>\"Material\",...  \n",
       "3  {\"product_specification\"=>[{\"key\"=>\"Brand\", \"v...  \n",
       "4  {\"product_specification\"=>[{\"key\"=>\"Machine Wa...  "
      ]
     },
     "execution_count": 4,
     "metadata": {},
     "output_type": "execute_result"
    }
   ],
   "source": [
    "raw_data.head()"
   ]
  },
  {
   "cell_type": "code",
   "execution_count": 5,
   "metadata": {},
   "outputs": [
    {
     "data": {
      "text/plain": [
       "<matplotlib.axes._subplots.AxesSubplot at 0x2339548cf10>"
      ]
     },
     "execution_count": 5,
     "metadata": {},
     "output_type": "execute_result"
    },
    {
     "data": {
      "image/png": "[encoded data removed]",
      "text/plain": [
       "<Figure size 576x360 with 1 Axes>"
      ]
     },
     "metadata": {
      "needs_background": "light"
     },
     "output_type": "display_data"
    }
   ],
   "source": [
    "df_missing_values = raw_data.isnull().sum().divide(raw_data.shape[0]).multiply(100)\n",
    "\n",
    "plt.figure(figsize=(8,5))\n",
    "plt.title(\"Valeurs manquantes\", fontsize=22, color='darkblue')\n",
    "plt.xlabel(\"Variables\", fontsize=15, color='darkblue')\n",
    "plt.ylabel(\"% Valeurs manquantes\", fontsize=15,color='darkblue')\n",
    "df_missing_values.plot(kind=\"bar\")"
   ]
  },
  {
   "cell_type": "markdown",
   "metadata": {},
   "source": [
    "## Isolation des features importantes et prétraitement du texte"
   ]
  },
  {
   "cell_type": "code",
   "execution_count": 6,
   "metadata": {},
   "outputs": [],
   "source": [
    "reindexed_data = raw_data['description']\n",
    "reindexed_data.index = raw_data['image']"
   ]
  },
  {
   "cell_type": "code",
   "execution_count": 7,
   "metadata": {},
   "outputs": [],
   "source": [
    "def get_top_n_words(n_top_words, count_vectorizer, text_data):\n",
    "    \n",
    "    vectorized_description = count_vectorizer.fit_transform(text_data.values)\n",
    "    vectorized_total = np.sum(vectorized_description, axis=0)\n",
    "    word_indices = np.flip(np.argsort(vectorized_total)[0,:], 1)\n",
    "    word_values = np.flip(np.sort(vectorized_total)[0,:],1)\n",
    "    \n",
    "    word_vectors = np.zeros((n_top_words, vectorized_description.shape[1]))\n",
    "    for i in range(n_top_words):\n",
    "        word_vectors[i,word_indices[0,i]] = 1\n",
    "\n",
    "    most_frequent_words = [word[0].encode('ascii').decode('utf-8') for \n",
    "             word in count_vectorizer.inverse_transform(word_vectors)]\n",
    "\n",
    "    return (most_frequent_words, word_values[0,:n_top_words].tolist()[0])"
   ]
  },
  {
   "cell_type": "code",
   "execution_count": 8,
   "metadata": {
    "scrolled": false
   },
   "outputs": [
    {
     "data": {
      "image/png": "[encoded data removed]",
      "text/plain": [
       "<Figure size 1152x576 with 1 Axes>"
      ]
     },
     "metadata": {
      "needs_background": "light"
     },
     "output_type": "display_data"
    }
   ],
   "source": [
    "count_vectorizer = CountVectorizer(stop_words='english')\n",
    "most_frequent_words, word_values = get_top_n_words(n_top_words=19,\n",
    "                                     count_vectorizer=count_vectorizer, \n",
    "                                     text_data=reindexed_data)\n",
    "\n",
    "fig, ax = plt.subplots(figsize=(16,8))\n",
    "ax.bar(range(len(most_frequent_words)), word_values);\n",
    "ax.set_xticks(range(len(most_frequent_words)));\n",
    "ax.set_xticklabels(most_frequent_words, rotation='vertical');\n",
    "ax.set_title('Top mots les plus fréquents');\n",
    "ax.set_xlabel('Mot');\n",
    "ax.set_ylabel('Occurences');\n",
    "plt.show()"
   ]
  },
  {
   "cell_type": "markdown",
   "metadata": {},
   "source": [
    "### Suppression des mots les plus fréquents, stopwords & punctuation"
   ]
  },
  {
   "cell_type": "code",
   "execution_count": 9,
   "metadata": {
    "scrolled": false
   },
   "outputs": [
    {
     "data": {
      "text/plain": [
       "['rs',\n",
       " 'products',\n",
       " 'free',\n",
       " 'buy',\n",
       " 'delivery',\n",
       " 'genuine',\n",
       " 'shipping',\n",
       " 'cash',\n",
       " 'replacement',\n",
       " 'cm',\n",
       " 'day',\n",
       " '30',\n",
       " 'flipkart',\n",
       " 'com',\n",
       " 'guarantee',\n",
       " 'online',\n",
       " 'features',\n",
       " 'specifications',\n",
       " 'price']"
      ]
     },
     "execution_count": 9,
     "metadata": {},
     "output_type": "execute_result"
    }
   ],
   "source": [
    "most_frequent_words"
   ]
  },
  {
   "cell_type": "code",
   "execution_count": 10,
   "metadata": {},
   "outputs": [
    {
     "name": "stdout",
     "output_type": "stream",
     "text": [
      "<class 'set'>\n",
      "<class 'set'>\n"
     ]
    }
   ],
   "source": [
    "stop_words = set(stopwords.words('english'))\n",
    "print(type(stop_words))\n",
    "\n",
    "mots_a_supprimer = set.union(set(most_frequent_words),stop_words,punctuation)\n",
    "print(type(mots_a_supprimer))"
   ]
  },
  {
   "cell_type": "code",
   "execution_count": 11,
   "metadata": {},
   "outputs": [
    {
     "name": "stdout",
     "output_type": "stream",
     "text": [
      "{'you', 'won', '.', 'she', 'buy', ';', '{', 'not', ':', '^', 'down', 'am', 'after', 'what', 'with', 'about', 'before', '=', 'theirs', 'himself', 'free', 'of', 'products', 'all', 'out', 'we', 'because', 'under', 'had', 'her', \"didn't\", 'replacement', 'is', '<', 'the', \"shouldn't\", 'where', 'each', 'don', 'when', \"you're\", 'itself', 've', 'these', 'features', 'yours', '@', '}', 'more', 'shipping', 'haven', 'that', 'cash', \"'\", 'same', '_', 'those', 'if', 'so', 'further', 'both', '\"', 'too', 'this', 'into', ',', '>', 'needn', 'day', 'below', 'll', 'being', 'cm', 'can', 'have', 'has', '!', 'y', 'hasn', 'for', \"isn't\", ']', 'who', 'through', 'until', 'genuine', \"doesn't\", 'wouldn', 'rs', \"she's\", \"mustn't\", 'other', 's', 'their', 'online', \"you'd\", 'are', 'there', 'mightn', 'just', \"wasn't\", '&', 'delivery', \"won't\", 'his', 'guarantee', \"that'll\", 'but', \"hadn't\", '~', \"you'll\", 'an', 'some', 'shan', '$', 'themselves', '+', 'and', 'my', \"couldn't\", 'yourself', 'he', 'they', 'doing', 't', 'be', '\\\\', ')', 'me', 'having', 'myself', 'nor', 'or', 'm', 'to', 'shouldn', 'its', 'while', 'ma', \"weren't\", 'off', 'i', 'your', 'was', 'do', 'by', 'been', 'once', 'should', 're', 'specifications', 'didn', 'here', 'hadn', '/', 'up', \"wouldn't\", 'couldn', 'does', 'own', 'any', '-', 'at', 'o', 'yourselves', 'a', \"it's\", 'did', 'ours', 'him', 'such', '?', 'flipkart', \"shan't\", 'against', \"hasn't\", 'from', 'how', 'why', 'doesn', 'com', 'above', '30', \"you've\", '*', '|', 'd', 'hers', 'were', 'during', 'few', '(', 'which', \"needn't\", 'them', '`', 'than', 'it', \"mightn't\", 'very', 'ain', \"don't\", 'wasn', 'isn', 'most', 'whom', 'ourselves', 'on', 'again', 'our', 'in', \"aren't\", 'as', '#', 'price', 'between', 'mustn', 'herself', '%', \"should've\", 'over', 'no', 'aren', 'only', 'now', 'weren', 'will', '[', 'then', \"haven't\"}\n"
     ]
    }
   ],
   "source": [
    "print(mots_a_supprimer)"
   ]
  },
  {
   "cell_type": "code",
   "execution_count": 12,
   "metadata": {
    "scrolled": true
   },
   "outputs": [
    {
     "name": "stderr",
     "output_type": "stream",
     "text": [
      "<ipython-input-12-5aa9548263a7>:3: SettingWithCopyWarning: \n",
      "A value is trying to be set on a copy of a slice from a DataFrame\n",
      "\n",
      "See the caveats in the documentation: https://pandas.pydata.org/pandas-docs/stable/user_guide/indexing.html#returning-a-view-versus-a-copy\n",
      "  reindexed_data[i] = re.sub('[^A-Za-z]', ' ', reindexed_data[i]).lower()\n"
     ]
    }
   ],
   "source": [
    "import re\n",
    "for i in range (reindexed_data.shape[0]) :\n",
    "  reindexed_data[i] = re.sub('[^A-Za-z]', ' ', reindexed_data[i]).lower()"
   ]
  },
  {
   "cell_type": "code",
   "execution_count": 13,
   "metadata": {},
   "outputs": [
    {
     "data": {
      "text/plain": [
       "'key features of elegance polyester multicolor abstract eyelet door curtain floral curtain elegance polyester multicolor abstract eyelet door curtain      cm in height  pack of    price  rs      this curtain enhances the look of the interiors this curtain is made from      high quality polyester fabric it features an eyelet style stitch with metal ring it makes the room environment romantic and loving this curtain is ant  wrinkle and anti shrinkage and have elegant apparance give your home a bright and modernistic appeal with these designs  the surreal attention is sure to steal hearts  these contemporary eyelet and valance curtains slide smoothly so when you draw them apart first thing in the morning to welcome the bright sun rays you want to wish good morning to the whole world and when you draw them close in the evening  you create the most special moments of joyous beauty given by the soothing prints  bring home the elegant curtain that softly filters light in your room so that you get the right amount of sunlight  specifications of elegance polyester multicolor abstract eyelet door curtain      cm in height  pack of    general brand elegance designed for door type eyelet model name abstract polyester door curtain set of   model id duster   color multicolor dimensions length     cm in the box number of contents in sales package pack of   sales package   curtains body   design material polyester'"
      ]
     },
     "execution_count": 13,
     "metadata": {},
     "output_type": "execute_result"
    }
   ],
   "source": [
    "reindexed_data[0]"
   ]
  },
  {
   "cell_type": "code",
   "execution_count": 14,
   "metadata": {},
   "outputs": [],
   "source": [
    "def Tokenizer(str_input):\n",
    "    words = word_tokenize(str_input)\n",
    "    return words"
   ]
  },
  {
   "cell_type": "code",
   "execution_count": 15,
   "metadata": {},
   "outputs": [
    {
     "name": "stdout",
     "output_type": "stream",
     "text": [
      "['key', 'features', 'of', 'elegance', 'polyester', 'multicolor', 'abstract', 'eyelet', 'door', 'curtain', 'floral', 'curtain', 'elegance', 'polyester', 'multicolor', 'abstract', 'eyelet', 'door', 'curtain', 'cm', 'in', 'height', 'pack', 'of', 'price', 'rs', 'this', 'curtain', 'enhances', 'the', 'look', 'of', 'the', 'interiors', 'this', 'curtain', 'is', 'made', 'from', 'high', 'quality', 'polyester', 'fabric', 'it', 'features', 'an', 'eyelet', 'style', 'stitch', 'with', 'metal', 'ring', 'it', 'makes', 'the', 'room', 'environment', 'romantic', 'and', 'loving', 'this', 'curtain', 'is', 'ant', 'wrinkle', 'and', 'anti', 'shrinkage', 'and', 'have', 'elegant', 'apparance', 'give', 'your', 'home', 'a', 'bright', 'and', 'modernistic', 'appeal', 'with', 'these', 'designs', 'the', 'surreal', 'attention', 'is', 'sure', 'to', 'steal', 'hearts', 'these', 'contemporary', 'eyelet', 'and', 'valance', 'curtains', 'slide', 'smoothly', 'so', 'when', 'you', 'draw', 'them', 'apart', 'first', 'thing', 'in', 'the', 'morning', 'to', 'welcome', 'the', 'bright', 'sun', 'rays', 'you', 'want', 'to', 'wish', 'good', 'morning', 'to', 'the', 'whole', 'world', 'and', 'when', 'you', 'draw', 'them', 'close', 'in', 'the', 'evening', 'you', 'create', 'the', 'most', 'special', 'moments', 'of', 'joyous', 'beauty', 'given', 'by', 'the', 'soothing', 'prints', 'bring', 'home', 'the', 'elegant', 'curtain', 'that', 'softly', 'filters', 'light', 'in', 'your', 'room', 'so', 'that', 'you', 'get', 'the', 'right', 'amount', 'of', 'sunlight', 'specifications', 'of', 'elegance', 'polyester', 'multicolor', 'abstract', 'eyelet', 'door', 'curtain', 'cm', 'in', 'height', 'pack', 'of', 'general', 'brand', 'elegance', 'designed', 'for', 'door', 'type', 'eyelet', 'model', 'name', 'abstract', 'polyester', 'door', 'curtain', 'set', 'of', 'model', 'id', 'duster', 'color', 'multicolor', 'dimensions', 'length', 'cm', 'in', 'the', 'box', 'number', 'of', 'contents', 'in', 'sales', 'package', 'pack', 'of', 'sales', 'package', 'curtains', 'body', 'design', 'material', 'polyester']\n"
     ]
    }
   ],
   "source": [
    "tokenized_data = reindexed_data.copy()\n",
    "\n",
    "for i in range(reindexed_data.shape[0]):\n",
    "    tokenized_data[i]=Tokenizer(reindexed_data[i])\n",
    "    \n",
    "print(tokenized_data[0])"
   ]
  },
  {
   "cell_type": "code",
   "execution_count": 16,
   "metadata": {},
   "outputs": [],
   "source": [
    "tokenized_data = tokenized_data.apply(lambda x: ' '.join([word for word in x if word not in (mots_a_supprimer)]))"
   ]
  },
  {
   "cell_type": "code",
   "execution_count": 17,
   "metadata": {
    "scrolled": true
   },
   "outputs": [
    {
     "data": {
      "text/plain": [
       "'key elegance polyester multicolor abstract eyelet door curtain floral curtain elegance polyester multicolor abstract eyelet door curtain height pack curtain enhances look interiors curtain made high quality polyester fabric eyelet style stitch metal ring makes room environment romantic loving curtain ant wrinkle anti shrinkage elegant apparance give home bright modernistic appeal designs surreal attention sure steal hearts contemporary eyelet valance curtains slide smoothly draw apart first thing morning welcome bright sun rays want wish good morning whole world draw close evening create special moments joyous beauty given soothing prints bring home elegant curtain softly filters light room get right amount sunlight elegance polyester multicolor abstract eyelet door curtain height pack general brand elegance designed door type eyelet model name abstract polyester door curtain set model id duster color multicolor dimensions length box number contents sales package pack sales package curtains body design material polyester'"
      ]
     },
     "execution_count": 17,
     "metadata": {},
     "output_type": "execute_result"
    }
   ],
   "source": [
    "tokenized_data[0]"
   ]
  },
  {
   "cell_type": "markdown",
   "metadata": {},
   "source": [
    "### Extraction de la racine"
   ]
  },
  {
   "cell_type": "code",
   "execution_count": 18,
   "metadata": {},
   "outputs": [],
   "source": [
    "def Lemmatizer(str_input):\n",
    "    str_input = str_input.lower()\n",
    "    words = word_tokenize(str_input)\n",
    "    \n",
    "    stop_words = set(stopwords.words('english'))\n",
    "    words = [w for w in words if not w in stop_words]\n",
    "  \n",
    "    lemmatizer = WordNetLemmatizer()\n",
    "    words = [lemmatizer.lemmatize(word) for word in words]\n",
    "    return words"
   ]
  },
  {
   "cell_type": "code",
   "execution_count": 19,
   "metadata": {
    "scrolled": true
   },
   "outputs": [
    {
     "name": "stdout",
     "output_type": "stream",
     "text": [
      "['key', 'elegance', 'polyester', 'multicolor', 'abstract', 'eyelet', 'door', 'curtain', 'floral', 'curtain', 'elegance', 'polyester', 'multicolor', 'abstract', 'eyelet', 'door', 'curtain', 'height', 'pack', 'curtain', 'enhances', 'look', 'interior', 'curtain', 'made', 'high', 'quality', 'polyester', 'fabric', 'eyelet', 'style', 'stitch', 'metal', 'ring', 'make', 'room', 'environment', 'romantic', 'loving', 'curtain', 'ant', 'wrinkle', 'anti', 'shrinkage', 'elegant', 'apparance', 'give', 'home', 'bright', 'modernistic', 'appeal', 'design', 'surreal', 'attention', 'sure', 'steal', 'heart', 'contemporary', 'eyelet', 'valance', 'curtain', 'slide', 'smoothly', 'draw', 'apart', 'first', 'thing', 'morning', 'welcome', 'bright', 'sun', 'ray', 'want', 'wish', 'good', 'morning', 'whole', 'world', 'draw', 'close', 'evening', 'create', 'special', 'moment', 'joyous', 'beauty', 'given', 'soothing', 'print', 'bring', 'home', 'elegant', 'curtain', 'softly', 'filter', 'light', 'room', 'get', 'right', 'amount', 'sunlight', 'elegance', 'polyester', 'multicolor', 'abstract', 'eyelet', 'door', 'curtain', 'height', 'pack', 'general', 'brand', 'elegance', 'designed', 'door', 'type', 'eyelet', 'model', 'name', 'abstract', 'polyester', 'door', 'curtain', 'set', 'model', 'id', 'duster', 'color', 'multicolor', 'dimension', 'length', 'box', 'number', 'content', 'sale', 'package', 'pack', 'sale', 'package', 'curtain', 'body', 'design', 'material', 'polyester']\n"
     ]
    }
   ],
   "source": [
    "lemmed_tokenized_data = tokenized_data.copy()\n",
    "\n",
    "for i in range(tokenized_data.shape[0]):\n",
    "    lemmed_tokenized_data[i]=Lemmatizer(lemmed_tokenized_data[i])\n",
    "    \n",
    "print(lemmed_tokenized_data[0])"
   ]
  },
  {
   "cell_type": "code",
   "execution_count": 20,
   "metadata": {},
   "outputs": [
    {
     "name": "stdout",
     "output_type": "stream",
     "text": [
      "key elegance polyester multicolor abstract eyelet door curtain floral curtain elegance polyester multicolor abstract eyelet door curtain height pack curtain enhances look interior curtain made high quality polyester fabric eyelet style stitch metal ring make room environment romantic loving curtain ant wrinkle anti shrinkage elegant apparance give home bright modernistic appeal design surreal attention sure steal heart contemporary eyelet valance curtain slide smoothly draw apart first thing morning welcome bright sun ray want wish good morning whole world draw close evening create special moment joyous beauty given soothing print bring home elegant curtain softly filter light room get right amount sunlight elegance polyester multicolor abstract eyelet door curtain height pack general brand elegance designed door type eyelet model name abstract polyester door curtain set model id duster color multicolor dimension length box number content sale package pack sale package curtain body design material polyester\n"
     ]
    }
   ],
   "source": [
    "lemmed_tokenized_data = lemmed_tokenized_data.apply(lambda x: ' '.join([word for word in x]))\n",
    "print(lemmed_tokenized_data[0])"
   ]
  },
  {
   "cell_type": "code",
   "execution_count": 21,
   "metadata": {},
   "outputs": [
    {
     "name": "stdout",
     "output_type": "stream",
     "text": [
      "Nombre total de mots:  47331\n",
      "Nombre moyen de mots par Description:  45.0\n"
     ]
    }
   ],
   "source": [
    "tagged_headlines = [TextBlob(lemmed_tokenized_data[i]).pos_tags for i in range(lemmed_tokenized_data.shape[0])]\n",
    "tagged_headlines_df = pd.DataFrame({'tags':tagged_headlines})\n",
    "\n",
    "word_counts = [] \n",
    "pos_counts = {}\n",
    "\n",
    "for headline in tagged_headlines_df[u'tags']:\n",
    "    word_counts.append(len(headline))\n",
    "    for tag in headline:\n",
    "        if tag[1] in pos_counts:\n",
    "            pos_counts[tag[1]] += 1\n",
    "        else:\n",
    "            pos_counts[tag[1]] = 1\n",
    "            \n",
    "print('Nombre total de mots: ', np.sum(word_counts))\n",
    "print('Nombre moyen de mots par Description: ', np.mean(word_counts).round(0))"
   ]
  },
  {
   "cell_type": "code",
   "execution_count": 22,
   "metadata": {
    "scrolled": false
   },
   "outputs": [
    {
     "data": {
      "image/png": "[encoded data removed]",
      "text/plain": [
       "<Figure size 1296x576 with 1 Axes>"
      ]
     },
     "metadata": {
      "needs_background": "light"
     },
     "output_type": "display_data"
    }
   ],
   "source": [
    "fig, ax = plt.subplots(figsize=(18,8))\n",
    "ax.hist(word_counts, bins=range(1,150), density=True);\n",
    "ax.set_title('Nombre de mots par Description');\n",
    "ax.set_xticks(range(0,155,5));\n",
    "ax.set_xlabel('Nombre de mots');\n",
    "plt.show()"
   ]
  },
  {
   "cell_type": "markdown",
   "metadata": {},
   "source": [
    "### Préparation de notre target\n",
    "Nous préparons donc tout d'abord nos catégories."
   ]
  },
  {
   "cell_type": "code",
   "execution_count": 23,
   "metadata": {},
   "outputs": [
    {
     "name": "stderr",
     "output_type": "stream",
     "text": [
      "<ipython-input-23-94eb2171bb66>:5: SettingWithCopyWarning: \n",
      "A value is trying to be set on a copy of a slice from a DataFrame\n",
      "\n",
      "See the caveats in the documentation: https://pandas.pydata.org/pandas-docs/stable/user_guide/indexing.html#returning-a-view-versus-a-copy\n",
      "  categories[i] = re.sub('[^A-Za-z]', ' ', categories[i]).lower()\n"
     ]
    }
   ],
   "source": [
    "categories = raw_data['product_category_tree']\n",
    "categories.index = raw_data.image\n",
    "\n",
    "for i in range (categories.shape[0]) :\n",
    "  categories[i] = re.sub('[^A-Za-z]', ' ', categories[i]).lower()"
   ]
  },
  {
   "cell_type": "code",
   "execution_count": 24,
   "metadata": {},
   "outputs": [
    {
     "name": "stdout",
     "output_type": "stream",
     "text": [
      "image\n",
      "55b85ea15a1536d46b7190ad6fff8ce7.jpg      home furnishing    curtains   accessories   ...\n",
      "7b72c92c2f6c40268628ec5f14c6d590.jpg      baby care    baby bath   skin    baby bath t...\n",
      "64d5d4a258243731dc7bbb1eef49ad74.jpg      baby care    baby bath   skin    baby bath t...\n",
      "d4684dcdc759dd9cdf41504698d737d8.jpg      home furnishing    bed linen    bedsheets   ...\n",
      "6325b6870c54cd47be6ebfbffa620ec7.jpg      home furnishing    bed linen    bedsheets   ...\n",
      "                                                              ...                        \n",
      "958f54f4c46b53c8a0a9b8167d9140bc.jpg      baby care    baby   kids gifts    stickers  ...\n",
      "fd6cbcc22efb6b761bd564c28928483c.jpg      baby care    baby   kids gifts    stickers  ...\n",
      "5912e037d12774bb73a2048f35a00009.jpg      baby care    baby   kids gifts    stickers  ...\n",
      "c3edc504d1b4f0ba6224fa53a43a7ad6.jpg      baby care    baby   kids gifts    stickers  ...\n",
      "f2f027ad6a6df617c9f125173da71e44.jpg      baby care    baby   kids gifts    stickers  ...\n",
      "Name: product_category_tree, Length: 1050, dtype: object\n"
     ]
    }
   ],
   "source": [
    "print(categories)"
   ]
  },
  {
   "cell_type": "code",
   "execution_count": 25,
   "metadata": {
    "scrolled": true
   },
   "outputs": [
    {
     "name": "stdout",
     "output_type": "stream",
     "text": [
      "['home', 'furnishing', 'curtains', 'accessories', 'curtains', 'elegance', 'polyester', 'multicolor', 'abstract', 'eyelet', 'do']\n"
     ]
    }
   ],
   "source": [
    "tokenized_cat = categories.copy()\n",
    "\n",
    "for i in range(tokenized_cat.shape[0]):\n",
    "    tokenized_cat[i]=Tokenizer(tokenized_cat[i])\n",
    "    \n",
    "print(tokenized_cat[0])"
   ]
  },
  {
   "cell_type": "code",
   "execution_count": 26,
   "metadata": {},
   "outputs": [],
   "source": [
    "tokenized_cat = tokenized_cat.apply(lambda x: ' '.join([word for word in x if word not in (mots_a_supprimer)]))"
   ]
  },
  {
   "cell_type": "code",
   "execution_count": 27,
   "metadata": {
    "scrolled": true
   },
   "outputs": [
    {
     "data": {
      "text/plain": [
       "'home furnishing curtains accessories curtains elegance polyester multicolor abstract eyelet'"
      ]
     },
     "execution_count": 27,
     "metadata": {},
     "output_type": "execute_result"
    }
   ],
   "source": [
    "tokenized_cat[0]"
   ]
  },
  {
   "cell_type": "code",
   "execution_count": 28,
   "metadata": {
    "scrolled": true
   },
   "outputs": [
    {
     "name": "stdout",
     "output_type": "stream",
     "text": [
      "['home', 'furnishing', 'curtain', 'accessory', 'curtain', 'elegance', 'polyester', 'multicolor', 'abstract', 'eyelet']\n"
     ]
    }
   ],
   "source": [
    "lemmed_tokenized_cat = tokenized_cat.copy()\n",
    "\n",
    "for i in range(tokenized_cat.shape[0]):\n",
    "    lemmed_tokenized_cat[i]=Lemmatizer(lemmed_tokenized_cat[i])\n",
    "    \n",
    "print(lemmed_tokenized_cat[0])"
   ]
  },
  {
   "cell_type": "code",
   "execution_count": 29,
   "metadata": {},
   "outputs": [
    {
     "data": {
      "text/html": [
       "<div>\n",
       "<style scoped>\n",
       "    .dataframe tbody tr th:only-of-type {\n",
       "        vertical-align: middle;\n",
       "    }\n",
       "\n",
       "    .dataframe tbody tr th {\n",
       "        vertical-align: top;\n",
       "    }\n",
       "\n",
       "    .dataframe thead th {\n",
       "        text-align: right;\n",
       "    }\n",
       "</style>\n",
       "<table border=\"1\" class=\"dataframe\">\n",
       "  <thead>\n",
       "    <tr style=\"text-align: right;\">\n",
       "      <th></th>\n",
       "      <th>cat_name</th>\n",
       "      <th>image_name</th>\n",
       "    </tr>\n",
       "  </thead>\n",
       "  <tbody>\n",
       "    <tr>\n",
       "      <th>0</th>\n",
       "      <td>[home, furnishing, curtain, accessory, curtain...</td>\n",
       "      <td>55b85ea15a1536d46b7190ad6fff8ce7.jpg</td>\n",
       "    </tr>\n",
       "    <tr>\n",
       "      <th>1</th>\n",
       "      <td>[baby, care, baby, bath, skin, baby, bath, tow...</td>\n",
       "      <td>7b72c92c2f6c40268628ec5f14c6d590.jpg</td>\n",
       "    </tr>\n",
       "    <tr>\n",
       "      <th>2</th>\n",
       "      <td>[baby, care, baby, bath, skin, baby, bath, tow...</td>\n",
       "      <td>64d5d4a258243731dc7bbb1eef49ad74.jpg</td>\n",
       "    </tr>\n",
       "    <tr>\n",
       "      <th>3</th>\n",
       "      <td>[home, furnishing, bed, linen, bedsheets, sant...</td>\n",
       "      <td>d4684dcdc759dd9cdf41504698d737d8.jpg</td>\n",
       "    </tr>\n",
       "    <tr>\n",
       "      <th>4</th>\n",
       "      <td>[home, furnishing, bed, linen, bedsheets, jaip...</td>\n",
       "      <td>6325b6870c54cd47be6ebfbffa620ec7.jpg</td>\n",
       "    </tr>\n",
       "  </tbody>\n",
       "</table>\n",
       "</div>"
      ],
      "text/plain": [
       "                                            cat_name  \\\n",
       "0  [home, furnishing, curtain, accessory, curtain...   \n",
       "1  [baby, care, baby, bath, skin, baby, bath, tow...   \n",
       "2  [baby, care, baby, bath, skin, baby, bath, tow...   \n",
       "3  [home, furnishing, bed, linen, bedsheets, sant...   \n",
       "4  [home, furnishing, bed, linen, bedsheets, jaip...   \n",
       "\n",
       "                             image_name  \n",
       "0  55b85ea15a1536d46b7190ad6fff8ce7.jpg  \n",
       "1  7b72c92c2f6c40268628ec5f14c6d590.jpg  \n",
       "2  64d5d4a258243731dc7bbb1eef49ad74.jpg  \n",
       "3  d4684dcdc759dd9cdf41504698d737d8.jpg  \n",
       "4  6325b6870c54cd47be6ebfbffa620ec7.jpg  "
      ]
     },
     "execution_count": 29,
     "metadata": {},
     "output_type": "execute_result"
    }
   ],
   "source": [
    "Y = pd.DataFrame({'cat_name' : lemmed_tokenized_cat,\n",
    "                    'image_name' : lemmed_tokenized_cat.index})\n",
    "Y = Y.reset_index(drop=True)\n",
    "\n",
    "Y.head()"
   ]
  },
  {
   "cell_type": "code",
   "execution_count": 30,
   "metadata": {
    "scrolled": true
   },
   "outputs": [
    {
     "data": {
      "text/html": [
       "<div>\n",
       "<style scoped>\n",
       "    .dataframe tbody tr th:only-of-type {\n",
       "        vertical-align: middle;\n",
       "    }\n",
       "\n",
       "    .dataframe tbody tr th {\n",
       "        vertical-align: top;\n",
       "    }\n",
       "\n",
       "    .dataframe thead th {\n",
       "        text-align: right;\n",
       "    }\n",
       "</style>\n",
       "<table border=\"1\" class=\"dataframe\">\n",
       "  <thead>\n",
       "    <tr style=\"text-align: right;\">\n",
       "      <th></th>\n",
       "      <th>cat_name</th>\n",
       "      <th>image_name</th>\n",
       "      <th>cat</th>\n",
       "    </tr>\n",
       "  </thead>\n",
       "  <tbody>\n",
       "    <tr>\n",
       "      <th>0</th>\n",
       "      <td>[home, furnishing, curtain, accessory, curtain...</td>\n",
       "      <td>55b85ea15a1536d46b7190ad6fff8ce7.jpg</td>\n",
       "      <td>home furnishing</td>\n",
       "    </tr>\n",
       "    <tr>\n",
       "      <th>1</th>\n",
       "      <td>[baby, care, baby, bath, skin, baby, bath, tow...</td>\n",
       "      <td>7b72c92c2f6c40268628ec5f14c6d590.jpg</td>\n",
       "      <td>baby care</td>\n",
       "    </tr>\n",
       "    <tr>\n",
       "      <th>2</th>\n",
       "      <td>[baby, care, baby, bath, skin, baby, bath, tow...</td>\n",
       "      <td>64d5d4a258243731dc7bbb1eef49ad74.jpg</td>\n",
       "      <td>baby care</td>\n",
       "    </tr>\n",
       "    <tr>\n",
       "      <th>3</th>\n",
       "      <td>[home, furnishing, bed, linen, bedsheets, sant...</td>\n",
       "      <td>d4684dcdc759dd9cdf41504698d737d8.jpg</td>\n",
       "      <td>home furnishing</td>\n",
       "    </tr>\n",
       "    <tr>\n",
       "      <th>4</th>\n",
       "      <td>[home, furnishing, bed, linen, bedsheets, jaip...</td>\n",
       "      <td>6325b6870c54cd47be6ebfbffa620ec7.jpg</td>\n",
       "      <td>home furnishing</td>\n",
       "    </tr>\n",
       "  </tbody>\n",
       "</table>\n",
       "</div>"
      ],
      "text/plain": [
       "                                            cat_name  \\\n",
       "0  [home, furnishing, curtain, accessory, curtain...   \n",
       "1  [baby, care, baby, bath, skin, baby, bath, tow...   \n",
       "2  [baby, care, baby, bath, skin, baby, bath, tow...   \n",
       "3  [home, furnishing, bed, linen, bedsheets, sant...   \n",
       "4  [home, furnishing, bed, linen, bedsheets, jaip...   \n",
       "\n",
       "                             image_name              cat  \n",
       "0  55b85ea15a1536d46b7190ad6fff8ce7.jpg  home furnishing  \n",
       "1  7b72c92c2f6c40268628ec5f14c6d590.jpg        baby care  \n",
       "2  64d5d4a258243731dc7bbb1eef49ad74.jpg        baby care  \n",
       "3  d4684dcdc759dd9cdf41504698d737d8.jpg  home furnishing  \n",
       "4  6325b6870c54cd47be6ebfbffa620ec7.jpg  home furnishing  "
      ]
     },
     "execution_count": 30,
     "metadata": {},
     "output_type": "execute_result"
    }
   ],
   "source": [
    "Y['cat']=Y.cat_name\n",
    "\n",
    "for i in range(Y.cat_name.shape[0]) :\n",
    "    Y['cat'][i]=Y.cat_name[i][:2]\n",
    "\n",
    "Y.cat = Y.cat.apply(lambda x: ' '.join([word for word in x]))\n",
    "\n",
    "Y.head()"
   ]
  },
  {
   "cell_type": "code",
   "execution_count": 31,
   "metadata": {
    "scrolled": true
   },
   "outputs": [
    {
     "data": {
      "text/plain": [
       "home furnishing      150\n",
       "kitchen dining       150\n",
       "home decor           150\n",
       "beauty personal      150\n",
       "baby care            150\n",
       "watch wrist          149\n",
       "computer laptop       89\n",
       "computer network      49\n",
       "computer computer      6\n",
       "computer tablet        3\n",
       "computer storage       2\n",
       "computer software      1\n",
       "watch clock            1\n",
       "Name: cat, dtype: int64"
      ]
     },
     "execution_count": 31,
     "metadata": {},
     "output_type": "execute_result"
    }
   ],
   "source": [
    "Y.cat.value_counts()"
   ]
  },
  {
   "cell_type": "markdown",
   "metadata": {},
   "source": [
    "Nous créons désormais une variable traduisant numériquement nos catégories."
   ]
  },
  {
   "cell_type": "code",
   "execution_count": 32,
   "metadata": {
    "scrolled": true
   },
   "outputs": [
    {
     "data": {
      "text/plain": [
       "6    150\n",
       "5    150\n",
       "4    150\n",
       "3    150\n",
       "2    150\n",
       "1    150\n",
       "0    150\n",
       "Name: label, dtype: int64"
      ]
     },
     "execution_count": 32,
     "metadata": {},
     "output_type": "execute_result"
    }
   ],
   "source": [
    "Y['label']=Y.cat\n",
    "\n",
    "for i in range(Y.cat.shape[0]):\n",
    "    if Y.cat[i]=='home furnishing':\n",
    "        Y.label[i]=0\n",
    "    elif Y.cat[i]=='beauty personal':\n",
    "        Y.label[i]=1\n",
    "    elif Y.cat[i]=='kitchen dining':\n",
    "        Y.label[i]=2\n",
    "    elif Y.cat[i]=='home decor':\n",
    "        Y.label[i]=3\n",
    "    elif Y.cat[i]=='baby care':\n",
    "        Y.label[i]=4\n",
    "    else :\n",
    "        if Y.cat[i].__contains__('watch')==True:\n",
    "            Y.label[i]=5\n",
    "        else :\n",
    "            Y.label[i]=6\n",
    "            \n",
    "Y.label.value_counts()"
   ]
  },
  {
   "cell_type": "code",
   "execution_count": 33,
   "metadata": {},
   "outputs": [],
   "source": [
    "Y.drop('cat_name', axis=1).to_csv('images_categories.csv')"
   ]
  },
  {
   "cell_type": "code",
   "execution_count": 34,
   "metadata": {},
   "outputs": [
    {
     "name": "stdout",
     "output_type": "stream",
     "text": [
      "Label number 0:  ['home furnishing']\n",
      "Label number 1:  ['beauty personal']\n",
      "Label number 2:  ['kitchen dining']\n",
      "Label number 3:  ['home decor']\n",
      "Label number 4:  ['baby care']\n",
      "Label number 5:  ['watch wrist']\n",
      "Label number 6:  ['computer network']\n"
     ]
    }
   ],
   "source": [
    "for i in range(7):\n",
    "    print('Label number {}: '.format(i) , '{}'.format(Y.loc[Y.label==i, 'cat'][:1].values))\n"
   ]
  },
  {
   "cell_type": "markdown",
   "metadata": {},
   "source": [
    "Suite à cette analyse des catégories nous trouvons ici 7 principales thématiques : \n",
    "- 0. Home Furnishing\n",
    "- 1. Beauty and Personal Care \n",
    "- 2. Kichen and Dining\n",
    "- 3. Home Decoration\n",
    "- 4. Baby Care\n",
    "- 5. Watches\n",
    "- 6. Computers"
   ]
  },
  {
   "cell_type": "markdown",
   "metadata": {},
   "source": [
    "### Vectorisation des Descriptions"
   ]
  },
  {
   "cell_type": "code",
   "execution_count": 35,
   "metadata": {},
   "outputs": [
    {
     "name": "stdout",
     "output_type": "stream",
     "text": [
      "Description avant vectorization: key elegance polyester multicolor abstract eyelet door curtain floral curtain elegance polyester multicolor abstract eyelet door curtain height pack curtain enhances look interior curtain made high quality polyester fabric eyelet style stitch metal ring make room environment romantic loving curtain ant wrinkle anti shrinkage elegant apparance give home bright modernistic appeal design surreal attention sure steal heart contemporary eyelet valance curtain slide smoothly draw apart first thing morning welcome bright sun ray want wish good morning whole world draw close evening create special moment joyous beauty given soothing print bring home elegant curtain softly filter light room get right amount sunlight elegance polyester multicolor abstract eyelet door curtain height pack general brand elegance designed door type eyelet model name abstract polyester door curtain set model id duster color multicolor dimension length box number content sale package pack sale package curtain body design material polyester\n",
      "Description après vectorization: \n",
      "  (0, 2159)\t1\n",
      "  (0, 1289)\t4\n",
      "  (0, 3025)\t6\n",
      "  (0, 2606)\t4\n",
      "  (0, 17)\t4\n",
      "  (0, 1430)\t6\n",
      "  (0, 1180)\t5\n",
      "  (0, 991)\t11\n",
      "  (0, 1557)\t1\n",
      "  (0, 1849)\t2\n",
      "  (0, 2826)\t3\n",
      "  (0, 1323)\t1\n",
      "  (0, 2337)\t1\n",
      "  (0, 2051)\t1\n",
      "  (0, 1867)\t1\n",
      "  (0, 3191)\t1\n",
      "  (0, 1434)\t1\n",
      "  (0, 3910)\t1\n",
      "  (0, 3862)\t1\n",
      "  (0, 2501)\t1\n",
      "  (0, 3397)\t1\n",
      "  (0, 2410)\t1\n",
      "  (0, 3428)\t2\n",
      "  (0, 1344)\t1\n",
      "  (0, 3425)\t1\n",
      "  :\t:\n",
      "  (0, 3107)\t1\n",
      "  (0, 514)\t1\n",
      "  (0, 3752)\t1\n",
      "  (0, 1512)\t1\n",
      "  (0, 2285)\t1\n",
      "  (0, 3395)\t1\n",
      "  (0, 3942)\t1\n",
      "  (0, 1674)\t1\n",
      "  (0, 489)\t1\n",
      "  (0, 1089)\t1\n",
      "  (0, 4216)\t1\n",
      "  (0, 2552)\t2\n",
      "  (0, 3583)\t1\n",
      "  (0, 1949)\t1\n",
      "  (0, 1230)\t1\n",
      "  (0, 782)\t1\n",
      "  (0, 1129)\t1\n",
      "  (0, 2269)\t1\n",
      "  (0, 480)\t1\n",
      "  (0, 2718)\t1\n",
      "  (0, 875)\t1\n",
      "  (0, 3487)\t2\n",
      "  (0, 2827)\t2\n",
      "  (0, 447)\t1\n",
      "  (0, 2453)\t1\n"
     ]
    }
   ],
   "source": [
    "small_count_vectorizer = CountVectorizer(stop_words='english', max_features=50000)\n",
    "small_text_sample = lemmed_tokenized_data.values\n",
    "\n",
    "print('Description avant vectorization: {}'.format(small_text_sample[0]))\n",
    "\n",
    "small_document_term_matrix = small_count_vectorizer.fit_transform(small_text_sample)\n",
    "\n",
    "print('Description après vectorization: \\n{}'.format(small_document_term_matrix[0]))"
   ]
  },
  {
   "cell_type": "markdown",
   "metadata": {},
   "source": [
    "## LDA Topic Modelling\n",
    "\n",
    "Une des méthodes non supervisées permettant de classifier nos descriptions de texte et la **Latent Dirichlet Allocation** (LDA), qui va regrouper les données selon les mots comportés dans les descriptions. \n",
    "\n",
    "### Création du modèle\n",
    "\n",
    "Regardons ici ce que cela donne sur notre dataset (avec le nombre de topics recherché égal à 7 car nous connaissons déjà le nombres de catégories que nous allons utiliser)."
   ]
  },
  {
   "cell_type": "code",
   "execution_count": 36,
   "metadata": {},
   "outputs": [],
   "source": [
    "n_topics = 7"
   ]
  },
  {
   "cell_type": "code",
   "execution_count": 37,
   "metadata": {},
   "outputs": [],
   "source": [
    "lda_model = LatentDirichletAllocation(n_components=n_topics, learning_method='online', \n",
    "                                          random_state=0, verbose=0)\n",
    "lda_topic_matrix = lda_model.fit_transform(small_document_term_matrix)"
   ]
  },
  {
   "cell_type": "code",
   "execution_count": 38,
   "metadata": {},
   "outputs": [],
   "source": [
    "def get_keys(topic_matrix):\n",
    "\n",
    "    keys = topic_matrix.argmax(axis=1).tolist()\n",
    "    return keys\n",
    "\n",
    "def keys_to_counts(keys):\n",
    "\n",
    "    count_pairs = Counter(keys).items()\n",
    "    categories = [pair[0] for pair in count_pairs]\n",
    "    counts = [pair[1] for pair in count_pairs]\n",
    "    return (categories, counts)"
   ]
  },
  {
   "cell_type": "code",
   "execution_count": 39,
   "metadata": {},
   "outputs": [],
   "source": [
    "lda_keys = get_keys(lda_topic_matrix)\n",
    "lda_categories, lda_counts = keys_to_counts(lda_keys)"
   ]
  },
  {
   "cell_type": "code",
   "execution_count": 40,
   "metadata": {},
   "outputs": [],
   "source": [
    "def get_top_n_words(n, keys, document_term_matrix, count_vectorizer):\n",
    "   \n",
    "    top_word_indices = []\n",
    "    for topic in range(n_topics):\n",
    "        temp_vector_sum = 0\n",
    "        for i in range(len(keys)):\n",
    "            if keys[i] == topic:\n",
    "                temp_vector_sum += document_term_matrix[i]\n",
    "        temp_vector_sum = temp_vector_sum.toarray()\n",
    "        top_n_word_indices = np.flip(np.argsort(temp_vector_sum)[0][-n:],0)\n",
    "        top_word_indices.append(top_n_word_indices)   \n",
    "    top_words = []\n",
    "    for topic in top_word_indices:\n",
    "        topic_words = []\n",
    "        for index in topic:\n",
    "            temp_word_vector = np.zeros((1,document_term_matrix.shape[1]))\n",
    "            temp_word_vector[:,index] = 1\n",
    "            the_word = count_vectorizer.inverse_transform(temp_word_vector)[0][0]\n",
    "            topic_words.append(the_word.encode('ascii').decode('utf-8'))\n",
    "        top_words.append(\" \".join(topic_words))         \n",
    "    return top_words"
   ]
  },
  {
   "cell_type": "markdown",
   "metadata": {},
   "source": [
    "### Analyse de nos topics trouvés\n",
    "Affichons maintenant les 15 mots les plus utilisés par topic afin de voir si nous pouvons en déduire des catégories de produit. "
   ]
  },
  {
   "cell_type": "code",
   "execution_count": 41,
   "metadata": {},
   "outputs": [
    {
     "name": "stdout",
     "output_type": "stream",
     "text": [
      "Topic 1:  watch analog set combo woman men dial strap india great discount sticker resistant water round\n",
      "Topic 2:  skin oil bowl home brass set look type room carpet wall used handmade tea soap\n",
      "Topic 3:  watch usb adapter laptop analog warranty power men india great discount charger cr vaio vgn\n",
      "Topic 4:  showpiece best price inch art design home gift beautiful water box ganesha color bottle hair\n",
      "Topic 5:  cotton cover towel pack color single material sheet pizza double bedsheet blanket model steel set\n",
      "Topic 6:  mug ceramic coffee perfect gift material design loved rockmantra safe ml microwave product tea creation\n",
      "Topic 7:  baby girl cotton fabric pack color number general package type sale box inch brand laptop\n"
     ]
    }
   ],
   "source": [
    "top_n_words_lda = get_top_n_words(15, lda_keys, small_document_term_matrix, small_count_vectorizer)\n",
    "\n",
    "for i in range(len(top_n_words_lda)):\n",
    "    print(\"Topic {}: \".format(i+1), top_n_words_lda[i])"
   ]
  },
  {
   "cell_type": "code",
   "execution_count": 42,
   "metadata": {
    "scrolled": false
   },
   "outputs": [
    {
     "data": {
      "image/png": "[encoded data removed]",
      "text/plain": [
       "<Figure size 1152x576 with 1 Axes>"
      ]
     },
     "metadata": {
      "needs_background": "light"
     },
     "output_type": "display_data"
    }
   ],
   "source": [
    "top_3_words = get_top_n_words(3, lda_keys, small_document_term_matrix, small_count_vectorizer)\n",
    "labels = ['Topic {}: \\n'.format(i) + top_3_words[i] for i in lda_categories]\n",
    "\n",
    "fig, ax = plt.subplots(figsize=(16,8))\n",
    "ax.bar(lda_categories, lda_counts);\n",
    "ax.set_xticks(lda_categories);\n",
    "ax.set_xticklabels(labels);\n",
    "ax.set_title('LDA topic comptage');\n",
    "ax.set_ylabel('Nombre de Descriptions');"
   ]
  },
  {
   "cell_type": "markdown",
   "metadata": {},
   "source": [
    "### Représentation visuelle\n",
    "Nous allons représenter visuellement ces Topics grâce à une TSNE qui va nous permettre de représenter chaque description produit selon deux composantes seulement. "
   ]
  },
  {
   "cell_type": "code",
   "execution_count": 43,
   "metadata": {
    "scrolled": true
   },
   "outputs": [
    {
     "name": "stdout",
     "output_type": "stream",
     "text": [
      "[t-SNE] Computing 151 nearest neighbors...\n",
      "[t-SNE] Indexed 1050 samples in 0.008s...\n",
      "[t-SNE] Computed neighbors for 1050 samples in 0.080s...\n",
      "[t-SNE] Computed conditional probabilities for sample 1000 / 1050\n",
      "[t-SNE] Computed conditional probabilities for sample 1050 / 1050\n",
      "[t-SNE] Mean sigma: 0.021828\n",
      "[t-SNE] KL divergence after 250 iterations with early exaggeration: 47.343910\n",
      "[t-SNE] KL divergence after 2000 iterations: 0.201798\n"
     ]
    }
   ],
   "source": [
    "tsne_lda_model = TSNE(n_components=2, perplexity=50, learning_rate=100, \n",
    "                        n_iter=2000, verbose=1, random_state=0, angle=0.75)\n",
    "tsne_lda_vectors = tsne_lda_model.fit_transform(lda_topic_matrix)"
   ]
  },
  {
   "cell_type": "code",
   "execution_count": 44,
   "metadata": {},
   "outputs": [],
   "source": [
    "def get_mean_topic_vectors(keys, two_dim_vectors):\n",
    "   \n",
    "    mean_topic_vectors = []\n",
    "    for t in range(n_topics):\n",
    "        articles_in_that_topic = []\n",
    "        for i in range(len(keys)):\n",
    "            if keys[i] == t:\n",
    "                articles_in_that_topic.append(two_dim_vectors[i])    \n",
    "        \n",
    "        articles_in_that_topic = np.vstack(articles_in_that_topic)\n",
    "        mean_article_in_that_topic = np.mean(articles_in_that_topic, axis=0)\n",
    "        mean_topic_vectors.append(mean_article_in_that_topic)\n",
    "    return mean_topic_vectors"
   ]
  },
  {
   "cell_type": "code",
   "execution_count": 45,
   "metadata": {},
   "outputs": [],
   "source": [
    "colormap = np.array([\n",
    "    \"#1f77b4\", \"#aec7e8\", \"#ff7f0e\", \"#ffbb78\", \"#2ca02c\",\n",
    "    \"#98df8a\", \"#d62728\", \"#ff9896\", \"#9467bd\", \"#c5b0d5\",\n",
    "    \"#8c564b\", \"#c49c94\", \"#e377c2\", \"#f7b6d2\", \"#7f7f7f\",\n",
    "    \"#c7c7c7\", \"#bcbd22\", \"#dbdb8d\", \"#17becf\", \"#9edae5\" ])\n",
    "colormap = colormap[:n_topics]"
   ]
  },
  {
   "cell_type": "code",
   "execution_count": 46,
   "metadata": {
    "scrolled": false
   },
   "outputs": [
    {
     "data": {
      "text/html": [
       "\n",
       "\n",
       "\n",
       "\n",
       "\n",
       "\n",
       "  <div class=\"bk-root\" id=\"aa1f2888-acbf-495b-944b-f44820451828\" data-root-id=\"1002\"></div>\n"
      ]
     },
     "metadata": {},
     "output_type": "display_data"
    },
    {
     "data": {
      "application/javascript": [
       "(function(root) {\n",
       "  function embed_document(root) {\n",
       "    \n",
       "  var docs_json = {\"14a95470-d03b-436c-a966-9d66cebd6363\":{\"roots\":{\"references\":[{\"attributes\":{\"below\":[{\"id\":\"1013\"}],\"center\":[{\"id\":\"1016\"},{\"id\":\"1020\"},{\"id\":\"1040\"},{\"id\":\"1041\"},{\"id\":\"1042\"},{\"id\":\"1043\"},{\"id\":\"1044\"},{\"id\":\"1045\"},{\"id\":\"1046\"}],\"left\":[{\"id\":\"1017\"}],\"plot_height\":700,\"plot_width\":700,\"renderers\":[{\"id\":\"1038\"}],\"title\":{\"id\":\"1003\"},\"toolbar\":{\"id\":\"1028\"},\"x_range\":{\"id\":\"1005\"},\"x_scale\":{\"id\":\"1009\"},\"y_range\":{\"id\":\"1007\"},\"y_scale\":{\"id\":\"1011\"}},\"id\":\"1002\",\"subtype\":\"Figure\",\"type\":\"Plot\"},{\"attributes\":{},\"id\":\"1014\",\"type\":\"BasicTicker\"},{\"attributes\":{},\"id\":\"1049\",\"type\":\"BasicTickFormatter\"},{\"attributes\":{},\"id\":\"1021\",\"type\":\"PanTool\"},{\"attributes\":{\"formatter\":{\"id\":\"1049\"},\"ticker\":{\"id\":\"1014\"}},\"id\":\"1013\",\"type\":\"LinearAxis\"},{\"attributes\":{\"source\":{\"id\":\"1035\"}},\"id\":\"1039\",\"type\":\"CDSView\"},{\"attributes\":{\"text\":\"watch usb adapter\",\"text_color\":\"#ff7f0e\",\"x\":9.71408462524414,\"y\":26.159778594970703},\"id\":\"1042\",\"type\":\"Label\"},{\"attributes\":{\"data\":{\"fill_color\":[\"#d62728\",\"#2ca02c\",\"#d62728\",\"#2ca02c\",\"#2ca02c\",\"#ff7f0e\",\"#ff7f0e\",\"#ffbb78\",\"#ff7f0e\",\"#ff7f0e\",\"#ffbb78\",\"#ff7f0e\",\"#1f77b4\",\"#ff7f0e\",\"#ff7f0e\",\"#ffbb78\",\"#ff7f0e\",\"#ff7f0e\",\"#ff7f0e\",\"#ff7f0e\",\"#1f77b4\",\"#ff7f0e\",\"#ff7f0e\",\"#1f77b4\",\"#ff7f0e\",\"#1f77b4\",\"#ff7f0e\",\"#ff7f0e\",\"#1f77b4\",\"#ff7f0e\",\"#1f77b4\",\"#ff7f0e\",\"#1f77b4\",\"#2ca02c\",\"#2ca02c\",\"#aec7e8\",\"#aec7e8\",\"#ffbb78\",\"#d62728\",\"#d62728\",\"#d62728\",\"#d62728\",\"#d62728\",\"#ffbb78\",\"#98df8a\",\"#98df8a\",\"#98df8a\",\"#d62728\",\"#98df8a\",\"#ffbb78\",\"#98df8a\",\"#ff7f0e\",\"#2ca02c\",\"#98df8a\",\"#98df8a\",\"#98df8a\",\"#d62728\",\"#1f77b4\",\"#1f77b4\",\"#1f77b4\",\"#98df8a\",\"#1f77b4\",\"#1f77b4\",\"#d62728\",\"#98df8a\",\"#98df8a\",\"#d62728\",\"#d62728\",\"#98df8a\",\"#98df8a\",\"#aec7e8\",\"#d62728\",\"#d62728\",\"#d62728\",\"#d62728\",\"#d62728\",\"#d62728\",\"#98df8a\",\"#d62728\",\"#d62728\",\"#ffbb78\",\"#d62728\",\"#d62728\",\"#d62728\",\"#d62728\",\"#1f77b4\",\"#98df8a\",\"#2ca02c\",\"#1f77b4\",\"#ffbb78\",\"#1f77b4\",\"#ffbb78\",\"#ffbb78\",\"#ffbb78\",\"#1f77b4\",\"#ffbb78\",\"#ffbb78\",\"#ffbb78\",\"#d62728\",\"#d62728\",\"#d62728\",\"#ffbb78\",\"#ffbb78\",\"#2ca02c\",\"#2ca02c\",\"#2ca02c\",\"#ffbb78\",\"#2ca02c\",\"#2ca02c\",\"#d62728\",\"#d62728\",\"#ffbb78\",\"#d62728\",\"#d62728\",\"#aec7e8\",\"#d62728\",\"#aec7e8\",\"#1f77b4\",\"#ffbb78\",\"#98df8a\",\"#2ca02c\",\"#d62728\",\"#2ca02c\",\"#aec7e8\",\"#d62728\",\"#1f77b4\",\"#2ca02c\",\"#2ca02c\",\"#ffbb78\",\"#98df8a\",\"#98df8a\",\"#98df8a\",\"#98df8a\",\"#98df8a\",\"#98df8a\",\"#98df8a\",\"#98df8a\",\"#98df8a\",\"#98df8a\",\"#98df8a\",\"#98df8a\",\"#98df8a\",\"#98df8a\",\"#98df8a\",\"#98df8a\",\"#98df8a\",\"#98df8a\",\"#98df8a\",\"#98df8a\",\"#98df8a\",\"#98df8a\",\"#98df8a\",\"#98df8a\",\"#98df8a\",\"#98df8a\",\"#98df8a\",\"#98df8a\",\"#98df8a\",\"#98df8a\",\"#98df8a\",\"#98df8a\",\"#98df8a\",\"#98df8a\",\"#98df8a\",\"#98df8a\",\"#98df8a\",\"#98df8a\",\"#98df8a\",\"#98df8a\",\"#98df8a\",\"#98df8a\",\"#98df8a\",\"#98df8a\",\"#98df8a\",\"#98df8a\",\"#98df8a\",\"#98df8a\",\"#98df8a\",\"#98df8a\",\"#98df8a\",\"#98df8a\",\"#98df8a\",\"#98df8a\",\"#98df8a\",\"#98df8a\",\"#98df8a\",\"#98df8a\",\"#98df8a\",\"#98df8a\",\"#98df8a\",\"#98df8a\",\"#98df8a\",\"#2ca02c\",\"#ffbb78\",\"#ffbb78\",\"#ffbb78\",\"#aec7e8\",\"#2ca02c\",\"#aec7e8\",\"#2ca02c\",\"#ffbb78\",\"#ffbb78\",\"#1f77b4\",\"#ffbb78\",\"#2ca02c\",\"#ffbb78\",\"#aec7e8\",\"#ffbb78\",\"#ffbb78\",\"#ffbb78\",\"#ffbb78\",\"#ffbb78\",\"#aec7e8\",\"#aec7e8\",\"#ffbb78\",\"#2ca02c\",\"#2ca02c\",\"#ffbb78\",\"#2ca02c\",\"#d62728\",\"#d62728\",\"#ffbb78\",\"#2ca02c\",\"#2ca02c\",\"#ffbb78\",\"#ffbb78\",\"#ffbb78\",\"#1f77b4\",\"#ffbb78\",\"#ffbb78\",\"#ffbb78\",\"#aec7e8\",\"#d62728\",\"#ffbb78\",\"#2ca02c\",\"#2ca02c\",\"#ffbb78\",\"#ffbb78\",\"#2ca02c\",\"#aec7e8\",\"#ffbb78\",\"#d62728\",\"#aec7e8\",\"#ffbb78\",\"#2ca02c\",\"#ffbb78\",\"#ffbb78\",\"#d62728\",\"#ffbb78\",\"#2ca02c\",\"#ffbb78\",\"#ffbb78\",\"#2ca02c\",\"#2ca02c\",\"#ffbb78\",\"#d62728\",\"#ffbb78\",\"#ffbb78\",\"#ffbb78\",\"#ffbb78\",\"#ffbb78\",\"#ffbb78\",\"#ffbb78\",\"#ffbb78\",\"#ffbb78\",\"#ffbb78\",\"#2ca02c\",\"#2ca02c\",\"#2ca02c\",\"#1f77b4\",\"#ffbb78\",\"#ffbb78\",\"#ffbb78\",\"#2ca02c\",\"#ffbb78\",\"#d62728\",\"#1f77b4\",\"#1f77b4\",\"#1f77b4\",\"#1f77b4\",\"#1f77b4\",\"#2ca02c\",\"#d62728\",\"#1f77b4\",\"#ffbb78\",\"#1f77b4\",\"#1f77b4\",\"#d62728\",\"#d62728\",\"#ffbb78\",\"#ffbb78\",\"#d62728\",\"#d62728\",\"#d62728\",\"#d62728\",\"#1f77b4\",\"#d62728\",\"#d62728\",\"#d62728\",\"#ffbb78\",\"#ffbb78\",\"#d62728\",\"#ffbb78\",\"#ffbb78\",\"#ffbb78\",\"#ffbb78\",\"#ffbb78\",\"#ffbb78\",\"#ffbb78\",\"#ffbb78\",\"#d62728\",\"#1f77b4\",\"#2ca02c\",\"#1f77b4\",\"#1f77b4\",\"#1f77b4\",\"#1f77b4\",\"#1f77b4\",\"#d62728\",\"#1f77b4\",\"#1f77b4\",\"#ff7f0e\",\"#1f77b4\",\"#ff7f0e\",\"#d62728\",\"#1f77b4\",\"#ff7f0e\",\"#ff7f0e\",\"#1f77b4\",\"#d62728\",\"#d62728\",\"#1f77b4\",\"#d62728\",\"#2ca02c\",\"#1f77b4\",\"#ff7f0e\",\"#d62728\",\"#1f77b4\",\"#1f77b4\",\"#ff7f0e\",\"#1f77b4\",\"#d62728\",\"#1f77b4\",\"#1f77b4\",\"#1f77b4\",\"#ff7f0e\",\"#1f77b4\",\"#1f77b4\",\"#2ca02c\",\"#ff7f0e\",\"#d62728\",\"#ff7f0e\",\"#aec7e8\",\"#d62728\",\"#ff7f0e\",\"#ff7f0e\",\"#1f77b4\",\"#1f77b4\",\"#1f77b4\",\"#1f77b4\",\"#1f77b4\",\"#1f77b4\",\"#1f77b4\",\"#1f77b4\",\"#ff7f0e\",\"#1f77b4\",\"#1f77b4\",\"#d62728\",\"#1f77b4\",\"#ff7f0e\",\"#1f77b4\",\"#d62728\",\"#1f77b4\",\"#ff7f0e\",\"#1f77b4\",\"#1f77b4\",\"#1f77b4\",\"#1f77b4\",\"#1f77b4\",\"#d62728\",\"#ff7f0e\",\"#1f77b4\",\"#1f77b4\",\"#1f77b4\",\"#1f77b4\",\"#1f77b4\",\"#1f77b4\",\"#1f77b4\",\"#1f77b4\",\"#1f77b4\",\"#d62728\",\"#d62728\",\"#1f77b4\",\"#1f77b4\",\"#ff7f0e\",\"#1f77b4\",\"#1f77b4\",\"#ff7f0e\",\"#d62728\",\"#d62728\",\"#2ca02c\",\"#1f77b4\",\"#1f77b4\",\"#ff7f0e\",\"#1f77b4\",\"#1f77b4\",\"#1f77b4\",\"#ff7f0e\",\"#aec7e8\",\"#1f77b4\",\"#d62728\",\"#1f77b4\",\"#1f77b4\",\"#1f77b4\",\"#1f77b4\",\"#1f77b4\",\"#1f77b4\",\"#1f77b4\",\"#1f77b4\",\"#ff7f0e\",\"#d62728\",\"#d62728\",\"#1f77b4\",\"#ff7f0e\",\"#ffbb78\",\"#d62728\",\"#d62728\",\"#ff7f0e\",\"#d62728\",\"#ff7f0e\",\"#d62728\",\"#ff7f0e\",\"#ff7f0e\",\"#ff7f0e\",\"#ff7f0e\",\"#ff7f0e\",\"#ff7f0e\",\"#d62728\",\"#d62728\",\"#d62728\",\"#d62728\",\"#1f77b4\",\"#d62728\",\"#d62728\",\"#2ca02c\",\"#ff7f0e\",\"#ff7f0e\",\"#ff7f0e\",\"#2ca02c\",\"#d62728\",\"#d62728\",\"#d62728\",\"#ff7f0e\",\"#2ca02c\",\"#1f77b4\",\"#1f77b4\",\"#2ca02c\",\"#2ca02c\",\"#2ca02c\",\"#ffbb78\",\"#d62728\",\"#2ca02c\",\"#aec7e8\",\"#1f77b4\",\"#d62728\",\"#d62728\",\"#d62728\",\"#d62728\",\"#d62728\",\"#d62728\",\"#ffbb78\",\"#d62728\",\"#d62728\",\"#aec7e8\",\"#d62728\",\"#aec7e8\",\"#2ca02c\",\"#2ca02c\",\"#2ca02c\",\"#d62728\",\"#ff7f0e\",\"#ff7f0e\",\"#ff7f0e\",\"#d62728\",\"#d62728\",\"#d62728\",\"#ff7f0e\",\"#ff7f0e\",\"#ff7f0e\",\"#ff7f0e\",\"#ff7f0e\",\"#ff7f0e\",\"#ff7f0e\",\"#ff7f0e\",\"#ff7f0e\",\"#ff7f0e\",\"#ff7f0e\",\"#1f77b4\",\"#1f77b4\",\"#1f77b4\",\"#ff7f0e\",\"#1f77b4\",\"#1f77b4\",\"#ff7f0e\",\"#ff7f0e\",\"#1f77b4\",\"#ff7f0e\",\"#ff7f0e\",\"#ff7f0e\",\"#1f77b4\",\"#ff7f0e\",\"#ff7f0e\",\"#d62728\",\"#1f77b4\",\"#1f77b4\",\"#1f77b4\",\"#ff7f0e\",\"#ff7f0e\",\"#1f77b4\",\"#1f77b4\",\"#1f77b4\",\"#1f77b4\",\"#1f77b4\",\"#1f77b4\",\"#1f77b4\",\"#ff7f0e\",\"#1f77b4\",\"#1f77b4\",\"#1f77b4\",\"#1f77b4\",\"#1f77b4\",\"#1f77b4\",\"#ff7f0e\",\"#1f77b4\",\"#ff7f0e\",\"#1f77b4\",\"#1f77b4\",\"#1f77b4\",\"#1f77b4\",\"#1f77b4\",\"#ff7f0e\",\"#1f77b4\",\"#1f77b4\",\"#ff7f0e\",\"#1f77b4\",\"#1f77b4\",\"#1f77b4\",\"#1f77b4\",\"#ff7f0e\",\"#1f77b4\",\"#1f77b4\",\"#ff7f0e\",\"#ff7f0e\",\"#ff7f0e\",\"#ff7f0e\",\"#1f77b4\",\"#ff7f0e\",\"#ff7f0e\",\"#1f77b4\",\"#ff7f0e\",\"#1f77b4\",\"#ff7f0e\",\"#1f77b4\",\"#1f77b4\",\"#ff7f0e\",\"#ff7f0e\",\"#1f77b4\",\"#ff7f0e\",\"#1f77b4\",\"#ff7f0e\",\"#ff7f0e\",\"#1f77b4\",\"#1f77b4\",\"#ff7f0e\",\"#ff7f0e\",\"#ff7f0e\",\"#ff7f0e\",\"#1f77b4\",\"#ff7f0e\",\"#ff7f0e\",\"#ff7f0e\",\"#1f77b4\",\"#1f77b4\",\"#ff7f0e\",\"#1f77b4\",\"#1f77b4\",\"#ff7f0e\",\"#1f77b4\",\"#ff7f0e\",\"#ff7f0e\",\"#d62728\",\"#2ca02c\",\"#d62728\",\"#d62728\",\"#2ca02c\",\"#2ca02c\",\"#2ca02c\",\"#d62728\",\"#ff7f0e\",\"#d62728\",\"#d62728\",\"#98df8a\",\"#1f77b4\",\"#ffbb78\",\"#2ca02c\",\"#2ca02c\",\"#d62728\",\"#d62728\",\"#d62728\",\"#d62728\",\"#1f77b4\",\"#2ca02c\",\"#d62728\",\"#d62728\",\"#2ca02c\",\"#1f77b4\",\"#d62728\",\"#d62728\",\"#d62728\",\"#d62728\",\"#d62728\",\"#d62728\",\"#d62728\",\"#d62728\",\"#d62728\",\"#1f77b4\",\"#d62728\",\"#d62728\",\"#2ca02c\",\"#d62728\",\"#d62728\",\"#d62728\",\"#d62728\",\"#d62728\",\"#d62728\",\"#d62728\",\"#d62728\",\"#d62728\",\"#2ca02c\",\"#ff7f0e\",\"#d62728\",\"#d62728\",\"#d62728\",\"#d62728\",\"#d62728\",\"#d62728\",\"#d62728\",\"#d62728\",\"#d62728\",\"#1f77b4\",\"#d62728\",\"#2ca02c\",\"#1f77b4\",\"#d62728\",\"#2ca02c\",\"#ffbb78\",\"#2ca02c\",\"#2ca02c\",\"#1f77b4\",\"#d62728\",\"#d62728\",\"#ffbb78\",\"#d62728\",\"#d62728\",\"#1f77b4\",\"#2ca02c\",\"#1f77b4\",\"#1f77b4\",\"#ffbb78\",\"#2ca02c\",\"#ffbb78\",\"#ffbb78\",\"#ffbb78\",\"#ffbb78\",\"#d62728\",\"#2ca02c\",\"#d62728\",\"#ffbb78\",\"#2ca02c\",\"#ffbb78\",\"#ffbb78\",\"#ffbb78\",\"#2ca02c\",\"#2ca02c\",\"#2ca02c\",\"#2ca02c\",\"#2ca02c\",\"#2ca02c\",\"#2ca02c\",\"#ffbb78\",\"#2ca02c\",\"#2ca02c\",\"#2ca02c\",\"#ffbb78\",\"#ffbb78\",\"#ffbb78\",\"#ffbb78\",\"#ffbb78\",\"#2ca02c\",\"#2ca02c\",\"#d62728\",\"#2ca02c\",\"#ffbb78\",\"#aec7e8\",\"#2ca02c\",\"#2ca02c\",\"#ffbb78\",\"#2ca02c\",\"#2ca02c\",\"#d62728\",\"#ffbb78\",\"#2ca02c\",\"#aec7e8\",\"#2ca02c\",\"#2ca02c\",\"#2ca02c\",\"#2ca02c\",\"#aec7e8\",\"#2ca02c\",\"#aec7e8\",\"#aec7e8\",\"#2ca02c\",\"#aec7e8\",\"#d62728\",\"#d62728\",\"#aec7e8\",\"#2ca02c\",\"#ffbb78\",\"#d62728\",\"#d62728\",\"#2ca02c\",\"#d62728\",\"#d62728\",\"#d62728\",\"#ffbb78\",\"#d62728\",\"#d62728\",\"#d62728\",\"#d62728\",\"#2ca02c\",\"#ff7f0e\",\"#1f77b4\",\"#ffbb78\",\"#ffbb78\",\"#ffbb78\",\"#ffbb78\",\"#2ca02c\",\"#1f77b4\",\"#1f77b4\",\"#2ca02c\",\"#2ca02c\",\"#2ca02c\",\"#2ca02c\",\"#2ca02c\",\"#2ca02c\",\"#2ca02c\",\"#2ca02c\",\"#1f77b4\",\"#2ca02c\",\"#ff7f0e\",\"#ff7f0e\",\"#ff7f0e\",\"#ff7f0e\",\"#ff7f0e\",\"#ff7f0e\",\"#1f77b4\",\"#ffbb78\",\"#2ca02c\",\"#2ca02c\",\"#ff7f0e\",\"#2ca02c\",\"#d62728\",\"#2ca02c\",\"#2ca02c\",\"#d62728\",\"#2ca02c\",\"#d62728\",\"#ff7f0e\",\"#1f77b4\",\"#1f77b4\",\"#ff7f0e\",\"#ff7f0e\",\"#ff7f0e\",\"#1f77b4\",\"#2ca02c\",\"#aec7e8\",\"#ff7f0e\",\"#ff7f0e\",\"#ff7f0e\",\"#2ca02c\",\"#ff7f0e\",\"#1f77b4\",\"#1f77b4\",\"#d62728\",\"#1f77b4\",\"#ff7f0e\",\"#ff7f0e\",\"#2ca02c\",\"#aec7e8\",\"#2ca02c\",\"#ff7f0e\",\"#aec7e8\",\"#aec7e8\",\"#ff7f0e\",\"#aec7e8\",\"#aec7e8\",\"#1f77b4\",\"#aec7e8\",\"#aec7e8\",\"#2ca02c\",\"#aec7e8\",\"#2ca02c\",\"#2ca02c\",\"#2ca02c\",\"#2ca02c\",\"#1f77b4\",\"#ffbb78\",\"#2ca02c\",\"#2ca02c\",\"#2ca02c\",\"#1f77b4\",\"#2ca02c\",\"#ffbb78\",\"#ff7f0e\",\"#d62728\",\"#1f77b4\",\"#1f77b4\",\"#2ca02c\",\"#ff7f0e\",\"#ff7f0e\",\"#d62728\",\"#ff7f0e\",\"#ffbb78\",\"#ff7f0e\",\"#ff7f0e\",\"#ff7f0e\",\"#ff7f0e\",\"#ff7f0e\",\"#ff7f0e\",\"#ffbb78\",\"#ff7f0e\",\"#ff7f0e\",\"#ff7f0e\",\"#98df8a\",\"#ff7f0e\",\"#1f77b4\",\"#2ca02c\",\"#ff7f0e\",\"#ff7f0e\",\"#98df8a\",\"#ff7f0e\",\"#ff7f0e\",\"#d62728\",\"#ff7f0e\",\"#ff7f0e\",\"#ff7f0e\",\"#ff7f0e\",\"#ff7f0e\",\"#ff7f0e\",\"#ff7f0e\",\"#98df8a\",\"#ff7f0e\",\"#ff7f0e\",\"#2ca02c\",\"#ff7f0e\",\"#d62728\",\"#1f77b4\",\"#d62728\",\"#2ca02c\",\"#2ca02c\",\"#2ca02c\",\"#2ca02c\",\"#2ca02c\",\"#2ca02c\",\"#2ca02c\",\"#2ca02c\",\"#2ca02c\",\"#2ca02c\",\"#2ca02c\",\"#2ca02c\",\"#2ca02c\",\"#2ca02c\",\"#2ca02c\",\"#aec7e8\",\"#2ca02c\",\"#2ca02c\",\"#2ca02c\",\"#aec7e8\",\"#d62728\",\"#2ca02c\",\"#2ca02c\",\"#2ca02c\",\"#2ca02c\",\"#2ca02c\",\"#2ca02c\",\"#2ca02c\",\"#2ca02c\",\"#2ca02c\",\"#d62728\",\"#ffbb78\",\"#2ca02c\",\"#d62728\",\"#ffbb78\",\"#ffbb78\",\"#2ca02c\",\"#d62728\",\"#d62728\",\"#d62728\",\"#d62728\",\"#d62728\",\"#d62728\",\"#ffbb78\",\"#ffbb78\",\"#d62728\",\"#d62728\",\"#d62728\",\"#1f77b4\",\"#d62728\",\"#2ca02c\",\"#aec7e8\",\"#d62728\",\"#d62728\",\"#ffbb78\",\"#ffbb78\",\"#2ca02c\",\"#ffbb78\",\"#2ca02c\",\"#2ca02c\",\"#2ca02c\",\"#ffbb78\",\"#ffbb78\",\"#2ca02c\",\"#2ca02c\",\"#ffbb78\",\"#2ca02c\",\"#2ca02c\",\"#d62728\",\"#ffbb78\",\"#ffbb78\",\"#2ca02c\",\"#ffbb78\",\"#2ca02c\",\"#2ca02c\",\"#ffbb78\",\"#d62728\",\"#2ca02c\",\"#1f77b4\",\"#aec7e8\",\"#aec7e8\",\"#2ca02c\",\"#2ca02c\",\"#ffbb78\",\"#2ca02c\",\"#d62728\",\"#2ca02c\",\"#d62728\",\"#aec7e8\",\"#ffbb78\",\"#d62728\",\"#d62728\",\"#2ca02c\",\"#aec7e8\",\"#d62728\",\"#d62728\",\"#aec7e8\",\"#1f77b4\",\"#2ca02c\",\"#2ca02c\",\"#2ca02c\",\"#2ca02c\",\"#2ca02c\",\"#2ca02c\",\"#d62728\",\"#ff7f0e\",\"#ffbb78\",\"#d62728\",\"#1f77b4\",\"#d62728\",\"#2ca02c\",\"#d62728\",\"#d62728\",\"#d62728\",\"#d62728\",\"#d62728\",\"#ffbb78\",\"#ffbb78\",\"#ffbb78\",\"#aec7e8\",\"#ffbb78\",\"#ffbb78\",\"#d62728\",\"#2ca02c\",\"#aec7e8\",\"#2ca02c\",\"#98df8a\",\"#1f77b4\",\"#1f77b4\",\"#ffbb78\",\"#98df8a\",\"#2ca02c\",\"#d62728\",\"#d62728\",\"#ff7f0e\",\"#98df8a\",\"#98df8a\",\"#ffbb78\",\"#2ca02c\",\"#aec7e8\",\"#2ca02c\",\"#1f77b4\",\"#d62728\",\"#d62728\",\"#2ca02c\",\"#1f77b4\",\"#d62728\",\"#d62728\",\"#aec7e8\",\"#d62728\",\"#d62728\",\"#d62728\",\"#d62728\",\"#d62728\",\"#d62728\",\"#d62728\",\"#d62728\",\"#d62728\",\"#d62728\",\"#d62728\",\"#d62728\",\"#d62728\",\"#2ca02c\",\"#1f77b4\",\"#d62728\",\"#d62728\",\"#d62728\",\"#d62728\",\"#d62728\",\"#d62728\",\"#d62728\",\"#aec7e8\",\"#1f77b4\",\"#1f77b4\",\"#1f77b4\",\"#ffbb78\",\"#1f77b4\",\"#aec7e8\",\"#ffbb78\",\"#1f77b4\",\"#1f77b4\",\"#1f77b4\"],\"line_color\":[\"#d62728\",\"#2ca02c\",\"#d62728\",\"#2ca02c\",\"#2ca02c\",\"#ff7f0e\",\"#ff7f0e\",\"#ffbb78\",\"#ff7f0e\",\"#ff7f0e\",\"#ffbb78\",\"#ff7f0e\",\"#1f77b4\",\"#ff7f0e\",\"#ff7f0e\",\"#ffbb78\",\"#ff7f0e\",\"#ff7f0e\",\"#ff7f0e\",\"#ff7f0e\",\"#1f77b4\",\"#ff7f0e\",\"#ff7f0e\",\"#1f77b4\",\"#ff7f0e\",\"#1f77b4\",\"#ff7f0e\",\"#ff7f0e\",\"#1f77b4\",\"#ff7f0e\",\"#1f77b4\",\"#ff7f0e\",\"#1f77b4\",\"#2ca02c\",\"#2ca02c\",\"#aec7e8\",\"#aec7e8\",\"#ffbb78\",\"#d62728\",\"#d62728\",\"#d62728\",\"#d62728\",\"#d62728\",\"#ffbb78\",\"#98df8a\",\"#98df8a\",\"#98df8a\",\"#d62728\",\"#98df8a\",\"#ffbb78\",\"#98df8a\",\"#ff7f0e\",\"#2ca02c\",\"#98df8a\",\"#98df8a\",\"#98df8a\",\"#d62728\",\"#1f77b4\",\"#1f77b4\",\"#1f77b4\",\"#98df8a\",\"#1f77b4\",\"#1f77b4\",\"#d62728\",\"#98df8a\",\"#98df8a\",\"#d62728\",\"#d62728\",\"#98df8a\",\"#98df8a\",\"#aec7e8\",\"#d62728\",\"#d62728\",\"#d62728\",\"#d62728\",\"#d62728\",\"#d62728\",\"#98df8a\",\"#d62728\",\"#d62728\",\"#ffbb78\",\"#d62728\",\"#d62728\",\"#d62728\",\"#d62728\",\"#1f77b4\",\"#98df8a\",\"#2ca02c\",\"#1f77b4\",\"#ffbb78\",\"#1f77b4\",\"#ffbb78\",\"#ffbb78\",\"#ffbb78\",\"#1f77b4\",\"#ffbb78\",\"#ffbb78\",\"#ffbb78\",\"#d62728\",\"#d62728\",\"#d62728\",\"#ffbb78\",\"#ffbb78\",\"#2ca02c\",\"#2ca02c\",\"#2ca02c\",\"#ffbb78\",\"#2ca02c\",\"#2ca02c\",\"#d62728\",\"#d62728\",\"#ffbb78\",\"#d62728\",\"#d62728\",\"#aec7e8\",\"#d62728\",\"#aec7e8\",\"#1f77b4\",\"#ffbb78\",\"#98df8a\",\"#2ca02c\",\"#d62728\",\"#2ca02c\",\"#aec7e8\",\"#d62728\",\"#1f77b4\",\"#2ca02c\",\"#2ca02c\",\"#ffbb78\",\"#98df8a\",\"#98df8a\",\"#98df8a\",\"#98df8a\",\"#98df8a\",\"#98df8a\",\"#98df8a\",\"#98df8a\",\"#98df8a\",\"#98df8a\",\"#98df8a\",\"#98df8a\",\"#98df8a\",\"#98df8a\",\"#98df8a\",\"#98df8a\",\"#98df8a\",\"#98df8a\",\"#98df8a\",\"#98df8a\",\"#98df8a\",\"#98df8a\",\"#98df8a\",\"#98df8a\",\"#98df8a\",\"#98df8a\",\"#98df8a\",\"#98df8a\",\"#98df8a\",\"#98df8a\",\"#98df8a\",\"#98df8a\",\"#98df8a\",\"#98df8a\",\"#98df8a\",\"#98df8a\",\"#98df8a\",\"#98df8a\",\"#98df8a\",\"#98df8a\",\"#98df8a\",\"#98df8a\",\"#98df8a\",\"#98df8a\",\"#98df8a\",\"#98df8a\",\"#98df8a\",\"#98df8a\",\"#98df8a\",\"#98df8a\",\"#98df8a\",\"#98df8a\",\"#98df8a\",\"#98df8a\",\"#98df8a\",\"#98df8a\",\"#98df8a\",\"#98df8a\",\"#98df8a\",\"#98df8a\",\"#98df8a\",\"#98df8a\",\"#98df8a\",\"#2ca02c\",\"#ffbb78\",\"#ffbb78\",\"#ffbb78\",\"#aec7e8\",\"#2ca02c\",\"#aec7e8\",\"#2ca02c\",\"#ffbb78\",\"#ffbb78\",\"#1f77b4\",\"#ffbb78\",\"#2ca02c\",\"#ffbb78\",\"#aec7e8\",\"#ffbb78\",\"#ffbb78\",\"#ffbb78\",\"#ffbb78\",\"#ffbb78\",\"#aec7e8\",\"#aec7e8\",\"#ffbb78\",\"#2ca02c\",\"#2ca02c\",\"#ffbb78\",\"#2ca02c\",\"#d62728\",\"#d62728\",\"#ffbb78\",\"#2ca02c\",\"#2ca02c\",\"#ffbb78\",\"#ffbb78\",\"#ffbb78\",\"#1f77b4\",\"#ffbb78\",\"#ffbb78\",\"#ffbb78\",\"#aec7e8\",\"#d62728\",\"#ffbb78\",\"#2ca02c\",\"#2ca02c\",\"#ffbb78\",\"#ffbb78\",\"#2ca02c\",\"#aec7e8\",\"#ffbb78\",\"#d62728\",\"#aec7e8\",\"#ffbb78\",\"#2ca02c\",\"#ffbb78\",\"#ffbb78\",\"#d62728\",\"#ffbb78\",\"#2ca02c\",\"#ffbb78\",\"#ffbb78\",\"#2ca02c\",\"#2ca02c\",\"#ffbb78\",\"#d62728\",\"#ffbb78\",\"#ffbb78\",\"#ffbb78\",\"#ffbb78\",\"#ffbb78\",\"#ffbb78\",\"#ffbb78\",\"#ffbb78\",\"#ffbb78\",\"#ffbb78\",\"#2ca02c\",\"#2ca02c\",\"#2ca02c\",\"#1f77b4\",\"#ffbb78\",\"#ffbb78\",\"#ffbb78\",\"#2ca02c\",\"#ffbb78\",\"#d62728\",\"#1f77b4\",\"#1f77b4\",\"#1f77b4\",\"#1f77b4\",\"#1f77b4\",\"#2ca02c\",\"#d62728\",\"#1f77b4\",\"#ffbb78\",\"#1f77b4\",\"#1f77b4\",\"#d62728\",\"#d62728\",\"#ffbb78\",\"#ffbb78\",\"#d62728\",\"#d62728\",\"#d62728\",\"#d62728\",\"#1f77b4\",\"#d62728\",\"#d62728\",\"#d62728\",\"#ffbb78\",\"#ffbb78\",\"#d62728\",\"#ffbb78\",\"#ffbb78\",\"#ffbb78\",\"#ffbb78\",\"#ffbb78\",\"#ffbb78\",\"#ffbb78\",\"#ffbb78\",\"#d62728\",\"#1f77b4\",\"#2ca02c\",\"#1f77b4\",\"#1f77b4\",\"#1f77b4\",\"#1f77b4\",\"#1f77b4\",\"#d62728\",\"#1f77b4\",\"#1f77b4\",\"#ff7f0e\",\"#1f77b4\",\"#ff7f0e\",\"#d62728\",\"#1f77b4\",\"#ff7f0e\",\"#ff7f0e\",\"#1f77b4\",\"#d62728\",\"#d62728\",\"#1f77b4\",\"#d62728\",\"#2ca02c\",\"#1f77b4\",\"#ff7f0e\",\"#d62728\",\"#1f77b4\",\"#1f77b4\",\"#ff7f0e\",\"#1f77b4\",\"#d62728\",\"#1f77b4\",\"#1f77b4\",\"#1f77b4\",\"#ff7f0e\",\"#1f77b4\",\"#1f77b4\",\"#2ca02c\",\"#ff7f0e\",\"#d62728\",\"#ff7f0e\",\"#aec7e8\",\"#d62728\",\"#ff7f0e\",\"#ff7f0e\",\"#1f77b4\",\"#1f77b4\",\"#1f77b4\",\"#1f77b4\",\"#1f77b4\",\"#1f77b4\",\"#1f77b4\",\"#1f77b4\",\"#ff7f0e\",\"#1f77b4\",\"#1f77b4\",\"#d62728\",\"#1f77b4\",\"#ff7f0e\",\"#1f77b4\",\"#d62728\",\"#1f77b4\",\"#ff7f0e\",\"#1f77b4\",\"#1f77b4\",\"#1f77b4\",\"#1f77b4\",\"#1f77b4\",\"#d62728\",\"#ff7f0e\",\"#1f77b4\",\"#1f77b4\",\"#1f77b4\",\"#1f77b4\",\"#1f77b4\",\"#1f77b4\",\"#1f77b4\",\"#1f77b4\",\"#1f77b4\",\"#d62728\",\"#d62728\",\"#1f77b4\",\"#1f77b4\",\"#ff7f0e\",\"#1f77b4\",\"#1f77b4\",\"#ff7f0e\",\"#d62728\",\"#d62728\",\"#2ca02c\",\"#1f77b4\",\"#1f77b4\",\"#ff7f0e\",\"#1f77b4\",\"#1f77b4\",\"#1f77b4\",\"#ff7f0e\",\"#aec7e8\",\"#1f77b4\",\"#d62728\",\"#1f77b4\",\"#1f77b4\",\"#1f77b4\",\"#1f77b4\",\"#1f77b4\",\"#1f77b4\",\"#1f77b4\",\"#1f77b4\",\"#ff7f0e\",\"#d62728\",\"#d62728\",\"#1f77b4\",\"#ff7f0e\",\"#ffbb78\",\"#d62728\",\"#d62728\",\"#ff7f0e\",\"#d62728\",\"#ff7f0e\",\"#d62728\",\"#ff7f0e\",\"#ff7f0e\",\"#ff7f0e\",\"#ff7f0e\",\"#ff7f0e\",\"#ff7f0e\",\"#d62728\",\"#d62728\",\"#d62728\",\"#d62728\",\"#1f77b4\",\"#d62728\",\"#d62728\",\"#2ca02c\",\"#ff7f0e\",\"#ff7f0e\",\"#ff7f0e\",\"#2ca02c\",\"#d62728\",\"#d62728\",\"#d62728\",\"#ff7f0e\",\"#2ca02c\",\"#1f77b4\",\"#1f77b4\",\"#2ca02c\",\"#2ca02c\",\"#2ca02c\",\"#ffbb78\",\"#d62728\",\"#2ca02c\",\"#aec7e8\",\"#1f77b4\",\"#d62728\",\"#d62728\",\"#d62728\",\"#d62728\",\"#d62728\",\"#d62728\",\"#ffbb78\",\"#d62728\",\"#d62728\",\"#aec7e8\",\"#d62728\",\"#aec7e8\",\"#2ca02c\",\"#2ca02c\",\"#2ca02c\",\"#d62728\",\"#ff7f0e\",\"#ff7f0e\",\"#ff7f0e\",\"#d62728\",\"#d62728\",\"#d62728\",\"#ff7f0e\",\"#ff7f0e\",\"#ff7f0e\",\"#ff7f0e\",\"#ff7f0e\",\"#ff7f0e\",\"#ff7f0e\",\"#ff7f0e\",\"#ff7f0e\",\"#ff7f0e\",\"#ff7f0e\",\"#1f77b4\",\"#1f77b4\",\"#1f77b4\",\"#ff7f0e\",\"#1f77b4\",\"#1f77b4\",\"#ff7f0e\",\"#ff7f0e\",\"#1f77b4\",\"#ff7f0e\",\"#ff7f0e\",\"#ff7f0e\",\"#1f77b4\",\"#ff7f0e\",\"#ff7f0e\",\"#d62728\",\"#1f77b4\",\"#1f77b4\",\"#1f77b4\",\"#ff7f0e\",\"#ff7f0e\",\"#1f77b4\",\"#1f77b4\",\"#1f77b4\",\"#1f77b4\",\"#1f77b4\",\"#1f77b4\",\"#1f77b4\",\"#ff7f0e\",\"#1f77b4\",\"#1f77b4\",\"#1f77b4\",\"#1f77b4\",\"#1f77b4\",\"#1f77b4\",\"#ff7f0e\",\"#1f77b4\",\"#ff7f0e\",\"#1f77b4\",\"#1f77b4\",\"#1f77b4\",\"#1f77b4\",\"#1f77b4\",\"#ff7f0e\",\"#1f77b4\",\"#1f77b4\",\"#ff7f0e\",\"#1f77b4\",\"#1f77b4\",\"#1f77b4\",\"#1f77b4\",\"#ff7f0e\",\"#1f77b4\",\"#1f77b4\",\"#ff7f0e\",\"#ff7f0e\",\"#ff7f0e\",\"#ff7f0e\",\"#1f77b4\",\"#ff7f0e\",\"#ff7f0e\",\"#1f77b4\",\"#ff7f0e\",\"#1f77b4\",\"#ff7f0e\",\"#1f77b4\",\"#1f77b4\",\"#ff7f0e\",\"#ff7f0e\",\"#1f77b4\",\"#ff7f0e\",\"#1f77b4\",\"#ff7f0e\",\"#ff7f0e\",\"#1f77b4\",\"#1f77b4\",\"#ff7f0e\",\"#ff7f0e\",\"#ff7f0e\",\"#ff7f0e\",\"#1f77b4\",\"#ff7f0e\",\"#ff7f0e\",\"#ff7f0e\",\"#1f77b4\",\"#1f77b4\",\"#ff7f0e\",\"#1f77b4\",\"#1f77b4\",\"#ff7f0e\",\"#1f77b4\",\"#ff7f0e\",\"#ff7f0e\",\"#d62728\",\"#2ca02c\",\"#d62728\",\"#d62728\",\"#2ca02c\",\"#2ca02c\",\"#2ca02c\",\"#d62728\",\"#ff7f0e\",\"#d62728\",\"#d62728\",\"#98df8a\",\"#1f77b4\",\"#ffbb78\",\"#2ca02c\",\"#2ca02c\",\"#d62728\",\"#d62728\",\"#d62728\",\"#d62728\",\"#1f77b4\",\"#2ca02c\",\"#d62728\",\"#d62728\",\"#2ca02c\",\"#1f77b4\",\"#d62728\",\"#d62728\",\"#d62728\",\"#d62728\",\"#d62728\",\"#d62728\",\"#d62728\",\"#d62728\",\"#d62728\",\"#1f77b4\",\"#d62728\",\"#d62728\",\"#2ca02c\",\"#d62728\",\"#d62728\",\"#d62728\",\"#d62728\",\"#d62728\",\"#d62728\",\"#d62728\",\"#d62728\",\"#d62728\",\"#2ca02c\",\"#ff7f0e\",\"#d62728\",\"#d62728\",\"#d62728\",\"#d62728\",\"#d62728\",\"#d62728\",\"#d62728\",\"#d62728\",\"#d62728\",\"#1f77b4\",\"#d62728\",\"#2ca02c\",\"#1f77b4\",\"#d62728\",\"#2ca02c\",\"#ffbb78\",\"#2ca02c\",\"#2ca02c\",\"#1f77b4\",\"#d62728\",\"#d62728\",\"#ffbb78\",\"#d62728\",\"#d62728\",\"#1f77b4\",\"#2ca02c\",\"#1f77b4\",\"#1f77b4\",\"#ffbb78\",\"#2ca02c\",\"#ffbb78\",\"#ffbb78\",\"#ffbb78\",\"#ffbb78\",\"#d62728\",\"#2ca02c\",\"#d62728\",\"#ffbb78\",\"#2ca02c\",\"#ffbb78\",\"#ffbb78\",\"#ffbb78\",\"#2ca02c\",\"#2ca02c\",\"#2ca02c\",\"#2ca02c\",\"#2ca02c\",\"#2ca02c\",\"#2ca02c\",\"#ffbb78\",\"#2ca02c\",\"#2ca02c\",\"#2ca02c\",\"#ffbb78\",\"#ffbb78\",\"#ffbb78\",\"#ffbb78\",\"#ffbb78\",\"#2ca02c\",\"#2ca02c\",\"#d62728\",\"#2ca02c\",\"#ffbb78\",\"#aec7e8\",\"#2ca02c\",\"#2ca02c\",\"#ffbb78\",\"#2ca02c\",\"#2ca02c\",\"#d62728\",\"#ffbb78\",\"#2ca02c\",\"#aec7e8\",\"#2ca02c\",\"#2ca02c\",\"#2ca02c\",\"#2ca02c\",\"#aec7e8\",\"#2ca02c\",\"#aec7e8\",\"#aec7e8\",\"#2ca02c\",\"#aec7e8\",\"#d62728\",\"#d62728\",\"#aec7e8\",\"#2ca02c\",\"#ffbb78\",\"#d62728\",\"#d62728\",\"#2ca02c\",\"#d62728\",\"#d62728\",\"#d62728\",\"#ffbb78\",\"#d62728\",\"#d62728\",\"#d62728\",\"#d62728\",\"#2ca02c\",\"#ff7f0e\",\"#1f77b4\",\"#ffbb78\",\"#ffbb78\",\"#ffbb78\",\"#ffbb78\",\"#2ca02c\",\"#1f77b4\",\"#1f77b4\",\"#2ca02c\",\"#2ca02c\",\"#2ca02c\",\"#2ca02c\",\"#2ca02c\",\"#2ca02c\",\"#2ca02c\",\"#2ca02c\",\"#1f77b4\",\"#2ca02c\",\"#ff7f0e\",\"#ff7f0e\",\"#ff7f0e\",\"#ff7f0e\",\"#ff7f0e\",\"#ff7f0e\",\"#1f77b4\",\"#ffbb78\",\"#2ca02c\",\"#2ca02c\",\"#ff7f0e\",\"#2ca02c\",\"#d62728\",\"#2ca02c\",\"#2ca02c\",\"#d62728\",\"#2ca02c\",\"#d62728\",\"#ff7f0e\",\"#1f77b4\",\"#1f77b4\",\"#ff7f0e\",\"#ff7f0e\",\"#ff7f0e\",\"#1f77b4\",\"#2ca02c\",\"#aec7e8\",\"#ff7f0e\",\"#ff7f0e\",\"#ff7f0e\",\"#2ca02c\",\"#ff7f0e\",\"#1f77b4\",\"#1f77b4\",\"#d62728\",\"#1f77b4\",\"#ff7f0e\",\"#ff7f0e\",\"#2ca02c\",\"#aec7e8\",\"#2ca02c\",\"#ff7f0e\",\"#aec7e8\",\"#aec7e8\",\"#ff7f0e\",\"#aec7e8\",\"#aec7e8\",\"#1f77b4\",\"#aec7e8\",\"#aec7e8\",\"#2ca02c\",\"#aec7e8\",\"#2ca02c\",\"#2ca02c\",\"#2ca02c\",\"#2ca02c\",\"#1f77b4\",\"#ffbb78\",\"#2ca02c\",\"#2ca02c\",\"#2ca02c\",\"#1f77b4\",\"#2ca02c\",\"#ffbb78\",\"#ff7f0e\",\"#d62728\",\"#1f77b4\",\"#1f77b4\",\"#2ca02c\",\"#ff7f0e\",\"#ff7f0e\",\"#d62728\",\"#ff7f0e\",\"#ffbb78\",\"#ff7f0e\",\"#ff7f0e\",\"#ff7f0e\",\"#ff7f0e\",\"#ff7f0e\",\"#ff7f0e\",\"#ffbb78\",\"#ff7f0e\",\"#ff7f0e\",\"#ff7f0e\",\"#98df8a\",\"#ff7f0e\",\"#1f77b4\",\"#2ca02c\",\"#ff7f0e\",\"#ff7f0e\",\"#98df8a\",\"#ff7f0e\",\"#ff7f0e\",\"#d62728\",\"#ff7f0e\",\"#ff7f0e\",\"#ff7f0e\",\"#ff7f0e\",\"#ff7f0e\",\"#ff7f0e\",\"#ff7f0e\",\"#98df8a\",\"#ff7f0e\",\"#ff7f0e\",\"#2ca02c\",\"#ff7f0e\",\"#d62728\",\"#1f77b4\",\"#d62728\",\"#2ca02c\",\"#2ca02c\",\"#2ca02c\",\"#2ca02c\",\"#2ca02c\",\"#2ca02c\",\"#2ca02c\",\"#2ca02c\",\"#2ca02c\",\"#2ca02c\",\"#2ca02c\",\"#2ca02c\",\"#2ca02c\",\"#2ca02c\",\"#2ca02c\",\"#aec7e8\",\"#2ca02c\",\"#2ca02c\",\"#2ca02c\",\"#aec7e8\",\"#d62728\",\"#2ca02c\",\"#2ca02c\",\"#2ca02c\",\"#2ca02c\",\"#2ca02c\",\"#2ca02c\",\"#2ca02c\",\"#2ca02c\",\"#2ca02c\",\"#d62728\",\"#ffbb78\",\"#2ca02c\",\"#d62728\",\"#ffbb78\",\"#ffbb78\",\"#2ca02c\",\"#d62728\",\"#d62728\",\"#d62728\",\"#d62728\",\"#d62728\",\"#d62728\",\"#ffbb78\",\"#ffbb78\",\"#d62728\",\"#d62728\",\"#d62728\",\"#1f77b4\",\"#d62728\",\"#2ca02c\",\"#aec7e8\",\"#d62728\",\"#d62728\",\"#ffbb78\",\"#ffbb78\",\"#2ca02c\",\"#ffbb78\",\"#2ca02c\",\"#2ca02c\",\"#2ca02c\",\"#ffbb78\",\"#ffbb78\",\"#2ca02c\",\"#2ca02c\",\"#ffbb78\",\"#2ca02c\",\"#2ca02c\",\"#d62728\",\"#ffbb78\",\"#ffbb78\",\"#2ca02c\",\"#ffbb78\",\"#2ca02c\",\"#2ca02c\",\"#ffbb78\",\"#d62728\",\"#2ca02c\",\"#1f77b4\",\"#aec7e8\",\"#aec7e8\",\"#2ca02c\",\"#2ca02c\",\"#ffbb78\",\"#2ca02c\",\"#d62728\",\"#2ca02c\",\"#d62728\",\"#aec7e8\",\"#ffbb78\",\"#d62728\",\"#d62728\",\"#2ca02c\",\"#aec7e8\",\"#d62728\",\"#d62728\",\"#aec7e8\",\"#1f77b4\",\"#2ca02c\",\"#2ca02c\",\"#2ca02c\",\"#2ca02c\",\"#2ca02c\",\"#2ca02c\",\"#d62728\",\"#ff7f0e\",\"#ffbb78\",\"#d62728\",\"#1f77b4\",\"#d62728\",\"#2ca02c\",\"#d62728\",\"#d62728\",\"#d62728\",\"#d62728\",\"#d62728\",\"#ffbb78\",\"#ffbb78\",\"#ffbb78\",\"#aec7e8\",\"#ffbb78\",\"#ffbb78\",\"#d62728\",\"#2ca02c\",\"#aec7e8\",\"#2ca02c\",\"#98df8a\",\"#1f77b4\",\"#1f77b4\",\"#ffbb78\",\"#98df8a\",\"#2ca02c\",\"#d62728\",\"#d62728\",\"#ff7f0e\",\"#98df8a\",\"#98df8a\",\"#ffbb78\",\"#2ca02c\",\"#aec7e8\",\"#2ca02c\",\"#1f77b4\",\"#d62728\",\"#d62728\",\"#2ca02c\",\"#1f77b4\",\"#d62728\",\"#d62728\",\"#aec7e8\",\"#d62728\",\"#d62728\",\"#d62728\",\"#d62728\",\"#d62728\",\"#d62728\",\"#d62728\",\"#d62728\",\"#d62728\",\"#d62728\",\"#d62728\",\"#d62728\",\"#d62728\",\"#2ca02c\",\"#1f77b4\",\"#d62728\",\"#d62728\",\"#d62728\",\"#d62728\",\"#d62728\",\"#d62728\",\"#d62728\",\"#aec7e8\",\"#1f77b4\",\"#1f77b4\",\"#1f77b4\",\"#ffbb78\",\"#1f77b4\",\"#aec7e8\",\"#ffbb78\",\"#1f77b4\",\"#1f77b4\",\"#1f77b4\"],\"x\":{\"__ndarray__\":\"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\",\"dtype\":\"float32\",\"order\":\"little\",\"shape\":[1050]},\"y\":{\"__ndarray__\":\"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\",\"dtype\":\"float32\",\"order\":\"little\",\"shape\":[1050]}},\"selected\":{\"id\":\"1052\"},\"selection_policy\":{\"id\":\"1053\"}},\"id\":\"1035\",\"type\":\"ColumnDataSource\"},{\"attributes\":{\"axis\":{\"id\":\"1013\"},\"ticker\":null},\"id\":\"1016\",\"type\":\"Grid\"},{\"attributes\":{\"text\":\"t-SNE Clustering avec 7 LDA Topics\"},\"id\":\"1003\",\"type\":\"Title\"},{\"attributes\":{},\"id\":\"1052\",\"type\":\"Selection\"},{\"attributes\":{\"text\":\"showpiece best price\",\"text_color\":\"#ffbb78\",\"x\":-11.576129913330078,\"y\":-6.834338665008545},\"id\":\"1043\",\"type\":\"Label\"},{\"attributes\":{},\"id\":\"1009\",\"type\":\"LinearScale\"},{\"attributes\":{\"axis\":{\"id\":\"1017\"},\"dimension\":1,\"ticker\":null},\"id\":\"1020\",\"type\":\"Grid\"},{\"attributes\":{\"overlay\":{\"id\":\"1027\"}},\"id\":\"1023\",\"type\":\"BoxZoomTool\"},{\"attributes\":{},\"id\":\"1018\",\"type\":\"BasicTicker\"},{\"attributes\":{\"fill_color\":{\"field\":\"fill_color\"},\"line_color\":{\"field\":\"line_color\"},\"x\":{\"field\":\"x\"},\"y\":{\"field\":\"y\"}},\"id\":\"1036\",\"type\":\"Scatter\"},{\"attributes\":{},\"id\":\"1051\",\"type\":\"BasicTickFormatter\"},{\"attributes\":{},\"id\":\"1025\",\"type\":\"ResetTool\"},{\"attributes\":{\"data_source\":{\"id\":\"1035\"},\"glyph\":{\"id\":\"1036\"},\"hover_glyph\":null,\"muted_glyph\":null,\"nonselection_glyph\":{\"id\":\"1037\"},\"selection_glyph\":null,\"view\":{\"id\":\"1039\"}},\"id\":\"1038\",\"type\":\"GlyphRenderer\"},{\"attributes\":{\"active_drag\":\"auto\",\"active_inspect\":\"auto\",\"active_multi\":null,\"active_scroll\":\"auto\",\"active_tap\":\"auto\",\"tools\":[{\"id\":\"1021\"},{\"id\":\"1022\"},{\"id\":\"1023\"},{\"id\":\"1024\"},{\"id\":\"1025\"},{\"id\":\"1026\"}]},\"id\":\"1028\",\"type\":\"Toolbar\"},{\"attributes\":{},\"id\":\"1026\",\"type\":\"HelpTool\"},{\"attributes\":{\"formatter\":{\"id\":\"1051\"},\"ticker\":{\"id\":\"1018\"}},\"id\":\"1017\",\"type\":\"LinearAxis\"},{\"attributes\":{\"text\":\"baby girl cotton\",\"text_color\":\"#d62728\",\"x\":-6.523553848266602,\"y\":6.659392356872559},\"id\":\"1046\",\"type\":\"Label\"},{\"attributes\":{},\"id\":\"1053\",\"type\":\"UnionRenderers\"},{\"attributes\":{\"text\":\"cotton cover towel\",\"text_color\":\"#2ca02c\",\"x\":-0.18325378000736237,\"y\":-30.113183975219727},\"id\":\"1044\",\"type\":\"Label\"},{\"attributes\":{},\"id\":\"1022\",\"type\":\"WheelZoomTool\"},{\"attributes\":{\"fill_alpha\":{\"value\":0.1},\"fill_color\":{\"field\":\"fill_color\"},\"line_alpha\":{\"value\":0.1},\"line_color\":{\"field\":\"line_color\"},\"x\":{\"field\":\"x\"},\"y\":{\"field\":\"y\"}},\"id\":\"1037\",\"type\":\"Scatter\"},{\"attributes\":{\"text\":\"skin oil bowl\",\"text_color\":\"#aec7e8\",\"x\":7.502810001373291,\"y\":-12.090999603271484},\"id\":\"1041\",\"type\":\"Label\"},{\"attributes\":{\"bottom_units\":\"screen\",\"fill_alpha\":0.5,\"fill_color\":\"lightgrey\",\"left_units\":\"screen\",\"level\":\"overlay\",\"line_alpha\":1.0,\"line_color\":\"black\",\"line_dash\":[4,4],\"line_width\":2,\"right_units\":\"screen\",\"top_units\":\"screen\"},\"id\":\"1027\",\"type\":\"BoxAnnotation\"},{\"attributes\":{},\"id\":\"1024\",\"type\":\"SaveTool\"},{\"attributes\":{\"text\":\"mug ceramic coffee\",\"text_color\":\"#98df8a\",\"x\":-38.423770904541016,\"y\":2.1397275924682617},\"id\":\"1045\",\"type\":\"Label\"},{\"attributes\":{},\"id\":\"1007\",\"type\":\"DataRange1d\"},{\"attributes\":{},\"id\":\"1005\",\"type\":\"DataRange1d\"},{\"attributes\":{},\"id\":\"1011\",\"type\":\"LinearScale\"},{\"attributes\":{\"text\":\"watch analog set\",\"text_color\":\"#1f77b4\",\"x\":16.178997039794922,\"y\":2.0731000900268555},\"id\":\"1040\",\"type\":\"Label\"}],\"root_ids\":[\"1002\"]},\"title\":\"Bokeh Application\",\"version\":\"2.1.1\"}};\n",
       "  var render_items = [{\"docid\":\"14a95470-d03b-436c-a966-9d66cebd6363\",\"root_ids\":[\"1002\"],\"roots\":{\"1002\":\"aa1f2888-acbf-495b-944b-f44820451828\"}}];\n",
       "  root.Bokeh.embed.embed_items_notebook(docs_json, render_items);\n",
       "\n",
       "  }\n",
       "  if (root.Bokeh !== undefined) {\n",
       "    embed_document(root);\n",
       "  } else {\n",
       "    var attempts = 0;\n",
       "    var timer = setInterval(function(root) {\n",
       "      if (root.Bokeh !== undefined) {\n",
       "        clearInterval(timer);\n",
       "        embed_document(root);\n",
       "      } else {\n",
       "        attempts++;\n",
       "        if (attempts > 100) {\n",
       "          clearInterval(timer);\n",
       "          console.log(\"Bokeh: ERROR: Unable to run BokehJS code because BokehJS library is missing\");\n",
       "        }\n",
       "      }\n",
       "    }, 10, root)\n",
       "  }\n",
       "})(window);"
      ],
      "application/vnd.bokehjs_exec.v0+json": ""
     },
     "metadata": {
      "application/vnd.bokehjs_exec.v0+json": {
       "id": "1002"
      }
     },
     "output_type": "display_data"
    }
   ],
   "source": [
    "top_3_words_lda = get_top_n_words(3, lda_keys, small_document_term_matrix, small_count_vectorizer)\n",
    "lda_mean_topic_vectors = get_mean_topic_vectors(lda_keys, tsne_lda_vectors)\n",
    "\n",
    "plot = figure(title=\"t-SNE Clustering avec {} LDA Topics\".format(n_topics), plot_width=700, plot_height=700)\n",
    "plot.scatter(x=tsne_lda_vectors[:,0], y=tsne_lda_vectors[:,1], color=colormap[lda_keys])\n",
    "\n",
    "for i in range(n_topics):\n",
    "    label = Label(x=lda_mean_topic_vectors[i][0], y=lda_mean_topic_vectors[i][1], \n",
    "                  text=top_3_words_lda[i], text_color=colormap[i])\n",
    "    plot.add_layout(label)\n",
    "\n",
    "show(plot)"
   ]
  },
  {
   "cell_type": "markdown",
   "metadata": {},
   "source": [
    "### Evaluation des résultats"
   ]
  },
  {
   "cell_type": "code",
   "execution_count": 47,
   "metadata": {},
   "outputs": [
    {
     "name": "stdout",
     "output_type": "stream",
     "text": [
      "Accuracy:  0.17333333333333334\n"
     ]
    }
   ],
   "source": [
    "original_labels = []\n",
    "\n",
    "for i in range(len(Y.label.values)):\n",
    "    original_labels.append(Y.label.values[i])\n",
    "\n",
    "print(\"Accuracy: \", accuracy_score(original_labels, lda_keys))"
   ]
  },
  {
   "cell_type": "code",
   "execution_count": 48,
   "metadata": {},
   "outputs": [],
   "source": [
    "class_names = ['Home furnishing','Beauty and Personal Care','Kichen and Dining','Home Decoration','Baby Care',\n",
    "               'Watches','Computers']"
   ]
  },
  {
   "cell_type": "markdown",
   "metadata": {},
   "source": [
    "Cette LDA nous a permis de regrouper par descriptions similaires nos produits.\n",
    "Cette méthode reste néanmoins peu précise, c'est pour cela que nous allons réaliser une classification en prenant comme cible la catégorie de chaque produit. \n",
    "## Classification de texte\n",
    "\n",
    "Une autre option est d'utiliser un **modèle supervisé** de classification, dans notre étude nous utiliserons **RandomFrorest Classifier de la librairie SKlearn**.\n",
    "Comme nous connaissons déjà les catégories de nos produits, nous allons pouvoir entraîner notre modèle à l'aides de celles-ci."
   ]
  },
  {
   "cell_type": "markdown",
   "metadata": {},
   "source": [
    "### Entraînement du modèle\n",
    "Il est temps maintenant de réaliser notre classification. Nous allons donc vectorialiser nos descriptions, les séparers et Train & Test puis réaliser une Classification RandomForest."
   ]
  },
  {
   "cell_type": "code",
   "execution_count": 49,
   "metadata": {},
   "outputs": [
    {
     "name": "stdout",
     "output_type": "stream",
     "text": [
      "  (0, 128)\t2\n",
      "  (0, 188)\t1\n",
      "  (0, 46)\t1\n",
      "  (0, 460)\t1\n",
      "  (0, 294)\t2\n",
      "  (0, 226)\t1\n",
      "  (0, 86)\t1\n",
      "  (0, 138)\t1\n",
      "  (0, 259)\t1\n",
      "  (0, 44)\t1\n",
      "  (0, 312)\t1\n",
      "  (0, 98)\t1\n",
      "  (0, 392)\t2\n",
      "  (0, 326)\t2\n",
      "  (0, 281)\t1\n",
      "  (0, 102)\t3\n",
      "  (0, 28)\t6\n",
      "  (0, 456)\t6\n",
      "  (0, 377)\t2\n",
      "  (0, 497)\t2\n",
      "  (0, 40)\t2\n",
      "  (0, 275)\t1\n",
      "  (0, 479)\t1\n",
      "  (0, 498)\t1\n",
      "  (0, 396)\t1\n",
      "  (0, 203)\t1\n",
      "  (0, 227)\t1\n",
      "  (0, 286)\t1\n",
      "  (0, 490)\t1\n",
      "  (0, 45)\t1\n",
      "  (0, 192)\t1\n",
      "  (0, 415)\t1\n",
      "  (0, 230)\t2\n",
      "  (0, 489)\t1\n"
     ]
    }
   ],
   "source": [
    "count_vectorizer=CountVectorizer(stop_words='english',max_features=500)\n",
    "vectorized_description = count_vectorizer.fit_transform(lemmed_tokenized_data.values)\n",
    "\n",
    "print(vectorized_description[1])"
   ]
  },
  {
   "cell_type": "code",
   "execution_count": 50,
   "metadata": {},
   "outputs": [],
   "source": [
    "X, y = vectorized_description, Y.label.values\n",
    "y=y.astype(int)\n",
    "X_train, X_test, y_train, y_test = train_test_split(X, y, test_size=0.3)"
   ]
  },
  {
   "cell_type": "code",
   "execution_count": 51,
   "metadata": {},
   "outputs": [],
   "source": [
    "X_train_array = X_train.toarray()"
   ]
  },
  {
   "cell_type": "code",
   "execution_count": 57,
   "metadata": {},
   "outputs": [
    {
     "data": {
      "text/plain": [
       "RandomForestClassifier(max_depth=2, random_state=0)"
      ]
     },
     "execution_count": 57,
     "metadata": {},
     "output_type": "execute_result"
    }
   ],
   "source": [
    "from sklearn.ensemble import RandomForestClassifier\n",
    "\n",
    "model = RandomForestClassifier(max_depth=2, random_state=0)\n",
    "model.fit(X_train_array, y_train)"
   ]
  },
  {
   "cell_type": "markdown",
   "metadata": {},
   "source": [
    "### Analyse des performances"
   ]
  },
  {
   "cell_type": "code",
   "execution_count": 58,
   "metadata": {},
   "outputs": [
    {
     "name": "stdout",
     "output_type": "stream",
     "text": [
      "Accuracy Test:  0.7904761904761904\n",
      "Accuracy Train:  0.7877551020408163\n"
     ]
    }
   ],
   "source": [
    "y_pred = model.predict(X_test)\n",
    "y_pred2 =model.predict(X_train)\n",
    "print(\"Accuracy Test: \", accuracy_score(y_test, y_pred))\n",
    "print(\"Accuracy Train: \", accuracy_score(y_train, y_pred2))"
   ]
  },
  {
   "cell_type": "code",
   "execution_count": 54,
   "metadata": {
    "scrolled": true
   },
   "outputs": [
    {
     "data": {
      "text/plain": [
       "Text(0.5, 1.0, 'Matrice de confusion RFClassifier')"
      ]
     },
     "execution_count": 54,
     "metadata": {},
     "output_type": "execute_result"
    },
    {
     "data": {
      "image/png": "[encoded data removed]",
      "text/plain": [
       "<Figure size 432x288 with 2 Axes>"
      ]
     },
     "metadata": {
      "needs_background": "light"
     },
     "output_type": "display_data"
    }
   ],
   "source": [
    "conf_mat_RFC = confusion_matrix(y_test, y_pred)\n",
    "\n",
    "df_cm2 = pd.DataFrame(conf_mat_RFC, index = [label for label in class_names],\n",
    "                  columns = [i for i in \"0123456\"])\n",
    "plt.figure(figsize = (6,4))\n",
    "sb.heatmap(df_cm2, annot=True, cmap=\"Blues\")\n",
    "plt.title(\"Matrice de confusion RFClassifier\")"
   ]
  },
  {
   "cell_type": "markdown",
   "metadata": {},
   "source": [
    "Sans même optimisations du modèle, nous obtenons une Accuracy de plus de 76%. Nous observons donc que la classification du texte des descriptions d'image est faisable et que nous avons tous les élément nécessaires à disposition. \n",
    "\n",
    "Nous allons passer désormais au traitement des images afin de voir s'il est possible d'en faire de même."
   ]
  },
  {
   "cell_type": "code",
   "execution_count": null,
   "metadata": {},
   "outputs": [],
   "source": []
  }
 ],
 "metadata": {
  "kernelspec": {
   "display_name": "Python 3",
   "language": "python",
   "name": "python3"
  },
  "language_info": {
   "codemirror_mode": {
    "name": "ipython",
    "version": 3
   },
   "file_extension": ".py",
   "mimetype": "text/x-python",
   "name": "python",
   "nbconvert_exporter": "python",
   "pygments_lexer": "ipython3",
   "version": "3.8.3"
  },
  "toc": {
   "base_numbering": 1,
   "nav_menu": {},
   "number_sections": true,
   "sideBar": true,
   "skip_h1_title": true,
   "title_cell": "Table of Contents",
   "title_sidebar": "Contents",
   "toc_cell": false,
   "toc_position": {},
   "toc_section_display": true,
   "toc_window_display": true
  }
 },
 "nbformat": 4,
 "nbformat_minor": 4
}
