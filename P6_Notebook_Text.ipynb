{
 "cells": [
  {
   "cell_type": "markdown",
   "metadata": {},
   "source": [
    "# P6 Classifiez automatiquement des biens de consommation : Traitement de texte\n",
    "## Importation des librairies et des données"
   ]
  },
  {
   "cell_type": "code",
   "execution_count": 1,
   "metadata": {},
   "outputs": [
    {
     "data": {
      "text/html": [
       "\n",
       "    <div class=\"bk-root\">\n",
       "        <a href=\"https://bokeh.org\" target=\"_blank\" class=\"bk-logo bk-logo-small bk-logo-notebook\"></a>\n",
       "        <span id=\"1001\">Loading BokehJS ...</span>\n",
       "    </div>"
      ]
     },
     "metadata": {},
     "output_type": "display_data"
    },
    {
     "data": {
      "application/javascript": [
       "\n",
       "(function(root) {\n",
       "  function now() {\n",
       "    return new Date();\n",
       "  }\n",
       "\n",
       "  var force = true;\n",
       "\n",
       "  if (typeof root._bokeh_onload_callbacks === \"undefined\" || force === true) {\n",
       "    root._bokeh_onload_callbacks = [];\n",
       "    root._bokeh_is_loading = undefined;\n",
       "  }\n",
       "\n",
       "  var JS_MIME_TYPE = 'application/javascript';\n",
       "  var HTML_MIME_TYPE = 'text/html';\n",
       "  var EXEC_MIME_TYPE = 'application/vnd.bokehjs_exec.v0+json';\n",
       "  var CLASS_NAME = 'output_bokeh rendered_html';\n",
       "\n",
       "  /**\n",
       "   * Render data to the DOM node\n",
       "   */\n",
       "  function render(props, node) {\n",
       "    var script = document.createElement(\"script\");\n",
       "    node.appendChild(script);\n",
       "  }\n",
       "\n",
       "  /**\n",
       "   * Handle when an output is cleared or removed\n",
       "   */\n",
       "  function handleClearOutput(event, handle) {\n",
       "    var cell = handle.cell;\n",
       "\n",
       "    var id = cell.output_area._bokeh_element_id;\n",
       "    var server_id = cell.output_area._bokeh_server_id;\n",
       "    // Clean up Bokeh references\n",
       "    if (id != null && id in Bokeh.index) {\n",
       "      Bokeh.index[id].model.document.clear();\n",
       "      delete Bokeh.index[id];\n",
       "    }\n",
       "\n",
       "    if (server_id !== undefined) {\n",
       "      // Clean up Bokeh references\n",
       "      var cmd = \"from bokeh.io.state import curstate; print(curstate().uuid_to_server['\" + server_id + \"'].get_sessions()[0].document.roots[0]._id)\";\n",
       "      cell.notebook.kernel.execute(cmd, {\n",
       "        iopub: {\n",
       "          output: function(msg) {\n",
       "            var id = msg.content.text.trim();\n",
       "            if (id in Bokeh.index) {\n",
       "              Bokeh.index[id].model.document.clear();\n",
       "              delete Bokeh.index[id];\n",
       "            }\n",
       "          }\n",
       "        }\n",
       "      });\n",
       "      // Destroy server and session\n",
       "      var cmd = \"import bokeh.io.notebook as ion; ion.destroy_server('\" + server_id + \"')\";\n",
       "      cell.notebook.kernel.execute(cmd);\n",
       "    }\n",
       "  }\n",
       "\n",
       "  /**\n",
       "   * Handle when a new output is added\n",
       "   */\n",
       "  function handleAddOutput(event, handle) {\n",
       "    var output_area = handle.output_area;\n",
       "    var output = handle.output;\n",
       "\n",
       "    // limit handleAddOutput to display_data with EXEC_MIME_TYPE content only\n",
       "    if ((output.output_type != \"display_data\") || (!output.data.hasOwnProperty(EXEC_MIME_TYPE))) {\n",
       "      return\n",
       "    }\n",
       "\n",
       "    var toinsert = output_area.element.find(\".\" + CLASS_NAME.split(' ')[0]);\n",
       "\n",
       "    if (output.metadata[EXEC_MIME_TYPE][\"id\"] !== undefined) {\n",
       "      toinsert[toinsert.length - 1].firstChild.textContent = output.data[JS_MIME_TYPE];\n",
       "      // store reference to embed id on output_area\n",
       "      output_area._bokeh_element_id = output.metadata[EXEC_MIME_TYPE][\"id\"];\n",
       "    }\n",
       "    if (output.metadata[EXEC_MIME_TYPE][\"server_id\"] !== undefined) {\n",
       "      var bk_div = document.createElement(\"div\");\n",
       "      bk_div.innerHTML = output.data[HTML_MIME_TYPE];\n",
       "      var script_attrs = bk_div.children[0].attributes;\n",
       "      for (var i = 0; i < script_attrs.length; i++) {\n",
       "        toinsert[toinsert.length - 1].firstChild.setAttribute(script_attrs[i].name, script_attrs[i].value);\n",
       "        toinsert[toinsert.length - 1].firstChild.textContent = bk_div.children[0].textContent\n",
       "      }\n",
       "      // store reference to server id on output_area\n",
       "      output_area._bokeh_server_id = output.metadata[EXEC_MIME_TYPE][\"server_id\"];\n",
       "    }\n",
       "  }\n",
       "\n",
       "  function register_renderer(events, OutputArea) {\n",
       "\n",
       "    function append_mime(data, metadata, element) {\n",
       "      // create a DOM node to render to\n",
       "      var toinsert = this.create_output_subarea(\n",
       "        metadata,\n",
       "        CLASS_NAME,\n",
       "        EXEC_MIME_TYPE\n",
       "      );\n",
       "      this.keyboard_manager.register_events(toinsert);\n",
       "      // Render to node\n",
       "      var props = {data: data, metadata: metadata[EXEC_MIME_TYPE]};\n",
       "      render(props, toinsert[toinsert.length - 1]);\n",
       "      element.append(toinsert);\n",
       "      return toinsert\n",
       "    }\n",
       "\n",
       "    /* Handle when an output is cleared or removed */\n",
       "    events.on('clear_output.CodeCell', handleClearOutput);\n",
       "    events.on('delete.Cell', handleClearOutput);\n",
       "\n",
       "    /* Handle when a new output is added */\n",
       "    events.on('output_added.OutputArea', handleAddOutput);\n",
       "\n",
       "    /**\n",
       "     * Register the mime type and append_mime function with output_area\n",
       "     */\n",
       "    OutputArea.prototype.register_mime_type(EXEC_MIME_TYPE, append_mime, {\n",
       "      /* Is output safe? */\n",
       "      safe: true,\n",
       "      /* Index of renderer in `output_area.display_order` */\n",
       "      index: 0\n",
       "    });\n",
       "  }\n",
       "\n",
       "  // register the mime type if in Jupyter Notebook environment and previously unregistered\n",
       "  if (root.Jupyter !== undefined) {\n",
       "    var events = require('base/js/events');\n",
       "    var OutputArea = require('notebook/js/outputarea').OutputArea;\n",
       "\n",
       "    if (OutputArea.prototype.mime_types().indexOf(EXEC_MIME_TYPE) == -1) {\n",
       "      register_renderer(events, OutputArea);\n",
       "    }\n",
       "  }\n",
       "\n",
       "  \n",
       "  if (typeof (root._bokeh_timeout) === \"undefined\" || force === true) {\n",
       "    root._bokeh_timeout = Date.now() + 5000;\n",
       "    root._bokeh_failed_load = false;\n",
       "  }\n",
       "\n",
       "  var NB_LOAD_WARNING = {'data': {'text/html':\n",
       "     \"<div style='background-color: #fdd'>\\n\"+\n",
       "     \"<p>\\n\"+\n",
       "     \"BokehJS does not appear to have successfully loaded. If loading BokehJS from CDN, this \\n\"+\n",
       "     \"may be due to a slow or bad network connection. Possible fixes:\\n\"+\n",
       "     \"</p>\\n\"+\n",
       "     \"<ul>\\n\"+\n",
       "     \"<li>re-rerun `output_notebook()` to attempt to load from CDN again, or</li>\\n\"+\n",
       "     \"<li>use INLINE resources instead, as so:</li>\\n\"+\n",
       "     \"</ul>\\n\"+\n",
       "     \"<code>\\n\"+\n",
       "     \"from bokeh.resources import INLINE\\n\"+\n",
       "     \"output_notebook(resources=INLINE)\\n\"+\n",
       "     \"</code>\\n\"+\n",
       "     \"</div>\"}};\n",
       "\n",
       "  function display_loaded() {\n",
       "    var el = document.getElementById(\"1001\");\n",
       "    if (el != null) {\n",
       "      el.textContent = \"BokehJS is loading...\";\n",
       "    }\n",
       "    if (root.Bokeh !== undefined) {\n",
       "      if (el != null) {\n",
       "        el.textContent = \"BokehJS \" + root.Bokeh.version + \" successfully loaded.\";\n",
       "      }\n",
       "    } else if (Date.now() < root._bokeh_timeout) {\n",
       "      setTimeout(display_loaded, 100)\n",
       "    }\n",
       "  }\n",
       "\n",
       "\n",
       "  function run_callbacks() {\n",
       "    try {\n",
       "      root._bokeh_onload_callbacks.forEach(function(callback) {\n",
       "        if (callback != null)\n",
       "          callback();\n",
       "      });\n",
       "    } finally {\n",
       "      delete root._bokeh_onload_callbacks\n",
       "    }\n",
       "    console.debug(\"Bokeh: all callbacks have finished\");\n",
       "  }\n",
       "\n",
       "  function load_libs(css_urls, js_urls, callback) {\n",
       "    if (css_urls == null) css_urls = [];\n",
       "    if (js_urls == null) js_urls = [];\n",
       "\n",
       "    root._bokeh_onload_callbacks.push(callback);\n",
       "    if (root._bokeh_is_loading > 0) {\n",
       "      console.debug(\"Bokeh: BokehJS is being loaded, scheduling callback at\", now());\n",
       "      return null;\n",
       "    }\n",
       "    if (js_urls == null || js_urls.length === 0) {\n",
       "      run_callbacks();\n",
       "      return null;\n",
       "    }\n",
       "    console.debug(\"Bokeh: BokehJS not loaded, scheduling load and callback at\", now());\n",
       "    root._bokeh_is_loading = css_urls.length + js_urls.length;\n",
       "\n",
       "    function on_load() {\n",
       "      root._bokeh_is_loading--;\n",
       "      if (root._bokeh_is_loading === 0) {\n",
       "        console.debug(\"Bokeh: all BokehJS libraries/stylesheets loaded\");\n",
       "        run_callbacks()\n",
       "      }\n",
       "    }\n",
       "\n",
       "    function on_error() {\n",
       "      console.error(\"failed to load \" + url);\n",
       "    }\n",
       "\n",
       "    for (var i = 0; i < css_urls.length; i++) {\n",
       "      var url = css_urls[i];\n",
       "      const element = document.createElement(\"link\");\n",
       "      element.onload = on_load;\n",
       "      element.onerror = on_error;\n",
       "      element.rel = \"stylesheet\";\n",
       "      element.type = \"text/css\";\n",
       "      element.href = url;\n",
       "      console.debug(\"Bokeh: injecting link tag for BokehJS stylesheet: \", url);\n",
       "      document.body.appendChild(element);\n",
       "    }\n",
       "\n",
       "    const hashes = {\"https://cdn.bokeh.org/bokeh/release/bokeh-2.1.1.min.js\": \"kLr4fYcqcSpbuI95brIH3vnnYCquzzSxHPU6XGQCIkQRGJwhg0StNbj1eegrHs12\", \"https://cdn.bokeh.org/bokeh/release/bokeh-widgets-2.1.1.min.js\": \"xIGPmVtaOm+z0BqfSOMn4lOR6ciex448GIKG4eE61LsAvmGj48XcMQZtKcE/UXZe\", \"https://cdn.bokeh.org/bokeh/release/bokeh-tables-2.1.1.min.js\": \"Dc9u1wF/0zApGIWoBbH77iWEHtdmkuYWG839Uzmv8y8yBLXebjO9ZnERsde5Ln/P\", \"https://cdn.bokeh.org/bokeh/release/bokeh-gl-2.1.1.min.js\": \"cT9JaBz7GiRXdENrJLZNSC6eMNF3nh3fa5fTF51Svp+ukxPdwcU5kGXGPBgDCa2j\"};\n",
       "\n",
       "    for (var i = 0; i < js_urls.length; i++) {\n",
       "      var url = js_urls[i];\n",
       "      var element = document.createElement('script');\n",
       "      element.onload = on_load;\n",
       "      element.onerror = on_error;\n",
       "      element.async = false;\n",
       "      element.src = url;\n",
       "      if (url in hashes) {\n",
       "        element.crossOrigin = \"anonymous\";\n",
       "        element.integrity = \"sha384-\" + hashes[url];\n",
       "      }\n",
       "      console.debug(\"Bokeh: injecting script tag for BokehJS library: \", url);\n",
       "      document.head.appendChild(element);\n",
       "    }\n",
       "  };\n",
       "\n",
       "  function inject_raw_css(css) {\n",
       "    const element = document.createElement(\"style\");\n",
       "    element.appendChild(document.createTextNode(css));\n",
       "    document.body.appendChild(element);\n",
       "  }\n",
       "\n",
       "  \n",
       "  var js_urls = [\"https://cdn.bokeh.org/bokeh/release/bokeh-2.1.1.min.js\", \"https://cdn.bokeh.org/bokeh/release/bokeh-widgets-2.1.1.min.js\", \"https://cdn.bokeh.org/bokeh/release/bokeh-tables-2.1.1.min.js\", \"https://cdn.bokeh.org/bokeh/release/bokeh-gl-2.1.1.min.js\"];\n",
       "  var css_urls = [];\n",
       "  \n",
       "\n",
       "  var inline_js = [\n",
       "    function(Bokeh) {\n",
       "      Bokeh.set_log_level(\"info\");\n",
       "    },\n",
       "    function(Bokeh) {\n",
       "    \n",
       "    \n",
       "    }\n",
       "  ];\n",
       "\n",
       "  function run_inline_js() {\n",
       "    \n",
       "    if (root.Bokeh !== undefined || force === true) {\n",
       "      \n",
       "    for (var i = 0; i < inline_js.length; i++) {\n",
       "      inline_js[i].call(root, root.Bokeh);\n",
       "    }\n",
       "    if (force === true) {\n",
       "        display_loaded();\n",
       "      }} else if (Date.now() < root._bokeh_timeout) {\n",
       "      setTimeout(run_inline_js, 100);\n",
       "    } else if (!root._bokeh_failed_load) {\n",
       "      console.log(\"Bokeh: BokehJS failed to load within specified timeout.\");\n",
       "      root._bokeh_failed_load = true;\n",
       "    } else if (force !== true) {\n",
       "      var cell = $(document.getElementById(\"1001\")).parents('.cell').data().cell;\n",
       "      cell.output_area.append_execute_result(NB_LOAD_WARNING)\n",
       "    }\n",
       "\n",
       "  }\n",
       "\n",
       "  if (root._bokeh_is_loading === 0) {\n",
       "    console.debug(\"Bokeh: BokehJS loaded, going straight to plotting\");\n",
       "    run_inline_js();\n",
       "  } else {\n",
       "    load_libs(css_urls, js_urls, function() {\n",
       "      console.debug(\"Bokeh: BokehJS plotting callback run at\", now());\n",
       "      run_inline_js();\n",
       "    });\n",
       "  }\n",
       "}(window));"
      ],
      "application/vnd.bokehjs_load.v0+json": "\n(function(root) {\n  function now() {\n    return new Date();\n  }\n\n  var force = true;\n\n  if (typeof root._bokeh_onload_callbacks === \"undefined\" || force === true) {\n    root._bokeh_onload_callbacks = [];\n    root._bokeh_is_loading = undefined;\n  }\n\n  \n\n  \n  if (typeof (root._bokeh_timeout) === \"undefined\" || force === true) {\n    root._bokeh_timeout = Date.now() + 5000;\n    root._bokeh_failed_load = false;\n  }\n\n  var NB_LOAD_WARNING = {'data': {'text/html':\n     \"<div style='background-color: #fdd'>\\n\"+\n     \"<p>\\n\"+\n     \"BokehJS does not appear to have successfully loaded. If loading BokehJS from CDN, this \\n\"+\n     \"may be due to a slow or bad network connection. Possible fixes:\\n\"+\n     \"</p>\\n\"+\n     \"<ul>\\n\"+\n     \"<li>re-rerun `output_notebook()` to attempt to load from CDN again, or</li>\\n\"+\n     \"<li>use INLINE resources instead, as so:</li>\\n\"+\n     \"</ul>\\n\"+\n     \"<code>\\n\"+\n     \"from bokeh.resources import INLINE\\n\"+\n     \"output_notebook(resources=INLINE)\\n\"+\n     \"</code>\\n\"+\n     \"</div>\"}};\n\n  function display_loaded() {\n    var el = document.getElementById(\"1001\");\n    if (el != null) {\n      el.textContent = \"BokehJS is loading...\";\n    }\n    if (root.Bokeh !== undefined) {\n      if (el != null) {\n        el.textContent = \"BokehJS \" + root.Bokeh.version + \" successfully loaded.\";\n      }\n    } else if (Date.now() < root._bokeh_timeout) {\n      setTimeout(display_loaded, 100)\n    }\n  }\n\n\n  function run_callbacks() {\n    try {\n      root._bokeh_onload_callbacks.forEach(function(callback) {\n        if (callback != null)\n          callback();\n      });\n    } finally {\n      delete root._bokeh_onload_callbacks\n    }\n    console.debug(\"Bokeh: all callbacks have finished\");\n  }\n\n  function load_libs(css_urls, js_urls, callback) {\n    if (css_urls == null) css_urls = [];\n    if (js_urls == null) js_urls = [];\n\n    root._bokeh_onload_callbacks.push(callback);\n    if (root._bokeh_is_loading > 0) {\n      console.debug(\"Bokeh: BokehJS is being loaded, scheduling callback at\", now());\n      return null;\n    }\n    if (js_urls == null || js_urls.length === 0) {\n      run_callbacks();\n      return null;\n    }\n    console.debug(\"Bokeh: BokehJS not loaded, scheduling load and callback at\", now());\n    root._bokeh_is_loading = css_urls.length + js_urls.length;\n\n    function on_load() {\n      root._bokeh_is_loading--;\n      if (root._bokeh_is_loading === 0) {\n        console.debug(\"Bokeh: all BokehJS libraries/stylesheets loaded\");\n        run_callbacks()\n      }\n    }\n\n    function on_error() {\n      console.error(\"failed to load \" + url);\n    }\n\n    for (var i = 0; i < css_urls.length; i++) {\n      var url = css_urls[i];\n      const element = document.createElement(\"link\");\n      element.onload = on_load;\n      element.onerror = on_error;\n      element.rel = \"stylesheet\";\n      element.type = \"text/css\";\n      element.href = url;\n      console.debug(\"Bokeh: injecting link tag for BokehJS stylesheet: \", url);\n      document.body.appendChild(element);\n    }\n\n    const hashes = {\"https://cdn.bokeh.org/bokeh/release/bokeh-2.1.1.min.js\": \"kLr4fYcqcSpbuI95brIH3vnnYCquzzSxHPU6XGQCIkQRGJwhg0StNbj1eegrHs12\", \"https://cdn.bokeh.org/bokeh/release/bokeh-widgets-2.1.1.min.js\": \"xIGPmVtaOm+z0BqfSOMn4lOR6ciex448GIKG4eE61LsAvmGj48XcMQZtKcE/UXZe\", \"https://cdn.bokeh.org/bokeh/release/bokeh-tables-2.1.1.min.js\": \"Dc9u1wF/0zApGIWoBbH77iWEHtdmkuYWG839Uzmv8y8yBLXebjO9ZnERsde5Ln/P\", \"https://cdn.bokeh.org/bokeh/release/bokeh-gl-2.1.1.min.js\": \"cT9JaBz7GiRXdENrJLZNSC6eMNF3nh3fa5fTF51Svp+ukxPdwcU5kGXGPBgDCa2j\"};\n\n    for (var i = 0; i < js_urls.length; i++) {\n      var url = js_urls[i];\n      var element = document.createElement('script');\n      element.onload = on_load;\n      element.onerror = on_error;\n      element.async = false;\n      element.src = url;\n      if (url in hashes) {\n        element.crossOrigin = \"anonymous\";\n        element.integrity = \"sha384-\" + hashes[url];\n      }\n      console.debug(\"Bokeh: injecting script tag for BokehJS library: \", url);\n      document.head.appendChild(element);\n    }\n  };\n\n  function inject_raw_css(css) {\n    const element = document.createElement(\"style\");\n    element.appendChild(document.createTextNode(css));\n    document.body.appendChild(element);\n  }\n\n  \n  var js_urls = [\"https://cdn.bokeh.org/bokeh/release/bokeh-2.1.1.min.js\", \"https://cdn.bokeh.org/bokeh/release/bokeh-widgets-2.1.1.min.js\", \"https://cdn.bokeh.org/bokeh/release/bokeh-tables-2.1.1.min.js\", \"https://cdn.bokeh.org/bokeh/release/bokeh-gl-2.1.1.min.js\"];\n  var css_urls = [];\n  \n\n  var inline_js = [\n    function(Bokeh) {\n      Bokeh.set_log_level(\"info\");\n    },\n    function(Bokeh) {\n    \n    \n    }\n  ];\n\n  function run_inline_js() {\n    \n    if (root.Bokeh !== undefined || force === true) {\n      \n    for (var i = 0; i < inline_js.length; i++) {\n      inline_js[i].call(root, root.Bokeh);\n    }\n    if (force === true) {\n        display_loaded();\n      }} else if (Date.now() < root._bokeh_timeout) {\n      setTimeout(run_inline_js, 100);\n    } else if (!root._bokeh_failed_load) {\n      console.log(\"Bokeh: BokehJS failed to load within specified timeout.\");\n      root._bokeh_failed_load = true;\n    } else if (force !== true) {\n      var cell = $(document.getElementById(\"1001\")).parents('.cell').data().cell;\n      cell.output_area.append_execute_result(NB_LOAD_WARNING)\n    }\n\n  }\n\n  if (root._bokeh_is_loading === 0) {\n    console.debug(\"Bokeh: BokehJS loaded, going straight to plotting\");\n    run_inline_js();\n  } else {\n    load_libs(css_urls, js_urls, function() {\n      console.debug(\"Bokeh: BokehJS plotting callback run at\", now());\n      run_inline_js();\n    });\n  }\n}(window));"
     },
     "metadata": {},
     "output_type": "display_data"
    }
   ],
   "source": [
    "import numpy as np\n",
    "import pandas as pd\n",
    "from IPython.display import display\n",
    "from tqdm import tqdm\n",
    "from collections import Counter\n",
    "import ast\n",
    "\n",
    "import matplotlib.pyplot as plt\n",
    "import matplotlib.mlab as mlab\n",
    "import seaborn as sb\n",
    "\n",
    "from sklearn.feature_extraction.text import CountVectorizer\n",
    "from textblob import TextBlob\n",
    "import scipy.stats as stats\n",
    "\n",
    "from sklearn.decomposition import TruncatedSVD\n",
    "from sklearn.decomposition import LatentDirichletAllocation\n",
    "from sklearn.manifold import TSNE\n",
    "from sklearn.model_selection import train_test_split\n",
    "from sklearn.metrics import accuracy_score\n",
    "from sklearn.metrics import confusion_matrix\n",
    "from sklearn.metrics import plot_confusion_matrix\n",
    "\n",
    "from bokeh.plotting import figure, output_file, show\n",
    "from bokeh.models import Label\n",
    "from bokeh.io import output_notebook\n",
    "output_notebook()\n",
    "\n",
    "%matplotlib inline"
   ]
  },
  {
   "cell_type": "code",
   "execution_count": 2,
   "metadata": {},
   "outputs": [],
   "source": [
    "raw_data = pd.read_csv('text_1050.csv')\n",
    "\n",
    "reindexed_data = raw_data['description']\n",
    "reindexed_data.index = raw_data['image']"
   ]
  },
  {
   "cell_type": "markdown",
   "metadata": {},
   "source": [
    "## Isolation des features importantes et prétraitement du texte"
   ]
  },
  {
   "cell_type": "code",
   "execution_count": 3,
   "metadata": {},
   "outputs": [],
   "source": [
    "def get_top_n_words(n_top_words, count_vectorizer, text_data):\n",
    "    \n",
    "    vectorized_description = count_vectorizer.fit_transform(text_data.values)\n",
    "    vectorized_total = np.sum(vectorized_description, axis=0)\n",
    "    word_indices = np.flip(np.argsort(vectorized_total)[0,:], 1)\n",
    "    word_values = np.flip(np.sort(vectorized_total)[0,:],1)\n",
    "    \n",
    "    word_vectors = np.zeros((n_top_words, vectorized_description.shape[1]))\n",
    "    for i in range(n_top_words):\n",
    "        word_vectors[i,word_indices[0,i]] = 1\n",
    "\n",
    "    most_frequent_words = [word[0].encode('ascii').decode('utf-8') for \n",
    "             word in count_vectorizer.inverse_transform(word_vectors)]\n",
    "\n",
    "    return (most_frequent_words, word_values[0,:n_top_words].tolist()[0])"
   ]
  },
  {
   "cell_type": "code",
   "execution_count": 4,
   "metadata": {
    "scrolled": false
   },
   "outputs": [
    {
     "data": {
      "image/png": "[encoded data removed]",
      "text/plain": [
       "<Figure size 1152x576 with 1 Axes>"
      ]
     },
     "metadata": {
      "needs_background": "light"
     },
     "output_type": "display_data"
    }
   ],
   "source": [
    "count_vectorizer = CountVectorizer(stop_words='english')\n",
    "most_frequent_words, word_values = get_top_n_words(n_top_words=19,\n",
    "                                     count_vectorizer=count_vectorizer, \n",
    "                                     text_data=reindexed_data)\n",
    "\n",
    "fig, ax = plt.subplots(figsize=(16,8))\n",
    "ax.bar(range(len(most_frequent_words)), word_values);\n",
    "ax.set_xticks(range(len(most_frequent_words)));\n",
    "ax.set_xticklabels(most_frequent_words, rotation='vertical');\n",
    "ax.set_title('Top words in headlines dataset (excluding stop words)');\n",
    "ax.set_xlabel('Word');\n",
    "ax.set_ylabel('Number of occurences');\n",
    "plt.show()"
   ]
  },
  {
   "cell_type": "markdown",
   "metadata": {},
   "source": [
    "### Suppression des mots les plus fréquents, stopwords & punctuation"
   ]
  },
  {
   "cell_type": "code",
   "execution_count": 5,
   "metadata": {
    "scrolled": false
   },
   "outputs": [
    {
     "data": {
      "text/plain": [
       "['rs',\n",
       " 'products',\n",
       " 'free',\n",
       " 'buy',\n",
       " 'delivery',\n",
       " 'genuine',\n",
       " 'shipping',\n",
       " 'cash',\n",
       " 'replacement',\n",
       " 'cm',\n",
       " 'day',\n",
       " '30',\n",
       " 'flipkart',\n",
       " 'com',\n",
       " 'guarantee',\n",
       " 'online',\n",
       " 'features',\n",
       " 'specifications',\n",
       " 'price']"
      ]
     },
     "execution_count": 5,
     "metadata": {},
     "output_type": "execute_result"
    }
   ],
   "source": [
    "most_frequent_words"
   ]
  },
  {
   "cell_type": "code",
   "execution_count": 6,
   "metadata": {},
   "outputs": [
    {
     "name": "stdout",
     "output_type": "stream",
     "text": [
      "<class 'set'>\n",
      "<class 'set'>\n"
     ]
    }
   ],
   "source": [
    "from nltk.tokenize import word_tokenize\n",
    "from nltk.corpus import stopwords \n",
    "import nltk\n",
    "from string import punctuation\n",
    "\n",
    "stop_words = set(stopwords.words('english'))\n",
    "print(type(stop_words))\n",
    "\n",
    "mots_a_supprimer = set.union(set(most_frequent_words),stop_words,punctuation)\n",
    "print(type(mots_a_supprimer))"
   ]
  },
  {
   "cell_type": "code",
   "execution_count": 7,
   "metadata": {},
   "outputs": [
    {
     "name": "stdout",
     "output_type": "stream",
     "text": [
      "{'am', 'how', 'through', 'price', 'i', \"mightn't\", '?', 'nor', '=', '(', 'did', 'there', '@', 'them', 'ain', '}', 'when', 'each', 'an', 'over', \"shan't\", 'up', 'they', '/', 'just', 'on', 'has', \"haven't\", 'own', \"needn't\", 'whom', 'needn', 'be', '~', 'against', ',', 'here', \"aren't\", \"didn't\", 'y', 'replacement', \"weren't\", 'will', 'is', 'from', 'and', 'ours', '#', 'products', 'while', 'he', \"wasn't\", \"mustn't\", \"that'll\", 'shan', '*', ']', 'but', 'in', 'him', 'into', '_', 'themselves', 'few', 'wasn', 'hasn', 'myself', 'until', \"hadn't\", 'can', 'you', 'with', '!', 'had', 'her', 'weren', 'too', 'com', 'shouldn', '`', 'this', \"shouldn't\", \"you'll\", \"you'd\", 'are', 's', 'what', 'online', 'only', 've', '%', '{', 'should', \"won't\", 'not', \"you're\", \"hasn't\", 'was', 'won', 'other', 'haven', '$', 'rs', 'does', 'once', 'hadn', 'above', 'have', 'm', 'doing', 'under', 'ourselves', 'we', 'its', \"you've\", 'at', '-', '|', 'so', 'guarantee', '[', 'most', ';', 'yourselves', '<', 'more', \"she's\", 'features', 'your', 'don', 'further', 'the', 'than', 'aren', 'theirs', 'again', 'me', 'where', \"wouldn't\", 'who', '^', 'specifications', 'genuine', 'to', ':', 'doesn', 'because', 'off', 'his', 'by', 'or', 'being', ')', 'below', 'both', 'very', '+', 'down', 'hers', 'itself', 'd', 'were', 'such', 'now', 'before', 'our', \"doesn't\", 'for', 'between', 'out', 'day', 'shipping', 'those', 'their', 'as', 'during', 'mustn', 'no', 'll', 'cash', 'delivery', 'free', 'having', 'a', 'mightn', 'if', '\"', 're', 'of', \"should've\", 'yours', 'wouldn', 'all', 'been', 'it', 'isn', '&', '30', 'which', 'do', 'ma', 'then', \"couldn't\", 'that', 'flipkart', '.', \"it's\", \"don't\", 'any', '\\\\', 'she', 'herself', 'about', 'why', \"'\", 'buy', 'cm', '>', 'my', 'after', 'couldn', 'o', \"isn't\", 'yourself', 'didn', 't', 'these', 'himself', 'some', 'same'}\n"
     ]
    }
   ],
   "source": [
    "print(mots_a_supprimer)"
   ]
  },
  {
   "cell_type": "code",
   "execution_count": 8,
   "metadata": {
    "scrolled": true
   },
   "outputs": [
    {
     "name": "stderr",
     "output_type": "stream",
     "text": [
      "<ipython-input-8-5aa9548263a7>:3: SettingWithCopyWarning: \n",
      "A value is trying to be set on a copy of a slice from a DataFrame\n",
      "\n",
      "See the caveats in the documentation: https://pandas.pydata.org/pandas-docs/stable/user_guide/indexing.html#returning-a-view-versus-a-copy\n",
      "  reindexed_data[i] = re.sub('[^A-Za-z]', ' ', reindexed_data[i]).lower()\n"
     ]
    }
   ],
   "source": [
    "import re\n",
    "for i in range (reindexed_data.shape[0]) :\n",
    "  reindexed_data[i] = re.sub('[^A-Za-z]', ' ', reindexed_data[i]).lower()"
   ]
  },
  {
   "cell_type": "code",
   "execution_count": 9,
   "metadata": {},
   "outputs": [
    {
     "data": {
      "text/plain": [
       "'key features of elegance polyester multicolor abstract eyelet door curtain floral curtain elegance polyester multicolor abstract eyelet door curtain      cm in height  pack of    price  rs      this curtain enhances the look of the interiors this curtain is made from      high quality polyester fabric it features an eyelet style stitch with metal ring it makes the room environment romantic and loving this curtain is ant  wrinkle and anti shrinkage and have elegant apparance give your home a bright and modernistic appeal with these designs  the surreal attention is sure to steal hearts  these contemporary eyelet and valance curtains slide smoothly so when you draw them apart first thing in the morning to welcome the bright sun rays you want to wish good morning to the whole world and when you draw them close in the evening  you create the most special moments of joyous beauty given by the soothing prints  bring home the elegant curtain that softly filters light in your room so that you get the right amount of sunlight  specifications of elegance polyester multicolor abstract eyelet door curtain      cm in height  pack of    general brand elegance designed for door type eyelet model name abstract polyester door curtain set of   model id duster   color multicolor dimensions length     cm in the box number of contents in sales package pack of   sales package   curtains body   design material polyester'"
      ]
     },
     "execution_count": 9,
     "metadata": {},
     "output_type": "execute_result"
    }
   ],
   "source": [
    "reindexed_data[0]"
   ]
  },
  {
   "cell_type": "code",
   "execution_count": 10,
   "metadata": {},
   "outputs": [],
   "source": [
    "def Tokenizer(str_input):\n",
    "    words = word_tokenize(str_input)\n",
    "    return words"
   ]
  },
  {
   "cell_type": "code",
   "execution_count": 11,
   "metadata": {},
   "outputs": [
    {
     "name": "stdout",
     "output_type": "stream",
     "text": [
      "['key', 'features', 'of', 'elegance', 'polyester', 'multicolor', 'abstract', 'eyelet', 'door', 'curtain', 'floral', 'curtain', 'elegance', 'polyester', 'multicolor', 'abstract', 'eyelet', 'door', 'curtain', 'cm', 'in', 'height', 'pack', 'of', 'price', 'rs', 'this', 'curtain', 'enhances', 'the', 'look', 'of', 'the', 'interiors', 'this', 'curtain', 'is', 'made', 'from', 'high', 'quality', 'polyester', 'fabric', 'it', 'features', 'an', 'eyelet', 'style', 'stitch', 'with', 'metal', 'ring', 'it', 'makes', 'the', 'room', 'environment', 'romantic', 'and', 'loving', 'this', 'curtain', 'is', 'ant', 'wrinkle', 'and', 'anti', 'shrinkage', 'and', 'have', 'elegant', 'apparance', 'give', 'your', 'home', 'a', 'bright', 'and', 'modernistic', 'appeal', 'with', 'these', 'designs', 'the', 'surreal', 'attention', 'is', 'sure', 'to', 'steal', 'hearts', 'these', 'contemporary', 'eyelet', 'and', 'valance', 'curtains', 'slide', 'smoothly', 'so', 'when', 'you', 'draw', 'them', 'apart', 'first', 'thing', 'in', 'the', 'morning', 'to', 'welcome', 'the', 'bright', 'sun', 'rays', 'you', 'want', 'to', 'wish', 'good', 'morning', 'to', 'the', 'whole', 'world', 'and', 'when', 'you', 'draw', 'them', 'close', 'in', 'the', 'evening', 'you', 'create', 'the', 'most', 'special', 'moments', 'of', 'joyous', 'beauty', 'given', 'by', 'the', 'soothing', 'prints', 'bring', 'home', 'the', 'elegant', 'curtain', 'that', 'softly', 'filters', 'light', 'in', 'your', 'room', 'so', 'that', 'you', 'get', 'the', 'right', 'amount', 'of', 'sunlight', 'specifications', 'of', 'elegance', 'polyester', 'multicolor', 'abstract', 'eyelet', 'door', 'curtain', 'cm', 'in', 'height', 'pack', 'of', 'general', 'brand', 'elegance', 'designed', 'for', 'door', 'type', 'eyelet', 'model', 'name', 'abstract', 'polyester', 'door', 'curtain', 'set', 'of', 'model', 'id', 'duster', 'color', 'multicolor', 'dimensions', 'length', 'cm', 'in', 'the', 'box', 'number', 'of', 'contents', 'in', 'sales', 'package', 'pack', 'of', 'sales', 'package', 'curtains', 'body', 'design', 'material', 'polyester']\n"
     ]
    }
   ],
   "source": [
    "tokenized_data = reindexed_data.copy()\n",
    "\n",
    "for i in range(reindexed_data.shape[0]):\n",
    "    tokenized_data[i]=Tokenizer(reindexed_data[i])\n",
    "    \n",
    "print(tokenized_data[0])"
   ]
  },
  {
   "cell_type": "code",
   "execution_count": 12,
   "metadata": {},
   "outputs": [],
   "source": [
    "tokenized_data = tokenized_data.apply(lambda x: ' '.join([word for word in x if word not in (mots_a_supprimer)]))"
   ]
  },
  {
   "cell_type": "code",
   "execution_count": 13,
   "metadata": {
    "scrolled": true
   },
   "outputs": [
    {
     "data": {
      "text/plain": [
       "'key elegance polyester multicolor abstract eyelet door curtain floral curtain elegance polyester multicolor abstract eyelet door curtain height pack curtain enhances look interiors curtain made high quality polyester fabric eyelet style stitch metal ring makes room environment romantic loving curtain ant wrinkle anti shrinkage elegant apparance give home bright modernistic appeal designs surreal attention sure steal hearts contemporary eyelet valance curtains slide smoothly draw apart first thing morning welcome bright sun rays want wish good morning whole world draw close evening create special moments joyous beauty given soothing prints bring home elegant curtain softly filters light room get right amount sunlight elegance polyester multicolor abstract eyelet door curtain height pack general brand elegance designed door type eyelet model name abstract polyester door curtain set model id duster color multicolor dimensions length box number contents sales package pack sales package curtains body design material polyester'"
      ]
     },
     "execution_count": 13,
     "metadata": {},
     "output_type": "execute_result"
    }
   ],
   "source": [
    "tokenized_data[0]"
   ]
  },
  {
   "cell_type": "markdown",
   "metadata": {},
   "source": [
    "### Extraction de la racine"
   ]
  },
  {
   "cell_type": "code",
   "execution_count": 14,
   "metadata": {},
   "outputs": [],
   "source": [
    "def Stemmer(str_input):\n",
    "    str_input = str_input.lower()\n",
    "    words = word_tokenize(str_input)\n",
    "    #remove stopwords\n",
    "    stop_words = set(stopwords.words('english'))\n",
    "    words = [w for w in words if not w in stop_words]\n",
    "    #stem the words\n",
    "    porter_stemmer=nltk.PorterStemmer()\n",
    "    words = [porter_stemmer.stem(word) for word in words]\n",
    "    return words"
   ]
  },
  {
   "cell_type": "code",
   "execution_count": 15,
   "metadata": {
    "scrolled": true
   },
   "outputs": [
    {
     "name": "stdout",
     "output_type": "stream",
     "text": [
      "['key', 'eleg', 'polyest', 'multicolor', 'abstract', 'eyelet', 'door', 'curtain', 'floral', 'curtain', 'eleg', 'polyest', 'multicolor', 'abstract', 'eyelet', 'door', 'curtain', 'height', 'pack', 'curtain', 'enhanc', 'look', 'interior', 'curtain', 'made', 'high', 'qualiti', 'polyest', 'fabric', 'eyelet', 'style', 'stitch', 'metal', 'ring', 'make', 'room', 'environ', 'romant', 'love', 'curtain', 'ant', 'wrinkl', 'anti', 'shrinkag', 'eleg', 'appar', 'give', 'home', 'bright', 'modernist', 'appeal', 'design', 'surreal', 'attent', 'sure', 'steal', 'heart', 'contemporari', 'eyelet', 'valanc', 'curtain', 'slide', 'smoothli', 'draw', 'apart', 'first', 'thing', 'morn', 'welcom', 'bright', 'sun', 'ray', 'want', 'wish', 'good', 'morn', 'whole', 'world', 'draw', 'close', 'even', 'creat', 'special', 'moment', 'joyou', 'beauti', 'given', 'sooth', 'print', 'bring', 'home', 'eleg', 'curtain', 'softli', 'filter', 'light', 'room', 'get', 'right', 'amount', 'sunlight', 'eleg', 'polyest', 'multicolor', 'abstract', 'eyelet', 'door', 'curtain', 'height', 'pack', 'gener', 'brand', 'eleg', 'design', 'door', 'type', 'eyelet', 'model', 'name', 'abstract', 'polyest', 'door', 'curtain', 'set', 'model', 'id', 'duster', 'color', 'multicolor', 'dimens', 'length', 'box', 'number', 'content', 'sale', 'packag', 'pack', 'sale', 'packag', 'curtain', 'bodi', 'design', 'materi', 'polyest']\n"
     ]
    }
   ],
   "source": [
    "stemmed_tokenized_data = tokenized_data.copy()\n",
    "\n",
    "for i in range(tokenized_data.shape[0]):\n",
    "    stemmed_tokenized_data[i]=Stemmer(stemmed_tokenized_data[i])\n",
    "    \n",
    "print(stemmed_tokenized_data[0])"
   ]
  },
  {
   "cell_type": "code",
   "execution_count": 16,
   "metadata": {},
   "outputs": [
    {
     "name": "stdout",
     "output_type": "stream",
     "text": [
      "key eleg polyest multicolor abstract eyelet door curtain floral curtain eleg polyest multicolor abstract eyelet door curtain height pack curtain enhanc look interior curtain made high qualiti polyest fabric eyelet style stitch metal ring make room environ romant love curtain ant wrinkl anti shrinkag eleg appar give home bright modernist appeal design surreal attent sure steal heart contemporari eyelet valanc curtain slide smoothli draw apart first thing morn welcom bright sun ray want wish good morn whole world draw close even creat special moment joyou beauti given sooth print bring home eleg curtain softli filter light room get right amount sunlight eleg polyest multicolor abstract eyelet door curtain height pack gener brand eleg design door type eyelet model name abstract polyest door curtain set model id duster color multicolor dimens length box number content sale packag pack sale packag curtain bodi design materi polyest\n"
     ]
    }
   ],
   "source": [
    "stemmed_tokenized_data = stemmed_tokenized_data.apply(lambda x: ' '.join([word for word in x]))\n",
    "print(stemmed_tokenized_data[0])"
   ]
  },
  {
   "cell_type": "code",
   "execution_count": 17,
   "metadata": {},
   "outputs": [
    {
     "name": "stdout",
     "output_type": "stream",
     "text": [
      "Total number of words:  47331\n",
      "Mean number of words per Description:  45.0\n"
     ]
    }
   ],
   "source": [
    "tagged_headlines = [TextBlob(stemmed_tokenized_data[i]).pos_tags for i in range(stemmed_tokenized_data.shape[0])]\n",
    "tagged_headlines_df = pd.DataFrame({'tags':tagged_headlines})\n",
    "\n",
    "word_counts = [] \n",
    "pos_counts = {}\n",
    "\n",
    "for headline in tagged_headlines_df[u'tags']:\n",
    "    word_counts.append(len(headline))\n",
    "    for tag in headline:\n",
    "        if tag[1] in pos_counts:\n",
    "            pos_counts[tag[1]] += 1\n",
    "        else:\n",
    "            pos_counts[tag[1]] = 1\n",
    "            \n",
    "print('Total number of words: ', np.sum(word_counts))\n",
    "print('Mean number of words per Description: ', np.mean(word_counts).round(0))"
   ]
  },
  {
   "cell_type": "code",
   "execution_count": 18,
   "metadata": {
    "scrolled": false
   },
   "outputs": [
    {
     "data": {
      "image/png": "[encoded data removed]",
      "text/plain": [
       "<Figure size 1296x576 with 1 Axes>"
      ]
     },
     "metadata": {
      "needs_background": "light"
     },
     "output_type": "display_data"
    }
   ],
   "source": [
    "fig, ax = plt.subplots(figsize=(18,8))\n",
    "ax.hist(word_counts, bins=range(1,150), density=True);\n",
    "ax.set_title('Description word lengths');\n",
    "ax.set_xticks(range(0,155,5));\n",
    "ax.set_xlabel('Number of words');\n",
    "plt.show()"
   ]
  },
  {
   "cell_type": "markdown",
   "metadata": {},
   "source": [
    "### Vectorisation des Descriptions"
   ]
  },
  {
   "cell_type": "code",
   "execution_count": 19,
   "metadata": {},
   "outputs": [
    {
     "name": "stdout",
     "output_type": "stream",
     "text": [
      "Description before vectorization: maspar cotton set towel one beach towel red percent cotton soft absorb machin washabl percent cotton soft absorb machin washabl\n",
      "Description after vectorization: \n",
      "  (0, 2131)\t1\n",
      "  (0, 787)\t3\n",
      "  (0, 3122)\t1\n",
      "  (0, 3626)\t2\n",
      "  (0, 297)\t1\n",
      "  (0, 2868)\t1\n",
      "  (0, 2552)\t2\n",
      "  (0, 3268)\t2\n",
      "  (0, 12)\t2\n",
      "  (0, 2080)\t2\n",
      "  (0, 3852)\t2\n"
     ]
    }
   ],
   "source": [
    "small_count_vectorizer = CountVectorizer(stop_words='english', max_features=50000)\n",
    "small_text_sample = stemmed_tokenized_data.sample(n=1050).values\n",
    "\n",
    "print('Description before vectorization: {}'.format(small_text_sample[0]))\n",
    "\n",
    "small_document_term_matrix = small_count_vectorizer.fit_transform(small_text_sample)\n",
    "\n",
    "print('Description after vectorization: \\n{}'.format(small_document_term_matrix[0]))"
   ]
  },
  {
   "cell_type": "markdown",
   "metadata": {},
   "source": [
    "## LDA Topic Modelling"
   ]
  },
  {
   "cell_type": "code",
   "execution_count": 20,
   "metadata": {},
   "outputs": [],
   "source": [
    "n_topics = 7"
   ]
  },
  {
   "cell_type": "code",
   "execution_count": 21,
   "metadata": {},
   "outputs": [],
   "source": [
    "lda_model = LatentDirichletAllocation(n_components=n_topics, learning_method='online', \n",
    "                                          random_state=0, verbose=0)\n",
    "lda_topic_matrix = lda_model.fit_transform(small_document_term_matrix)"
   ]
  },
  {
   "cell_type": "code",
   "execution_count": 22,
   "metadata": {},
   "outputs": [],
   "source": [
    "def get_keys(topic_matrix):\n",
    "\n",
    "    keys = topic_matrix.argmax(axis=1).tolist()\n",
    "    return keys\n",
    "\n",
    "def keys_to_counts(keys):\n",
    "\n",
    "    count_pairs = Counter(keys).items()\n",
    "    categories = [pair[0] for pair in count_pairs]\n",
    "    counts = [pair[1] for pair in count_pairs]\n",
    "    return (categories, counts)"
   ]
  },
  {
   "cell_type": "code",
   "execution_count": 23,
   "metadata": {},
   "outputs": [],
   "source": [
    "lda_keys = get_keys(lda_topic_matrix)\n",
    "lda_categories, lda_counts = keys_to_counts(lda_keys)"
   ]
  },
  {
   "cell_type": "code",
   "execution_count": 24,
   "metadata": {},
   "outputs": [],
   "source": [
    "def get_top_n_words(n, keys, document_term_matrix, count_vectorizer):\n",
    "   \n",
    "    top_word_indices = []\n",
    "    for topic in range(n_topics):\n",
    "        temp_vector_sum = 0\n",
    "        for i in range(len(keys)):\n",
    "            if keys[i] == topic:\n",
    "                temp_vector_sum += document_term_matrix[i]\n",
    "        temp_vector_sum = temp_vector_sum.toarray()\n",
    "        top_n_word_indices = np.flip(np.argsort(temp_vector_sum)[0][-n:],0)\n",
    "        top_word_indices.append(top_n_word_indices)   \n",
    "    top_words = []\n",
    "    for topic in top_word_indices:\n",
    "        topic_words = []\n",
    "        for index in topic:\n",
    "            temp_word_vector = np.zeros((1,document_term_matrix.shape[1]))\n",
    "            temp_word_vector[:,index] = 1\n",
    "            the_word = count_vectorizer.inverse_transform(temp_word_vector)[0][0]\n",
    "            topic_words.append(the_word.encode('ascii').decode('utf-8'))\n",
    "        top_words.append(\" \".join(topic_words))         \n",
    "    return top_words"
   ]
  },
  {
   "cell_type": "code",
   "execution_count": 25,
   "metadata": {},
   "outputs": [
    {
     "name": "stdout",
     "output_type": "stream",
     "text": [
      "Topic 1:  watch analog men inch cover print color great india skin discount warranti women laptop packag\n",
      "Topic 2:  babi girl fabric cotton adapt dress boy gener print ideal sleev type light power warranti\n",
      "Topic 3:  showpiec towel price bath best cotton lowest skin india pack soft soap spf oudh absorb\n",
      "Topic 4:  batteri showpiec pack box usb model wall sticker design color materi number laptop packag type\n",
      "Topic 5:  mug coffe ceram perfect gift design love ml tea pizza qualiti enjoy materi bring prithish\n",
      "Topic 6:  set product design combo beauti ceram gift craft make materi mug rockmantra size perfect come\n",
      "Topic 7:  price best kadhai combo showpiec frame crystal set kit cream photo idli massag energi vitamin\n"
     ]
    }
   ],
   "source": [
    "top_n_words_lda = get_top_n_words(15, lda_keys, small_document_term_matrix, small_count_vectorizer)\n",
    "\n",
    "for i in range(len(top_n_words_lda)):\n",
    "    print(\"Topic {}: \".format(i+1), top_n_words_lda[i])"
   ]
  },
  {
   "cell_type": "code",
   "execution_count": 26,
   "metadata": {},
   "outputs": [
    {
     "data": {
      "image/png": "[encoded data removed]",
      "text/plain": [
       "<Figure size 1152x576 with 1 Axes>"
      ]
     },
     "metadata": {
      "needs_background": "light"
     },
     "output_type": "display_data"
    }
   ],
   "source": [
    "top_3_words = get_top_n_words(3, lda_keys, small_document_term_matrix, small_count_vectorizer)\n",
    "labels = ['Topic {}: \\n'.format(i) + top_3_words[i] for i in lda_categories]\n",
    "\n",
    "fig, ax = plt.subplots(figsize=(16,8))\n",
    "ax.bar(lda_categories, lda_counts);\n",
    "ax.set_xticks(lda_categories);\n",
    "ax.set_xticklabels(labels);\n",
    "ax.set_title('LDA topic counts');\n",
    "ax.set_ylabel('Number of Description');"
   ]
  },
  {
   "cell_type": "code",
   "execution_count": 27,
   "metadata": {
    "scrolled": true
   },
   "outputs": [
    {
     "name": "stdout",
     "output_type": "stream",
     "text": [
      "[t-SNE] Computing 151 nearest neighbors...\n",
      "[t-SNE] Indexed 1050 samples in 0.001s...\n",
      "[t-SNE] Computed neighbors for 1050 samples in 0.039s...\n",
      "[t-SNE] Computed conditional probabilities for sample 1000 / 1050\n",
      "[t-SNE] Computed conditional probabilities for sample 1050 / 1050\n",
      "[t-SNE] Mean sigma: 0.013139\n",
      "[t-SNE] KL divergence after 250 iterations with early exaggeration: 50.004284\n",
      "[t-SNE] KL divergence after 2000 iterations: 0.259505\n"
     ]
    }
   ],
   "source": [
    "tsne_lda_model = TSNE(n_components=2, perplexity=50, learning_rate=100, \n",
    "                        n_iter=2000, verbose=1, random_state=0, angle=0.75)\n",
    "tsne_lda_vectors = tsne_lda_model.fit_transform(lda_topic_matrix)"
   ]
  },
  {
   "cell_type": "code",
   "execution_count": 28,
   "metadata": {},
   "outputs": [],
   "source": [
    "def get_mean_topic_vectors(keys, two_dim_vectors):\n",
    "   \n",
    "    mean_topic_vectors = []\n",
    "    for t in range(n_topics):\n",
    "        articles_in_that_topic = []\n",
    "        for i in range(len(keys)):\n",
    "            if keys[i] == t:\n",
    "                articles_in_that_topic.append(two_dim_vectors[i])    \n",
    "        \n",
    "        articles_in_that_topic = np.vstack(articles_in_that_topic)\n",
    "        mean_article_in_that_topic = np.mean(articles_in_that_topic, axis=0)\n",
    "        mean_topic_vectors.append(mean_article_in_that_topic)\n",
    "    return mean_topic_vectors"
   ]
  },
  {
   "cell_type": "code",
   "execution_count": 29,
   "metadata": {},
   "outputs": [],
   "source": [
    "colormap = np.array([\n",
    "    \"#1f77b4\", \"#aec7e8\", \"#ff7f0e\", \"#ffbb78\", \"#2ca02c\",\n",
    "    \"#98df8a\", \"#d62728\", \"#ff9896\", \"#9467bd\", \"#c5b0d5\",\n",
    "    \"#8c564b\", \"#c49c94\", \"#e377c2\", \"#f7b6d2\", \"#7f7f7f\",\n",
    "    \"#c7c7c7\", \"#bcbd22\", \"#dbdb8d\", \"#17becf\", \"#9edae5\" ])\n",
    "colormap = colormap[:n_topics]"
   ]
  },
  {
   "cell_type": "code",
   "execution_count": 30,
   "metadata": {
    "scrolled": false
   },
   "outputs": [
    {
     "data": {
      "text/html": [
       "\n",
       "\n",
       "\n",
       "\n",
       "\n",
       "\n",
       "  <div class=\"bk-root\" id=\"44a9c649-903c-45a9-99b7-921e0b51d9e5\" data-root-id=\"1002\"></div>\n"
      ]
     },
     "metadata": {},
     "output_type": "display_data"
    },
    {
     "data": {
      "application/javascript": [
       "(function(root) {\n",
       "  function embed_document(root) {\n",
       "    \n",
       "  var docs_json = {\"a66587b2-6446-4ee5-9303-1ab437e2d4d1\":{\"roots\":{\"references\":[{\"attributes\":{\"below\":[{\"id\":\"1013\"}],\"center\":[{\"id\":\"1016\"},{\"id\":\"1020\"},{\"id\":\"1040\"},{\"id\":\"1041\"},{\"id\":\"1042\"},{\"id\":\"1043\"},{\"id\":\"1044\"},{\"id\":\"1045\"},{\"id\":\"1046\"}],\"left\":[{\"id\":\"1017\"}],\"plot_height\":700,\"plot_width\":700,\"renderers\":[{\"id\":\"1038\"}],\"title\":{\"id\":\"1003\"},\"toolbar\":{\"id\":\"1028\"},\"x_range\":{\"id\":\"1005\"},\"x_scale\":{\"id\":\"1009\"},\"y_range\":{\"id\":\"1007\"},\"y_scale\":{\"id\":\"1011\"}},\"id\":\"1002\",\"subtype\":\"Figure\",\"type\":\"Plot\"},{\"attributes\":{\"text\":\"watch analog men\",\"text_color\":\"#1f77b4\",\"x\":13.161624908447266,\"y\":-9.817832946777344},\"id\":\"1040\",\"type\":\"Label\"},{\"attributes\":{},\"id\":\"1022\",\"type\":\"WheelZoomTool\"},{\"attributes\":{},\"id\":\"1024\",\"type\":\"SaveTool\"},{\"attributes\":{\"bottom_units\":\"screen\",\"fill_alpha\":0.5,\"fill_color\":\"lightgrey\",\"left_units\":\"screen\",\"level\":\"overlay\",\"line_alpha\":1.0,\"line_color\":\"black\",\"line_dash\":[4,4],\"line_width\":2,\"right_units\":\"screen\",\"top_units\":\"screen\"},\"id\":\"1027\",\"type\":\"BoxAnnotation\"},{\"attributes\":{\"data_source\":{\"id\":\"1035\"},\"glyph\":{\"id\":\"1036\"},\"hover_glyph\":null,\"muted_glyph\":null,\"nonselection_glyph\":{\"id\":\"1037\"},\"selection_glyph\":null,\"view\":{\"id\":\"1039\"}},\"id\":\"1038\",\"type\":\"GlyphRenderer\"},{\"attributes\":{},\"id\":\"1021\",\"type\":\"PanTool\"},{\"attributes\":{\"text\":\"batteri showpiec pack\",\"text_color\":\"#ffbb78\",\"x\":-23.28447723388672,\"y\":-7.199929237365723},\"id\":\"1043\",\"type\":\"Label\"},{\"attributes\":{\"text\":\"showpiec towel price\",\"text_color\":\"#ff7f0e\",\"x\":-8.161683082580566,\"y\":-12.95809555053711},\"id\":\"1042\",\"type\":\"Label\"},{\"attributes\":{\"fill_alpha\":{\"value\":0.1},\"fill_color\":{\"field\":\"fill_color\"},\"line_alpha\":{\"value\":0.1},\"line_color\":{\"field\":\"line_color\"},\"x\":{\"field\":\"x\"},\"y\":{\"field\":\"y\"}},\"id\":\"1037\",\"type\":\"Scatter\"},{\"attributes\":{},\"id\":\"1050\",\"type\":\"BasicTickFormatter\"},{\"attributes\":{},\"id\":\"1011\",\"type\":\"LinearScale\"},{\"attributes\":{},\"id\":\"1018\",\"type\":\"BasicTicker\"},{\"attributes\":{},\"id\":\"1053\",\"type\":\"UnionRenderers\"},{\"attributes\":{\"axis\":{\"id\":\"1013\"},\"ticker\":null},\"id\":\"1016\",\"type\":\"Grid\"},{\"attributes\":{\"formatter\":{\"id\":\"1048\"},\"ticker\":{\"id\":\"1018\"}},\"id\":\"1017\",\"type\":\"LinearAxis\"},{\"attributes\":{\"text\":\"babi girl fabric\",\"text_color\":\"#aec7e8\",\"x\":-15.453782081604004,\"y\":10.238373756408691},\"id\":\"1041\",\"type\":\"Label\"},{\"attributes\":{},\"id\":\"1007\",\"type\":\"DataRange1d\"},{\"attributes\":{\"active_drag\":\"auto\",\"active_inspect\":\"auto\",\"active_multi\":null,\"active_scroll\":\"auto\",\"active_tap\":\"auto\",\"tools\":[{\"id\":\"1021\"},{\"id\":\"1022\"},{\"id\":\"1023\"},{\"id\":\"1024\"},{\"id\":\"1025\"},{\"id\":\"1026\"}]},\"id\":\"1028\",\"type\":\"Toolbar\"},{\"attributes\":{\"axis\":{\"id\":\"1017\"},\"dimension\":1,\"ticker\":null},\"id\":\"1020\",\"type\":\"Grid\"},{\"attributes\":{\"fill_color\":{\"field\":\"fill_color\"},\"line_color\":{\"field\":\"line_color\"},\"x\":{\"field\":\"x\"},\"y\":{\"field\":\"y\"}},\"id\":\"1036\",\"type\":\"Scatter\"},{\"attributes\":{\"text\":\"mug coffe ceram\",\"text_color\":\"#2ca02c\",\"x\":31.677974700927734,\"y\":10.789268493652344},\"id\":\"1044\",\"type\":\"Label\"},{\"attributes\":{\"data\":{\"fill_color\":[\"#ff7f0e\",\"#d62728\",\"#ff7f0e\",\"#ff7f0e\",\"#2ca02c\",\"#98df8a\",\"#aec7e8\",\"#1f77b4\",\"#ffbb78\",\"#d62728\",\"#ffbb78\",\"#aec7e8\",\"#1f77b4\",\"#98df8a\",\"#1f77b4\",\"#aec7e8\",\"#1f77b4\",\"#1f77b4\",\"#2ca02c\",\"#aec7e8\",\"#1f77b4\",\"#98df8a\",\"#1f77b4\",\"#2ca02c\",\"#ffbb78\",\"#d62728\",\"#aec7e8\",\"#d62728\",\"#98df8a\",\"#1f77b4\",\"#1f77b4\",\"#1f77b4\",\"#98df8a\",\"#1f77b4\",\"#ffbb78\",\"#ffbb78\",\"#98df8a\",\"#1f77b4\",\"#ffbb78\",\"#ffbb78\",\"#1f77b4\",\"#aec7e8\",\"#98df8a\",\"#ff7f0e\",\"#2ca02c\",\"#d62728\",\"#98df8a\",\"#1f77b4\",\"#98df8a\",\"#d62728\",\"#ffbb78\",\"#ff7f0e\",\"#ffbb78\",\"#d62728\",\"#d62728\",\"#98df8a\",\"#d62728\",\"#aec7e8\",\"#ffbb78\",\"#2ca02c\",\"#ffbb78\",\"#1f77b4\",\"#2ca02c\",\"#d62728\",\"#ff7f0e\",\"#aec7e8\",\"#1f77b4\",\"#1f77b4\",\"#1f77b4\",\"#2ca02c\",\"#aec7e8\",\"#d62728\",\"#1f77b4\",\"#aec7e8\",\"#2ca02c\",\"#1f77b4\",\"#98df8a\",\"#2ca02c\",\"#2ca02c\",\"#2ca02c\",\"#98df8a\",\"#1f77b4\",\"#98df8a\",\"#1f77b4\",\"#aec7e8\",\"#1f77b4\",\"#1f77b4\",\"#98df8a\",\"#aec7e8\",\"#98df8a\",\"#ff7f0e\",\"#ffbb78\",\"#aec7e8\",\"#aec7e8\",\"#ffbb78\",\"#2ca02c\",\"#1f77b4\",\"#ff7f0e\",\"#aec7e8\",\"#2ca02c\",\"#1f77b4\",\"#98df8a\",\"#aec7e8\",\"#ffbb78\",\"#ff7f0e\",\"#98df8a\",\"#aec7e8\",\"#1f77b4\",\"#aec7e8\",\"#2ca02c\",\"#ff7f0e\",\"#ffbb78\",\"#2ca02c\",\"#ffbb78\",\"#aec7e8\",\"#1f77b4\",\"#ff7f0e\",\"#98df8a\",\"#1f77b4\",\"#aec7e8\",\"#98df8a\",\"#1f77b4\",\"#ff7f0e\",\"#1f77b4\",\"#aec7e8\",\"#2ca02c\",\"#aec7e8\",\"#aec7e8\",\"#98df8a\",\"#1f77b4\",\"#98df8a\",\"#2ca02c\",\"#1f77b4\",\"#aec7e8\",\"#ffbb78\",\"#ffbb78\",\"#ffbb78\",\"#1f77b4\",\"#d62728\",\"#98df8a\",\"#ff7f0e\",\"#1f77b4\",\"#98df8a\",\"#ff7f0e\",\"#98df8a\",\"#aec7e8\",\"#ffbb78\",\"#aec7e8\",\"#d62728\",\"#1f77b4\",\"#aec7e8\",\"#ffbb78\",\"#1f77b4\",\"#aec7e8\",\"#2ca02c\",\"#aec7e8\",\"#ffbb78\",\"#98df8a\",\"#98df8a\",\"#98df8a\",\"#aec7e8\",\"#1f77b4\",\"#98df8a\",\"#1f77b4\",\"#aec7e8\",\"#aec7e8\",\"#aec7e8\",\"#aec7e8\",\"#1f77b4\",\"#1f77b4\",\"#98df8a\",\"#d62728\",\"#2ca02c\",\"#d62728\",\"#1f77b4\",\"#2ca02c\",\"#d62728\",\"#1f77b4\",\"#1f77b4\",\"#1f77b4\",\"#ffbb78\",\"#ffbb78\",\"#1f77b4\",\"#d62728\",\"#d62728\",\"#1f77b4\",\"#98df8a\",\"#1f77b4\",\"#ffbb78\",\"#1f77b4\",\"#aec7e8\",\"#1f77b4\",\"#d62728\",\"#1f77b4\",\"#1f77b4\",\"#2ca02c\",\"#1f77b4\",\"#2ca02c\",\"#98df8a\",\"#aec7e8\",\"#aec7e8\",\"#aec7e8\",\"#ffbb78\",\"#aec7e8\",\"#1f77b4\",\"#2ca02c\",\"#2ca02c\",\"#1f77b4\",\"#98df8a\",\"#d62728\",\"#2ca02c\",\"#ffbb78\",\"#aec7e8\",\"#1f77b4\",\"#1f77b4\",\"#98df8a\",\"#1f77b4\",\"#ff7f0e\",\"#2ca02c\",\"#ffbb78\",\"#98df8a\",\"#1f77b4\",\"#ffbb78\",\"#1f77b4\",\"#ffbb78\",\"#98df8a\",\"#2ca02c\",\"#aec7e8\",\"#1f77b4\",\"#ff7f0e\",\"#1f77b4\",\"#98df8a\",\"#98df8a\",\"#aec7e8\",\"#ffbb78\",\"#ff7f0e\",\"#ffbb78\",\"#98df8a\",\"#2ca02c\",\"#1f77b4\",\"#2ca02c\",\"#1f77b4\",\"#98df8a\",\"#d62728\",\"#1f77b4\",\"#ffbb78\",\"#1f77b4\",\"#2ca02c\",\"#aec7e8\",\"#1f77b4\",\"#aec7e8\",\"#1f77b4\",\"#ff7f0e\",\"#aec7e8\",\"#1f77b4\",\"#2ca02c\",\"#98df8a\",\"#98df8a\",\"#ff7f0e\",\"#1f77b4\",\"#ffbb78\",\"#ff7f0e\",\"#ffbb78\",\"#d62728\",\"#98df8a\",\"#aec7e8\",\"#98df8a\",\"#1f77b4\",\"#1f77b4\",\"#ff7f0e\",\"#98df8a\",\"#1f77b4\",\"#98df8a\",\"#1f77b4\",\"#ffbb78\",\"#aec7e8\",\"#98df8a\",\"#d62728\",\"#d62728\",\"#ffbb78\",\"#1f77b4\",\"#aec7e8\",\"#d62728\",\"#1f77b4\",\"#ffbb78\",\"#ffbb78\",\"#ffbb78\",\"#aec7e8\",\"#1f77b4\",\"#ffbb78\",\"#ffbb78\",\"#1f77b4\",\"#ffbb78\",\"#1f77b4\",\"#ff7f0e\",\"#ff7f0e\",\"#1f77b4\",\"#aec7e8\",\"#1f77b4\",\"#98df8a\",\"#98df8a\",\"#aec7e8\",\"#1f77b4\",\"#1f77b4\",\"#98df8a\",\"#ffbb78\",\"#2ca02c\",\"#2ca02c\",\"#ffbb78\",\"#1f77b4\",\"#1f77b4\",\"#1f77b4\",\"#aec7e8\",\"#1f77b4\",\"#ffbb78\",\"#98df8a\",\"#98df8a\",\"#ffbb78\",\"#ffbb78\",\"#ff7f0e\",\"#98df8a\",\"#1f77b4\",\"#1f77b4\",\"#ffbb78\",\"#aec7e8\",\"#ffbb78\",\"#aec7e8\",\"#1f77b4\",\"#ffbb78\",\"#aec7e8\",\"#1f77b4\",\"#d62728\",\"#98df8a\",\"#aec7e8\",\"#ff7f0e\",\"#98df8a\",\"#1f77b4\",\"#1f77b4\",\"#aec7e8\",\"#2ca02c\",\"#ff7f0e\",\"#aec7e8\",\"#98df8a\",\"#d62728\",\"#2ca02c\",\"#2ca02c\",\"#1f77b4\",\"#2ca02c\",\"#1f77b4\",\"#ffbb78\",\"#d62728\",\"#aec7e8\",\"#2ca02c\",\"#aec7e8\",\"#1f77b4\",\"#1f77b4\",\"#d62728\",\"#d62728\",\"#ffbb78\",\"#1f77b4\",\"#aec7e8\",\"#98df8a\",\"#1f77b4\",\"#1f77b4\",\"#1f77b4\",\"#ffbb78\",\"#aec7e8\",\"#d62728\",\"#1f77b4\",\"#aec7e8\",\"#aec7e8\",\"#ff7f0e\",\"#1f77b4\",\"#aec7e8\",\"#d62728\",\"#2ca02c\",\"#ff7f0e\",\"#ff7f0e\",\"#1f77b4\",\"#aec7e8\",\"#aec7e8\",\"#d62728\",\"#1f77b4\",\"#1f77b4\",\"#aec7e8\",\"#ffbb78\",\"#1f77b4\",\"#ff7f0e\",\"#1f77b4\",\"#aec7e8\",\"#1f77b4\",\"#98df8a\",\"#aec7e8\",\"#ff7f0e\",\"#ffbb78\",\"#ffbb78\",\"#aec7e8\",\"#1f77b4\",\"#1f77b4\",\"#d62728\",\"#aec7e8\",\"#aec7e8\",\"#aec7e8\",\"#ffbb78\",\"#1f77b4\",\"#1f77b4\",\"#ffbb78\",\"#1f77b4\",\"#ff7f0e\",\"#ff7f0e\",\"#aec7e8\",\"#d62728\",\"#ffbb78\",\"#d62728\",\"#d62728\",\"#d62728\",\"#2ca02c\",\"#aec7e8\",\"#1f77b4\",\"#ff7f0e\",\"#d62728\",\"#d62728\",\"#d62728\",\"#ffbb78\",\"#1f77b4\",\"#1f77b4\",\"#ffbb78\",\"#ff7f0e\",\"#ffbb78\",\"#d62728\",\"#aec7e8\",\"#d62728\",\"#d62728\",\"#ffbb78\",\"#98df8a\",\"#aec7e8\",\"#ff7f0e\",\"#1f77b4\",\"#ffbb78\",\"#1f77b4\",\"#1f77b4\",\"#ffbb78\",\"#1f77b4\",\"#ffbb78\",\"#2ca02c\",\"#1f77b4\",\"#1f77b4\",\"#2ca02c\",\"#ffbb78\",\"#1f77b4\",\"#aec7e8\",\"#2ca02c\",\"#98df8a\",\"#ffbb78\",\"#98df8a\",\"#ffbb78\",\"#1f77b4\",\"#1f77b4\",\"#98df8a\",\"#1f77b4\",\"#1f77b4\",\"#aec7e8\",\"#aec7e8\",\"#ffbb78\",\"#98df8a\",\"#ff7f0e\",\"#1f77b4\",\"#1f77b4\",\"#98df8a\",\"#98df8a\",\"#1f77b4\",\"#ff7f0e\",\"#1f77b4\",\"#aec7e8\",\"#ffbb78\",\"#ffbb78\",\"#d62728\",\"#aec7e8\",\"#98df8a\",\"#ff7f0e\",\"#98df8a\",\"#98df8a\",\"#1f77b4\",\"#d62728\",\"#ff7f0e\",\"#ffbb78\",\"#aec7e8\",\"#98df8a\",\"#ffbb78\",\"#98df8a\",\"#ffbb78\",\"#aec7e8\",\"#aec7e8\",\"#aec7e8\",\"#2ca02c\",\"#ffbb78\",\"#aec7e8\",\"#ffbb78\",\"#1f77b4\",\"#d62728\",\"#d62728\",\"#ff7f0e\",\"#1f77b4\",\"#d62728\",\"#ff7f0e\",\"#1f77b4\",\"#ffbb78\",\"#1f77b4\",\"#aec7e8\",\"#2ca02c\",\"#1f77b4\",\"#aec7e8\",\"#1f77b4\",\"#98df8a\",\"#aec7e8\",\"#aec7e8\",\"#1f77b4\",\"#ffbb78\",\"#aec7e8\",\"#2ca02c\",\"#1f77b4\",\"#ff7f0e\",\"#ffbb78\",\"#d62728\",\"#98df8a\",\"#1f77b4\",\"#aec7e8\",\"#98df8a\",\"#aec7e8\",\"#1f77b4\",\"#2ca02c\",\"#1f77b4\",\"#d62728\",\"#2ca02c\",\"#ffbb78\",\"#98df8a\",\"#1f77b4\",\"#1f77b4\",\"#ffbb78\",\"#98df8a\",\"#ff7f0e\",\"#98df8a\",\"#98df8a\",\"#aec7e8\",\"#1f77b4\",\"#ff7f0e\",\"#aec7e8\",\"#aec7e8\",\"#aec7e8\",\"#ffbb78\",\"#98df8a\",\"#ff7f0e\",\"#ff7f0e\",\"#1f77b4\",\"#98df8a\",\"#1f77b4\",\"#1f77b4\",\"#1f77b4\",\"#1f77b4\",\"#1f77b4\",\"#ff7f0e\",\"#98df8a\",\"#1f77b4\",\"#1f77b4\",\"#1f77b4\",\"#98df8a\",\"#aec7e8\",\"#ffbb78\",\"#ffbb78\",\"#2ca02c\",\"#aec7e8\",\"#ff7f0e\",\"#1f77b4\",\"#ffbb78\",\"#1f77b4\",\"#98df8a\",\"#aec7e8\",\"#d62728\",\"#98df8a\",\"#1f77b4\",\"#2ca02c\",\"#ff7f0e\",\"#1f77b4\",\"#aec7e8\",\"#ffbb78\",\"#1f77b4\",\"#1f77b4\",\"#ffbb78\",\"#1f77b4\",\"#aec7e8\",\"#aec7e8\",\"#1f77b4\",\"#d62728\",\"#ff7f0e\",\"#ffbb78\",\"#1f77b4\",\"#ffbb78\",\"#1f77b4\",\"#2ca02c\",\"#ffbb78\",\"#98df8a\",\"#1f77b4\",\"#98df8a\",\"#1f77b4\",\"#aec7e8\",\"#ffbb78\",\"#98df8a\",\"#ffbb78\",\"#ff7f0e\",\"#ffbb78\",\"#1f77b4\",\"#98df8a\",\"#2ca02c\",\"#98df8a\",\"#aec7e8\",\"#98df8a\",\"#1f77b4\",\"#d62728\",\"#98df8a\",\"#aec7e8\",\"#ffbb78\",\"#ff7f0e\",\"#aec7e8\",\"#d62728\",\"#ff7f0e\",\"#1f77b4\",\"#98df8a\",\"#d62728\",\"#1f77b4\",\"#d62728\",\"#1f77b4\",\"#1f77b4\",\"#1f77b4\",\"#aec7e8\",\"#1f77b4\",\"#ffbb78\",\"#1f77b4\",\"#98df8a\",\"#ffbb78\",\"#1f77b4\",\"#aec7e8\",\"#1f77b4\",\"#ff7f0e\",\"#1f77b4\",\"#ff7f0e\",\"#2ca02c\",\"#aec7e8\",\"#aec7e8\",\"#1f77b4\",\"#1f77b4\",\"#aec7e8\",\"#ff7f0e\",\"#ff7f0e\",\"#ff7f0e\",\"#1f77b4\",\"#1f77b4\",\"#98df8a\",\"#1f77b4\",\"#1f77b4\",\"#ffbb78\",\"#98df8a\",\"#98df8a\",\"#ffbb78\",\"#1f77b4\",\"#1f77b4\",\"#ffbb78\",\"#98df8a\",\"#ffbb78\",\"#2ca02c\",\"#ff7f0e\",\"#ffbb78\",\"#2ca02c\",\"#aec7e8\",\"#98df8a\",\"#1f77b4\",\"#aec7e8\",\"#aec7e8\",\"#aec7e8\",\"#98df8a\",\"#ffbb78\",\"#1f77b4\",\"#aec7e8\",\"#ffbb78\",\"#ffbb78\",\"#98df8a\",\"#d62728\",\"#ffbb78\",\"#1f77b4\",\"#ffbb78\",\"#ffbb78\",\"#aec7e8\",\"#1f77b4\",\"#1f77b4\",\"#ffbb78\",\"#98df8a\",\"#98df8a\",\"#1f77b4\",\"#1f77b4\",\"#aec7e8\",\"#98df8a\",\"#ff7f0e\",\"#aec7e8\",\"#ff7f0e\",\"#1f77b4\",\"#ff7f0e\",\"#98df8a\",\"#1f77b4\",\"#ffbb78\",\"#1f77b4\",\"#98df8a\",\"#98df8a\",\"#aec7e8\",\"#98df8a\",\"#98df8a\",\"#1f77b4\",\"#aec7e8\",\"#98df8a\",\"#aec7e8\",\"#1f77b4\",\"#ffbb78\",\"#d62728\",\"#ff7f0e\",\"#1f77b4\",\"#aec7e8\",\"#1f77b4\",\"#1f77b4\",\"#ffbb78\",\"#98df8a\",\"#1f77b4\",\"#1f77b4\",\"#ffbb78\",\"#ffbb78\",\"#1f77b4\",\"#ffbb78\",\"#ff7f0e\",\"#98df8a\",\"#2ca02c\",\"#98df8a\",\"#ffbb78\",\"#ffbb78\",\"#1f77b4\",\"#1f77b4\",\"#2ca02c\",\"#aec7e8\",\"#ffbb78\",\"#aec7e8\",\"#d62728\",\"#ffbb78\",\"#1f77b4\",\"#1f77b4\",\"#1f77b4\",\"#1f77b4\",\"#98df8a\",\"#1f77b4\",\"#d62728\",\"#ffbb78\",\"#2ca02c\",\"#1f77b4\",\"#1f77b4\",\"#aec7e8\",\"#d62728\",\"#aec7e8\",\"#aec7e8\",\"#d62728\",\"#ffbb78\",\"#aec7e8\",\"#ffbb78\",\"#1f77b4\",\"#aec7e8\",\"#1f77b4\",\"#ffbb78\",\"#d62728\",\"#aec7e8\",\"#d62728\",\"#2ca02c\",\"#ff7f0e\",\"#ffbb78\",\"#ffbb78\",\"#ff7f0e\",\"#1f77b4\",\"#98df8a\",\"#ffbb78\",\"#1f77b4\",\"#d62728\",\"#aec7e8\",\"#98df8a\",\"#ff7f0e\",\"#1f77b4\",\"#1f77b4\",\"#ff7f0e\",\"#2ca02c\",\"#ffbb78\",\"#aec7e8\",\"#2ca02c\",\"#ff7f0e\",\"#ff7f0e\",\"#ffbb78\",\"#1f77b4\",\"#98df8a\",\"#1f77b4\",\"#ffbb78\",\"#ff7f0e\",\"#1f77b4\",\"#98df8a\",\"#1f77b4\",\"#1f77b4\",\"#ffbb78\",\"#aec7e8\",\"#d62728\",\"#1f77b4\",\"#1f77b4\",\"#98df8a\",\"#aec7e8\",\"#ffbb78\",\"#d62728\",\"#98df8a\",\"#aec7e8\",\"#1f77b4\",\"#ff7f0e\",\"#aec7e8\",\"#ff7f0e\",\"#98df8a\",\"#2ca02c\",\"#ffbb78\",\"#1f77b4\",\"#2ca02c\",\"#1f77b4\",\"#1f77b4\",\"#ffbb78\",\"#ffbb78\",\"#1f77b4\",\"#1f77b4\",\"#ffbb78\",\"#aec7e8\",\"#1f77b4\",\"#aec7e8\",\"#1f77b4\",\"#98df8a\",\"#98df8a\",\"#1f77b4\",\"#98df8a\",\"#1f77b4\",\"#1f77b4\",\"#d62728\",\"#1f77b4\",\"#aec7e8\",\"#1f77b4\",\"#ffbb78\",\"#aec7e8\",\"#aec7e8\",\"#aec7e8\",\"#1f77b4\",\"#2ca02c\",\"#98df8a\",\"#d62728\",\"#aec7e8\",\"#d62728\",\"#1f77b4\",\"#1f77b4\",\"#98df8a\",\"#1f77b4\",\"#1f77b4\",\"#1f77b4\",\"#1f77b4\",\"#1f77b4\",\"#1f77b4\",\"#aec7e8\",\"#2ca02c\",\"#1f77b4\",\"#aec7e8\",\"#aec7e8\",\"#aec7e8\",\"#ff7f0e\",\"#ff7f0e\",\"#1f77b4\",\"#1f77b4\",\"#aec7e8\",\"#1f77b4\",\"#d62728\",\"#ffbb78\",\"#1f77b4\",\"#ff7f0e\",\"#ffbb78\",\"#1f77b4\",\"#ff7f0e\",\"#ffbb78\",\"#1f77b4\",\"#aec7e8\",\"#98df8a\",\"#1f77b4\",\"#98df8a\",\"#1f77b4\",\"#1f77b4\",\"#ffbb78\",\"#1f77b4\",\"#1f77b4\",\"#ffbb78\",\"#ff7f0e\",\"#2ca02c\",\"#1f77b4\",\"#ff7f0e\",\"#1f77b4\",\"#1f77b4\",\"#98df8a\",\"#ffbb78\",\"#98df8a\",\"#1f77b4\",\"#ff7f0e\",\"#1f77b4\",\"#1f77b4\",\"#98df8a\",\"#1f77b4\",\"#d62728\",\"#1f77b4\",\"#d62728\",\"#d62728\",\"#98df8a\",\"#98df8a\",\"#1f77b4\",\"#ff7f0e\",\"#ff7f0e\",\"#2ca02c\",\"#ffbb78\",\"#1f77b4\",\"#2ca02c\",\"#ff7f0e\",\"#1f77b4\",\"#aec7e8\",\"#aec7e8\",\"#aec7e8\",\"#1f77b4\",\"#2ca02c\",\"#98df8a\",\"#aec7e8\",\"#d62728\",\"#ffbb78\",\"#aec7e8\",\"#98df8a\",\"#1f77b4\",\"#98df8a\",\"#ff7f0e\",\"#98df8a\",\"#1f77b4\",\"#ff7f0e\",\"#d62728\",\"#aec7e8\",\"#98df8a\",\"#98df8a\",\"#d62728\",\"#aec7e8\",\"#aec7e8\",\"#d62728\",\"#ffbb78\",\"#1f77b4\",\"#ffbb78\",\"#1f77b4\",\"#aec7e8\",\"#1f77b4\",\"#aec7e8\",\"#1f77b4\",\"#ffbb78\",\"#1f77b4\",\"#aec7e8\",\"#aec7e8\",\"#aec7e8\",\"#98df8a\",\"#ffbb78\",\"#1f77b4\",\"#1f77b4\",\"#aec7e8\",\"#ffbb78\",\"#1f77b4\",\"#d62728\",\"#ff7f0e\",\"#1f77b4\",\"#d62728\",\"#98df8a\",\"#98df8a\",\"#1f77b4\",\"#98df8a\",\"#1f77b4\",\"#98df8a\",\"#1f77b4\",\"#1f77b4\",\"#98df8a\",\"#1f77b4\",\"#aec7e8\",\"#d62728\",\"#aec7e8\",\"#d62728\",\"#ffbb78\",\"#1f77b4\",\"#98df8a\",\"#ffbb78\",\"#1f77b4\",\"#1f77b4\",\"#1f77b4\",\"#98df8a\",\"#1f77b4\",\"#d62728\",\"#1f77b4\",\"#1f77b4\",\"#1f77b4\",\"#98df8a\",\"#d62728\",\"#ff7f0e\",\"#98df8a\",\"#1f77b4\",\"#d62728\",\"#ff7f0e\",\"#ffbb78\",\"#1f77b4\",\"#ffbb78\",\"#aec7e8\",\"#aec7e8\",\"#ffbb78\",\"#98df8a\",\"#ffbb78\",\"#aec7e8\",\"#d62728\",\"#98df8a\",\"#1f77b4\",\"#d62728\",\"#aec7e8\",\"#ffbb78\",\"#2ca02c\",\"#ffbb78\",\"#ff7f0e\",\"#2ca02c\",\"#98df8a\",\"#aec7e8\",\"#1f77b4\",\"#aec7e8\",\"#ffbb78\",\"#98df8a\",\"#ff7f0e\",\"#1f77b4\",\"#ffbb78\",\"#ffbb78\",\"#1f77b4\",\"#1f77b4\",\"#98df8a\",\"#1f77b4\",\"#98df8a\",\"#ff7f0e\",\"#2ca02c\",\"#ff7f0e\",\"#1f77b4\",\"#ffbb78\",\"#98df8a\"],\"line_color\":[\"#ff7f0e\",\"#d62728\",\"#ff7f0e\",\"#ff7f0e\",\"#2ca02c\",\"#98df8a\",\"#aec7e8\",\"#1f77b4\",\"#ffbb78\",\"#d62728\",\"#ffbb78\",\"#aec7e8\",\"#1f77b4\",\"#98df8a\",\"#1f77b4\",\"#aec7e8\",\"#1f77b4\",\"#1f77b4\",\"#2ca02c\",\"#aec7e8\",\"#1f77b4\",\"#98df8a\",\"#1f77b4\",\"#2ca02c\",\"#ffbb78\",\"#d62728\",\"#aec7e8\",\"#d62728\",\"#98df8a\",\"#1f77b4\",\"#1f77b4\",\"#1f77b4\",\"#98df8a\",\"#1f77b4\",\"#ffbb78\",\"#ffbb78\",\"#98df8a\",\"#1f77b4\",\"#ffbb78\",\"#ffbb78\",\"#1f77b4\",\"#aec7e8\",\"#98df8a\",\"#ff7f0e\",\"#2ca02c\",\"#d62728\",\"#98df8a\",\"#1f77b4\",\"#98df8a\",\"#d62728\",\"#ffbb78\",\"#ff7f0e\",\"#ffbb78\",\"#d62728\",\"#d62728\",\"#98df8a\",\"#d62728\",\"#aec7e8\",\"#ffbb78\",\"#2ca02c\",\"#ffbb78\",\"#1f77b4\",\"#2ca02c\",\"#d62728\",\"#ff7f0e\",\"#aec7e8\",\"#1f77b4\",\"#1f77b4\",\"#1f77b4\",\"#2ca02c\",\"#aec7e8\",\"#d62728\",\"#1f77b4\",\"#aec7e8\",\"#2ca02c\",\"#1f77b4\",\"#98df8a\",\"#2ca02c\",\"#2ca02c\",\"#2ca02c\",\"#98df8a\",\"#1f77b4\",\"#98df8a\",\"#1f77b4\",\"#aec7e8\",\"#1f77b4\",\"#1f77b4\",\"#98df8a\",\"#aec7e8\",\"#98df8a\",\"#ff7f0e\",\"#ffbb78\",\"#aec7e8\",\"#aec7e8\",\"#ffbb78\",\"#2ca02c\",\"#1f77b4\",\"#ff7f0e\",\"#aec7e8\",\"#2ca02c\",\"#1f77b4\",\"#98df8a\",\"#aec7e8\",\"#ffbb78\",\"#ff7f0e\",\"#98df8a\",\"#aec7e8\",\"#1f77b4\",\"#aec7e8\",\"#2ca02c\",\"#ff7f0e\",\"#ffbb78\",\"#2ca02c\",\"#ffbb78\",\"#aec7e8\",\"#1f77b4\",\"#ff7f0e\",\"#98df8a\",\"#1f77b4\",\"#aec7e8\",\"#98df8a\",\"#1f77b4\",\"#ff7f0e\",\"#1f77b4\",\"#aec7e8\",\"#2ca02c\",\"#aec7e8\",\"#aec7e8\",\"#98df8a\",\"#1f77b4\",\"#98df8a\",\"#2ca02c\",\"#1f77b4\",\"#aec7e8\",\"#ffbb78\",\"#ffbb78\",\"#ffbb78\",\"#1f77b4\",\"#d62728\",\"#98df8a\",\"#ff7f0e\",\"#1f77b4\",\"#98df8a\",\"#ff7f0e\",\"#98df8a\",\"#aec7e8\",\"#ffbb78\",\"#aec7e8\",\"#d62728\",\"#1f77b4\",\"#aec7e8\",\"#ffbb78\",\"#1f77b4\",\"#aec7e8\",\"#2ca02c\",\"#aec7e8\",\"#ffbb78\",\"#98df8a\",\"#98df8a\",\"#98df8a\",\"#aec7e8\",\"#1f77b4\",\"#98df8a\",\"#1f77b4\",\"#aec7e8\",\"#aec7e8\",\"#aec7e8\",\"#aec7e8\",\"#1f77b4\",\"#1f77b4\",\"#98df8a\",\"#d62728\",\"#2ca02c\",\"#d62728\",\"#1f77b4\",\"#2ca02c\",\"#d62728\",\"#1f77b4\",\"#1f77b4\",\"#1f77b4\",\"#ffbb78\",\"#ffbb78\",\"#1f77b4\",\"#d62728\",\"#d62728\",\"#1f77b4\",\"#98df8a\",\"#1f77b4\",\"#ffbb78\",\"#1f77b4\",\"#aec7e8\",\"#1f77b4\",\"#d62728\",\"#1f77b4\",\"#1f77b4\",\"#2ca02c\",\"#1f77b4\",\"#2ca02c\",\"#98df8a\",\"#aec7e8\",\"#aec7e8\",\"#aec7e8\",\"#ffbb78\",\"#aec7e8\",\"#1f77b4\",\"#2ca02c\",\"#2ca02c\",\"#1f77b4\",\"#98df8a\",\"#d62728\",\"#2ca02c\",\"#ffbb78\",\"#aec7e8\",\"#1f77b4\",\"#1f77b4\",\"#98df8a\",\"#1f77b4\",\"#ff7f0e\",\"#2ca02c\",\"#ffbb78\",\"#98df8a\",\"#1f77b4\",\"#ffbb78\",\"#1f77b4\",\"#ffbb78\",\"#98df8a\",\"#2ca02c\",\"#aec7e8\",\"#1f77b4\",\"#ff7f0e\",\"#1f77b4\",\"#98df8a\",\"#98df8a\",\"#aec7e8\",\"#ffbb78\",\"#ff7f0e\",\"#ffbb78\",\"#98df8a\",\"#2ca02c\",\"#1f77b4\",\"#2ca02c\",\"#1f77b4\",\"#98df8a\",\"#d62728\",\"#1f77b4\",\"#ffbb78\",\"#1f77b4\",\"#2ca02c\",\"#aec7e8\",\"#1f77b4\",\"#aec7e8\",\"#1f77b4\",\"#ff7f0e\",\"#aec7e8\",\"#1f77b4\",\"#2ca02c\",\"#98df8a\",\"#98df8a\",\"#ff7f0e\",\"#1f77b4\",\"#ffbb78\",\"#ff7f0e\",\"#ffbb78\",\"#d62728\",\"#98df8a\",\"#aec7e8\",\"#98df8a\",\"#1f77b4\",\"#1f77b4\",\"#ff7f0e\",\"#98df8a\",\"#1f77b4\",\"#98df8a\",\"#1f77b4\",\"#ffbb78\",\"#aec7e8\",\"#98df8a\",\"#d62728\",\"#d62728\",\"#ffbb78\",\"#1f77b4\",\"#aec7e8\",\"#d62728\",\"#1f77b4\",\"#ffbb78\",\"#ffbb78\",\"#ffbb78\",\"#aec7e8\",\"#1f77b4\",\"#ffbb78\",\"#ffbb78\",\"#1f77b4\",\"#ffbb78\",\"#1f77b4\",\"#ff7f0e\",\"#ff7f0e\",\"#1f77b4\",\"#aec7e8\",\"#1f77b4\",\"#98df8a\",\"#98df8a\",\"#aec7e8\",\"#1f77b4\",\"#1f77b4\",\"#98df8a\",\"#ffbb78\",\"#2ca02c\",\"#2ca02c\",\"#ffbb78\",\"#1f77b4\",\"#1f77b4\",\"#1f77b4\",\"#aec7e8\",\"#1f77b4\",\"#ffbb78\",\"#98df8a\",\"#98df8a\",\"#ffbb78\",\"#ffbb78\",\"#ff7f0e\",\"#98df8a\",\"#1f77b4\",\"#1f77b4\",\"#ffbb78\",\"#aec7e8\",\"#ffbb78\",\"#aec7e8\",\"#1f77b4\",\"#ffbb78\",\"#aec7e8\",\"#1f77b4\",\"#d62728\",\"#98df8a\",\"#aec7e8\",\"#ff7f0e\",\"#98df8a\",\"#1f77b4\",\"#1f77b4\",\"#aec7e8\",\"#2ca02c\",\"#ff7f0e\",\"#aec7e8\",\"#98df8a\",\"#d62728\",\"#2ca02c\",\"#2ca02c\",\"#1f77b4\",\"#2ca02c\",\"#1f77b4\",\"#ffbb78\",\"#d62728\",\"#aec7e8\",\"#2ca02c\",\"#aec7e8\",\"#1f77b4\",\"#1f77b4\",\"#d62728\",\"#d62728\",\"#ffbb78\",\"#1f77b4\",\"#aec7e8\",\"#98df8a\",\"#1f77b4\",\"#1f77b4\",\"#1f77b4\",\"#ffbb78\",\"#aec7e8\",\"#d62728\",\"#1f77b4\",\"#aec7e8\",\"#aec7e8\",\"#ff7f0e\",\"#1f77b4\",\"#aec7e8\",\"#d62728\",\"#2ca02c\",\"#ff7f0e\",\"#ff7f0e\",\"#1f77b4\",\"#aec7e8\",\"#aec7e8\",\"#d62728\",\"#1f77b4\",\"#1f77b4\",\"#aec7e8\",\"#ffbb78\",\"#1f77b4\",\"#ff7f0e\",\"#1f77b4\",\"#aec7e8\",\"#1f77b4\",\"#98df8a\",\"#aec7e8\",\"#ff7f0e\",\"#ffbb78\",\"#ffbb78\",\"#aec7e8\",\"#1f77b4\",\"#1f77b4\",\"#d62728\",\"#aec7e8\",\"#aec7e8\",\"#aec7e8\",\"#ffbb78\",\"#1f77b4\",\"#1f77b4\",\"#ffbb78\",\"#1f77b4\",\"#ff7f0e\",\"#ff7f0e\",\"#aec7e8\",\"#d62728\",\"#ffbb78\",\"#d62728\",\"#d62728\",\"#d62728\",\"#2ca02c\",\"#aec7e8\",\"#1f77b4\",\"#ff7f0e\",\"#d62728\",\"#d62728\",\"#d62728\",\"#ffbb78\",\"#1f77b4\",\"#1f77b4\",\"#ffbb78\",\"#ff7f0e\",\"#ffbb78\",\"#d62728\",\"#aec7e8\",\"#d62728\",\"#d62728\",\"#ffbb78\",\"#98df8a\",\"#aec7e8\",\"#ff7f0e\",\"#1f77b4\",\"#ffbb78\",\"#1f77b4\",\"#1f77b4\",\"#ffbb78\",\"#1f77b4\",\"#ffbb78\",\"#2ca02c\",\"#1f77b4\",\"#1f77b4\",\"#2ca02c\",\"#ffbb78\",\"#1f77b4\",\"#aec7e8\",\"#2ca02c\",\"#98df8a\",\"#ffbb78\",\"#98df8a\",\"#ffbb78\",\"#1f77b4\",\"#1f77b4\",\"#98df8a\",\"#1f77b4\",\"#1f77b4\",\"#aec7e8\",\"#aec7e8\",\"#ffbb78\",\"#98df8a\",\"#ff7f0e\",\"#1f77b4\",\"#1f77b4\",\"#98df8a\",\"#98df8a\",\"#1f77b4\",\"#ff7f0e\",\"#1f77b4\",\"#aec7e8\",\"#ffbb78\",\"#ffbb78\",\"#d62728\",\"#aec7e8\",\"#98df8a\",\"#ff7f0e\",\"#98df8a\",\"#98df8a\",\"#1f77b4\",\"#d62728\",\"#ff7f0e\",\"#ffbb78\",\"#aec7e8\",\"#98df8a\",\"#ffbb78\",\"#98df8a\",\"#ffbb78\",\"#aec7e8\",\"#aec7e8\",\"#aec7e8\",\"#2ca02c\",\"#ffbb78\",\"#aec7e8\",\"#ffbb78\",\"#1f77b4\",\"#d62728\",\"#d62728\",\"#ff7f0e\",\"#1f77b4\",\"#d62728\",\"#ff7f0e\",\"#1f77b4\",\"#ffbb78\",\"#1f77b4\",\"#aec7e8\",\"#2ca02c\",\"#1f77b4\",\"#aec7e8\",\"#1f77b4\",\"#98df8a\",\"#aec7e8\",\"#aec7e8\",\"#1f77b4\",\"#ffbb78\",\"#aec7e8\",\"#2ca02c\",\"#1f77b4\",\"#ff7f0e\",\"#ffbb78\",\"#d62728\",\"#98df8a\",\"#1f77b4\",\"#aec7e8\",\"#98df8a\",\"#aec7e8\",\"#1f77b4\",\"#2ca02c\",\"#1f77b4\",\"#d62728\",\"#2ca02c\",\"#ffbb78\",\"#98df8a\",\"#1f77b4\",\"#1f77b4\",\"#ffbb78\",\"#98df8a\",\"#ff7f0e\",\"#98df8a\",\"#98df8a\",\"#aec7e8\",\"#1f77b4\",\"#ff7f0e\",\"#aec7e8\",\"#aec7e8\",\"#aec7e8\",\"#ffbb78\",\"#98df8a\",\"#ff7f0e\",\"#ff7f0e\",\"#1f77b4\",\"#98df8a\",\"#1f77b4\",\"#1f77b4\",\"#1f77b4\",\"#1f77b4\",\"#1f77b4\",\"#ff7f0e\",\"#98df8a\",\"#1f77b4\",\"#1f77b4\",\"#1f77b4\",\"#98df8a\",\"#aec7e8\",\"#ffbb78\",\"#ffbb78\",\"#2ca02c\",\"#aec7e8\",\"#ff7f0e\",\"#1f77b4\",\"#ffbb78\",\"#1f77b4\",\"#98df8a\",\"#aec7e8\",\"#d62728\",\"#98df8a\",\"#1f77b4\",\"#2ca02c\",\"#ff7f0e\",\"#1f77b4\",\"#aec7e8\",\"#ffbb78\",\"#1f77b4\",\"#1f77b4\",\"#ffbb78\",\"#1f77b4\",\"#aec7e8\",\"#aec7e8\",\"#1f77b4\",\"#d62728\",\"#ff7f0e\",\"#ffbb78\",\"#1f77b4\",\"#ffbb78\",\"#1f77b4\",\"#2ca02c\",\"#ffbb78\",\"#98df8a\",\"#1f77b4\",\"#98df8a\",\"#1f77b4\",\"#aec7e8\",\"#ffbb78\",\"#98df8a\",\"#ffbb78\",\"#ff7f0e\",\"#ffbb78\",\"#1f77b4\",\"#98df8a\",\"#2ca02c\",\"#98df8a\",\"#aec7e8\",\"#98df8a\",\"#1f77b4\",\"#d62728\",\"#98df8a\",\"#aec7e8\",\"#ffbb78\",\"#ff7f0e\",\"#aec7e8\",\"#d62728\",\"#ff7f0e\",\"#1f77b4\",\"#98df8a\",\"#d62728\",\"#1f77b4\",\"#d62728\",\"#1f77b4\",\"#1f77b4\",\"#1f77b4\",\"#aec7e8\",\"#1f77b4\",\"#ffbb78\",\"#1f77b4\",\"#98df8a\",\"#ffbb78\",\"#1f77b4\",\"#aec7e8\",\"#1f77b4\",\"#ff7f0e\",\"#1f77b4\",\"#ff7f0e\",\"#2ca02c\",\"#aec7e8\",\"#aec7e8\",\"#1f77b4\",\"#1f77b4\",\"#aec7e8\",\"#ff7f0e\",\"#ff7f0e\",\"#ff7f0e\",\"#1f77b4\",\"#1f77b4\",\"#98df8a\",\"#1f77b4\",\"#1f77b4\",\"#ffbb78\",\"#98df8a\",\"#98df8a\",\"#ffbb78\",\"#1f77b4\",\"#1f77b4\",\"#ffbb78\",\"#98df8a\",\"#ffbb78\",\"#2ca02c\",\"#ff7f0e\",\"#ffbb78\",\"#2ca02c\",\"#aec7e8\",\"#98df8a\",\"#1f77b4\",\"#aec7e8\",\"#aec7e8\",\"#aec7e8\",\"#98df8a\",\"#ffbb78\",\"#1f77b4\",\"#aec7e8\",\"#ffbb78\",\"#ffbb78\",\"#98df8a\",\"#d62728\",\"#ffbb78\",\"#1f77b4\",\"#ffbb78\",\"#ffbb78\",\"#aec7e8\",\"#1f77b4\",\"#1f77b4\",\"#ffbb78\",\"#98df8a\",\"#98df8a\",\"#1f77b4\",\"#1f77b4\",\"#aec7e8\",\"#98df8a\",\"#ff7f0e\",\"#aec7e8\",\"#ff7f0e\",\"#1f77b4\",\"#ff7f0e\",\"#98df8a\",\"#1f77b4\",\"#ffbb78\",\"#1f77b4\",\"#98df8a\",\"#98df8a\",\"#aec7e8\",\"#98df8a\",\"#98df8a\",\"#1f77b4\",\"#aec7e8\",\"#98df8a\",\"#aec7e8\",\"#1f77b4\",\"#ffbb78\",\"#d62728\",\"#ff7f0e\",\"#1f77b4\",\"#aec7e8\",\"#1f77b4\",\"#1f77b4\",\"#ffbb78\",\"#98df8a\",\"#1f77b4\",\"#1f77b4\",\"#ffbb78\",\"#ffbb78\",\"#1f77b4\",\"#ffbb78\",\"#ff7f0e\",\"#98df8a\",\"#2ca02c\",\"#98df8a\",\"#ffbb78\",\"#ffbb78\",\"#1f77b4\",\"#1f77b4\",\"#2ca02c\",\"#aec7e8\",\"#ffbb78\",\"#aec7e8\",\"#d62728\",\"#ffbb78\",\"#1f77b4\",\"#1f77b4\",\"#1f77b4\",\"#1f77b4\",\"#98df8a\",\"#1f77b4\",\"#d62728\",\"#ffbb78\",\"#2ca02c\",\"#1f77b4\",\"#1f77b4\",\"#aec7e8\",\"#d62728\",\"#aec7e8\",\"#aec7e8\",\"#d62728\",\"#ffbb78\",\"#aec7e8\",\"#ffbb78\",\"#1f77b4\",\"#aec7e8\",\"#1f77b4\",\"#ffbb78\",\"#d62728\",\"#aec7e8\",\"#d62728\",\"#2ca02c\",\"#ff7f0e\",\"#ffbb78\",\"#ffbb78\",\"#ff7f0e\",\"#1f77b4\",\"#98df8a\",\"#ffbb78\",\"#1f77b4\",\"#d62728\",\"#aec7e8\",\"#98df8a\",\"#ff7f0e\",\"#1f77b4\",\"#1f77b4\",\"#ff7f0e\",\"#2ca02c\",\"#ffbb78\",\"#aec7e8\",\"#2ca02c\",\"#ff7f0e\",\"#ff7f0e\",\"#ffbb78\",\"#1f77b4\",\"#98df8a\",\"#1f77b4\",\"#ffbb78\",\"#ff7f0e\",\"#1f77b4\",\"#98df8a\",\"#1f77b4\",\"#1f77b4\",\"#ffbb78\",\"#aec7e8\",\"#d62728\",\"#1f77b4\",\"#1f77b4\",\"#98df8a\",\"#aec7e8\",\"#ffbb78\",\"#d62728\",\"#98df8a\",\"#aec7e8\",\"#1f77b4\",\"#ff7f0e\",\"#aec7e8\",\"#ff7f0e\",\"#98df8a\",\"#2ca02c\",\"#ffbb78\",\"#1f77b4\",\"#2ca02c\",\"#1f77b4\",\"#1f77b4\",\"#ffbb78\",\"#ffbb78\",\"#1f77b4\",\"#1f77b4\",\"#ffbb78\",\"#aec7e8\",\"#1f77b4\",\"#aec7e8\",\"#1f77b4\",\"#98df8a\",\"#98df8a\",\"#1f77b4\",\"#98df8a\",\"#1f77b4\",\"#1f77b4\",\"#d62728\",\"#1f77b4\",\"#aec7e8\",\"#1f77b4\",\"#ffbb78\",\"#aec7e8\",\"#aec7e8\",\"#aec7e8\",\"#1f77b4\",\"#2ca02c\",\"#98df8a\",\"#d62728\",\"#aec7e8\",\"#d62728\",\"#1f77b4\",\"#1f77b4\",\"#98df8a\",\"#1f77b4\",\"#1f77b4\",\"#1f77b4\",\"#1f77b4\",\"#1f77b4\",\"#1f77b4\",\"#aec7e8\",\"#2ca02c\",\"#1f77b4\",\"#aec7e8\",\"#aec7e8\",\"#aec7e8\",\"#ff7f0e\",\"#ff7f0e\",\"#1f77b4\",\"#1f77b4\",\"#aec7e8\",\"#1f77b4\",\"#d62728\",\"#ffbb78\",\"#1f77b4\",\"#ff7f0e\",\"#ffbb78\",\"#1f77b4\",\"#ff7f0e\",\"#ffbb78\",\"#1f77b4\",\"#aec7e8\",\"#98df8a\",\"#1f77b4\",\"#98df8a\",\"#1f77b4\",\"#1f77b4\",\"#ffbb78\",\"#1f77b4\",\"#1f77b4\",\"#ffbb78\",\"#ff7f0e\",\"#2ca02c\",\"#1f77b4\",\"#ff7f0e\",\"#1f77b4\",\"#1f77b4\",\"#98df8a\",\"#ffbb78\",\"#98df8a\",\"#1f77b4\",\"#ff7f0e\",\"#1f77b4\",\"#1f77b4\",\"#98df8a\",\"#1f77b4\",\"#d62728\",\"#1f77b4\",\"#d62728\",\"#d62728\",\"#98df8a\",\"#98df8a\",\"#1f77b4\",\"#ff7f0e\",\"#ff7f0e\",\"#2ca02c\",\"#ffbb78\",\"#1f77b4\",\"#2ca02c\",\"#ff7f0e\",\"#1f77b4\",\"#aec7e8\",\"#aec7e8\",\"#aec7e8\",\"#1f77b4\",\"#2ca02c\",\"#98df8a\",\"#aec7e8\",\"#d62728\",\"#ffbb78\",\"#aec7e8\",\"#98df8a\",\"#1f77b4\",\"#98df8a\",\"#ff7f0e\",\"#98df8a\",\"#1f77b4\",\"#ff7f0e\",\"#d62728\",\"#aec7e8\",\"#98df8a\",\"#98df8a\",\"#d62728\",\"#aec7e8\",\"#aec7e8\",\"#d62728\",\"#ffbb78\",\"#1f77b4\",\"#ffbb78\",\"#1f77b4\",\"#aec7e8\",\"#1f77b4\",\"#aec7e8\",\"#1f77b4\",\"#ffbb78\",\"#1f77b4\",\"#aec7e8\",\"#aec7e8\",\"#aec7e8\",\"#98df8a\",\"#ffbb78\",\"#1f77b4\",\"#1f77b4\",\"#aec7e8\",\"#ffbb78\",\"#1f77b4\",\"#d62728\",\"#ff7f0e\",\"#1f77b4\",\"#d62728\",\"#98df8a\",\"#98df8a\",\"#1f77b4\",\"#98df8a\",\"#1f77b4\",\"#98df8a\",\"#1f77b4\",\"#1f77b4\",\"#98df8a\",\"#1f77b4\",\"#aec7e8\",\"#d62728\",\"#aec7e8\",\"#d62728\",\"#ffbb78\",\"#1f77b4\",\"#98df8a\",\"#ffbb78\",\"#1f77b4\",\"#1f77b4\",\"#1f77b4\",\"#98df8a\",\"#1f77b4\",\"#d62728\",\"#1f77b4\",\"#1f77b4\",\"#1f77b4\",\"#98df8a\",\"#d62728\",\"#ff7f0e\",\"#98df8a\",\"#1f77b4\",\"#d62728\",\"#ff7f0e\",\"#ffbb78\",\"#1f77b4\",\"#ffbb78\",\"#aec7e8\",\"#aec7e8\",\"#ffbb78\",\"#98df8a\",\"#ffbb78\",\"#aec7e8\",\"#d62728\",\"#98df8a\",\"#1f77b4\",\"#d62728\",\"#aec7e8\",\"#ffbb78\",\"#2ca02c\",\"#ffbb78\",\"#ff7f0e\",\"#2ca02c\",\"#98df8a\",\"#aec7e8\",\"#1f77b4\",\"#aec7e8\",\"#ffbb78\",\"#98df8a\",\"#ff7f0e\",\"#1f77b4\",\"#ffbb78\",\"#ffbb78\",\"#1f77b4\",\"#1f77b4\",\"#98df8a\",\"#1f77b4\",\"#98df8a\",\"#ff7f0e\",\"#2ca02c\",\"#ff7f0e\",\"#1f77b4\",\"#ffbb78\",\"#98df8a\"],\"x\":{\"__ndarray__\":\"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\",\"dtype\":\"float32\",\"order\":\"little\",\"shape\":[1050]},\"y\":{\"__ndarray__\":\"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\",\"dtype\":\"float32\",\"order\":\"little\",\"shape\":[1050]}},\"selected\":{\"id\":\"1054\"},\"selection_policy\":{\"id\":\"1053\"}},\"id\":\"1035\",\"type\":\"ColumnDataSource\"},{\"attributes\":{},\"id\":\"1014\",\"type\":\"BasicTicker\"},{\"attributes\":{},\"id\":\"1054\",\"type\":\"Selection\"},{\"attributes\":{},\"id\":\"1005\",\"type\":\"DataRange1d\"},{\"attributes\":{\"text\":\"set product design\",\"text_color\":\"#98df8a\",\"x\":5.045303821563721,\"y\":26.905780792236328},\"id\":\"1045\",\"type\":\"Label\"},{\"attributes\":{\"text\":\"price best kadhai\",\"text_color\":\"#d62728\",\"x\":4.05198860168457,\"y\":9.075780868530273},\"id\":\"1046\",\"type\":\"Label\"},{\"attributes\":{},\"id\":\"1009\",\"type\":\"LinearScale\"},{\"attributes\":{},\"id\":\"1048\",\"type\":\"BasicTickFormatter\"},{\"attributes\":{},\"id\":\"1026\",\"type\":\"HelpTool\"},{\"attributes\":{\"overlay\":{\"id\":\"1027\"}},\"id\":\"1023\",\"type\":\"BoxZoomTool\"},{\"attributes\":{},\"id\":\"1025\",\"type\":\"ResetTool\"},{\"attributes\":{\"source\":{\"id\":\"1035\"}},\"id\":\"1039\",\"type\":\"CDSView\"},{\"attributes\":{\"formatter\":{\"id\":\"1050\"},\"ticker\":{\"id\":\"1014\"}},\"id\":\"1013\",\"type\":\"LinearAxis\"},{\"attributes\":{\"text\":\"t-SNE Clustering of 7 LDA Topics\"},\"id\":\"1003\",\"type\":\"Title\"}],\"root_ids\":[\"1002\"]},\"title\":\"Bokeh Application\",\"version\":\"2.1.1\"}};\n",
       "  var render_items = [{\"docid\":\"a66587b2-6446-4ee5-9303-1ab437e2d4d1\",\"root_ids\":[\"1002\"],\"roots\":{\"1002\":\"44a9c649-903c-45a9-99b7-921e0b51d9e5\"}}];\n",
       "  root.Bokeh.embed.embed_items_notebook(docs_json, render_items);\n",
       "\n",
       "  }\n",
       "  if (root.Bokeh !== undefined) {\n",
       "    embed_document(root);\n",
       "  } else {\n",
       "    var attempts = 0;\n",
       "    var timer = setInterval(function(root) {\n",
       "      if (root.Bokeh !== undefined) {\n",
       "        clearInterval(timer);\n",
       "        embed_document(root);\n",
       "      } else {\n",
       "        attempts++;\n",
       "        if (attempts > 100) {\n",
       "          clearInterval(timer);\n",
       "          console.log(\"Bokeh: ERROR: Unable to run BokehJS code because BokehJS library is missing\");\n",
       "        }\n",
       "      }\n",
       "    }, 10, root)\n",
       "  }\n",
       "})(window);"
      ],
      "application/vnd.bokehjs_exec.v0+json": ""
     },
     "metadata": {
      "application/vnd.bokehjs_exec.v0+json": {
       "id": "1002"
      }
     },
     "output_type": "display_data"
    }
   ],
   "source": [
    "top_3_words_lda = get_top_n_words(3, lda_keys, small_document_term_matrix, small_count_vectorizer)\n",
    "lda_mean_topic_vectors = get_mean_topic_vectors(lda_keys, tsne_lda_vectors)\n",
    "\n",
    "plot = figure(title=\"t-SNE Clustering of {} LDA Topics\".format(n_topics), plot_width=700, plot_height=700)\n",
    "plot.scatter(x=tsne_lda_vectors[:,0], y=tsne_lda_vectors[:,1], color=colormap[lda_keys])\n",
    "\n",
    "for t in range(n_topics):\n",
    "    label = Label(x=lda_mean_topic_vectors[t][0], y=lda_mean_topic_vectors[t][1], \n",
    "                  text=top_3_words_lda[t], text_color=colormap[t])\n",
    "    plot.add_layout(label)\n",
    "\n",
    "show(plot)"
   ]
  },
  {
   "cell_type": "markdown",
   "metadata": {},
   "source": [
    "Cette LDA nous a permis de regrouper par descriptions similaires nos produits.\n",
    "Cette méthode reste néanmoins peu précise, c'est pour cela que nous allons réaliser une classification en prenant comme cible la catégorie de chaque produit. \n",
    "## Classification de texte\n",
    "\n",
    "Nous préparons tout d'abord nos catégories."
   ]
  },
  {
   "cell_type": "code",
   "execution_count": 31,
   "metadata": {},
   "outputs": [
    {
     "name": "stderr",
     "output_type": "stream",
     "text": [
      "<ipython-input-31-94eb2171bb66>:5: SettingWithCopyWarning: \n",
      "A value is trying to be set on a copy of a slice from a DataFrame\n",
      "\n",
      "See the caveats in the documentation: https://pandas.pydata.org/pandas-docs/stable/user_guide/indexing.html#returning-a-view-versus-a-copy\n",
      "  categories[i] = re.sub('[^A-Za-z]', ' ', categories[i]).lower()\n"
     ]
    }
   ],
   "source": [
    "categories = raw_data['product_category_tree']\n",
    "categories.index = raw_data.image\n",
    "\n",
    "for i in range (categories.shape[0]) :\n",
    "  categories[i] = re.sub('[^A-Za-z]', ' ', categories[i]).lower()"
   ]
  },
  {
   "cell_type": "code",
   "execution_count": 32,
   "metadata": {},
   "outputs": [
    {
     "name": "stdout",
     "output_type": "stream",
     "text": [
      "image\n",
      "55b85ea15a1536d46b7190ad6fff8ce7.jpg      home furnishing    curtains   accessories   ...\n",
      "7b72c92c2f6c40268628ec5f14c6d590.jpg      baby care    baby bath   skin    baby bath t...\n",
      "64d5d4a258243731dc7bbb1eef49ad74.jpg      baby care    baby bath   skin    baby bath t...\n",
      "d4684dcdc759dd9cdf41504698d737d8.jpg      home furnishing    bed linen    bedsheets   ...\n",
      "6325b6870c54cd47be6ebfbffa620ec7.jpg      home furnishing    bed linen    bedsheets   ...\n",
      "                                                              ...                        \n",
      "958f54f4c46b53c8a0a9b8167d9140bc.jpg      baby care    baby   kids gifts    stickers  ...\n",
      "fd6cbcc22efb6b761bd564c28928483c.jpg      baby care    baby   kids gifts    stickers  ...\n",
      "5912e037d12774bb73a2048f35a00009.jpg      baby care    baby   kids gifts    stickers  ...\n",
      "c3edc504d1b4f0ba6224fa53a43a7ad6.jpg      baby care    baby   kids gifts    stickers  ...\n",
      "f2f027ad6a6df617c9f125173da71e44.jpg      baby care    baby   kids gifts    stickers  ...\n",
      "Name: product_category_tree, Length: 1050, dtype: object\n"
     ]
    }
   ],
   "source": [
    "print(categories)"
   ]
  },
  {
   "cell_type": "code",
   "execution_count": 33,
   "metadata": {
    "scrolled": true
   },
   "outputs": [
    {
     "name": "stdout",
     "output_type": "stream",
     "text": [
      "['home', 'furnishing', 'curtains', 'accessories', 'curtains', 'elegance', 'polyester', 'multicolor', 'abstract', 'eyelet', 'do']\n"
     ]
    }
   ],
   "source": [
    "tokenized_cat = categories.copy()\n",
    "\n",
    "for i in range(tokenized_cat.shape[0]):\n",
    "    tokenized_cat[i]=Tokenizer(tokenized_cat[i])\n",
    "    \n",
    "print(tokenized_cat[0])"
   ]
  },
  {
   "cell_type": "code",
   "execution_count": 34,
   "metadata": {},
   "outputs": [],
   "source": [
    "tokenized_cat = tokenized_cat.apply(lambda x: ' '.join([word for word in x if word not in (mots_a_supprimer)]))"
   ]
  },
  {
   "cell_type": "code",
   "execution_count": 35,
   "metadata": {
    "scrolled": true
   },
   "outputs": [
    {
     "data": {
      "text/plain": [
       "'home furnishing curtains accessories curtains elegance polyester multicolor abstract eyelet'"
      ]
     },
     "execution_count": 35,
     "metadata": {},
     "output_type": "execute_result"
    }
   ],
   "source": [
    "tokenized_cat[0]"
   ]
  },
  {
   "cell_type": "code",
   "execution_count": 36,
   "metadata": {
    "scrolled": true
   },
   "outputs": [
    {
     "name": "stdout",
     "output_type": "stream",
     "text": [
      "['home', 'furnish', 'curtain', 'accessori', 'curtain', 'eleg', 'polyest', 'multicolor', 'abstract', 'eyelet']\n"
     ]
    }
   ],
   "source": [
    "stemmed_tokenized_cat = tokenized_cat.copy()\n",
    "\n",
    "for i in range(tokenized_cat.shape[0]):\n",
    "    stemmed_tokenized_cat[i]=Stemmer(stemmed_tokenized_cat[i])\n",
    "    \n",
    "print(stemmed_tokenized_cat[0])"
   ]
  },
  {
   "cell_type": "code",
   "execution_count": 37,
   "metadata": {},
   "outputs": [
    {
     "data": {
      "text/html": [
       "<div>\n",
       "<style scoped>\n",
       "    .dataframe tbody tr th:only-of-type {\n",
       "        vertical-align: middle;\n",
       "    }\n",
       "\n",
       "    .dataframe tbody tr th {\n",
       "        vertical-align: top;\n",
       "    }\n",
       "\n",
       "    .dataframe thead th {\n",
       "        text-align: right;\n",
       "    }\n",
       "</style>\n",
       "<table border=\"1\" class=\"dataframe\">\n",
       "  <thead>\n",
       "    <tr style=\"text-align: right;\">\n",
       "      <th></th>\n",
       "      <th>cat_name</th>\n",
       "      <th>image_name</th>\n",
       "    </tr>\n",
       "  </thead>\n",
       "  <tbody>\n",
       "    <tr>\n",
       "      <th>0</th>\n",
       "      <td>[home, furnish, curtain, accessori, curtain, e...</td>\n",
       "      <td>55b85ea15a1536d46b7190ad6fff8ce7.jpg</td>\n",
       "    </tr>\n",
       "    <tr>\n",
       "      <th>1</th>\n",
       "      <td>[babi, care, babi, bath, skin, babi, bath, tow...</td>\n",
       "      <td>7b72c92c2f6c40268628ec5f14c6d590.jpg</td>\n",
       "    </tr>\n",
       "    <tr>\n",
       "      <th>2</th>\n",
       "      <td>[babi, care, babi, bath, skin, babi, bath, tow...</td>\n",
       "      <td>64d5d4a258243731dc7bbb1eef49ad74.jpg</td>\n",
       "    </tr>\n",
       "    <tr>\n",
       "      <th>3</th>\n",
       "      <td>[home, furnish, bed, linen, bedsheet, santosh,...</td>\n",
       "      <td>d4684dcdc759dd9cdf41504698d737d8.jpg</td>\n",
       "    </tr>\n",
       "    <tr>\n",
       "      <th>4</th>\n",
       "      <td>[home, furnish, bed, linen, bedsheet, jaipur, ...</td>\n",
       "      <td>6325b6870c54cd47be6ebfbffa620ec7.jpg</td>\n",
       "    </tr>\n",
       "  </tbody>\n",
       "</table>\n",
       "</div>"
      ],
      "text/plain": [
       "                                            cat_name  \\\n",
       "0  [home, furnish, curtain, accessori, curtain, e...   \n",
       "1  [babi, care, babi, bath, skin, babi, bath, tow...   \n",
       "2  [babi, care, babi, bath, skin, babi, bath, tow...   \n",
       "3  [home, furnish, bed, linen, bedsheet, santosh,...   \n",
       "4  [home, furnish, bed, linen, bedsheet, jaipur, ...   \n",
       "\n",
       "                             image_name  \n",
       "0  55b85ea15a1536d46b7190ad6fff8ce7.jpg  \n",
       "1  7b72c92c2f6c40268628ec5f14c6d590.jpg  \n",
       "2  64d5d4a258243731dc7bbb1eef49ad74.jpg  \n",
       "3  d4684dcdc759dd9cdf41504698d737d8.jpg  \n",
       "4  6325b6870c54cd47be6ebfbffa620ec7.jpg  "
      ]
     },
     "execution_count": 37,
     "metadata": {},
     "output_type": "execute_result"
    }
   ],
   "source": [
    "Y = pd.DataFrame({'cat_name' : stemmed_tokenized_cat,\n",
    "                    'image_name' : stemmed_tokenized_cat.index})\n",
    "Y = Y.reset_index(drop=True)\n",
    "\n",
    "Y.head()"
   ]
  },
  {
   "cell_type": "code",
   "execution_count": 38,
   "metadata": {
    "scrolled": true
   },
   "outputs": [
    {
     "data": {
      "text/html": [
       "<div>\n",
       "<style scoped>\n",
       "    .dataframe tbody tr th:only-of-type {\n",
       "        vertical-align: middle;\n",
       "    }\n",
       "\n",
       "    .dataframe tbody tr th {\n",
       "        vertical-align: top;\n",
       "    }\n",
       "\n",
       "    .dataframe thead th {\n",
       "        text-align: right;\n",
       "    }\n",
       "</style>\n",
       "<table border=\"1\" class=\"dataframe\">\n",
       "  <thead>\n",
       "    <tr style=\"text-align: right;\">\n",
       "      <th></th>\n",
       "      <th>cat_name</th>\n",
       "      <th>image_name</th>\n",
       "      <th>cat</th>\n",
       "    </tr>\n",
       "  </thead>\n",
       "  <tbody>\n",
       "    <tr>\n",
       "      <th>0</th>\n",
       "      <td>[home, furnish, curtain, accessori, curtain, e...</td>\n",
       "      <td>55b85ea15a1536d46b7190ad6fff8ce7.jpg</td>\n",
       "      <td>home furnish</td>\n",
       "    </tr>\n",
       "    <tr>\n",
       "      <th>1</th>\n",
       "      <td>[babi, care, babi, bath, skin, babi, bath, tow...</td>\n",
       "      <td>7b72c92c2f6c40268628ec5f14c6d590.jpg</td>\n",
       "      <td>babi care</td>\n",
       "    </tr>\n",
       "    <tr>\n",
       "      <th>2</th>\n",
       "      <td>[babi, care, babi, bath, skin, babi, bath, tow...</td>\n",
       "      <td>64d5d4a258243731dc7bbb1eef49ad74.jpg</td>\n",
       "      <td>babi care</td>\n",
       "    </tr>\n",
       "    <tr>\n",
       "      <th>3</th>\n",
       "      <td>[home, furnish, bed, linen, bedsheet, santosh,...</td>\n",
       "      <td>d4684dcdc759dd9cdf41504698d737d8.jpg</td>\n",
       "      <td>home furnish</td>\n",
       "    </tr>\n",
       "    <tr>\n",
       "      <th>4</th>\n",
       "      <td>[home, furnish, bed, linen, bedsheet, jaipur, ...</td>\n",
       "      <td>6325b6870c54cd47be6ebfbffa620ec7.jpg</td>\n",
       "      <td>home furnish</td>\n",
       "    </tr>\n",
       "  </tbody>\n",
       "</table>\n",
       "</div>"
      ],
      "text/plain": [
       "                                            cat_name  \\\n",
       "0  [home, furnish, curtain, accessori, curtain, e...   \n",
       "1  [babi, care, babi, bath, skin, babi, bath, tow...   \n",
       "2  [babi, care, babi, bath, skin, babi, bath, tow...   \n",
       "3  [home, furnish, bed, linen, bedsheet, santosh,...   \n",
       "4  [home, furnish, bed, linen, bedsheet, jaipur, ...   \n",
       "\n",
       "                             image_name           cat  \n",
       "0  55b85ea15a1536d46b7190ad6fff8ce7.jpg  home furnish  \n",
       "1  7b72c92c2f6c40268628ec5f14c6d590.jpg     babi care  \n",
       "2  64d5d4a258243731dc7bbb1eef49ad74.jpg     babi care  \n",
       "3  d4684dcdc759dd9cdf41504698d737d8.jpg  home furnish  \n",
       "4  6325b6870c54cd47be6ebfbffa620ec7.jpg  home furnish  "
      ]
     },
     "execution_count": 38,
     "metadata": {},
     "output_type": "execute_result"
    }
   ],
   "source": [
    "Y['cat']=Y.cat_name\n",
    "\n",
    "for i in range(Y.cat_name.shape[0]) :\n",
    "    Y['cat'][i]=Y.cat_name[i][:2]\n",
    "\n",
    "Y.cat = Y.cat.apply(lambda x: ' '.join([word for word in x]))\n",
    "\n",
    "Y.head()"
   ]
  },
  {
   "cell_type": "code",
   "execution_count": 54,
   "metadata": {
    "scrolled": false
   },
   "outputs": [
    {
     "data": {
      "text/plain": [
       "home furnish      150\n",
       "kitchen dine      150\n",
       "babi care         150\n",
       "home decor        150\n",
       "beauti person     150\n",
       "watch wrist       149\n",
       "comput laptop      89\n",
       "comput network     49\n",
       "comput comput       6\n",
       "comput tablet       3\n",
       "comput storag       2\n",
       "watch clock         1\n",
       "comput softwar      1\n",
       "Name: cat, dtype: int64"
      ]
     },
     "execution_count": 54,
     "metadata": {},
     "output_type": "execute_result"
    }
   ],
   "source": [
    "Y.cat.value_counts()"
   ]
  },
  {
   "cell_type": "code",
   "execution_count": 55,
   "metadata": {
    "scrolled": true
   },
   "outputs": [
    {
     "data": {
      "text/plain": [
       "6    150\n",
       "5    150\n",
       "4    150\n",
       "3    150\n",
       "2    150\n",
       "1    150\n",
       "0    150\n",
       "Name: label, dtype: int64"
      ]
     },
     "execution_count": 55,
     "metadata": {},
     "output_type": "execute_result"
    }
   ],
   "source": [
    "Y['label']=Y.cat\n",
    "\n",
    "for i in range(Y.cat.shape[0]):\n",
    "    if Y.cat[i]=='home furnish':\n",
    "        Y.label[i]=0\n",
    "    elif Y.cat[i]=='beauti person':\n",
    "        Y.label[i]=1\n",
    "    elif Y.cat[i]=='kitchen dine':\n",
    "        Y.label[i]=2\n",
    "    elif Y.cat[i]=='home decor':\n",
    "        Y.label[i]=3\n",
    "    elif Y.cat[i]=='babi care':\n",
    "        Y.label[i]=4\n",
    "    else :\n",
    "        if Y.cat[i].__contains__('watch')==True:\n",
    "            Y.label[i]=5\n",
    "        else :\n",
    "            Y.label[i]=6\n",
    "            \n",
    "Y.label.value_counts()"
   ]
  },
  {
   "cell_type": "code",
   "execution_count": 57,
   "metadata": {},
   "outputs": [],
   "source": [
    "Y.drop('cat_name', axis=1).to_csv('images_categories.csv')"
   ]
  },
  {
   "cell_type": "code",
   "execution_count": 42,
   "metadata": {},
   "outputs": [
    {
     "name": "stdout",
     "output_type": "stream",
     "text": [
      "Label number 0:  ['home furnish']\n",
      "Label number 1:  ['beauti person']\n",
      "Label number 2:  ['kitchen dine']\n",
      "Label number 3:  ['home decor']\n",
      "Label number 4:  ['babi care']\n",
      "Label number 5:  ['watch wrist']\n",
      "Label number 6:  ['comput network']\n"
     ]
    }
   ],
   "source": [
    "for i in range(7):\n",
    "    print('Label number {}: '.format(i) , '{}'.format(Y.loc[Y.label==i, 'cat'][:1].values))\n"
   ]
  },
  {
   "cell_type": "markdown",
   "metadata": {},
   "source": [
    "Suite à cette analyse des catégories nous trouvons ici 7 principales thématiques : \n",
    "- 0. Home Furnishing\n",
    "- 1. Beauty and Personal Care \n",
    "- 2. Kichen and Dining\n",
    "- 3. Home Decoration\n",
    "- 4. Baby Care\n",
    "- 5. Watches\n",
    "- 6. Computers\n",
    "\n",
    "Il est temps maintenant de réaliser notre classification. Nous allons donc vectorialiser nos descriptions, les séparers et Train & Test puis réaliser une Classification RandomForest."
   ]
  },
  {
   "cell_type": "code",
   "execution_count": 43,
   "metadata": {},
   "outputs": [
    {
     "data": {
      "text/plain": [
       "array(['key eleg polyest multicolor abstract eyelet door curtain floral curtain eleg polyest multicolor abstract eyelet door curtain height pack curtain enhanc look interior curtain made high qualiti polyest fabric eyelet style stitch metal ring make room environ romant love curtain ant wrinkl anti shrinkag eleg appar give home bright modernist appeal design surreal attent sure steal heart contemporari eyelet valanc curtain slide smoothli draw apart first thing morn welcom bright sun ray want wish good morn whole world draw close even creat special moment joyou beauti given sooth print bring home eleg curtain softli filter light room get right amount sunlight eleg polyest multicolor abstract eyelet door curtain height pack gener brand eleg design door type eyelet model name abstract polyest door curtain set model id duster color multicolor dimens length box number content sale packag pack sale packag curtain bodi design materi polyest',\n",
       "       'sathiya cotton bath towel bath towel red yellow blue bath towel machin washabl ye materi cotton design self design gener brand sathiya type bath towel gsm model name sathiya cotton bath towel ideal men women boy girl model id asvtwl color red yellow blue size mediam dimens length inch width inch box number content sale packag sale packag bath towel',\n",
       "       'key eurospa cotton terri face towel set size small height inch gsm eurospa cotton terri face towel set piec face towel set assort eurospa bring exclus design soft cotton towel export qualiti soft textur take care skin give enrich feel deserv eurospa export bath towel lot renown brand last year famou fine print absorb soft durabl note product cotton suscept shrinkag product color may vari pictur size may vari wash care wash cold water iron bleach flat dri wash first use size face towel cm x cm eurospa cotton terri face towel set piec face towel set assort bath towel materi cotton terri design shuvam gener brand eurospa gsm type face towel set model name shuvam pcftsetassort ideal boy girl men women model id shuvam pcftsetassort size small color assort dimens weight g length inch width inch box number content sale packag sale packag piec face towel set',\n",
       "       ...,\n",
       "       'uberlyf extra larg pigment polyvinyl film import sticker uberlyf extra larg pigment polyvinyl film import sticker best price',\n",
       "       'wallmantra medium vinyl sticker sticker wallmantra medium vinyl sticker sticker best price',\n",
       "       'uberlyf larg vinyl sticker uberlyf larg vinyl sticker best price'],\n",
       "      dtype=object)"
      ]
     },
     "execution_count": 43,
     "metadata": {},
     "output_type": "execute_result"
    }
   ],
   "source": [
    "stemmed_tokenized_data.values"
   ]
  },
  {
   "cell_type": "code",
   "execution_count": 44,
   "metadata": {},
   "outputs": [
    {
     "name": "stdout",
     "output_type": "stream",
     "text": [
      "  (0, 129)\t2\n",
      "  (0, 184)\t1\n",
      "  (0, 49)\t1\n",
      "  (0, 460)\t1\n",
      "  (0, 288)\t2\n",
      "  (0, 221)\t1\n",
      "  (0, 89)\t1\n",
      "  (0, 136)\t1\n",
      "  (0, 255)\t1\n",
      "  (0, 47)\t1\n",
      "  (0, 306)\t1\n",
      "  (0, 104)\t1\n",
      "  (0, 392)\t2\n",
      "  (0, 321)\t2\n",
      "  (0, 275)\t1\n",
      "  (0, 108)\t3\n",
      "  (0, 32)\t6\n",
      "  (0, 456)\t6\n",
      "  (0, 374)\t2\n",
      "  (0, 498)\t2\n",
      "  (0, 42)\t2\n",
      "  (0, 270)\t1\n",
      "  (0, 478)\t1\n",
      "  (0, 496)\t1\n",
      "  (0, 396)\t1\n",
      "  (0, 198)\t1\n",
      "  (0, 222)\t1\n",
      "  (0, 280)\t1\n",
      "  (0, 490)\t1\n",
      "  (0, 48)\t1\n",
      "  (0, 187)\t1\n",
      "  (0, 413)\t1\n",
      "  (0, 226)\t2\n",
      "  (0, 489)\t1\n"
     ]
    }
   ],
   "source": [
    "count_vectorizer=CountVectorizer(stop_words='english',max_features=500)\n",
    "\n",
    "vectorized_description = count_vectorizer.fit_transform(stemmed_tokenized_data.values)\n",
    "\n",
    "print(vectorized_description[1])"
   ]
  },
  {
   "cell_type": "code",
   "execution_count": 45,
   "metadata": {},
   "outputs": [],
   "source": [
    "X, y = vectorized_description, Y.label.values\n",
    "y=y.astype(int)\n",
    "X_train, X_test, y_train, y_test = train_test_split(X, y, test_size=0.3)"
   ]
  },
  {
   "cell_type": "code",
   "execution_count": 46,
   "metadata": {},
   "outputs": [],
   "source": [
    "X_train_array = X_train.toarray()"
   ]
  },
  {
   "cell_type": "code",
   "execution_count": 47,
   "metadata": {},
   "outputs": [
    {
     "data": {
      "text/plain": [
       "RandomForestClassifier()"
      ]
     },
     "execution_count": 47,
     "metadata": {},
     "output_type": "execute_result"
    }
   ],
   "source": [
    "from sklearn.ensemble import RandomForestClassifier\n",
    "\n",
    "model = RandomForestClassifier()\n",
    "model.fit(X_train_array, y_train)"
   ]
  },
  {
   "cell_type": "code",
   "execution_count": 48,
   "metadata": {},
   "outputs": [
    {
     "name": "stdout",
     "output_type": "stream",
     "text": [
      "Accuracy:  0.9301587301587302\n"
     ]
    }
   ],
   "source": [
    "y_pred = model.predict(X_test)\n",
    "\n",
    "print(\"Accuracy: \", accuracy_score(y_test, y_pred))"
   ]
  },
  {
   "cell_type": "code",
   "execution_count": 49,
   "metadata": {},
   "outputs": [
    {
     "data": {
      "image/png": "[encoded data removed]",
      "text/plain": [
       "<Figure size 432x288 with 2 Axes>"
      ]
     },
     "metadata": {
      "needs_background": "light"
     },
     "output_type": "display_data"
    }
   ],
   "source": [
    "#print(confusion_matrix(y_test, y_pred))\n",
    "\n",
    "plot_confusion_matrix(model, X_test, y_test)\n",
    "plt.title('Matrice de Confusion')\n",
    "plt.show()"
   ]
  },
  {
   "cell_type": "markdown",
   "metadata": {},
   "source": [
    "Sans même optimisations du modèle, nous obtenons une Accuracy de plus de 92%. Nous observons donc que la classification du texte des descriptions d'image est faisable et que nous avons tous les élément nécessaires à disposition. \n",
    "\n",
    "Nous allons passer désormais au traitement des images afin de voir s'il est possible d'en faire de même."
   ]
  }
 ],
 "metadata": {
  "kernelspec": {
   "display_name": "Python 3",
   "language": "python",
   "name": "python3"
  },
  "language_info": {
   "codemirror_mode": {
    "name": "ipython",
    "version": 3
   },
   "file_extension": ".py",
   "mimetype": "text/x-python",
   "name": "python",
   "nbconvert_exporter": "python",
   "pygments_lexer": "ipython3",
   "version": "3.8.3"
  },
  "toc": {
   "base_numbering": 1,
   "nav_menu": {},
   "number_sections": true,
   "sideBar": true,
   "skip_h1_title": true,
   "title_cell": "Table of Contents",
   "title_sidebar": "Contents",
   "toc_cell": false,
   "toc_position": {},
   "toc_section_display": true,
   "toc_window_display": true
  }
 },
 "nbformat": 4,
 "nbformat_minor": 4
}
