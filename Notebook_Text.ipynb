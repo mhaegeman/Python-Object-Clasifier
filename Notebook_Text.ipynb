{
 "cells": [
  {
   "cell_type": "markdown",
   "metadata": {},
   "source": [
    "# Classifiez automatiquement des biens de consommation : Traitement de texte\n",
    "## Importation des librairies et des données\n",
    "### Importation des librairies python utilisées"
   ]
  },
  {
   "cell_type": "code",
   "execution_count": 14,
   "metadata": {},
   "outputs": [
    {
     "data": {
      "text/html": [
       "\n",
       "    <div class=\"bk-root\">\n",
       "        <a href=\"https://bokeh.org\" target=\"_blank\" class=\"bk-logo bk-logo-small bk-logo-notebook\"></a>\n",
       "        <span id=\"1002\">Loading BokehJS ...</span>\n",
       "    </div>"
      ]
     },
     "metadata": {},
     "output_type": "display_data"
    },
    {
     "data": {
      "application/javascript": "\n(function(root) {\n  function now() {\n    return new Date();\n  }\n\n  var force = true;\n\n  if (typeof root._bokeh_onload_callbacks === \"undefined\" || force === true) {\n    root._bokeh_onload_callbacks = [];\n    root._bokeh_is_loading = undefined;\n  }\n\n  var JS_MIME_TYPE = 'application/javascript';\n  var HTML_MIME_TYPE = 'text/html';\n  var EXEC_MIME_TYPE = 'application/vnd.bokehjs_exec.v0+json';\n  var CLASS_NAME = 'output_bokeh rendered_html';\n\n  /**\n   * Render data to the DOM node\n   */\n  function render(props, node) {\n    var script = document.createElement(\"script\");\n    node.appendChild(script);\n  }\n\n  /**\n   * Handle when an output is cleared or removed\n   */\n  function handleClearOutput(event, handle) {\n    var cell = handle.cell;\n\n    var id = cell.output_area._bokeh_element_id;\n    var server_id = cell.output_area._bokeh_server_id;\n    // Clean up Bokeh references\n    if (id != null && id in Bokeh.index) {\n      Bokeh.index[id].model.document.clear();\n      delete Bokeh.index[id];\n    }\n\n    if (server_id !== undefined) {\n      // Clean up Bokeh references\n      var cmd = \"from bokeh.io.state import curstate; print(curstate().uuid_to_server['\" + server_id + \"'].get_sessions()[0].document.roots[0]._id)\";\n      cell.notebook.kernel.execute(cmd, {\n        iopub: {\n          output: function(msg) {\n            var id = msg.content.text.trim();\n            if (id in Bokeh.index) {\n              Bokeh.index[id].model.document.clear();\n              delete Bokeh.index[id];\n            }\n          }\n        }\n      });\n      // Destroy server and session\n      var cmd = \"import bokeh.io.notebook as ion; ion.destroy_server('\" + server_id + \"')\";\n      cell.notebook.kernel.execute(cmd);\n    }\n  }\n\n  /**\n   * Handle when a new output is added\n   */\n  function handleAddOutput(event, handle) {\n    var output_area = handle.output_area;\n    var output = handle.output;\n\n    // limit handleAddOutput to display_data with EXEC_MIME_TYPE content only\n    if ((output.output_type != \"display_data\") || (!output.data.hasOwnProperty(EXEC_MIME_TYPE))) {\n      return\n    }\n\n    var toinsert = output_area.element.find(\".\" + CLASS_NAME.split(' ')[0]);\n\n    if (output.metadata[EXEC_MIME_TYPE][\"id\"] !== undefined) {\n      toinsert[toinsert.length - 1].firstChild.textContent = output.data[JS_MIME_TYPE];\n      // store reference to embed id on output_area\n      output_area._bokeh_element_id = output.metadata[EXEC_MIME_TYPE][\"id\"];\n    }\n    if (output.metadata[EXEC_MIME_TYPE][\"server_id\"] !== undefined) {\n      var bk_div = document.createElement(\"div\");\n      bk_div.innerHTML = output.data[HTML_MIME_TYPE];\n      var script_attrs = bk_div.children[0].attributes;\n      for (var i = 0; i < script_attrs.length; i++) {\n        toinsert[toinsert.length - 1].firstChild.setAttribute(script_attrs[i].name, script_attrs[i].value);\n        toinsert[toinsert.length - 1].firstChild.textContent = bk_div.children[0].textContent\n      }\n      // store reference to server id on output_area\n      output_area._bokeh_server_id = output.metadata[EXEC_MIME_TYPE][\"server_id\"];\n    }\n  }\n\n  function register_renderer(events, OutputArea) {\n\n    function append_mime(data, metadata, element) {\n      // create a DOM node to render to\n      var toinsert = this.create_output_subarea(\n        metadata,\n        CLASS_NAME,\n        EXEC_MIME_TYPE\n      );\n      this.keyboard_manager.register_events(toinsert);\n      // Render to node\n      var props = {data: data, metadata: metadata[EXEC_MIME_TYPE]};\n      render(props, toinsert[toinsert.length - 1]);\n      element.append(toinsert);\n      return toinsert\n    }\n\n    /* Handle when an output is cleared or removed */\n    events.on('clear_output.CodeCell', handleClearOutput);\n    events.on('delete.Cell', handleClearOutput);\n\n    /* Handle when a new output is added */\n    events.on('output_added.OutputArea', handleAddOutput);\n\n    /**\n     * Register the mime type and append_mime function with output_area\n     */\n    OutputArea.prototype.register_mime_type(EXEC_MIME_TYPE, append_mime, {\n      /* Is output safe? */\n      safe: true,\n      /* Index of renderer in `output_area.display_order` */\n      index: 0\n    });\n  }\n\n  // register the mime type if in Jupyter Notebook environment and previously unregistered\n  if (root.Jupyter !== undefined) {\n    var events = require('base/js/events');\n    var OutputArea = require('notebook/js/outputarea').OutputArea;\n\n    if (OutputArea.prototype.mime_types().indexOf(EXEC_MIME_TYPE) == -1) {\n      register_renderer(events, OutputArea);\n    }\n  }\n\n  \n  if (typeof (root._bokeh_timeout) === \"undefined\" || force === true) {\n    root._bokeh_timeout = Date.now() + 5000;\n    root._bokeh_failed_load = false;\n  }\n\n  var NB_LOAD_WARNING = {'data': {'text/html':\n     \"<div style='background-color: #fdd'>\\n\"+\n     \"<p>\\n\"+\n     \"BokehJS does not appear to have successfully loaded. If loading BokehJS from CDN, this \\n\"+\n     \"may be due to a slow or bad network connection. Possible fixes:\\n\"+\n     \"</p>\\n\"+\n     \"<ul>\\n\"+\n     \"<li>re-rerun `output_notebook()` to attempt to load from CDN again, or</li>\\n\"+\n     \"<li>use INLINE resources instead, as so:</li>\\n\"+\n     \"</ul>\\n\"+\n     \"<code>\\n\"+\n     \"from bokeh.resources import INLINE\\n\"+\n     \"output_notebook(resources=INLINE)\\n\"+\n     \"</code>\\n\"+\n     \"</div>\"}};\n\n  function display_loaded() {\n    var el = document.getElementById(\"1002\");\n    if (el != null) {\n      el.textContent = \"BokehJS is loading...\";\n    }\n    if (root.Bokeh !== undefined) {\n      if (el != null) {\n        el.textContent = \"BokehJS \" + root.Bokeh.version + \" successfully loaded.\";\n      }\n    } else if (Date.now() < root._bokeh_timeout) {\n      setTimeout(display_loaded, 100)\n    }\n  }\n\n\n  function run_callbacks() {\n    try {\n      root._bokeh_onload_callbacks.forEach(function(callback) {\n        if (callback != null)\n          callback();\n      });\n    } finally {\n      delete root._bokeh_onload_callbacks\n    }\n    console.debug(\"Bokeh: all callbacks have finished\");\n  }\n\n  function load_libs(css_urls, js_urls, callback) {\n    if (css_urls == null) css_urls = [];\n    if (js_urls == null) js_urls = [];\n\n    root._bokeh_onload_callbacks.push(callback);\n    if (root._bokeh_is_loading > 0) {\n      console.debug(\"Bokeh: BokehJS is being loaded, scheduling callback at\", now());\n      return null;\n    }\n    if (js_urls == null || js_urls.length === 0) {\n      run_callbacks();\n      return null;\n    }\n    console.debug(\"Bokeh: BokehJS not loaded, scheduling load and callback at\", now());\n    root._bokeh_is_loading = css_urls.length + js_urls.length;\n\n    function on_load() {\n      root._bokeh_is_loading--;\n      if (root._bokeh_is_loading === 0) {\n        console.debug(\"Bokeh: all BokehJS libraries/stylesheets loaded\");\n        run_callbacks()\n      }\n    }\n\n    function on_error() {\n      console.error(\"failed to load \" + url);\n    }\n\n    for (var i = 0; i < css_urls.length; i++) {\n      var url = css_urls[i];\n      const element = document.createElement(\"link\");\n      element.onload = on_load;\n      element.onerror = on_error;\n      element.rel = \"stylesheet\";\n      element.type = \"text/css\";\n      element.href = url;\n      console.debug(\"Bokeh: injecting link tag for BokehJS stylesheet: \", url);\n      document.body.appendChild(element);\n    }\n\n    const hashes = {\"https://cdn.bokeh.org/bokeh/release/bokeh-2.1.1.min.js\": \"kLr4fYcqcSpbuI95brIH3vnnYCquzzSxHPU6XGQCIkQRGJwhg0StNbj1eegrHs12\", \"https://cdn.bokeh.org/bokeh/release/bokeh-widgets-2.1.1.min.js\": \"xIGPmVtaOm+z0BqfSOMn4lOR6ciex448GIKG4eE61LsAvmGj48XcMQZtKcE/UXZe\", \"https://cdn.bokeh.org/bokeh/release/bokeh-tables-2.1.1.min.js\": \"Dc9u1wF/0zApGIWoBbH77iWEHtdmkuYWG839Uzmv8y8yBLXebjO9ZnERsde5Ln/P\", \"https://cdn.bokeh.org/bokeh/release/bokeh-gl-2.1.1.min.js\": \"cT9JaBz7GiRXdENrJLZNSC6eMNF3nh3fa5fTF51Svp+ukxPdwcU5kGXGPBgDCa2j\"};\n\n    for (var i = 0; i < js_urls.length; i++) {\n      var url = js_urls[i];\n      var element = document.createElement('script');\n      element.onload = on_load;\n      element.onerror = on_error;\n      element.async = false;\n      element.src = url;\n      if (url in hashes) {\n        element.crossOrigin = \"anonymous\";\n        element.integrity = \"sha384-\" + hashes[url];\n      }\n      console.debug(\"Bokeh: injecting script tag for BokehJS library: \", url);\n      document.head.appendChild(element);\n    }\n  };\n\n  function inject_raw_css(css) {\n    const element = document.createElement(\"style\");\n    element.appendChild(document.createTextNode(css));\n    document.body.appendChild(element);\n  }\n\n  \n  var js_urls = [\"https://cdn.bokeh.org/bokeh/release/bokeh-2.1.1.min.js\", \"https://cdn.bokeh.org/bokeh/release/bokeh-widgets-2.1.1.min.js\", \"https://cdn.bokeh.org/bokeh/release/bokeh-tables-2.1.1.min.js\", \"https://cdn.bokeh.org/bokeh/release/bokeh-gl-2.1.1.min.js\"];\n  var css_urls = [];\n  \n\n  var inline_js = [\n    function(Bokeh) {\n      Bokeh.set_log_level(\"info\");\n    },\n    function(Bokeh) {\n    \n    \n    }\n  ];\n\n  function run_inline_js() {\n    \n    if (root.Bokeh !== undefined || force === true) {\n      \n    for (var i = 0; i < inline_js.length; i++) {\n      inline_js[i].call(root, root.Bokeh);\n    }\n    if (force === true) {\n        display_loaded();\n      }} else if (Date.now() < root._bokeh_timeout) {\n      setTimeout(run_inline_js, 100);\n    } else if (!root._bokeh_failed_load) {\n      console.log(\"Bokeh: BokehJS failed to load within specified timeout.\");\n      root._bokeh_failed_load = true;\n    } else if (force !== true) {\n      var cell = $(document.getElementById(\"1002\")).parents('.cell').data().cell;\n      cell.output_area.append_execute_result(NB_LOAD_WARNING)\n    }\n\n  }\n\n  if (root._bokeh_is_loading === 0) {\n    console.debug(\"Bokeh: BokehJS loaded, going straight to plotting\");\n    run_inline_js();\n  } else {\n    load_libs(css_urls, js_urls, function() {\n      console.debug(\"Bokeh: BokehJS plotting callback run at\", now());\n      run_inline_js();\n    });\n  }\n}(window));",
      "application/vnd.bokehjs_load.v0+json": ""
     },
     "metadata": {},
     "output_type": "display_data"
    }
   ],
   "source": [
    "import numpy as np\n",
    "import pandas as pd\n",
    "from IPython.display import display\n",
    "from tqdm import tqdm\n",
    "from collections import Counter\n",
    "import ast\n",
    "\n",
    "import matplotlib.pyplot as plt\n",
    "import matplotlib.mlab as mlab\n",
    "import seaborn as sb\n",
    "\n",
    "from textblob import TextBlob\n",
    "import scipy.stats as stats\n",
    "\n",
    "from sklearn.feature_extraction.text import CountVectorizer\n",
    "from sklearn.decomposition import LatentDirichletAllocation\n",
    "from sklearn.manifold import TSNE\n",
    "from sklearn.model_selection import train_test_split\n",
    "from sklearn.metrics import accuracy_score\n",
    "from sklearn.metrics import confusion_matrix\n",
    "from sklearn.metrics import plot_confusion_matrix\n",
    "\n",
    "from bokeh.plotting import figure, output_file, show\n",
    "from bokeh.models import Label\n",
    "from bokeh.io import output_notebook\n",
    "output_notebook()\n",
    "\n",
    "%matplotlib inline"
   ]
  },
  {
   "cell_type": "markdown",
   "metadata": {},
   "source": [
    "### Importation du jeu de données et visualisation des variables"
   ]
  },
  {
   "cell_type": "code",
   "execution_count": 2,
   "metadata": {},
   "outputs": [],
   "source": [
    "raw_data = pd.read_csv('text_1050.csv')"
   ]
  },
  {
   "cell_type": "code",
   "execution_count": 8,
   "metadata": {
    "scrolled": false
   },
   "outputs": [
    {
     "name": "stdout",
     "output_type": "stream",
     "text": [
      "<class 'pandas.core.frame.DataFrame'>\n",
      "RangeIndex: 1050 entries, 0 to 1049\n",
      "Data columns (total 15 columns):\n",
      " #   Column                   Non-Null Count  Dtype  \n",
      "---  ------                   --------------  -----  \n",
      " 0   uniq_id                  1050 non-null   object \n",
      " 1   crawl_timestamp          1050 non-null   object \n",
      " 2   product_url              1050 non-null   object \n",
      " 3   product_name             1050 non-null   object \n",
      " 4   product_category_tree    1050 non-null   object \n",
      " 5   pid                      1050 non-null   object \n",
      " 6   retail_price             1049 non-null   float64\n",
      " 7   discounted_price         1049 non-null   float64\n",
      " 8   image                    1050 non-null   object \n",
      " 9   is_FK_Advantage_product  1050 non-null   bool   \n",
      " 10  description              1050 non-null   object \n",
      " 11  product_rating           1050 non-null   object \n",
      " 12  overall_rating           1050 non-null   object \n",
      " 13  brand                    712 non-null    object \n",
      " 14  product_specifications   1049 non-null   object \n",
      "dtypes: bool(1), float64(2), object(12)\n",
      "memory usage: 116.0+ KB\n"
     ]
    }
   ],
   "source": [
    "raw_data.info()"
   ]
  },
  {
   "cell_type": "code",
   "execution_count": 4,
   "metadata": {
    "scrolled": false
   },
   "outputs": [
    {
     "data": {
      "text/html": [
       "<div>\n",
       "<style scoped>\n",
       "    .dataframe tbody tr th:only-of-type {\n",
       "        vertical-align: middle;\n",
       "    }\n",
       "\n",
       "    .dataframe tbody tr th {\n",
       "        vertical-align: top;\n",
       "    }\n",
       "\n",
       "    .dataframe thead th {\n",
       "        text-align: right;\n",
       "    }\n",
       "</style>\n",
       "<table border=\"1\" class=\"dataframe\">\n",
       "  <thead>\n",
       "    <tr style=\"text-align: right;\">\n",
       "      <th></th>\n",
       "      <th>uniq_id</th>\n",
       "      <th>crawl_timestamp</th>\n",
       "      <th>product_url</th>\n",
       "      <th>product_name</th>\n",
       "      <th>product_category_tree</th>\n",
       "      <th>pid</th>\n",
       "      <th>retail_price</th>\n",
       "      <th>discounted_price</th>\n",
       "      <th>image</th>\n",
       "      <th>is_FK_Advantage_product</th>\n",
       "      <th>description</th>\n",
       "      <th>product_rating</th>\n",
       "      <th>overall_rating</th>\n",
       "      <th>brand</th>\n",
       "      <th>product_specifications</th>\n",
       "    </tr>\n",
       "  </thead>\n",
       "  <tbody>\n",
       "    <tr>\n",
       "      <th>0</th>\n",
       "      <td>55b85ea15a1536d46b7190ad6fff8ce7</td>\n",
       "      <td>2016-04-30 03:22:56 +0000</td>\n",
       "      <td>http://www.flipkart.com/elegance-polyester-mul...</td>\n",
       "      <td>Elegance Polyester Multicolor Abstract Eyelet ...</td>\n",
       "      <td>[\"Home Furnishing &gt;&gt; Curtains &amp; Accessories &gt;&gt;...</td>\n",
       "      <td>CRNEG7BKMFFYHQ8Z</td>\n",
       "      <td>1899.0</td>\n",
       "      <td>899.0</td>\n",
       "      <td>55b85ea15a1536d46b7190ad6fff8ce7.jpg</td>\n",
       "      <td>False</td>\n",
       "      <td>Key Features of Elegance Polyester Multicolor ...</td>\n",
       "      <td>No rating available</td>\n",
       "      <td>No rating available</td>\n",
       "      <td>Elegance</td>\n",
       "      <td>{\"product_specification\"=&gt;[{\"key\"=&gt;\"Brand\", \"v...</td>\n",
       "    </tr>\n",
       "    <tr>\n",
       "      <th>1</th>\n",
       "      <td>7b72c92c2f6c40268628ec5f14c6d590</td>\n",
       "      <td>2016-04-30 03:22:56 +0000</td>\n",
       "      <td>http://www.flipkart.com/sathiyas-cotton-bath-t...</td>\n",
       "      <td>Sathiyas Cotton Bath Towel</td>\n",
       "      <td>[\"Baby Care &gt;&gt; Baby Bath &amp; Skin &gt;&gt; Baby Bath T...</td>\n",
       "      <td>BTWEGFZHGBXPHZUH</td>\n",
       "      <td>600.0</td>\n",
       "      <td>449.0</td>\n",
       "      <td>7b72c92c2f6c40268628ec5f14c6d590.jpg</td>\n",
       "      <td>False</td>\n",
       "      <td>Specifications of Sathiyas Cotton Bath Towel (...</td>\n",
       "      <td>No rating available</td>\n",
       "      <td>No rating available</td>\n",
       "      <td>Sathiyas</td>\n",
       "      <td>{\"product_specification\"=&gt;[{\"key\"=&gt;\"Machine Wa...</td>\n",
       "    </tr>\n",
       "    <tr>\n",
       "      <th>2</th>\n",
       "      <td>64d5d4a258243731dc7bbb1eef49ad74</td>\n",
       "      <td>2016-04-30 03:22:56 +0000</td>\n",
       "      <td>http://www.flipkart.com/eurospa-cotton-terry-f...</td>\n",
       "      <td>Eurospa Cotton Terry Face Towel Set</td>\n",
       "      <td>[\"Baby Care &gt;&gt; Baby Bath &amp; Skin &gt;&gt; Baby Bath T...</td>\n",
       "      <td>BTWEG6SHXTDB2A2Y</td>\n",
       "      <td>NaN</td>\n",
       "      <td>NaN</td>\n",
       "      <td>64d5d4a258243731dc7bbb1eef49ad74.jpg</td>\n",
       "      <td>False</td>\n",
       "      <td>Key Features of Eurospa Cotton Terry Face Towe...</td>\n",
       "      <td>No rating available</td>\n",
       "      <td>No rating available</td>\n",
       "      <td>Eurospa</td>\n",
       "      <td>{\"product_specification\"=&gt;[{\"key\"=&gt;\"Material\",...</td>\n",
       "    </tr>\n",
       "    <tr>\n",
       "      <th>3</th>\n",
       "      <td>d4684dcdc759dd9cdf41504698d737d8</td>\n",
       "      <td>2016-06-20 08:49:52 +0000</td>\n",
       "      <td>http://www.flipkart.com/santosh-royal-fashion-...</td>\n",
       "      <td>SANTOSH ROYAL FASHION Cotton Printed King size...</td>\n",
       "      <td>[\"Home Furnishing &gt;&gt; Bed Linen &gt;&gt; Bedsheets &gt;&gt;...</td>\n",
       "      <td>BDSEJT9UQWHDUBH4</td>\n",
       "      <td>2699.0</td>\n",
       "      <td>1299.0</td>\n",
       "      <td>d4684dcdc759dd9cdf41504698d737d8.jpg</td>\n",
       "      <td>False</td>\n",
       "      <td>Key Features of SANTOSH ROYAL FASHION Cotton P...</td>\n",
       "      <td>No rating available</td>\n",
       "      <td>No rating available</td>\n",
       "      <td>SANTOSH ROYAL FASHION</td>\n",
       "      <td>{\"product_specification\"=&gt;[{\"key\"=&gt;\"Brand\", \"v...</td>\n",
       "    </tr>\n",
       "    <tr>\n",
       "      <th>4</th>\n",
       "      <td>6325b6870c54cd47be6ebfbffa620ec7</td>\n",
       "      <td>2016-06-20 08:49:52 +0000</td>\n",
       "      <td>http://www.flipkart.com/jaipur-print-cotton-fl...</td>\n",
       "      <td>Jaipur Print Cotton Floral King sized Double B...</td>\n",
       "      <td>[\"Home Furnishing &gt;&gt; Bed Linen &gt;&gt; Bedsheets &gt;&gt;...</td>\n",
       "      <td>BDSEJTHNGWVGWWQU</td>\n",
       "      <td>2599.0</td>\n",
       "      <td>698.0</td>\n",
       "      <td>6325b6870c54cd47be6ebfbffa620ec7.jpg</td>\n",
       "      <td>False</td>\n",
       "      <td>Key Features of Jaipur Print Cotton Floral Kin...</td>\n",
       "      <td>No rating available</td>\n",
       "      <td>No rating available</td>\n",
       "      <td>Jaipur Print</td>\n",
       "      <td>{\"product_specification\"=&gt;[{\"key\"=&gt;\"Machine Wa...</td>\n",
       "    </tr>\n",
       "  </tbody>\n",
       "</table>\n",
       "</div>"
      ],
      "text/plain": [
       "                            uniq_id            crawl_timestamp  \\\n",
       "0  55b85ea15a1536d46b7190ad6fff8ce7  2016-04-30 03:22:56 +0000   \n",
       "1  7b72c92c2f6c40268628ec5f14c6d590  2016-04-30 03:22:56 +0000   \n",
       "2  64d5d4a258243731dc7bbb1eef49ad74  2016-04-30 03:22:56 +0000   \n",
       "3  d4684dcdc759dd9cdf41504698d737d8  2016-06-20 08:49:52 +0000   \n",
       "4  6325b6870c54cd47be6ebfbffa620ec7  2016-06-20 08:49:52 +0000   \n",
       "\n",
       "                                         product_url  \\\n",
       "0  http://www.flipkart.com/elegance-polyester-mul...   \n",
       "1  http://www.flipkart.com/sathiyas-cotton-bath-t...   \n",
       "2  http://www.flipkart.com/eurospa-cotton-terry-f...   \n",
       "3  http://www.flipkart.com/santosh-royal-fashion-...   \n",
       "4  http://www.flipkart.com/jaipur-print-cotton-fl...   \n",
       "\n",
       "                                        product_name  \\\n",
       "0  Elegance Polyester Multicolor Abstract Eyelet ...   \n",
       "1                         Sathiyas Cotton Bath Towel   \n",
       "2                Eurospa Cotton Terry Face Towel Set   \n",
       "3  SANTOSH ROYAL FASHION Cotton Printed King size...   \n",
       "4  Jaipur Print Cotton Floral King sized Double B...   \n",
       "\n",
       "                               product_category_tree               pid  \\\n",
       "0  [\"Home Furnishing >> Curtains & Accessories >>...  CRNEG7BKMFFYHQ8Z   \n",
       "1  [\"Baby Care >> Baby Bath & Skin >> Baby Bath T...  BTWEGFZHGBXPHZUH   \n",
       "2  [\"Baby Care >> Baby Bath & Skin >> Baby Bath T...  BTWEG6SHXTDB2A2Y   \n",
       "3  [\"Home Furnishing >> Bed Linen >> Bedsheets >>...  BDSEJT9UQWHDUBH4   \n",
       "4  [\"Home Furnishing >> Bed Linen >> Bedsheets >>...  BDSEJTHNGWVGWWQU   \n",
       "\n",
       "   retail_price  discounted_price                                 image  \\\n",
       "0        1899.0             899.0  55b85ea15a1536d46b7190ad6fff8ce7.jpg   \n",
       "1         600.0             449.0  7b72c92c2f6c40268628ec5f14c6d590.jpg   \n",
       "2           NaN               NaN  64d5d4a258243731dc7bbb1eef49ad74.jpg   \n",
       "3        2699.0            1299.0  d4684dcdc759dd9cdf41504698d737d8.jpg   \n",
       "4        2599.0             698.0  6325b6870c54cd47be6ebfbffa620ec7.jpg   \n",
       "\n",
       "   is_FK_Advantage_product                                        description  \\\n",
       "0                    False  Key Features of Elegance Polyester Multicolor ...   \n",
       "1                    False  Specifications of Sathiyas Cotton Bath Towel (...   \n",
       "2                    False  Key Features of Eurospa Cotton Terry Face Towe...   \n",
       "3                    False  Key Features of SANTOSH ROYAL FASHION Cotton P...   \n",
       "4                    False  Key Features of Jaipur Print Cotton Floral Kin...   \n",
       "\n",
       "        product_rating       overall_rating                  brand  \\\n",
       "0  No rating available  No rating available               Elegance   \n",
       "1  No rating available  No rating available               Sathiyas   \n",
       "2  No rating available  No rating available                Eurospa   \n",
       "3  No rating available  No rating available  SANTOSH ROYAL FASHION   \n",
       "4  No rating available  No rating available           Jaipur Print   \n",
       "\n",
       "                              product_specifications  \n",
       "0  {\"product_specification\"=>[{\"key\"=>\"Brand\", \"v...  \n",
       "1  {\"product_specification\"=>[{\"key\"=>\"Machine Wa...  \n",
       "2  {\"product_specification\"=>[{\"key\"=>\"Material\",...  \n",
       "3  {\"product_specification\"=>[{\"key\"=>\"Brand\", \"v...  \n",
       "4  {\"product_specification\"=>[{\"key\"=>\"Machine Wa...  "
      ]
     },
     "execution_count": 4,
     "metadata": {},
     "output_type": "execute_result"
    }
   ],
   "source": [
    "raw_data.head()"
   ]
  },
  {
   "cell_type": "code",
   "execution_count": 13,
   "metadata": {},
   "outputs": [
    {
     "data": {
      "text/plain": [
       "<matplotlib.axes._subplots.AxesSubplot at 0x1f12ecfa760>"
      ]
     },
     "execution_count": 13,
     "metadata": {},
     "output_type": "execute_result"
    },
    {
     "data": {
      "image/png": "[encoded data removed]",
      "text/plain": [
       "<Figure size 576x360 with 1 Axes>"
      ]
     },
     "metadata": {
      "needs_background": "light"
     },
     "output_type": "display_data"
    }
   ],
   "source": [
    "df_missing_values = raw_data.isnull().sum().divide(raw_data.shape[0]).multiply(100)\n",
    "\n",
    "plt.figure(figsize=(8,5))\n",
    "plt.title(\"Valeurs manquantes\", fontsize=22, color='darkblue')\n",
    "plt.xlabel(\"Variables\", fontsize=15, color='darkblue')\n",
    "plt.ylabel(\"% Valeurs manquantes\", fontsize=15,color='darkblue')\n",
    "df_missing_values.plot(kind=\"bar\")"
   ]
  },
  {
   "cell_type": "code",
   "execution_count": 15,
   "metadata": {},
   "outputs": [],
   "source": [
    "reindexed_data = raw_data['description']\n",
    "reindexed_data.index = raw_data['image']"
   ]
  },
  {
   "cell_type": "markdown",
   "metadata": {},
   "source": [
    "## Isolation des features importantes et prétraitement du texte"
   ]
  },
  {
   "cell_type": "code",
   "execution_count": 16,
   "metadata": {},
   "outputs": [],
   "source": [
    "def get_top_n_words(n_top_words, count_vectorizer, text_data):\n",
    "    \n",
    "    vectorized_description = count_vectorizer.fit_transform(text_data.values)\n",
    "    vectorized_total = np.sum(vectorized_description, axis=0)\n",
    "    word_indices = np.flip(np.argsort(vectorized_total)[0,:], 1)\n",
    "    word_values = np.flip(np.sort(vectorized_total)[0,:],1)\n",
    "    \n",
    "    word_vectors = np.zeros((n_top_words, vectorized_description.shape[1]))\n",
    "    for i in range(n_top_words):\n",
    "        word_vectors[i,word_indices[0,i]] = 1\n",
    "\n",
    "    most_frequent_words = [word[0].encode('ascii').decode('utf-8') for \n",
    "             word in count_vectorizer.inverse_transform(word_vectors)]\n",
    "\n",
    "    return (most_frequent_words, word_values[0,:n_top_words].tolist()[0])"
   ]
  },
  {
   "cell_type": "code",
   "execution_count": 18,
   "metadata": {
    "scrolled": false
   },
   "outputs": [
    {
     "data": {
      "image/png": "[encoded data removed]",
      "text/plain": [
       "<Figure size 1152x576 with 1 Axes>"
      ]
     },
     "metadata": {
      "needs_background": "light"
     },
     "output_type": "display_data"
    }
   ],
   "source": [
    "count_vectorizer = CountVectorizer(stop_words='english')\n",
    "most_frequent_words, word_values = get_top_n_words(n_top_words=19,\n",
    "                                     count_vectorizer=count_vectorizer, \n",
    "                                     text_data=reindexed_data)\n",
    "\n",
    "fig, ax = plt.subplots(figsize=(16,8))\n",
    "ax.bar(range(len(most_frequent_words)), word_values);\n",
    "ax.set_xticks(range(len(most_frequent_words)));\n",
    "ax.set_xticklabels(most_frequent_words, rotation='vertical');\n",
    "ax.set_title('Top mots les plus fréquents');\n",
    "ax.set_xlabel('Mot');\n",
    "ax.set_ylabel('Occurences');\n",
    "plt.show()"
   ]
  },
  {
   "cell_type": "markdown",
   "metadata": {},
   "source": [
    "### Suppression des mots les plus fréquents, stopwords & punctuation"
   ]
  },
  {
   "cell_type": "code",
   "execution_count": 19,
   "metadata": {
    "scrolled": false
   },
   "outputs": [
    {
     "data": {
      "text/plain": [
       "['rs',\n",
       " 'products',\n",
       " 'free',\n",
       " 'buy',\n",
       " 'delivery',\n",
       " 'genuine',\n",
       " 'shipping',\n",
       " 'cash',\n",
       " 'replacement',\n",
       " 'cm',\n",
       " 'day',\n",
       " '30',\n",
       " 'flipkart',\n",
       " 'com',\n",
       " 'guarantee',\n",
       " 'online',\n",
       " 'features',\n",
       " 'specifications',\n",
       " 'price']"
      ]
     },
     "execution_count": 19,
     "metadata": {},
     "output_type": "execute_result"
    }
   ],
   "source": [
    "most_frequent_words"
   ]
  },
  {
   "cell_type": "code",
   "execution_count": 20,
   "metadata": {},
   "outputs": [
    {
     "name": "stdout",
     "output_type": "stream",
     "text": [
      "<class 'set'>\n",
      "<class 'set'>\n"
     ]
    }
   ],
   "source": [
    "from nltk.tokenize import word_tokenize\n",
    "from nltk.corpus import stopwords \n",
    "import nltk\n",
    "from string import punctuation\n",
    "\n",
    "stop_words = set(stopwords.words('english'))\n",
    "print(type(stop_words))\n",
    "\n",
    "mots_a_supprimer = set.union(set(most_frequent_words),stop_words,punctuation)\n",
    "print(type(mots_a_supprimer))"
   ]
  },
  {
   "cell_type": "code",
   "execution_count": 21,
   "metadata": {},
   "outputs": [
    {
     "name": "stdout",
     "output_type": "stream",
     "text": [
      "{\"she's\", 'whom', 'ours', 'in', 'or', '@', '\\\\', 'an', 'flipkart', 'your', 'won', 'which', 'delivery', 'of', 'having', 'price', 'weren', 'were', 'below', 'did', 'now', 'by', '.', 'couldn', 'against', 'during', 'again', '>', \"wasn't\", 'same', \"you're\", 'her', 'shouldn', 'shipping', 'after', 'them', '+', 'about', 'further', 'been', 'some', ')', 'because', \"shouldn't\", '-', '[', '/', 'doesn', '<', '=', \"it's\", 'yourself', 'our', \"hadn't\", 'm', \"shan't\", 'has', '30', 'that', 'as', 'who', 'products', 'above', 'o', 'she', 'ain', '%', 'down', 'herself', 'then', 'if', 'myself', \"don't\", \"hasn't\", '|', 'genuine', \"won't\", 're', 'over', 'online', 'a', 'at', 'haven', 'mightn', '!', 'd', 'off', 'y', \"isn't\", \"doesn't\", 'up', 'where', '_', 'into', 'but', 'out', 'wasn', 'for', 'yours', 'why', 'when', 'and', 'most', \"couldn't\", 'such', 'him', 'they', 'theirs', 'me', \"you'll\", 'what', 'doing', 'no', \"needn't\", ';', 'i', 'cm', 'wouldn', 'ourselves', '^', \"'\", 'too', 'both', 'you', 'is', '`', 'replacement', 'few', 'under', 'features', 'are', 'just', 'it', 'free', '(', '#', 'do', '~', ':', 'was', 'll', 'this', \"you've\", 'each', 'these', 'own', 'com', 'my', 'before', ']', 'can', '*', '?', 'rs', 'shan', 'have', 'his', 'from', 'being', \"aren't\", 'ma', \"that'll\", 'its', 'himself', 'guarantee', 'on', 'nor', 'the', 'here', 'needn', 'specifications', 'all', 'while', 'more', 'should', '\"', 's', 'other', 'be', 'will', 'not', 'day', 'how', 'isn', 'we', 'between', 'hers', 'does', '{', 'yourselves', 't', '$', 'hasn', 'buy', 'there', 'had', 'until', \"you'd\", '&', 'he', 'any', \"didn't\", 'themselves', \"mightn't\", 'very', 'don', 'aren', 'am', 'with', 've', 'those', 'cash', \"should've\", '}', 'mustn', 'to', 'so', 'their', \"mustn't\", \"weren't\", 'than', 'once', 'through', 'didn', \"wouldn't\", 'itself', 'hadn', ',', \"haven't\", 'only'}\n"
     ]
    }
   ],
   "source": [
    "print(mots_a_supprimer)"
   ]
  },
  {
   "cell_type": "code",
   "execution_count": 22,
   "metadata": {
    "scrolled": true
   },
   "outputs": [
    {
     "name": "stderr",
     "output_type": "stream",
     "text": [
      "<ipython-input-22-5aa9548263a7>:3: SettingWithCopyWarning: \n",
      "A value is trying to be set on a copy of a slice from a DataFrame\n",
      "\n",
      "See the caveats in the documentation: https://pandas.pydata.org/pandas-docs/stable/user_guide/indexing.html#returning-a-view-versus-a-copy\n",
      "  reindexed_data[i] = re.sub('[^A-Za-z]', ' ', reindexed_data[i]).lower()\n"
     ]
    }
   ],
   "source": [
    "import re\n",
    "for i in range (reindexed_data.shape[0]) :\n",
    "  reindexed_data[i] = re.sub('[^A-Za-z]', ' ', reindexed_data[i]).lower()"
   ]
  },
  {
   "cell_type": "code",
   "execution_count": 23,
   "metadata": {},
   "outputs": [
    {
     "data": {
      "text/plain": [
       "'key features of elegance polyester multicolor abstract eyelet door curtain floral curtain elegance polyester multicolor abstract eyelet door curtain      cm in height  pack of    price  rs      this curtain enhances the look of the interiors this curtain is made from      high quality polyester fabric it features an eyelet style stitch with metal ring it makes the room environment romantic and loving this curtain is ant  wrinkle and anti shrinkage and have elegant apparance give your home a bright and modernistic appeal with these designs  the surreal attention is sure to steal hearts  these contemporary eyelet and valance curtains slide smoothly so when you draw them apart first thing in the morning to welcome the bright sun rays you want to wish good morning to the whole world and when you draw them close in the evening  you create the most special moments of joyous beauty given by the soothing prints  bring home the elegant curtain that softly filters light in your room so that you get the right amount of sunlight  specifications of elegance polyester multicolor abstract eyelet door curtain      cm in height  pack of    general brand elegance designed for door type eyelet model name abstract polyester door curtain set of   model id duster   color multicolor dimensions length     cm in the box number of contents in sales package pack of   sales package   curtains body   design material polyester'"
      ]
     },
     "execution_count": 23,
     "metadata": {},
     "output_type": "execute_result"
    }
   ],
   "source": [
    "reindexed_data[0]"
   ]
  },
  {
   "cell_type": "code",
   "execution_count": 24,
   "metadata": {},
   "outputs": [],
   "source": [
    "def Tokenizer(str_input):\n",
    "    words = word_tokenize(str_input)\n",
    "    return words"
   ]
  },
  {
   "cell_type": "code",
   "execution_count": 25,
   "metadata": {},
   "outputs": [
    {
     "name": "stdout",
     "output_type": "stream",
     "text": [
      "['key', 'features', 'of', 'elegance', 'polyester', 'multicolor', 'abstract', 'eyelet', 'door', 'curtain', 'floral', 'curtain', 'elegance', 'polyester', 'multicolor', 'abstract', 'eyelet', 'door', 'curtain', 'cm', 'in', 'height', 'pack', 'of', 'price', 'rs', 'this', 'curtain', 'enhances', 'the', 'look', 'of', 'the', 'interiors', 'this', 'curtain', 'is', 'made', 'from', 'high', 'quality', 'polyester', 'fabric', 'it', 'features', 'an', 'eyelet', 'style', 'stitch', 'with', 'metal', 'ring', 'it', 'makes', 'the', 'room', 'environment', 'romantic', 'and', 'loving', 'this', 'curtain', 'is', 'ant', 'wrinkle', 'and', 'anti', 'shrinkage', 'and', 'have', 'elegant', 'apparance', 'give', 'your', 'home', 'a', 'bright', 'and', 'modernistic', 'appeal', 'with', 'these', 'designs', 'the', 'surreal', 'attention', 'is', 'sure', 'to', 'steal', 'hearts', 'these', 'contemporary', 'eyelet', 'and', 'valance', 'curtains', 'slide', 'smoothly', 'so', 'when', 'you', 'draw', 'them', 'apart', 'first', 'thing', 'in', 'the', 'morning', 'to', 'welcome', 'the', 'bright', 'sun', 'rays', 'you', 'want', 'to', 'wish', 'good', 'morning', 'to', 'the', 'whole', 'world', 'and', 'when', 'you', 'draw', 'them', 'close', 'in', 'the', 'evening', 'you', 'create', 'the', 'most', 'special', 'moments', 'of', 'joyous', 'beauty', 'given', 'by', 'the', 'soothing', 'prints', 'bring', 'home', 'the', 'elegant', 'curtain', 'that', 'softly', 'filters', 'light', 'in', 'your', 'room', 'so', 'that', 'you', 'get', 'the', 'right', 'amount', 'of', 'sunlight', 'specifications', 'of', 'elegance', 'polyester', 'multicolor', 'abstract', 'eyelet', 'door', 'curtain', 'cm', 'in', 'height', 'pack', 'of', 'general', 'brand', 'elegance', 'designed', 'for', 'door', 'type', 'eyelet', 'model', 'name', 'abstract', 'polyester', 'door', 'curtain', 'set', 'of', 'model', 'id', 'duster', 'color', 'multicolor', 'dimensions', 'length', 'cm', 'in', 'the', 'box', 'number', 'of', 'contents', 'in', 'sales', 'package', 'pack', 'of', 'sales', 'package', 'curtains', 'body', 'design', 'material', 'polyester']\n"
     ]
    }
   ],
   "source": [
    "tokenized_data = reindexed_data.copy()\n",
    "\n",
    "for i in range(reindexed_data.shape[0]):\n",
    "    tokenized_data[i]=Tokenizer(reindexed_data[i])\n",
    "    \n",
    "print(tokenized_data[0])"
   ]
  },
  {
   "cell_type": "code",
   "execution_count": 26,
   "metadata": {},
   "outputs": [],
   "source": [
    "tokenized_data = tokenized_data.apply(lambda x: ' '.join([word for word in x if word not in (mots_a_supprimer)]))"
   ]
  },
  {
   "cell_type": "code",
   "execution_count": 27,
   "metadata": {
    "scrolled": true
   },
   "outputs": [
    {
     "data": {
      "text/plain": [
       "'key elegance polyester multicolor abstract eyelet door curtain floral curtain elegance polyester multicolor abstract eyelet door curtain height pack curtain enhances look interiors curtain made high quality polyester fabric eyelet style stitch metal ring makes room environment romantic loving curtain ant wrinkle anti shrinkage elegant apparance give home bright modernistic appeal designs surreal attention sure steal hearts contemporary eyelet valance curtains slide smoothly draw apart first thing morning welcome bright sun rays want wish good morning whole world draw close evening create special moments joyous beauty given soothing prints bring home elegant curtain softly filters light room get right amount sunlight elegance polyester multicolor abstract eyelet door curtain height pack general brand elegance designed door type eyelet model name abstract polyester door curtain set model id duster color multicolor dimensions length box number contents sales package pack sales package curtains body design material polyester'"
      ]
     },
     "execution_count": 27,
     "metadata": {},
     "output_type": "execute_result"
    }
   ],
   "source": [
    "tokenized_data[0]"
   ]
  },
  {
   "cell_type": "markdown",
   "metadata": {},
   "source": [
    "### Extraction de la racine"
   ]
  },
  {
   "cell_type": "code",
   "execution_count": 28,
   "metadata": {},
   "outputs": [],
   "source": [
    "def Stemmer(str_input):\n",
    "    str_input = str_input.lower()\n",
    "    words = word_tokenize(str_input)\n",
    "    \n",
    "    stop_words = set(stopwords.words('english'))\n",
    "    words = [w for w in words if not w in stop_words]\n",
    "  \n",
    "    porter_stemmer=nltk.PorterStemmer()\n",
    "    words = [porter_stemmer.stem(word) for word in words]\n",
    "    return words"
   ]
  },
  {
   "cell_type": "code",
   "execution_count": 29,
   "metadata": {
    "scrolled": true
   },
   "outputs": [
    {
     "name": "stdout",
     "output_type": "stream",
     "text": [
      "['key', 'eleg', 'polyest', 'multicolor', 'abstract', 'eyelet', 'door', 'curtain', 'floral', 'curtain', 'eleg', 'polyest', 'multicolor', 'abstract', 'eyelet', 'door', 'curtain', 'height', 'pack', 'curtain', 'enhanc', 'look', 'interior', 'curtain', 'made', 'high', 'qualiti', 'polyest', 'fabric', 'eyelet', 'style', 'stitch', 'metal', 'ring', 'make', 'room', 'environ', 'romant', 'love', 'curtain', 'ant', 'wrinkl', 'anti', 'shrinkag', 'eleg', 'appar', 'give', 'home', 'bright', 'modernist', 'appeal', 'design', 'surreal', 'attent', 'sure', 'steal', 'heart', 'contemporari', 'eyelet', 'valanc', 'curtain', 'slide', 'smoothli', 'draw', 'apart', 'first', 'thing', 'morn', 'welcom', 'bright', 'sun', 'ray', 'want', 'wish', 'good', 'morn', 'whole', 'world', 'draw', 'close', 'even', 'creat', 'special', 'moment', 'joyou', 'beauti', 'given', 'sooth', 'print', 'bring', 'home', 'eleg', 'curtain', 'softli', 'filter', 'light', 'room', 'get', 'right', 'amount', 'sunlight', 'eleg', 'polyest', 'multicolor', 'abstract', 'eyelet', 'door', 'curtain', 'height', 'pack', 'gener', 'brand', 'eleg', 'design', 'door', 'type', 'eyelet', 'model', 'name', 'abstract', 'polyest', 'door', 'curtain', 'set', 'model', 'id', 'duster', 'color', 'multicolor', 'dimens', 'length', 'box', 'number', 'content', 'sale', 'packag', 'pack', 'sale', 'packag', 'curtain', 'bodi', 'design', 'materi', 'polyest']\n"
     ]
    }
   ],
   "source": [
    "stemmed_tokenized_data = tokenized_data.copy()\n",
    "\n",
    "for i in range(tokenized_data.shape[0]):\n",
    "    stemmed_tokenized_data[i]=Stemmer(stemmed_tokenized_data[i])\n",
    "    \n",
    "print(stemmed_tokenized_data[0])"
   ]
  },
  {
   "cell_type": "code",
   "execution_count": 30,
   "metadata": {},
   "outputs": [
    {
     "name": "stdout",
     "output_type": "stream",
     "text": [
      "key eleg polyest multicolor abstract eyelet door curtain floral curtain eleg polyest multicolor abstract eyelet door curtain height pack curtain enhanc look interior curtain made high qualiti polyest fabric eyelet style stitch metal ring make room environ romant love curtain ant wrinkl anti shrinkag eleg appar give home bright modernist appeal design surreal attent sure steal heart contemporari eyelet valanc curtain slide smoothli draw apart first thing morn welcom bright sun ray want wish good morn whole world draw close even creat special moment joyou beauti given sooth print bring home eleg curtain softli filter light room get right amount sunlight eleg polyest multicolor abstract eyelet door curtain height pack gener brand eleg design door type eyelet model name abstract polyest door curtain set model id duster color multicolor dimens length box number content sale packag pack sale packag curtain bodi design materi polyest\n"
     ]
    }
   ],
   "source": [
    "stemmed_tokenized_data = stemmed_tokenized_data.apply(lambda x: ' '.join([word for word in x]))\n",
    "print(stemmed_tokenized_data[0])"
   ]
  },
  {
   "cell_type": "code",
   "execution_count": 31,
   "metadata": {},
   "outputs": [
    {
     "name": "stdout",
     "output_type": "stream",
     "text": [
      "Total number of words:  47331\n",
      "Mean number of words per Description:  45.0\n"
     ]
    }
   ],
   "source": [
    "tagged_headlines = [TextBlob(stemmed_tokenized_data[i]).pos_tags for i in range(stemmed_tokenized_data.shape[0])]\n",
    "tagged_headlines_df = pd.DataFrame({'tags':tagged_headlines})\n",
    "\n",
    "word_counts = [] \n",
    "pos_counts = {}\n",
    "\n",
    "for headline in tagged_headlines_df[u'tags']:\n",
    "    word_counts.append(len(headline))\n",
    "    for tag in headline:\n",
    "        if tag[1] in pos_counts:\n",
    "            pos_counts[tag[1]] += 1\n",
    "        else:\n",
    "            pos_counts[tag[1]] = 1\n",
    "            \n",
    "print('Total number of words: ', np.sum(word_counts))\n",
    "print('Mean number of words per Description: ', np.mean(word_counts).round(0))"
   ]
  },
  {
   "cell_type": "code",
   "execution_count": 32,
   "metadata": {
    "scrolled": false
   },
   "outputs": [
    {
     "data": {
      "image/png": "[encoded data removed]",
      "text/plain": [
       "<Figure size 1296x576 with 1 Axes>"
      ]
     },
     "metadata": {
      "needs_background": "light"
     },
     "output_type": "display_data"
    }
   ],
   "source": [
    "fig, ax = plt.subplots(figsize=(18,8))\n",
    "ax.hist(word_counts, bins=range(1,150), density=True);\n",
    "ax.set_title('Nombre de mots par Description');\n",
    "ax.set_xticks(range(0,155,5));\n",
    "ax.set_xlabel('Nombre de mots');\n",
    "plt.show()"
   ]
  },
  {
   "cell_type": "markdown",
   "metadata": {},
   "source": [
    "### Vectorisation des Descriptions"
   ]
  },
  {
   "cell_type": "code",
   "execution_count": 49,
   "metadata": {},
   "outputs": [
    {
     "name": "stdout",
     "output_type": "stream",
     "text": [
      "Description avant vectorization: key print shape peacock feather laptop skin mous pad combo set glue remov inch laptop skin easi appli scratch resist lamin print shape peacock feather laptop skin mous pad combo set multicolor print shape laptop skin made high qualiti vinyl sheet compat laptop screen size rang inch inch trimn skin would requir per laptop size skin easi instal remov without leav gum residu print shape peacock feather laptop skin mous pad combo set multicolor gener brand print shape model name peacock feather laptop skin mous pad suitabl type laptop color multicolor warranti warranti summari warranti box number content sale packag pack\n",
      "Description après vectorization: \n",
      "  (0, 1873)\t1\n",
      "  (0, 2723)\t5\n",
      "  (0, 3141)\t5\n",
      "  (0, 2537)\t4\n",
      "  (0, 1265)\t4\n",
      "  (0, 1942)\t9\n",
      "  (0, 3213)\t8\n",
      "  (0, 2267)\t4\n",
      "  (0, 2486)\t4\n",
      "  (0, 701)\t3\n",
      "  (0, 3122)\t3\n",
      "  (0, 1476)\t1\n",
      "  (0, 2901)\t2\n",
      "  (0, 1718)\t3\n",
      "  (0, 1068)\t2\n",
      "  (0, 157)\t1\n",
      "  (0, 3080)\t1\n",
      "  (0, 2921)\t1\n",
      "  (0, 1932)\t1\n",
      "  (0, 2287)\t3\n",
      "  (0, 1616)\t1\n",
      "  (0, 2794)\t1\n",
      "  (0, 3801)\t1\n",
      "  (0, 3149)\t1\n",
      "  (0, 714)\t1\n",
      "  (0, 3082)\t1\n",
      "  (0, 3209)\t2\n",
      "  (0, 2835)\t1\n",
      "  (0, 3666)\t1\n",
      "  (0, 2917)\t1\n",
      "  (0, 1758)\t1\n",
      "  (0, 1966)\t1\n",
      "  (0, 1541)\t1\n",
      "  (0, 2920)\t1\n",
      "  (0, 1443)\t1\n",
      "  (0, 429)\t1\n",
      "  (0, 2234)\t1\n",
      "  (0, 3428)\t1\n",
      "  (0, 3700)\t1\n",
      "  (0, 695)\t1\n",
      "  (0, 3849)\t3\n",
      "  (0, 3432)\t1\n",
      "  (0, 420)\t1\n",
      "  (0, 2388)\t1\n",
      "  (0, 755)\t1\n",
      "  (0, 3039)\t1\n",
      "  (0, 2484)\t1\n",
      "  (0, 2483)\t1\n"
     ]
    }
   ],
   "source": [
    "small_count_vectorizer = CountVectorizer(stop_words='english', max_features=50000)\n",
    "small_text_sample = stemmed_tokenized_data.sample(n=1050).values\n",
    "\n",
    "print('Description avant vectorization: {}'.format(small_text_sample[0]))\n",
    "\n",
    "small_document_term_matrix = small_count_vectorizer.fit_transform(small_text_sample)\n",
    "\n",
    "print('Description après vectorization: \\n{}'.format(small_document_term_matrix[0]))"
   ]
  },
  {
   "cell_type": "markdown",
   "metadata": {},
   "source": [
    "### Préparation de notre target\n",
    "Nous préparons donc tout d'abord nos catégories."
   ]
  },
  {
   "cell_type": "code",
   "execution_count": 65,
   "metadata": {},
   "outputs": [
    {
     "name": "stderr",
     "output_type": "stream",
     "text": [
      "<ipython-input-65-94eb2171bb66>:5: SettingWithCopyWarning: \n",
      "A value is trying to be set on a copy of a slice from a DataFrame\n",
      "\n",
      "See the caveats in the documentation: https://pandas.pydata.org/pandas-docs/stable/user_guide/indexing.html#returning-a-view-versus-a-copy\n",
      "  categories[i] = re.sub('[^A-Za-z]', ' ', categories[i]).lower()\n"
     ]
    }
   ],
   "source": [
    "categories = raw_data['product_category_tree']\n",
    "categories.index = raw_data.image\n",
    "\n",
    "for i in range (categories.shape[0]) :\n",
    "  categories[i] = re.sub('[^A-Za-z]', ' ', categories[i]).lower()"
   ]
  },
  {
   "cell_type": "code",
   "execution_count": 66,
   "metadata": {},
   "outputs": [
    {
     "name": "stdout",
     "output_type": "stream",
     "text": [
      "image\n",
      "55b85ea15a1536d46b7190ad6fff8ce7.jpg      home furnishing    curtains   accessories   ...\n",
      "7b72c92c2f6c40268628ec5f14c6d590.jpg      baby care    baby bath   skin    baby bath t...\n",
      "64d5d4a258243731dc7bbb1eef49ad74.jpg      baby care    baby bath   skin    baby bath t...\n",
      "d4684dcdc759dd9cdf41504698d737d8.jpg      home furnishing    bed linen    bedsheets   ...\n",
      "6325b6870c54cd47be6ebfbffa620ec7.jpg      home furnishing    bed linen    bedsheets   ...\n",
      "                                                              ...                        \n",
      "958f54f4c46b53c8a0a9b8167d9140bc.jpg      baby care    baby   kids gifts    stickers  ...\n",
      "fd6cbcc22efb6b761bd564c28928483c.jpg      baby care    baby   kids gifts    stickers  ...\n",
      "5912e037d12774bb73a2048f35a00009.jpg      baby care    baby   kids gifts    stickers  ...\n",
      "c3edc504d1b4f0ba6224fa53a43a7ad6.jpg      baby care    baby   kids gifts    stickers  ...\n",
      "f2f027ad6a6df617c9f125173da71e44.jpg      baby care    baby   kids gifts    stickers  ...\n",
      "Name: product_category_tree, Length: 1050, dtype: object\n"
     ]
    }
   ],
   "source": [
    "print(categories)"
   ]
  },
  {
   "cell_type": "code",
   "execution_count": 67,
   "metadata": {
    "scrolled": true
   },
   "outputs": [
    {
     "name": "stdout",
     "output_type": "stream",
     "text": [
      "['home', 'furnishing', 'curtains', 'accessories', 'curtains', 'elegance', 'polyester', 'multicolor', 'abstract', 'eyelet', 'do']\n"
     ]
    }
   ],
   "source": [
    "tokenized_cat = categories.copy()\n",
    "\n",
    "for i in range(tokenized_cat.shape[0]):\n",
    "    tokenized_cat[i]=Tokenizer(tokenized_cat[i])\n",
    "    \n",
    "print(tokenized_cat[0])"
   ]
  },
  {
   "cell_type": "code",
   "execution_count": 68,
   "metadata": {},
   "outputs": [],
   "source": [
    "tokenized_cat = tokenized_cat.apply(lambda x: ' '.join([word for word in x if word not in (mots_a_supprimer)]))"
   ]
  },
  {
   "cell_type": "code",
   "execution_count": 69,
   "metadata": {
    "scrolled": true
   },
   "outputs": [
    {
     "data": {
      "text/plain": [
       "'home furnishing curtains accessories curtains elegance polyester multicolor abstract eyelet'"
      ]
     },
     "execution_count": 69,
     "metadata": {},
     "output_type": "execute_result"
    }
   ],
   "source": [
    "tokenized_cat[0]"
   ]
  },
  {
   "cell_type": "code",
   "execution_count": 70,
   "metadata": {
    "scrolled": true
   },
   "outputs": [
    {
     "name": "stdout",
     "output_type": "stream",
     "text": [
      "['home', 'furnish', 'curtain', 'accessori', 'curtain', 'eleg', 'polyest', 'multicolor', 'abstract', 'eyelet']\n"
     ]
    }
   ],
   "source": [
    "stemmed_tokenized_cat = tokenized_cat.copy()\n",
    "\n",
    "for i in range(tokenized_cat.shape[0]):\n",
    "    stemmed_tokenized_cat[i]=Stemmer(stemmed_tokenized_cat[i])\n",
    "    \n",
    "print(stemmed_tokenized_cat[0])"
   ]
  },
  {
   "cell_type": "code",
   "execution_count": 71,
   "metadata": {},
   "outputs": [
    {
     "data": {
      "text/html": [
       "<div>\n",
       "<style scoped>\n",
       "    .dataframe tbody tr th:only-of-type {\n",
       "        vertical-align: middle;\n",
       "    }\n",
       "\n",
       "    .dataframe tbody tr th {\n",
       "        vertical-align: top;\n",
       "    }\n",
       "\n",
       "    .dataframe thead th {\n",
       "        text-align: right;\n",
       "    }\n",
       "</style>\n",
       "<table border=\"1\" class=\"dataframe\">\n",
       "  <thead>\n",
       "    <tr style=\"text-align: right;\">\n",
       "      <th></th>\n",
       "      <th>cat_name</th>\n",
       "      <th>image_name</th>\n",
       "    </tr>\n",
       "  </thead>\n",
       "  <tbody>\n",
       "    <tr>\n",
       "      <th>0</th>\n",
       "      <td>[home, furnish, curtain, accessori, curtain, e...</td>\n",
       "      <td>55b85ea15a1536d46b7190ad6fff8ce7.jpg</td>\n",
       "    </tr>\n",
       "    <tr>\n",
       "      <th>1</th>\n",
       "      <td>[babi, care, babi, bath, skin, babi, bath, tow...</td>\n",
       "      <td>7b72c92c2f6c40268628ec5f14c6d590.jpg</td>\n",
       "    </tr>\n",
       "    <tr>\n",
       "      <th>2</th>\n",
       "      <td>[babi, care, babi, bath, skin, babi, bath, tow...</td>\n",
       "      <td>64d5d4a258243731dc7bbb1eef49ad74.jpg</td>\n",
       "    </tr>\n",
       "    <tr>\n",
       "      <th>3</th>\n",
       "      <td>[home, furnish, bed, linen, bedsheet, santosh,...</td>\n",
       "      <td>d4684dcdc759dd9cdf41504698d737d8.jpg</td>\n",
       "    </tr>\n",
       "    <tr>\n",
       "      <th>4</th>\n",
       "      <td>[home, furnish, bed, linen, bedsheet, jaipur, ...</td>\n",
       "      <td>6325b6870c54cd47be6ebfbffa620ec7.jpg</td>\n",
       "    </tr>\n",
       "  </tbody>\n",
       "</table>\n",
       "</div>"
      ],
      "text/plain": [
       "                                            cat_name  \\\n",
       "0  [home, furnish, curtain, accessori, curtain, e...   \n",
       "1  [babi, care, babi, bath, skin, babi, bath, tow...   \n",
       "2  [babi, care, babi, bath, skin, babi, bath, tow...   \n",
       "3  [home, furnish, bed, linen, bedsheet, santosh,...   \n",
       "4  [home, furnish, bed, linen, bedsheet, jaipur, ...   \n",
       "\n",
       "                             image_name  \n",
       "0  55b85ea15a1536d46b7190ad6fff8ce7.jpg  \n",
       "1  7b72c92c2f6c40268628ec5f14c6d590.jpg  \n",
       "2  64d5d4a258243731dc7bbb1eef49ad74.jpg  \n",
       "3  d4684dcdc759dd9cdf41504698d737d8.jpg  \n",
       "4  6325b6870c54cd47be6ebfbffa620ec7.jpg  "
      ]
     },
     "execution_count": 71,
     "metadata": {},
     "output_type": "execute_result"
    }
   ],
   "source": [
    "Y = pd.DataFrame({'cat_name' : stemmed_tokenized_cat,\n",
    "                    'image_name' : stemmed_tokenized_cat.index})\n",
    "Y = Y.reset_index(drop=True)\n",
    "\n",
    "Y.head()"
   ]
  },
  {
   "cell_type": "code",
   "execution_count": 72,
   "metadata": {
    "scrolled": true
   },
   "outputs": [
    {
     "data": {
      "text/html": [
       "<div>\n",
       "<style scoped>\n",
       "    .dataframe tbody tr th:only-of-type {\n",
       "        vertical-align: middle;\n",
       "    }\n",
       "\n",
       "    .dataframe tbody tr th {\n",
       "        vertical-align: top;\n",
       "    }\n",
       "\n",
       "    .dataframe thead th {\n",
       "        text-align: right;\n",
       "    }\n",
       "</style>\n",
       "<table border=\"1\" class=\"dataframe\">\n",
       "  <thead>\n",
       "    <tr style=\"text-align: right;\">\n",
       "      <th></th>\n",
       "      <th>cat_name</th>\n",
       "      <th>image_name</th>\n",
       "      <th>cat</th>\n",
       "    </tr>\n",
       "  </thead>\n",
       "  <tbody>\n",
       "    <tr>\n",
       "      <th>0</th>\n",
       "      <td>[home, furnish, curtain, accessori, curtain, e...</td>\n",
       "      <td>55b85ea15a1536d46b7190ad6fff8ce7.jpg</td>\n",
       "      <td>home furnish</td>\n",
       "    </tr>\n",
       "    <tr>\n",
       "      <th>1</th>\n",
       "      <td>[babi, care, babi, bath, skin, babi, bath, tow...</td>\n",
       "      <td>7b72c92c2f6c40268628ec5f14c6d590.jpg</td>\n",
       "      <td>babi care</td>\n",
       "    </tr>\n",
       "    <tr>\n",
       "      <th>2</th>\n",
       "      <td>[babi, care, babi, bath, skin, babi, bath, tow...</td>\n",
       "      <td>64d5d4a258243731dc7bbb1eef49ad74.jpg</td>\n",
       "      <td>babi care</td>\n",
       "    </tr>\n",
       "    <tr>\n",
       "      <th>3</th>\n",
       "      <td>[home, furnish, bed, linen, bedsheet, santosh,...</td>\n",
       "      <td>d4684dcdc759dd9cdf41504698d737d8.jpg</td>\n",
       "      <td>home furnish</td>\n",
       "    </tr>\n",
       "    <tr>\n",
       "      <th>4</th>\n",
       "      <td>[home, furnish, bed, linen, bedsheet, jaipur, ...</td>\n",
       "      <td>6325b6870c54cd47be6ebfbffa620ec7.jpg</td>\n",
       "      <td>home furnish</td>\n",
       "    </tr>\n",
       "  </tbody>\n",
       "</table>\n",
       "</div>"
      ],
      "text/plain": [
       "                                            cat_name  \\\n",
       "0  [home, furnish, curtain, accessori, curtain, e...   \n",
       "1  [babi, care, babi, bath, skin, babi, bath, tow...   \n",
       "2  [babi, care, babi, bath, skin, babi, bath, tow...   \n",
       "3  [home, furnish, bed, linen, bedsheet, santosh,...   \n",
       "4  [home, furnish, bed, linen, bedsheet, jaipur, ...   \n",
       "\n",
       "                             image_name           cat  \n",
       "0  55b85ea15a1536d46b7190ad6fff8ce7.jpg  home furnish  \n",
       "1  7b72c92c2f6c40268628ec5f14c6d590.jpg     babi care  \n",
       "2  64d5d4a258243731dc7bbb1eef49ad74.jpg     babi care  \n",
       "3  d4684dcdc759dd9cdf41504698d737d8.jpg  home furnish  \n",
       "4  6325b6870c54cd47be6ebfbffa620ec7.jpg  home furnish  "
      ]
     },
     "execution_count": 72,
     "metadata": {},
     "output_type": "execute_result"
    }
   ],
   "source": [
    "Y['cat']=Y.cat_name\n",
    "\n",
    "for i in range(Y.cat_name.shape[0]) :\n",
    "    Y['cat'][i]=Y.cat_name[i][:2]\n",
    "\n",
    "Y.cat = Y.cat.apply(lambda x: ' '.join([word for word in x]))\n",
    "\n",
    "Y.head()"
   ]
  },
  {
   "cell_type": "code",
   "execution_count": 73,
   "metadata": {
    "scrolled": true
   },
   "outputs": [
    {
     "data": {
      "text/plain": [
       "kitchen dine      150\n",
       "beauti person     150\n",
       "babi care         150\n",
       "home furnish      150\n",
       "home decor        150\n",
       "watch wrist       149\n",
       "comput laptop      89\n",
       "comput network     49\n",
       "comput comput       6\n",
       "comput tablet       3\n",
       "comput storag       2\n",
       "watch clock         1\n",
       "comput softwar      1\n",
       "Name: cat, dtype: int64"
      ]
     },
     "execution_count": 73,
     "metadata": {},
     "output_type": "execute_result"
    }
   ],
   "source": [
    "Y.cat.value_counts()"
   ]
  },
  {
   "cell_type": "markdown",
   "metadata": {},
   "source": [
    "Nous créons désormais une variable traduisant numériquement nos catégories."
   ]
  },
  {
   "cell_type": "code",
   "execution_count": 74,
   "metadata": {
    "scrolled": true
   },
   "outputs": [
    {
     "data": {
      "text/plain": [
       "6    150\n",
       "5    150\n",
       "4    150\n",
       "3    150\n",
       "2    150\n",
       "1    150\n",
       "0    150\n",
       "Name: label, dtype: int64"
      ]
     },
     "execution_count": 74,
     "metadata": {},
     "output_type": "execute_result"
    }
   ],
   "source": [
    "Y['label']=Y.cat\n",
    "\n",
    "for i in range(Y.cat.shape[0]):\n",
    "    if Y.cat[i]=='home furnish':\n",
    "        Y.label[i]=0\n",
    "    elif Y.cat[i]=='beauti person':\n",
    "        Y.label[i]=1\n",
    "    elif Y.cat[i]=='kitchen dine':\n",
    "        Y.label[i]=2\n",
    "    elif Y.cat[i]=='home decor':\n",
    "        Y.label[i]=3\n",
    "    elif Y.cat[i]=='babi care':\n",
    "        Y.label[i]=4\n",
    "    else :\n",
    "        if Y.cat[i].__contains__('watch')==True:\n",
    "            Y.label[i]=5\n",
    "        else :\n",
    "            Y.label[i]=6\n",
    "            \n",
    "Y.label.value_counts()"
   ]
  },
  {
   "cell_type": "code",
   "execution_count": 75,
   "metadata": {},
   "outputs": [],
   "source": [
    "Y.drop('cat_name', axis=1).to_csv('images_categories.csv')"
   ]
  },
  {
   "cell_type": "code",
   "execution_count": 76,
   "metadata": {},
   "outputs": [
    {
     "name": "stdout",
     "output_type": "stream",
     "text": [
      "Label number 0:  ['home furnish']\n",
      "Label number 1:  ['beauti person']\n",
      "Label number 2:  ['kitchen dine']\n",
      "Label number 3:  ['home decor']\n",
      "Label number 4:  ['babi care']\n",
      "Label number 5:  ['watch wrist']\n",
      "Label number 6:  ['comput network']\n"
     ]
    }
   ],
   "source": [
    "for i in range(7):\n",
    "    print('Label number {}: '.format(i) , '{}'.format(Y.loc[Y.label==i, 'cat'][:1].values))\n"
   ]
  },
  {
   "cell_type": "markdown",
   "metadata": {},
   "source": [
    "Suite à cette analyse des catégories nous trouvons ici 7 principales thématiques : \n",
    "- 0. Home Furnishing\n",
    "- 1. Beauty and Personal Care \n",
    "- 2. Kichen and Dining\n",
    "- 3. Home Decoration\n",
    "- 4. Baby Care\n",
    "- 5. Watches\n",
    "- 6. Computers\n",
    "\n",
    "## LDA Topic Modelling\n",
    "\n",
    "Une des méthodes non supervisées permettant de classifier nos descriptions de texte et la **Latent Dirichlet Allocation** (LDA), qui va regrouper les données selon les mots comportés dans les descriptions. \n",
    "\n",
    "### Création du modèle\n",
    "\n",
    "Regardons ici ce que cela donne sur notre dataset (avec le nombre de topics recherché égal à 7 car nous connaissons déjà le nombres de catégories que nous allons utiliser)."
   ]
  },
  {
   "cell_type": "code",
   "execution_count": 50,
   "metadata": {},
   "outputs": [],
   "source": [
    "n_topics = 7"
   ]
  },
  {
   "cell_type": "code",
   "execution_count": 51,
   "metadata": {},
   "outputs": [],
   "source": [
    "lda_model = LatentDirichletAllocation(n_components=n_topics, learning_method='online', \n",
    "                                          random_state=0, verbose=0)\n",
    "lda_topic_matrix = lda_model.fit_transform(small_document_term_matrix)"
   ]
  },
  {
   "cell_type": "code",
   "execution_count": 52,
   "metadata": {},
   "outputs": [],
   "source": [
    "def get_keys(topic_matrix):\n",
    "\n",
    "    keys = topic_matrix.argmax(axis=1).tolist()\n",
    "    return keys\n",
    "\n",
    "def keys_to_counts(keys):\n",
    "\n",
    "    count_pairs = Counter(keys).items()\n",
    "    categories = [pair[0] for pair in count_pairs]\n",
    "    counts = [pair[1] for pair in count_pairs]\n",
    "    return (categories, counts)"
   ]
  },
  {
   "cell_type": "code",
   "execution_count": 53,
   "metadata": {},
   "outputs": [],
   "source": [
    "lda_keys = get_keys(lda_topic_matrix)\n",
    "lda_categories, lda_counts = keys_to_counts(lda_keys)"
   ]
  },
  {
   "cell_type": "code",
   "execution_count": 54,
   "metadata": {},
   "outputs": [],
   "source": [
    "def get_top_n_words(n, keys, document_term_matrix, count_vectorizer):\n",
    "   \n",
    "    top_word_indices = []\n",
    "    for topic in range(n_topics):\n",
    "        temp_vector_sum = 0\n",
    "        for i in range(len(keys)):\n",
    "            if keys[i] == topic:\n",
    "                temp_vector_sum += document_term_matrix[i]\n",
    "        temp_vector_sum = temp_vector_sum.toarray()\n",
    "        top_n_word_indices = np.flip(np.argsort(temp_vector_sum)[0][-n:],0)\n",
    "        top_word_indices.append(top_n_word_indices)   \n",
    "    top_words = []\n",
    "    for topic in top_word_indices:\n",
    "        topic_words = []\n",
    "        for index in topic:\n",
    "            temp_word_vector = np.zeros((1,document_term_matrix.shape[1]))\n",
    "            temp_word_vector[:,index] = 1\n",
    "            the_word = count_vectorizer.inverse_transform(temp_word_vector)[0][0]\n",
    "            topic_words.append(the_word.encode('ascii').decode('utf-8'))\n",
    "        top_words.append(\" \".join(topic_words))         \n",
    "    return top_words"
   ]
  },
  {
   "cell_type": "markdown",
   "metadata": {},
   "source": [
    "### Analyse de nos topics trouvés\n",
    "Affichons maintenant les 15 mots les plus utilisés par topic afin de voir si nous pouvons en déduire des catégories de produit. "
   ]
  },
  {
   "cell_type": "code",
   "execution_count": 55,
   "metadata": {},
   "outputs": [
    {
     "name": "stdout",
     "output_type": "stream",
     "text": [
      "Topic 1:  watch analog men india discount great women laptop dial skin strap print shape boy resist\n",
      "Topic 2:  usb light cover design pack led cushion polyest color inch curtain materi box cotton power\n",
      "Topic 3:  showpiec price best combo set skin oil soap type kadhai beauti lip oxyglow kit cream\n",
      "Topic 4:  babi cotton girl fabric color pack gener box packag number type sale print materi ideal\n",
      "Topic 5:  mug coffe ceram perfect gift design tea love ml pizza qualiti enjoy materi bring prithish\n",
      "Topic 6:  warranti product adapt qualiti design laptop batteri materi size make set come power ceram gift\n",
      "Topic 7:  wall sticker home design decor showpiec brass singl beauti quilt comfort look item appli product\n"
     ]
    }
   ],
   "source": [
    "top_n_words_lda = get_top_n_words(15, lda_keys, small_document_term_matrix, small_count_vectorizer)\n",
    "\n",
    "for i in range(len(top_n_words_lda)):\n",
    "    print(\"Topic {}: \".format(i+1), top_n_words_lda[i])"
   ]
  },
  {
   "cell_type": "code",
   "execution_count": 56,
   "metadata": {
    "scrolled": false
   },
   "outputs": [
    {
     "data": {
      "image/png": "[encoded data removed]",
      "text/plain": [
       "<Figure size 1152x576 with 1 Axes>"
      ]
     },
     "metadata": {
      "needs_background": "light"
     },
     "output_type": "display_data"
    }
   ],
   "source": [
    "top_3_words = get_top_n_words(3, lda_keys, small_document_term_matrix, small_count_vectorizer)\n",
    "labels = ['Topic {}: \\n'.format(i) + top_3_words[i] for i in lda_categories]\n",
    "\n",
    "fig, ax = plt.subplots(figsize=(16,8))\n",
    "ax.bar(lda_categories, lda_counts);\n",
    "ax.set_xticks(lda_categories);\n",
    "ax.set_xticklabels(labels);\n",
    "ax.set_title('LDA topic comptage');\n",
    "ax.set_ylabel('Nombre de Descriptions');"
   ]
  },
  {
   "cell_type": "markdown",
   "metadata": {},
   "source": [
    "### Représentation visuelle\n",
    "Nous allons représenter visuellement ces Topics grâce à une TSNE qui va nous permettre de représenter chaque description produit selon deux composantes seulement. "
   ]
  },
  {
   "cell_type": "code",
   "execution_count": 57,
   "metadata": {
    "scrolled": true
   },
   "outputs": [
    {
     "name": "stdout",
     "output_type": "stream",
     "text": [
      "[t-SNE] Computing 151 nearest neighbors...\n",
      "[t-SNE] Indexed 1050 samples in 0.002s...\n",
      "[t-SNE] Computed neighbors for 1050 samples in 0.038s...\n",
      "[t-SNE] Computed conditional probabilities for sample 1000 / 1050\n",
      "[t-SNE] Computed conditional probabilities for sample 1050 / 1050\n",
      "[t-SNE] Mean sigma: 0.010767\n",
      "[t-SNE] KL divergence after 250 iterations with early exaggeration: 49.548122\n",
      "[t-SNE] KL divergence after 2000 iterations: 0.264012\n"
     ]
    }
   ],
   "source": [
    "tsne_lda_model = TSNE(n_components=2, perplexity=50, learning_rate=100, \n",
    "                        n_iter=2000, verbose=1, random_state=0, angle=0.75)\n",
    "tsne_lda_vectors = tsne_lda_model.fit_transform(lda_topic_matrix)"
   ]
  },
  {
   "cell_type": "code",
   "execution_count": 58,
   "metadata": {},
   "outputs": [],
   "source": [
    "def get_mean_topic_vectors(keys, two_dim_vectors):\n",
    "   \n",
    "    mean_topic_vectors = []\n",
    "    for t in range(n_topics):\n",
    "        articles_in_that_topic = []\n",
    "        for i in range(len(keys)):\n",
    "            if keys[i] == t:\n",
    "                articles_in_that_topic.append(two_dim_vectors[i])    \n",
    "        \n",
    "        articles_in_that_topic = np.vstack(articles_in_that_topic)\n",
    "        mean_article_in_that_topic = np.mean(articles_in_that_topic, axis=0)\n",
    "        mean_topic_vectors.append(mean_article_in_that_topic)\n",
    "    return mean_topic_vectors"
   ]
  },
  {
   "cell_type": "code",
   "execution_count": 59,
   "metadata": {},
   "outputs": [],
   "source": [
    "colormap = np.array([\n",
    "    \"#1f77b4\", \"#aec7e8\", \"#ff7f0e\", \"#ffbb78\", \"#2ca02c\",\n",
    "    \"#98df8a\", \"#d62728\", \"#ff9896\", \"#9467bd\", \"#c5b0d5\",\n",
    "    \"#8c564b\", \"#c49c94\", \"#e377c2\", \"#f7b6d2\", \"#7f7f7f\",\n",
    "    \"#c7c7c7\", \"#bcbd22\", \"#dbdb8d\", \"#17becf\", \"#9edae5\" ])\n",
    "colormap = colormap[:n_topics]"
   ]
  },
  {
   "cell_type": "code",
   "execution_count": 63,
   "metadata": {
    "scrolled": false
   },
   "outputs": [
    {
     "data": {
      "text/html": [
       "\n",
       "\n",
       "\n",
       "\n",
       "\n",
       "\n",
       "  <div class=\"bk-root\" id=\"60a18d25-e659-40bf-aff3-6d6ce9b8e943\" data-root-id=\"1330\"></div>\n"
      ]
     },
     "metadata": {},
     "output_type": "display_data"
    },
    {
     "data": {
      "application/javascript": "(function(root) {\n  function embed_document(root) {\n    \n  var docs_json = {\"4fa3c2de-2fec-429d-8945-c8c82822010a\":{\"roots\":{\"references\":[{\"attributes\":{\"below\":[{\"id\":\"1341\"}],\"center\":[{\"id\":\"1344\"},{\"id\":\"1348\"},{\"id\":\"1368\"},{\"id\":\"1369\"},{\"id\":\"1370\"},{\"id\":\"1371\"},{\"id\":\"1372\"},{\"id\":\"1373\"},{\"id\":\"1374\"}],\"left\":[{\"id\":\"1345\"}],\"plot_height\":700,\"plot_width\":700,\"renderers\":[{\"id\":\"1366\"}],\"title\":{\"id\":\"1331\"},\"toolbar\":{\"id\":\"1356\"},\"x_range\":{\"id\":\"1333\"},\"x_scale\":{\"id\":\"1337\"},\"y_range\":{\"id\":\"1335\"},\"y_scale\":{\"id\":\"1339\"}},\"id\":\"1330\",\"subtype\":\"Figure\",\"type\":\"Plot\"},{\"attributes\":{\"text\":\"babi cotton girl\",\"text_color\":\"#ffbb78\",\"x\":14.51919937133789,\"y\":-13.602093696594238},\"id\":\"1371\",\"type\":\"Label\"},{\"attributes\":{},\"id\":\"1353\",\"type\":\"ResetTool\"},{\"attributes\":{\"source\":{\"id\":\"1363\"}},\"id\":\"1367\",\"type\":\"CDSView\"},{\"attributes\":{\"data_source\":{\"id\":\"1363\"},\"glyph\":{\"id\":\"1364\"},\"hover_glyph\":null,\"muted_glyph\":null,\"nonselection_glyph\":{\"id\":\"1365\"},\"selection_glyph\":null,\"view\":{\"id\":\"1367\"}},\"id\":\"1366\",\"type\":\"GlyphRenderer\"},{\"attributes\":{\"formatter\":{\"id\":\"1401\"},\"ticker\":{\"id\":\"1342\"}},\"id\":\"1341\",\"type\":\"LinearAxis\"},{\"attributes\":{\"text\":\"usb light cover\",\"text_color\":\"#aec7e8\",\"x\":-5.865223407745361,\"y\":-20.026201248168945},\"id\":\"1369\",\"type\":\"Label\"},{\"attributes\":{\"formatter\":{\"id\":\"1403\"},\"ticker\":{\"id\":\"1346\"}},\"id\":\"1345\",\"type\":\"LinearAxis\"},{\"attributes\":{\"text\":\"mug coffe ceram\",\"text_color\":\"#2ca02c\",\"x\":-3.572786331176758,\"y\":24.354389190673828},\"id\":\"1372\",\"type\":\"Label\"},{\"attributes\":{\"text\":\"warranti product adapt\",\"text_color\":\"#98df8a\",\"x\":1.8029307126998901,\"y\":4.852912902832031},\"id\":\"1373\",\"type\":\"Label\"},{\"attributes\":{},\"id\":\"1350\",\"type\":\"WheelZoomTool\"},{\"attributes\":{\"fill_color\":{\"field\":\"fill_color\"},\"line_color\":{\"field\":\"line_color\"},\"x\":{\"field\":\"x\"},\"y\":{\"field\":\"y\"}},\"id\":\"1364\",\"type\":\"Scatter\"},{\"attributes\":{},\"id\":\"1337\",\"type\":\"LinearScale\"},{\"attributes\":{},\"id\":\"1403\",\"type\":\"BasicTickFormatter\"},{\"attributes\":{},\"id\":\"1339\",\"type\":\"LinearScale\"},{\"attributes\":{},\"id\":\"1346\",\"type\":\"BasicTicker\"},{\"attributes\":{\"bottom_units\":\"screen\",\"fill_alpha\":0.5,\"fill_color\":\"lightgrey\",\"left_units\":\"screen\",\"level\":\"overlay\",\"line_alpha\":1.0,\"line_color\":\"black\",\"line_dash\":[4,4],\"line_width\":2,\"right_units\":\"screen\",\"top_units\":\"screen\"},\"id\":\"1355\",\"type\":\"BoxAnnotation\"},{\"attributes\":{\"axis\":{\"id\":\"1341\"},\"ticker\":null},\"id\":\"1344\",\"type\":\"Grid\"},{\"attributes\":{},\"id\":\"1405\",\"type\":\"Selection\"},{\"attributes\":{},\"id\":\"1401\",\"type\":\"BasicTickFormatter\"},{\"attributes\":{},\"id\":\"1335\",\"type\":\"DataRange1d\"},{\"attributes\":{\"data\":{\"fill_color\":[\"#1f77b4\",\"#ff7f0e\",\"#ff7f0e\",\"#aec7e8\",\"#98df8a\",\"#ffbb78\",\"#ffbb78\",\"#aec7e8\",\"#1f77b4\",\"#aec7e8\",\"#ff7f0e\",\"#ffbb78\",\"#ffbb78\",\"#ffbb78\",\"#ffbb78\",\"#1f77b4\",\"#ffbb78\",\"#2ca02c\",\"#2ca02c\",\"#1f77b4\",\"#aec7e8\",\"#aec7e8\",\"#98df8a\",\"#ff7f0e\",\"#ffbb78\",\"#d62728\",\"#2ca02c\",\"#1f77b4\",\"#d62728\",\"#ffbb78\",\"#aec7e8\",\"#ff7f0e\",\"#aec7e8\",\"#aec7e8\",\"#ffbb78\",\"#ff7f0e\",\"#ff7f0e\",\"#2ca02c\",\"#1f77b4\",\"#d62728\",\"#aec7e8\",\"#ffbb78\",\"#ffbb78\",\"#1f77b4\",\"#aec7e8\",\"#aec7e8\",\"#ffbb78\",\"#2ca02c\",\"#ff7f0e\",\"#aec7e8\",\"#ffbb78\",\"#98df8a\",\"#2ca02c\",\"#1f77b4\",\"#98df8a\",\"#aec7e8\",\"#2ca02c\",\"#aec7e8\",\"#1f77b4\",\"#ff7f0e\",\"#aec7e8\",\"#98df8a\",\"#aec7e8\",\"#d62728\",\"#ff7f0e\",\"#ff7f0e\",\"#ffbb78\",\"#2ca02c\",\"#ff7f0e\",\"#1f77b4\",\"#ff7f0e\",\"#ffbb78\",\"#aec7e8\",\"#ffbb78\",\"#2ca02c\",\"#ffbb78\",\"#2ca02c\",\"#d62728\",\"#aec7e8\",\"#ffbb78\",\"#ffbb78\",\"#1f77b4\",\"#ff7f0e\",\"#98df8a\",\"#2ca02c\",\"#d62728\",\"#aec7e8\",\"#ff7f0e\",\"#ff7f0e\",\"#1f77b4\",\"#2ca02c\",\"#ffbb78\",\"#ffbb78\",\"#ff7f0e\",\"#aec7e8\",\"#ffbb78\",\"#1f77b4\",\"#aec7e8\",\"#ffbb78\",\"#2ca02c\",\"#2ca02c\",\"#d62728\",\"#ffbb78\",\"#ffbb78\",\"#1f77b4\",\"#d62728\",\"#1f77b4\",\"#2ca02c\",\"#ffbb78\",\"#d62728\",\"#ff7f0e\",\"#98df8a\",\"#ffbb78\",\"#ffbb78\",\"#aec7e8\",\"#ffbb78\",\"#2ca02c\",\"#1f77b4\",\"#ffbb78\",\"#ffbb78\",\"#1f77b4\",\"#98df8a\",\"#ff7f0e\",\"#1f77b4\",\"#d62728\",\"#aec7e8\",\"#2ca02c\",\"#2ca02c\",\"#98df8a\",\"#ffbb78\",\"#2ca02c\",\"#2ca02c\",\"#1f77b4\",\"#ff7f0e\",\"#1f77b4\",\"#aec7e8\",\"#aec7e8\",\"#ff7f0e\",\"#ffbb78\",\"#ffbb78\",\"#98df8a\",\"#98df8a\",\"#ff7f0e\",\"#ff7f0e\",\"#1f77b4\",\"#d62728\",\"#1f77b4\",\"#98df8a\",\"#ffbb78\",\"#ff7f0e\",\"#ffbb78\",\"#ffbb78\",\"#1f77b4\",\"#98df8a\",\"#ff7f0e\",\"#ffbb78\",\"#ff7f0e\",\"#ffbb78\",\"#ff7f0e\",\"#98df8a\",\"#aec7e8\",\"#ffbb78\",\"#1f77b4\",\"#98df8a\",\"#2ca02c\",\"#d62728\",\"#ffbb78\",\"#ffbb78\",\"#98df8a\",\"#ffbb78\",\"#2ca02c\",\"#ffbb78\",\"#1f77b4\",\"#98df8a\",\"#ffbb78\",\"#2ca02c\",\"#d62728\",\"#98df8a\",\"#aec7e8\",\"#1f77b4\",\"#1f77b4\",\"#ff7f0e\",\"#aec7e8\",\"#ffbb78\",\"#ff7f0e\",\"#ffbb78\",\"#aec7e8\",\"#ffbb78\",\"#ffbb78\",\"#ff7f0e\",\"#ffbb78\",\"#ffbb78\",\"#ffbb78\",\"#d62728\",\"#aec7e8\",\"#2ca02c\",\"#ffbb78\",\"#1f77b4\",\"#1f77b4\",\"#d62728\",\"#d62728\",\"#ff7f0e\",\"#2ca02c\",\"#ffbb78\",\"#aec7e8\",\"#ff7f0e\",\"#98df8a\",\"#aec7e8\",\"#98df8a\",\"#1f77b4\",\"#ffbb78\",\"#aec7e8\",\"#ff7f0e\",\"#d62728\",\"#ffbb78\",\"#aec7e8\",\"#1f77b4\",\"#98df8a\",\"#ffbb78\",\"#ffbb78\",\"#1f77b4\",\"#1f77b4\",\"#98df8a\",\"#aec7e8\",\"#98df8a\",\"#d62728\",\"#aec7e8\",\"#ff7f0e\",\"#ffbb78\",\"#98df8a\",\"#aec7e8\",\"#98df8a\",\"#1f77b4\",\"#2ca02c\",\"#98df8a\",\"#2ca02c\",\"#2ca02c\",\"#2ca02c\",\"#98df8a\",\"#ffbb78\",\"#d62728\",\"#1f77b4\",\"#d62728\",\"#ffbb78\",\"#aec7e8\",\"#ffbb78\",\"#1f77b4\",\"#1f77b4\",\"#1f77b4\",\"#2ca02c\",\"#2ca02c\",\"#aec7e8\",\"#1f77b4\",\"#1f77b4\",\"#ff7f0e\",\"#98df8a\",\"#98df8a\",\"#aec7e8\",\"#ffbb78\",\"#ffbb78\",\"#1f77b4\",\"#1f77b4\",\"#aec7e8\",\"#d62728\",\"#ffbb78\",\"#aec7e8\",\"#ff7f0e\",\"#d62728\",\"#2ca02c\",\"#2ca02c\",\"#ff7f0e\",\"#ff7f0e\",\"#aec7e8\",\"#2ca02c\",\"#98df8a\",\"#ff7f0e\",\"#ffbb78\",\"#ffbb78\",\"#ffbb78\",\"#1f77b4\",\"#98df8a\",\"#2ca02c\",\"#ffbb78\",\"#ff7f0e\",\"#1f77b4\",\"#1f77b4\",\"#d62728\",\"#ff7f0e\",\"#aec7e8\",\"#ffbb78\",\"#ffbb78\",\"#ffbb78\",\"#ff7f0e\",\"#ffbb78\",\"#ff7f0e\",\"#aec7e8\",\"#2ca02c\",\"#1f77b4\",\"#1f77b4\",\"#ffbb78\",\"#aec7e8\",\"#1f77b4\",\"#ffbb78\",\"#ffbb78\",\"#1f77b4\",\"#98df8a\",\"#98df8a\",\"#ffbb78\",\"#ffbb78\",\"#ffbb78\",\"#ffbb78\",\"#ff7f0e\",\"#ffbb78\",\"#98df8a\",\"#ff7f0e\",\"#ffbb78\",\"#1f77b4\",\"#2ca02c\",\"#1f77b4\",\"#d62728\",\"#1f77b4\",\"#ffbb78\",\"#98df8a\",\"#aec7e8\",\"#ff7f0e\",\"#98df8a\",\"#2ca02c\",\"#ffbb78\",\"#98df8a\",\"#2ca02c\",\"#ffbb78\",\"#1f77b4\",\"#98df8a\",\"#98df8a\",\"#1f77b4\",\"#ffbb78\",\"#ffbb78\",\"#aec7e8\",\"#98df8a\",\"#ff7f0e\",\"#ffbb78\",\"#2ca02c\",\"#d62728\",\"#ffbb78\",\"#ffbb78\",\"#aec7e8\",\"#ff7f0e\",\"#ffbb78\",\"#aec7e8\",\"#ffbb78\",\"#ffbb78\",\"#1f77b4\",\"#ffbb78\",\"#ffbb78\",\"#ffbb78\",\"#2ca02c\",\"#ffbb78\",\"#d62728\",\"#1f77b4\",\"#ff7f0e\",\"#ffbb78\",\"#ff7f0e\",\"#2ca02c\",\"#d62728\",\"#ffbb78\",\"#98df8a\",\"#1f77b4\",\"#ff7f0e\",\"#aec7e8\",\"#ff7f0e\",\"#ffbb78\",\"#ff7f0e\",\"#1f77b4\",\"#d62728\",\"#ff7f0e\",\"#ff7f0e\",\"#ffbb78\",\"#d62728\",\"#98df8a\",\"#d62728\",\"#98df8a\",\"#aec7e8\",\"#aec7e8\",\"#2ca02c\",\"#2ca02c\",\"#98df8a\",\"#98df8a\",\"#1f77b4\",\"#ffbb78\",\"#98df8a\",\"#ff7f0e\",\"#1f77b4\",\"#ffbb78\",\"#ff7f0e\",\"#98df8a\",\"#d62728\",\"#aec7e8\",\"#1f77b4\",\"#2ca02c\",\"#1f77b4\",\"#2ca02c\",\"#ff7f0e\",\"#d62728\",\"#d62728\",\"#1f77b4\",\"#d62728\",\"#aec7e8\",\"#2ca02c\",\"#1f77b4\",\"#ffbb78\",\"#ffbb78\",\"#2ca02c\",\"#1f77b4\",\"#98df8a\",\"#ffbb78\",\"#ffbb78\",\"#98df8a\",\"#98df8a\",\"#ff7f0e\",\"#ff7f0e\",\"#1f77b4\",\"#2ca02c\",\"#ffbb78\",\"#ffbb78\",\"#aec7e8\",\"#1f77b4\",\"#ff7f0e\",\"#ff7f0e\",\"#98df8a\",\"#98df8a\",\"#2ca02c\",\"#ffbb78\",\"#ff7f0e\",\"#ff7f0e\",\"#2ca02c\",\"#ffbb78\",\"#ff7f0e\",\"#ffbb78\",\"#ff7f0e\",\"#d62728\",\"#aec7e8\",\"#ffbb78\",\"#1f77b4\",\"#ff7f0e\",\"#2ca02c\",\"#1f77b4\",\"#ffbb78\",\"#ff7f0e\",\"#aec7e8\",\"#ff7f0e\",\"#1f77b4\",\"#2ca02c\",\"#ff7f0e\",\"#d62728\",\"#1f77b4\",\"#ffbb78\",\"#ff7f0e\",\"#aec7e8\",\"#1f77b4\",\"#1f77b4\",\"#1f77b4\",\"#1f77b4\",\"#98df8a\",\"#aec7e8\",\"#aec7e8\",\"#d62728\",\"#ffbb78\",\"#ff7f0e\",\"#aec7e8\",\"#ffbb78\",\"#98df8a\",\"#ff7f0e\",\"#98df8a\",\"#98df8a\",\"#ff7f0e\",\"#1f77b4\",\"#d62728\",\"#d62728\",\"#ffbb78\",\"#2ca02c\",\"#1f77b4\",\"#ffbb78\",\"#ff7f0e\",\"#1f77b4\",\"#2ca02c\",\"#ffbb78\",\"#aec7e8\",\"#ffbb78\",\"#d62728\",\"#aec7e8\",\"#98df8a\",\"#ffbb78\",\"#ff7f0e\",\"#d62728\",\"#1f77b4\",\"#aec7e8\",\"#ff7f0e\",\"#ffbb78\",\"#ff7f0e\",\"#d62728\",\"#ff7f0e\",\"#aec7e8\",\"#aec7e8\",\"#2ca02c\",\"#ffbb78\",\"#98df8a\",\"#ff7f0e\",\"#1f77b4\",\"#aec7e8\",\"#2ca02c\",\"#d62728\",\"#ffbb78\",\"#1f77b4\",\"#2ca02c\",\"#aec7e8\",\"#ffbb78\",\"#ffbb78\",\"#1f77b4\",\"#ff7f0e\",\"#aec7e8\",\"#ffbb78\",\"#98df8a\",\"#1f77b4\",\"#ffbb78\",\"#1f77b4\",\"#1f77b4\",\"#aec7e8\",\"#ff7f0e\",\"#ff7f0e\",\"#ff7f0e\",\"#1f77b4\",\"#d62728\",\"#ffbb78\",\"#aec7e8\",\"#aec7e8\",\"#ffbb78\",\"#aec7e8\",\"#ffbb78\",\"#ffbb78\",\"#aec7e8\",\"#1f77b4\",\"#1f77b4\",\"#ffbb78\",\"#98df8a\",\"#1f77b4\",\"#ffbb78\",\"#ff7f0e\",\"#98df8a\",\"#ffbb78\",\"#ffbb78\",\"#aec7e8\",\"#aec7e8\",\"#ff7f0e\",\"#1f77b4\",\"#ffbb78\",\"#1f77b4\",\"#aec7e8\",\"#aec7e8\",\"#ff7f0e\",\"#ffbb78\",\"#2ca02c\",\"#aec7e8\",\"#2ca02c\",\"#2ca02c\",\"#aec7e8\",\"#1f77b4\",\"#2ca02c\",\"#d62728\",\"#d62728\",\"#1f77b4\",\"#ff7f0e\",\"#2ca02c\",\"#ff7f0e\",\"#ffbb78\",\"#ff7f0e\",\"#ff7f0e\",\"#ffbb78\",\"#ffbb78\",\"#2ca02c\",\"#aec7e8\",\"#ff7f0e\",\"#ffbb78\",\"#2ca02c\",\"#ffbb78\",\"#98df8a\",\"#aec7e8\",\"#ffbb78\",\"#98df8a\",\"#2ca02c\",\"#ffbb78\",\"#aec7e8\",\"#1f77b4\",\"#ffbb78\",\"#ff7f0e\",\"#aec7e8\",\"#98df8a\",\"#2ca02c\",\"#ffbb78\",\"#aec7e8\",\"#ffbb78\",\"#aec7e8\",\"#1f77b4\",\"#ff7f0e\",\"#ffbb78\",\"#aec7e8\",\"#98df8a\",\"#aec7e8\",\"#aec7e8\",\"#aec7e8\",\"#2ca02c\",\"#ffbb78\",\"#ff7f0e\",\"#ffbb78\",\"#1f77b4\",\"#ff7f0e\",\"#2ca02c\",\"#ff7f0e\",\"#2ca02c\",\"#aec7e8\",\"#1f77b4\",\"#ffbb78\",\"#aec7e8\",\"#ff7f0e\",\"#98df8a\",\"#ff7f0e\",\"#ffbb78\",\"#2ca02c\",\"#ff7f0e\",\"#ff7f0e\",\"#1f77b4\",\"#aec7e8\",\"#ff7f0e\",\"#1f77b4\",\"#ffbb78\",\"#1f77b4\",\"#1f77b4\",\"#ff7f0e\",\"#ff7f0e\",\"#aec7e8\",\"#ffbb78\",\"#2ca02c\",\"#1f77b4\",\"#d62728\",\"#98df8a\",\"#ff7f0e\",\"#aec7e8\",\"#aec7e8\",\"#1f77b4\",\"#ff7f0e\",\"#ffbb78\",\"#aec7e8\",\"#1f77b4\",\"#ff7f0e\",\"#aec7e8\",\"#1f77b4\",\"#d62728\",\"#aec7e8\",\"#ff7f0e\",\"#98df8a\",\"#aec7e8\",\"#aec7e8\",\"#d62728\",\"#98df8a\",\"#ff7f0e\",\"#2ca02c\",\"#aec7e8\",\"#2ca02c\",\"#1f77b4\",\"#ffbb78\",\"#aec7e8\",\"#ffbb78\",\"#1f77b4\",\"#ff7f0e\",\"#ff7f0e\",\"#1f77b4\",\"#2ca02c\",\"#d62728\",\"#2ca02c\",\"#98df8a\",\"#d62728\",\"#2ca02c\",\"#98df8a\",\"#1f77b4\",\"#ff7f0e\",\"#ff7f0e\",\"#ffbb78\",\"#aec7e8\",\"#ffbb78\",\"#aec7e8\",\"#ff7f0e\",\"#ff7f0e\",\"#98df8a\",\"#ff7f0e\",\"#ffbb78\",\"#98df8a\",\"#ff7f0e\",\"#ffbb78\",\"#ffbb78\",\"#ff7f0e\",\"#1f77b4\",\"#aec7e8\",\"#98df8a\",\"#98df8a\",\"#d62728\",\"#aec7e8\",\"#ffbb78\",\"#ffbb78\",\"#98df8a\",\"#ff7f0e\",\"#2ca02c\",\"#2ca02c\",\"#ffbb78\",\"#2ca02c\",\"#1f77b4\",\"#ffbb78\",\"#98df8a\",\"#1f77b4\",\"#2ca02c\",\"#1f77b4\",\"#1f77b4\",\"#2ca02c\",\"#2ca02c\",\"#98df8a\",\"#aec7e8\",\"#1f77b4\",\"#ffbb78\",\"#1f77b4\",\"#aec7e8\",\"#1f77b4\",\"#2ca02c\",\"#ff7f0e\",\"#ffbb78\",\"#1f77b4\",\"#ffbb78\",\"#aec7e8\",\"#d62728\",\"#1f77b4\",\"#aec7e8\",\"#ff7f0e\",\"#aec7e8\",\"#ffbb78\",\"#98df8a\",\"#d62728\",\"#ff7f0e\",\"#ff7f0e\",\"#d62728\",\"#ff7f0e\",\"#1f77b4\",\"#ff7f0e\",\"#2ca02c\",\"#1f77b4\",\"#1f77b4\",\"#2ca02c\",\"#ff7f0e\",\"#1f77b4\",\"#2ca02c\",\"#1f77b4\",\"#d62728\",\"#2ca02c\",\"#1f77b4\",\"#1f77b4\",\"#ffbb78\",\"#1f77b4\",\"#ffbb78\",\"#aec7e8\",\"#98df8a\",\"#98df8a\",\"#ffbb78\",\"#98df8a\",\"#aec7e8\",\"#98df8a\",\"#ff7f0e\",\"#1f77b4\",\"#1f77b4\",\"#aec7e8\",\"#aec7e8\",\"#d62728\",\"#1f77b4\",\"#aec7e8\",\"#ffbb78\",\"#ffbb78\",\"#ffbb78\",\"#ffbb78\",\"#1f77b4\",\"#ffbb78\",\"#ffbb78\",\"#d62728\",\"#d62728\",\"#1f77b4\",\"#1f77b4\",\"#1f77b4\",\"#ff7f0e\",\"#ff7f0e\",\"#aec7e8\",\"#98df8a\",\"#ff7f0e\",\"#1f77b4\",\"#ff7f0e\",\"#1f77b4\",\"#ff7f0e\",\"#ff7f0e\",\"#98df8a\",\"#ffbb78\",\"#ff7f0e\",\"#aec7e8\",\"#ffbb78\",\"#2ca02c\",\"#98df8a\",\"#ff7f0e\",\"#ff7f0e\",\"#aec7e8\",\"#1f77b4\",\"#aec7e8\",\"#ffbb78\",\"#1f77b4\",\"#ffbb78\",\"#1f77b4\",\"#98df8a\",\"#ff7f0e\",\"#ffbb78\",\"#1f77b4\",\"#ff7f0e\",\"#98df8a\",\"#1f77b4\",\"#2ca02c\",\"#1f77b4\",\"#ffbb78\",\"#ff7f0e\",\"#d62728\",\"#ff7f0e\",\"#ffbb78\",\"#aec7e8\",\"#d62728\",\"#ff7f0e\",\"#ffbb78\",\"#2ca02c\",\"#1f77b4\",\"#ffbb78\",\"#d62728\",\"#aec7e8\",\"#aec7e8\",\"#2ca02c\",\"#1f77b4\",\"#ffbb78\",\"#1f77b4\",\"#ff7f0e\",\"#2ca02c\",\"#ffbb78\",\"#ffbb78\",\"#98df8a\",\"#aec7e8\",\"#1f77b4\",\"#ffbb78\",\"#98df8a\",\"#ffbb78\",\"#1f77b4\",\"#aec7e8\",\"#ff7f0e\",\"#d62728\",\"#d62728\",\"#ffbb78\",\"#ff7f0e\",\"#aec7e8\",\"#98df8a\",\"#ff7f0e\",\"#d62728\",\"#1f77b4\",\"#98df8a\",\"#ff7f0e\",\"#ffbb78\",\"#1f77b4\",\"#1f77b4\",\"#ffbb78\",\"#ffbb78\",\"#98df8a\",\"#1f77b4\",\"#ff7f0e\",\"#ffbb78\",\"#ffbb78\",\"#aec7e8\",\"#ffbb78\",\"#2ca02c\",\"#ff7f0e\",\"#ffbb78\",\"#ffbb78\",\"#98df8a\",\"#1f77b4\",\"#aec7e8\",\"#98df8a\",\"#aec7e8\",\"#ffbb78\",\"#aec7e8\",\"#d62728\",\"#1f77b4\",\"#1f77b4\",\"#98df8a\",\"#aec7e8\",\"#ffbb78\",\"#d62728\",\"#ff7f0e\",\"#2ca02c\",\"#ffbb78\",\"#2ca02c\",\"#1f77b4\",\"#2ca02c\",\"#aec7e8\",\"#ffbb78\",\"#1f77b4\",\"#1f77b4\",\"#ff7f0e\",\"#ff7f0e\",\"#98df8a\",\"#ffbb78\",\"#ffbb78\",\"#98df8a\",\"#98df8a\",\"#aec7e8\",\"#ff7f0e\",\"#1f77b4\",\"#aec7e8\",\"#aec7e8\",\"#ff7f0e\",\"#ffbb78\",\"#2ca02c\",\"#1f77b4\",\"#98df8a\",\"#d62728\",\"#1f77b4\",\"#ff7f0e\",\"#1f77b4\",\"#98df8a\",\"#1f77b4\",\"#98df8a\",\"#ff7f0e\",\"#d62728\",\"#ffbb78\",\"#d62728\",\"#ffbb78\",\"#1f77b4\",\"#ffbb78\",\"#1f77b4\",\"#d62728\",\"#2ca02c\",\"#aec7e8\",\"#98df8a\",\"#2ca02c\",\"#1f77b4\",\"#98df8a\",\"#ff7f0e\",\"#1f77b4\",\"#aec7e8\",\"#aec7e8\",\"#d62728\",\"#aec7e8\",\"#aec7e8\",\"#98df8a\",\"#2ca02c\",\"#ffbb78\",\"#d62728\",\"#ffbb78\",\"#d62728\",\"#1f77b4\",\"#aec7e8\",\"#2ca02c\",\"#1f77b4\",\"#ffbb78\",\"#1f77b4\",\"#ff7f0e\",\"#ff7f0e\",\"#ff7f0e\",\"#1f77b4\",\"#ffbb78\",\"#d62728\",\"#1f77b4\",\"#d62728\",\"#d62728\",\"#aec7e8\",\"#98df8a\",\"#ffbb78\",\"#98df8a\",\"#2ca02c\",\"#aec7e8\",\"#1f77b4\",\"#ff7f0e\",\"#aec7e8\",\"#ff7f0e\",\"#1f77b4\",\"#aec7e8\",\"#aec7e8\",\"#98df8a\",\"#ff7f0e\",\"#2ca02c\",\"#ffbb78\",\"#ff7f0e\",\"#ffbb78\",\"#d62728\",\"#aec7e8\",\"#1f77b4\",\"#aec7e8\",\"#1f77b4\",\"#aec7e8\",\"#2ca02c\",\"#2ca02c\",\"#2ca02c\",\"#aec7e8\",\"#1f77b4\",\"#2ca02c\",\"#d62728\",\"#ff7f0e\",\"#aec7e8\",\"#ff7f0e\",\"#1f77b4\",\"#1f77b4\",\"#ffbb78\",\"#98df8a\",\"#2ca02c\",\"#ff7f0e\",\"#ffbb78\",\"#2ca02c\",\"#98df8a\",\"#ffbb78\",\"#1f77b4\",\"#d62728\",\"#ffbb78\",\"#98df8a\",\"#aec7e8\",\"#2ca02c\",\"#ff7f0e\",\"#aec7e8\",\"#ffbb78\",\"#d62728\",\"#ffbb78\",\"#1f77b4\",\"#aec7e8\",\"#d62728\",\"#ff7f0e\",\"#ff7f0e\",\"#ff7f0e\",\"#ff7f0e\",\"#1f77b4\",\"#aec7e8\",\"#aec7e8\",\"#98df8a\",\"#98df8a\",\"#1f77b4\",\"#ffbb78\",\"#2ca02c\",\"#d62728\",\"#1f77b4\",\"#d62728\"],\"line_color\":[\"#1f77b4\",\"#ff7f0e\",\"#ff7f0e\",\"#aec7e8\",\"#98df8a\",\"#ffbb78\",\"#ffbb78\",\"#aec7e8\",\"#1f77b4\",\"#aec7e8\",\"#ff7f0e\",\"#ffbb78\",\"#ffbb78\",\"#ffbb78\",\"#ffbb78\",\"#1f77b4\",\"#ffbb78\",\"#2ca02c\",\"#2ca02c\",\"#1f77b4\",\"#aec7e8\",\"#aec7e8\",\"#98df8a\",\"#ff7f0e\",\"#ffbb78\",\"#d62728\",\"#2ca02c\",\"#1f77b4\",\"#d62728\",\"#ffbb78\",\"#aec7e8\",\"#ff7f0e\",\"#aec7e8\",\"#aec7e8\",\"#ffbb78\",\"#ff7f0e\",\"#ff7f0e\",\"#2ca02c\",\"#1f77b4\",\"#d62728\",\"#aec7e8\",\"#ffbb78\",\"#ffbb78\",\"#1f77b4\",\"#aec7e8\",\"#aec7e8\",\"#ffbb78\",\"#2ca02c\",\"#ff7f0e\",\"#aec7e8\",\"#ffbb78\",\"#98df8a\",\"#2ca02c\",\"#1f77b4\",\"#98df8a\",\"#aec7e8\",\"#2ca02c\",\"#aec7e8\",\"#1f77b4\",\"#ff7f0e\",\"#aec7e8\",\"#98df8a\",\"#aec7e8\",\"#d62728\",\"#ff7f0e\",\"#ff7f0e\",\"#ffbb78\",\"#2ca02c\",\"#ff7f0e\",\"#1f77b4\",\"#ff7f0e\",\"#ffbb78\",\"#aec7e8\",\"#ffbb78\",\"#2ca02c\",\"#ffbb78\",\"#2ca02c\",\"#d62728\",\"#aec7e8\",\"#ffbb78\",\"#ffbb78\",\"#1f77b4\",\"#ff7f0e\",\"#98df8a\",\"#2ca02c\",\"#d62728\",\"#aec7e8\",\"#ff7f0e\",\"#ff7f0e\",\"#1f77b4\",\"#2ca02c\",\"#ffbb78\",\"#ffbb78\",\"#ff7f0e\",\"#aec7e8\",\"#ffbb78\",\"#1f77b4\",\"#aec7e8\",\"#ffbb78\",\"#2ca02c\",\"#2ca02c\",\"#d62728\",\"#ffbb78\",\"#ffbb78\",\"#1f77b4\",\"#d62728\",\"#1f77b4\",\"#2ca02c\",\"#ffbb78\",\"#d62728\",\"#ff7f0e\",\"#98df8a\",\"#ffbb78\",\"#ffbb78\",\"#aec7e8\",\"#ffbb78\",\"#2ca02c\",\"#1f77b4\",\"#ffbb78\",\"#ffbb78\",\"#1f77b4\",\"#98df8a\",\"#ff7f0e\",\"#1f77b4\",\"#d62728\",\"#aec7e8\",\"#2ca02c\",\"#2ca02c\",\"#98df8a\",\"#ffbb78\",\"#2ca02c\",\"#2ca02c\",\"#1f77b4\",\"#ff7f0e\",\"#1f77b4\",\"#aec7e8\",\"#aec7e8\",\"#ff7f0e\",\"#ffbb78\",\"#ffbb78\",\"#98df8a\",\"#98df8a\",\"#ff7f0e\",\"#ff7f0e\",\"#1f77b4\",\"#d62728\",\"#1f77b4\",\"#98df8a\",\"#ffbb78\",\"#ff7f0e\",\"#ffbb78\",\"#ffbb78\",\"#1f77b4\",\"#98df8a\",\"#ff7f0e\",\"#ffbb78\",\"#ff7f0e\",\"#ffbb78\",\"#ff7f0e\",\"#98df8a\",\"#aec7e8\",\"#ffbb78\",\"#1f77b4\",\"#98df8a\",\"#2ca02c\",\"#d62728\",\"#ffbb78\",\"#ffbb78\",\"#98df8a\",\"#ffbb78\",\"#2ca02c\",\"#ffbb78\",\"#1f77b4\",\"#98df8a\",\"#ffbb78\",\"#2ca02c\",\"#d62728\",\"#98df8a\",\"#aec7e8\",\"#1f77b4\",\"#1f77b4\",\"#ff7f0e\",\"#aec7e8\",\"#ffbb78\",\"#ff7f0e\",\"#ffbb78\",\"#aec7e8\",\"#ffbb78\",\"#ffbb78\",\"#ff7f0e\",\"#ffbb78\",\"#ffbb78\",\"#ffbb78\",\"#d62728\",\"#aec7e8\",\"#2ca02c\",\"#ffbb78\",\"#1f77b4\",\"#1f77b4\",\"#d62728\",\"#d62728\",\"#ff7f0e\",\"#2ca02c\",\"#ffbb78\",\"#aec7e8\",\"#ff7f0e\",\"#98df8a\",\"#aec7e8\",\"#98df8a\",\"#1f77b4\",\"#ffbb78\",\"#aec7e8\",\"#ff7f0e\",\"#d62728\",\"#ffbb78\",\"#aec7e8\",\"#1f77b4\",\"#98df8a\",\"#ffbb78\",\"#ffbb78\",\"#1f77b4\",\"#1f77b4\",\"#98df8a\",\"#aec7e8\",\"#98df8a\",\"#d62728\",\"#aec7e8\",\"#ff7f0e\",\"#ffbb78\",\"#98df8a\",\"#aec7e8\",\"#98df8a\",\"#1f77b4\",\"#2ca02c\",\"#98df8a\",\"#2ca02c\",\"#2ca02c\",\"#2ca02c\",\"#98df8a\",\"#ffbb78\",\"#d62728\",\"#1f77b4\",\"#d62728\",\"#ffbb78\",\"#aec7e8\",\"#ffbb78\",\"#1f77b4\",\"#1f77b4\",\"#1f77b4\",\"#2ca02c\",\"#2ca02c\",\"#aec7e8\",\"#1f77b4\",\"#1f77b4\",\"#ff7f0e\",\"#98df8a\",\"#98df8a\",\"#aec7e8\",\"#ffbb78\",\"#ffbb78\",\"#1f77b4\",\"#1f77b4\",\"#aec7e8\",\"#d62728\",\"#ffbb78\",\"#aec7e8\",\"#ff7f0e\",\"#d62728\",\"#2ca02c\",\"#2ca02c\",\"#ff7f0e\",\"#ff7f0e\",\"#aec7e8\",\"#2ca02c\",\"#98df8a\",\"#ff7f0e\",\"#ffbb78\",\"#ffbb78\",\"#ffbb78\",\"#1f77b4\",\"#98df8a\",\"#2ca02c\",\"#ffbb78\",\"#ff7f0e\",\"#1f77b4\",\"#1f77b4\",\"#d62728\",\"#ff7f0e\",\"#aec7e8\",\"#ffbb78\",\"#ffbb78\",\"#ffbb78\",\"#ff7f0e\",\"#ffbb78\",\"#ff7f0e\",\"#aec7e8\",\"#2ca02c\",\"#1f77b4\",\"#1f77b4\",\"#ffbb78\",\"#aec7e8\",\"#1f77b4\",\"#ffbb78\",\"#ffbb78\",\"#1f77b4\",\"#98df8a\",\"#98df8a\",\"#ffbb78\",\"#ffbb78\",\"#ffbb78\",\"#ffbb78\",\"#ff7f0e\",\"#ffbb78\",\"#98df8a\",\"#ff7f0e\",\"#ffbb78\",\"#1f77b4\",\"#2ca02c\",\"#1f77b4\",\"#d62728\",\"#1f77b4\",\"#ffbb78\",\"#98df8a\",\"#aec7e8\",\"#ff7f0e\",\"#98df8a\",\"#2ca02c\",\"#ffbb78\",\"#98df8a\",\"#2ca02c\",\"#ffbb78\",\"#1f77b4\",\"#98df8a\",\"#98df8a\",\"#1f77b4\",\"#ffbb78\",\"#ffbb78\",\"#aec7e8\",\"#98df8a\",\"#ff7f0e\",\"#ffbb78\",\"#2ca02c\",\"#d62728\",\"#ffbb78\",\"#ffbb78\",\"#aec7e8\",\"#ff7f0e\",\"#ffbb78\",\"#aec7e8\",\"#ffbb78\",\"#ffbb78\",\"#1f77b4\",\"#ffbb78\",\"#ffbb78\",\"#ffbb78\",\"#2ca02c\",\"#ffbb78\",\"#d62728\",\"#1f77b4\",\"#ff7f0e\",\"#ffbb78\",\"#ff7f0e\",\"#2ca02c\",\"#d62728\",\"#ffbb78\",\"#98df8a\",\"#1f77b4\",\"#ff7f0e\",\"#aec7e8\",\"#ff7f0e\",\"#ffbb78\",\"#ff7f0e\",\"#1f77b4\",\"#d62728\",\"#ff7f0e\",\"#ff7f0e\",\"#ffbb78\",\"#d62728\",\"#98df8a\",\"#d62728\",\"#98df8a\",\"#aec7e8\",\"#aec7e8\",\"#2ca02c\",\"#2ca02c\",\"#98df8a\",\"#98df8a\",\"#1f77b4\",\"#ffbb78\",\"#98df8a\",\"#ff7f0e\",\"#1f77b4\",\"#ffbb78\",\"#ff7f0e\",\"#98df8a\",\"#d62728\",\"#aec7e8\",\"#1f77b4\",\"#2ca02c\",\"#1f77b4\",\"#2ca02c\",\"#ff7f0e\",\"#d62728\",\"#d62728\",\"#1f77b4\",\"#d62728\",\"#aec7e8\",\"#2ca02c\",\"#1f77b4\",\"#ffbb78\",\"#ffbb78\",\"#2ca02c\",\"#1f77b4\",\"#98df8a\",\"#ffbb78\",\"#ffbb78\",\"#98df8a\",\"#98df8a\",\"#ff7f0e\",\"#ff7f0e\",\"#1f77b4\",\"#2ca02c\",\"#ffbb78\",\"#ffbb78\",\"#aec7e8\",\"#1f77b4\",\"#ff7f0e\",\"#ff7f0e\",\"#98df8a\",\"#98df8a\",\"#2ca02c\",\"#ffbb78\",\"#ff7f0e\",\"#ff7f0e\",\"#2ca02c\",\"#ffbb78\",\"#ff7f0e\",\"#ffbb78\",\"#ff7f0e\",\"#d62728\",\"#aec7e8\",\"#ffbb78\",\"#1f77b4\",\"#ff7f0e\",\"#2ca02c\",\"#1f77b4\",\"#ffbb78\",\"#ff7f0e\",\"#aec7e8\",\"#ff7f0e\",\"#1f77b4\",\"#2ca02c\",\"#ff7f0e\",\"#d62728\",\"#1f77b4\",\"#ffbb78\",\"#ff7f0e\",\"#aec7e8\",\"#1f77b4\",\"#1f77b4\",\"#1f77b4\",\"#1f77b4\",\"#98df8a\",\"#aec7e8\",\"#aec7e8\",\"#d62728\",\"#ffbb78\",\"#ff7f0e\",\"#aec7e8\",\"#ffbb78\",\"#98df8a\",\"#ff7f0e\",\"#98df8a\",\"#98df8a\",\"#ff7f0e\",\"#1f77b4\",\"#d62728\",\"#d62728\",\"#ffbb78\",\"#2ca02c\",\"#1f77b4\",\"#ffbb78\",\"#ff7f0e\",\"#1f77b4\",\"#2ca02c\",\"#ffbb78\",\"#aec7e8\",\"#ffbb78\",\"#d62728\",\"#aec7e8\",\"#98df8a\",\"#ffbb78\",\"#ff7f0e\",\"#d62728\",\"#1f77b4\",\"#aec7e8\",\"#ff7f0e\",\"#ffbb78\",\"#ff7f0e\",\"#d62728\",\"#ff7f0e\",\"#aec7e8\",\"#aec7e8\",\"#2ca02c\",\"#ffbb78\",\"#98df8a\",\"#ff7f0e\",\"#1f77b4\",\"#aec7e8\",\"#2ca02c\",\"#d62728\",\"#ffbb78\",\"#1f77b4\",\"#2ca02c\",\"#aec7e8\",\"#ffbb78\",\"#ffbb78\",\"#1f77b4\",\"#ff7f0e\",\"#aec7e8\",\"#ffbb78\",\"#98df8a\",\"#1f77b4\",\"#ffbb78\",\"#1f77b4\",\"#1f77b4\",\"#aec7e8\",\"#ff7f0e\",\"#ff7f0e\",\"#ff7f0e\",\"#1f77b4\",\"#d62728\",\"#ffbb78\",\"#aec7e8\",\"#aec7e8\",\"#ffbb78\",\"#aec7e8\",\"#ffbb78\",\"#ffbb78\",\"#aec7e8\",\"#1f77b4\",\"#1f77b4\",\"#ffbb78\",\"#98df8a\",\"#1f77b4\",\"#ffbb78\",\"#ff7f0e\",\"#98df8a\",\"#ffbb78\",\"#ffbb78\",\"#aec7e8\",\"#aec7e8\",\"#ff7f0e\",\"#1f77b4\",\"#ffbb78\",\"#1f77b4\",\"#aec7e8\",\"#aec7e8\",\"#ff7f0e\",\"#ffbb78\",\"#2ca02c\",\"#aec7e8\",\"#2ca02c\",\"#2ca02c\",\"#aec7e8\",\"#1f77b4\",\"#2ca02c\",\"#d62728\",\"#d62728\",\"#1f77b4\",\"#ff7f0e\",\"#2ca02c\",\"#ff7f0e\",\"#ffbb78\",\"#ff7f0e\",\"#ff7f0e\",\"#ffbb78\",\"#ffbb78\",\"#2ca02c\",\"#aec7e8\",\"#ff7f0e\",\"#ffbb78\",\"#2ca02c\",\"#ffbb78\",\"#98df8a\",\"#aec7e8\",\"#ffbb78\",\"#98df8a\",\"#2ca02c\",\"#ffbb78\",\"#aec7e8\",\"#1f77b4\",\"#ffbb78\",\"#ff7f0e\",\"#aec7e8\",\"#98df8a\",\"#2ca02c\",\"#ffbb78\",\"#aec7e8\",\"#ffbb78\",\"#aec7e8\",\"#1f77b4\",\"#ff7f0e\",\"#ffbb78\",\"#aec7e8\",\"#98df8a\",\"#aec7e8\",\"#aec7e8\",\"#aec7e8\",\"#2ca02c\",\"#ffbb78\",\"#ff7f0e\",\"#ffbb78\",\"#1f77b4\",\"#ff7f0e\",\"#2ca02c\",\"#ff7f0e\",\"#2ca02c\",\"#aec7e8\",\"#1f77b4\",\"#ffbb78\",\"#aec7e8\",\"#ff7f0e\",\"#98df8a\",\"#ff7f0e\",\"#ffbb78\",\"#2ca02c\",\"#ff7f0e\",\"#ff7f0e\",\"#1f77b4\",\"#aec7e8\",\"#ff7f0e\",\"#1f77b4\",\"#ffbb78\",\"#1f77b4\",\"#1f77b4\",\"#ff7f0e\",\"#ff7f0e\",\"#aec7e8\",\"#ffbb78\",\"#2ca02c\",\"#1f77b4\",\"#d62728\",\"#98df8a\",\"#ff7f0e\",\"#aec7e8\",\"#aec7e8\",\"#1f77b4\",\"#ff7f0e\",\"#ffbb78\",\"#aec7e8\",\"#1f77b4\",\"#ff7f0e\",\"#aec7e8\",\"#1f77b4\",\"#d62728\",\"#aec7e8\",\"#ff7f0e\",\"#98df8a\",\"#aec7e8\",\"#aec7e8\",\"#d62728\",\"#98df8a\",\"#ff7f0e\",\"#2ca02c\",\"#aec7e8\",\"#2ca02c\",\"#1f77b4\",\"#ffbb78\",\"#aec7e8\",\"#ffbb78\",\"#1f77b4\",\"#ff7f0e\",\"#ff7f0e\",\"#1f77b4\",\"#2ca02c\",\"#d62728\",\"#2ca02c\",\"#98df8a\",\"#d62728\",\"#2ca02c\",\"#98df8a\",\"#1f77b4\",\"#ff7f0e\",\"#ff7f0e\",\"#ffbb78\",\"#aec7e8\",\"#ffbb78\",\"#aec7e8\",\"#ff7f0e\",\"#ff7f0e\",\"#98df8a\",\"#ff7f0e\",\"#ffbb78\",\"#98df8a\",\"#ff7f0e\",\"#ffbb78\",\"#ffbb78\",\"#ff7f0e\",\"#1f77b4\",\"#aec7e8\",\"#98df8a\",\"#98df8a\",\"#d62728\",\"#aec7e8\",\"#ffbb78\",\"#ffbb78\",\"#98df8a\",\"#ff7f0e\",\"#2ca02c\",\"#2ca02c\",\"#ffbb78\",\"#2ca02c\",\"#1f77b4\",\"#ffbb78\",\"#98df8a\",\"#1f77b4\",\"#2ca02c\",\"#1f77b4\",\"#1f77b4\",\"#2ca02c\",\"#2ca02c\",\"#98df8a\",\"#aec7e8\",\"#1f77b4\",\"#ffbb78\",\"#1f77b4\",\"#aec7e8\",\"#1f77b4\",\"#2ca02c\",\"#ff7f0e\",\"#ffbb78\",\"#1f77b4\",\"#ffbb78\",\"#aec7e8\",\"#d62728\",\"#1f77b4\",\"#aec7e8\",\"#ff7f0e\",\"#aec7e8\",\"#ffbb78\",\"#98df8a\",\"#d62728\",\"#ff7f0e\",\"#ff7f0e\",\"#d62728\",\"#ff7f0e\",\"#1f77b4\",\"#ff7f0e\",\"#2ca02c\",\"#1f77b4\",\"#1f77b4\",\"#2ca02c\",\"#ff7f0e\",\"#1f77b4\",\"#2ca02c\",\"#1f77b4\",\"#d62728\",\"#2ca02c\",\"#1f77b4\",\"#1f77b4\",\"#ffbb78\",\"#1f77b4\",\"#ffbb78\",\"#aec7e8\",\"#98df8a\",\"#98df8a\",\"#ffbb78\",\"#98df8a\",\"#aec7e8\",\"#98df8a\",\"#ff7f0e\",\"#1f77b4\",\"#1f77b4\",\"#aec7e8\",\"#aec7e8\",\"#d62728\",\"#1f77b4\",\"#aec7e8\",\"#ffbb78\",\"#ffbb78\",\"#ffbb78\",\"#ffbb78\",\"#1f77b4\",\"#ffbb78\",\"#ffbb78\",\"#d62728\",\"#d62728\",\"#1f77b4\",\"#1f77b4\",\"#1f77b4\",\"#ff7f0e\",\"#ff7f0e\",\"#aec7e8\",\"#98df8a\",\"#ff7f0e\",\"#1f77b4\",\"#ff7f0e\",\"#1f77b4\",\"#ff7f0e\",\"#ff7f0e\",\"#98df8a\",\"#ffbb78\",\"#ff7f0e\",\"#aec7e8\",\"#ffbb78\",\"#2ca02c\",\"#98df8a\",\"#ff7f0e\",\"#ff7f0e\",\"#aec7e8\",\"#1f77b4\",\"#aec7e8\",\"#ffbb78\",\"#1f77b4\",\"#ffbb78\",\"#1f77b4\",\"#98df8a\",\"#ff7f0e\",\"#ffbb78\",\"#1f77b4\",\"#ff7f0e\",\"#98df8a\",\"#1f77b4\",\"#2ca02c\",\"#1f77b4\",\"#ffbb78\",\"#ff7f0e\",\"#d62728\",\"#ff7f0e\",\"#ffbb78\",\"#aec7e8\",\"#d62728\",\"#ff7f0e\",\"#ffbb78\",\"#2ca02c\",\"#1f77b4\",\"#ffbb78\",\"#d62728\",\"#aec7e8\",\"#aec7e8\",\"#2ca02c\",\"#1f77b4\",\"#ffbb78\",\"#1f77b4\",\"#ff7f0e\",\"#2ca02c\",\"#ffbb78\",\"#ffbb78\",\"#98df8a\",\"#aec7e8\",\"#1f77b4\",\"#ffbb78\",\"#98df8a\",\"#ffbb78\",\"#1f77b4\",\"#aec7e8\",\"#ff7f0e\",\"#d62728\",\"#d62728\",\"#ffbb78\",\"#ff7f0e\",\"#aec7e8\",\"#98df8a\",\"#ff7f0e\",\"#d62728\",\"#1f77b4\",\"#98df8a\",\"#ff7f0e\",\"#ffbb78\",\"#1f77b4\",\"#1f77b4\",\"#ffbb78\",\"#ffbb78\",\"#98df8a\",\"#1f77b4\",\"#ff7f0e\",\"#ffbb78\",\"#ffbb78\",\"#aec7e8\",\"#ffbb78\",\"#2ca02c\",\"#ff7f0e\",\"#ffbb78\",\"#ffbb78\",\"#98df8a\",\"#1f77b4\",\"#aec7e8\",\"#98df8a\",\"#aec7e8\",\"#ffbb78\",\"#aec7e8\",\"#d62728\",\"#1f77b4\",\"#1f77b4\",\"#98df8a\",\"#aec7e8\",\"#ffbb78\",\"#d62728\",\"#ff7f0e\",\"#2ca02c\",\"#ffbb78\",\"#2ca02c\",\"#1f77b4\",\"#2ca02c\",\"#aec7e8\",\"#ffbb78\",\"#1f77b4\",\"#1f77b4\",\"#ff7f0e\",\"#ff7f0e\",\"#98df8a\",\"#ffbb78\",\"#ffbb78\",\"#98df8a\",\"#98df8a\",\"#aec7e8\",\"#ff7f0e\",\"#1f77b4\",\"#aec7e8\",\"#aec7e8\",\"#ff7f0e\",\"#ffbb78\",\"#2ca02c\",\"#1f77b4\",\"#98df8a\",\"#d62728\",\"#1f77b4\",\"#ff7f0e\",\"#1f77b4\",\"#98df8a\",\"#1f77b4\",\"#98df8a\",\"#ff7f0e\",\"#d62728\",\"#ffbb78\",\"#d62728\",\"#ffbb78\",\"#1f77b4\",\"#ffbb78\",\"#1f77b4\",\"#d62728\",\"#2ca02c\",\"#aec7e8\",\"#98df8a\",\"#2ca02c\",\"#1f77b4\",\"#98df8a\",\"#ff7f0e\",\"#1f77b4\",\"#aec7e8\",\"#aec7e8\",\"#d62728\",\"#aec7e8\",\"#aec7e8\",\"#98df8a\",\"#2ca02c\",\"#ffbb78\",\"#d62728\",\"#ffbb78\",\"#d62728\",\"#1f77b4\",\"#aec7e8\",\"#2ca02c\",\"#1f77b4\",\"#ffbb78\",\"#1f77b4\",\"#ff7f0e\",\"#ff7f0e\",\"#ff7f0e\",\"#1f77b4\",\"#ffbb78\",\"#d62728\",\"#1f77b4\",\"#d62728\",\"#d62728\",\"#aec7e8\",\"#98df8a\",\"#ffbb78\",\"#98df8a\",\"#2ca02c\",\"#aec7e8\",\"#1f77b4\",\"#ff7f0e\",\"#aec7e8\",\"#ff7f0e\",\"#1f77b4\",\"#aec7e8\",\"#aec7e8\",\"#98df8a\",\"#ff7f0e\",\"#2ca02c\",\"#ffbb78\",\"#ff7f0e\",\"#ffbb78\",\"#d62728\",\"#aec7e8\",\"#1f77b4\",\"#aec7e8\",\"#1f77b4\",\"#aec7e8\",\"#2ca02c\",\"#2ca02c\",\"#2ca02c\",\"#aec7e8\",\"#1f77b4\",\"#2ca02c\",\"#d62728\",\"#ff7f0e\",\"#aec7e8\",\"#ff7f0e\",\"#1f77b4\",\"#1f77b4\",\"#ffbb78\",\"#98df8a\",\"#2ca02c\",\"#ff7f0e\",\"#ffbb78\",\"#2ca02c\",\"#98df8a\",\"#ffbb78\",\"#1f77b4\",\"#d62728\",\"#ffbb78\",\"#98df8a\",\"#aec7e8\",\"#2ca02c\",\"#ff7f0e\",\"#aec7e8\",\"#ffbb78\",\"#d62728\",\"#ffbb78\",\"#1f77b4\",\"#aec7e8\",\"#d62728\",\"#ff7f0e\",\"#ff7f0e\",\"#ff7f0e\",\"#ff7f0e\",\"#1f77b4\",\"#aec7e8\",\"#aec7e8\",\"#98df8a\",\"#98df8a\",\"#1f77b4\",\"#ffbb78\",\"#2ca02c\",\"#d62728\",\"#1f77b4\",\"#d62728\"],\"x\":{\"__ndarray__\":\"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\",\"dtype\":\"float32\",\"order\":\"little\",\"shape\":[1050]},\"y\":{\"__ndarray__\":\"4yAxQfrq1UAGrVJBrji8wfSNB0GsKnnBL1knwfWSksEj71vBYrvAwd2LYEBy0EXBaI6Pwb8+OMEWzhfB7BPpvxh+RcEvSalBaFPDQSLXBkGaeqDB0KaywQ9hE0H0CeNA+DaYwcplmcCPndJBLTFCQBmYdMAxFErBh/25wTUC+kBj/bvBcuuMwWL3UMFjsFJBnO0fQTIA1UGM/3+/YrqiwJEGpMHbzH3BryCbwXBYykA2d7DBHp+2wUMVi8FvSthBW/+nQFqFssGN5UPBzuHgQLrxtkEa+j3BxgJswVPLcMGwesxBlkG+wXgeY8Dh2+lAJv2cwRMe5kBRA37B5YKIwNc2wkBbNatA9ZAWwX2f0kH02UJAGKdqP4+xUkHNP5vBHVXBweyxmj95otJB2FmHwWov0EEpwELAdwh4wfncgMF+y7M/32bmQKFKNEE3Fe9A1FqjQTVnmcBtV8HBS1FOQUQKSkCyCc1ADbLHQfRTk8F4tmHB1i1GQQrZksEMx5nBX/UcwEVysMELbYfB0iazQVOwx0E9k+bAD4OYwdcchsGtBBdB9keowFBMQsCr/6lBF1T3vWkGT8DwnvlA+3H5QEsbiMEPNpDBjWO9wT9PisHVRrhBd7cuQcwli8GJel7BFDZVwDKpN0DoyExBHYCNv73EucCdY7rBw6KnQSugtkFZKJtAekqXwXQOx0FdCNBB7n8GQa19j0Bnqi7AQ8wswf31vsG1Xf9Ait+MwTqChMHWBg1BF/q6QLVd/0A1NBtBZ6ouwJzVdMD9HhdBekITQf+PkMF+ugZBz86BwSepm8G0gehAcB+xQI4RKkGaJIjBstf6QJ5PjcEkXDZBjjOsQLJBvcEbux+/mRTowKLACUGn9b9BUX6GwNTnk8EBQSLB2SOxQO9fZsEx5KxB64s4wSWOMUF3aOJABySmvbB6zEGcgXzAKMEFQPf2vcFVqc4/SnyvQFgiG0Gkc8HBBS6LwdRdFkHPBlbBCIu6wdoTa8FWVw0/nXIBQTwZYcE20BbBRUCNwU+oXsAVc7DBpyuoQYTsTMEBmMI/d4LNQHBVjcDhsELA0qtSQV9f0kFrSTzBclSPwceuHEDDVeI/ZsO5wS1arkBf9RzAyLUewZfdp8FGw5BAMuDUwON0q726KMPBSftBQKIeHECU2oLBaOFKwSmOMUHjTCvAFQFnwRsYc8G51LlApBhGwNamssF0whpBlss0wSWd2UBleLjBCE3cQMv96MDcn9JBQc6qQOLEukF++LJBDGzJQYcOsUA0nIPB9dmFwPIWF0GSyXPAjTInwaaQjsHU647BK+7HQPDvNsDNdpVAQi7DQVdB0UEmgbXBh1OAv/uIaz6fSjRBDQtmwc5dfEAEwHLBM/KVwRtHXsGZ5JZAoWz9QEkSvsEhm+bADMhzwU9bu8HQTCFBRMVHwLMYw0E358JBTkgcQDoaEkHW74/BMbm2QWBcoUBggEBBtHGVwUWVJ8Hz/JLB6MHovydL4EBQxaBBvvSYwXQ6SEBtfijAxoHoQIqZ1MBYfkBBhM+Owf0Ra8H/YMo+pHNrPt5cEkELajXBKSdGQapzwcGpctdBhHowQY5HEkG4Jz3B2p6GwbHuZD4ilT3B4kSJwdnf/UCkjxFBCr7HQKhkKcFDqF/BttSUwX3aGcEZreRAO0hdwcDjDkGfSjRBfyNfwTVgxj8FFNhB/FIrQbfQT8BGw4PASJqYwUcW10ArX7zB7dxMQXha4UA0R6lBLsCSwRVMaMESFMdByuZbwaWSwL+c8ttABqYoQMkncz7KFIbBdrUsP9phusFkZa5A6v3VQCI5bsG7scdBt9BPwIiFVsFg0hHBj4+9wT83LEE/K47Bqte7wS+KUMF78RXBSkxCwOmWhT+9fV7BPvKCwYz7u0FC9JHBiSxjwPrB6L+M3elA1yewPvFrJkH2DLJB70XJwMNcN8F1MGDA9Q8vwD3aTEEQyYPBuO0bQaYtKT8Z7xhBFd3lQFy01cCM3elAfDdEQX3aPcGdbZzAFkXhQNNqkMDgjQdBMtK5wddJIME/FsdBs3vQQSGI7EBlH5VAaVTmQKwfmsGJJu9AbEgeQbaEt7+zrJDBMS5GQdbEZcFceHTAFnOwwfaNMUG62MpB1k2WQDf+wEHmnFpB1Yl0wMRlmcCM+A1B5F1dwAc/tMHseqRB/12WQCUNLT9iJYfB1NjKQXBZSECqkhFB5I1gwRltl8Fq7IlAbxHAQEpnLEErXv9AZ6ouwM09p0F7P5vBGjARwX3Uv8Gz+H+/GEBIQG2xRUF0mfdAdHdZwRPvyUGv3JHBGW4sQY/77kDcJs5BKE+XwQBjP0ECgJjBXkg0QfvxzMCsCTfBTyaPwepdlUAmMxRB5IXCQR7MyUCL9G/Bu5xaQXBIdsGW7itBfm7oQPYoq0FPav5AzoBvwGVGX8C0AivBE+dRQdOetsH+j+ZArQQXQSvux0DrIFPBsY8HQQHUucG8v7nBXWd+wPpil8Hdk0VBGoqMwdZCNsE4LeFAKbhFQYqNN0C4RKBBiu86QTjFg8C2SJbAk1ktwHtrisH4QNhBSExCwEOoX8FRsTtB7ZqAv3YU2EE1T5bBmQW4wamNYMGUs9XAfhu4weIXE0Fc3G/Bbhj7Pwacp8CA9/tAFnOwwRRiT0FmWpTBoko0QV7fscDCmVhBFHqGwQncksHLVbdB9Wldwe680UCaH0JAnJweQebDlsEEwMxBZnxUwMVdZ8HcQ8lABMDMQQc+hcEhEWfBBc+BwaG7w79hNWNB77aCwS3SvD9yHCdBKzgDQVBzjsEl1ZZA2yTKQAz2m8GHehtBGXEnQYa3WkFs7mHAG+OIwFT8Oj+9G5LBbBV3wXEdjsEPv3zBND2SwSISG8GIc7bBLicxQRdE2r/rizjB3f7mQF1QzEBVdpDBIF0sQbAhX8AUykvBbMeVwSLklsFqlpTBcESRQJzDBkGdyYnBLy9CQLTRi8GYG6LBj+kwQLSeZME75ahBBr+5wZYi2UGovL1BsmO+wc6Nvr/bB8dBrAqjwLWoXsD9hQJBrEy0QJFzqkFNb5ZARedMwbWIH0F3YG9AY0tDwbfGiMEOndVBz262wRA9FEH5z5XBbr/NQZK2GsFP5gtBmQW4wZTdkMFV7vFABRTYQSCbIsGBibXBUMUGQYclW8GAOFNBktKmwU84l0AQ2stBw/eJwe/gqcHmDnc/XIGWwdDbRMEYNltBRWePwX/ihsHZkt4/fu1twcPTvsEXUYbBtC/VQaYHTcGg8B9BuYxSwV3YgcBCMQFBFRbHQTvEkUBWLblBFnOwwU1MQsBGYJfBBb+5wWNtJkFwTktAs1WGQBoyfMFUsMdBb8lSQeZaTkHJ/FrAxHLBwT5fNEGefCjAQ+d6weoplUCOdtm/GbkbQVr/p0BLfX7BPMptwZGds0HSis1At7IZwXHr+UCWjDxBV0uBwV7hs8G31UFAXmgsQVdLj8Gbz4HBx+oGQb+yiEBxZ4/BNjyNvxpvrMAWc7DB8T0UQRKZ/j91voPBXMqnwZpkE8HnUAhBJ0g4QfYL00FtO6TB1frXQYz/xD8yjBvBqDilwbeZX8GMMMhAckFIQJvjBEEZgBpBE+PDQVCzSsB6PstBc4SLQPtUmcBuv81BbIpbQO2TTMCiSjRBVFeuQAbJE8F8fr7BUB2IwRs7j8EKdRZBbt3pQNMgsUAF8IVA1TozwX58BkGl7R9BkKAiwUAaaMETuRtBB44xQafcdMH5k+5ARJ70QBr+tcC+/bfBZB0PwQMrksH3oxRBKY0nQSaQykHcTKlBBRaXweRHwUFXqc4/7lRGwdraC0Frq+i/ai/QQfj+ykCQQWc+SKzCQZYrs0F9xrRAVoeywXN9BkFhpIDBJbsCQSP+vMFeu0vACbvMQV5oLEHBanDBEzyNv1gwWsFaNaXB8QwVwSCAjb9klCHBsdZWQVQDvsFZsS7BATgNQQv2c8DPaVFBhNTKQOH7gMB23elAPlgSQQxDgkD/RcFBaH4owNmdzj/b/dFBZ2IpQC0HykB2FNhBT9n7QEGbWsBIcbdBf7Q+wZtsxj9V9YLBjEFnPp/tGcElPaTBdp8PQdGTokCNgYbBNhXvQFjmtcEOjMFAWcisQJwfDkGbEIC/piyiwYpvtsGpKKHAjxZvwDffd8FA+03BlhdYwUfFKsEslZPBX/UcwHGUYME9tmbBM2eZwENelsBNpZVAVEgzwDEZwL/ImlhBhsNIQVaFssHutolApJf3QEpMQsDMav5AAzGvQOS4G0FkLUVBFVNpweGrUMGzpQRBoKp3wcrQf8EZzNNBE44HQYzd6UDGnFpBeZaPwVnxaj5tZJbBvouVwWcqYMC+vo/BX/UcwAva+UAufkBBvZeQwd1m5kAxMvpAOMn2QDxs6EAiCNBBY5crwKLnQsGgtSJAnlqawPn7WkBQOnHBUp69wRD8hcCUKEZBXZ9Xwen1v0H2IDFBJ9CVwUSChsCk5KrBBb+5wVzDwEEYfehA1Q1IwaGRdkCWKANBgIm6QfF5bcE7CZzBQc6qQHrIIcEkuANBusExwc8RZcFYMGTB0xjdv8yJq8Gg8B9BusqvwOWVB8GB7SPBr79FQSnmi8E6oH9AB6YHQXuRS8CCID3AQc6qQKHwNEGbiZDB/2zmQNw7d0AxTFPBeW0xwcmSN0CUfJVA790AQWPwVcE5VoDB9ad4wZG9i8EiCNBBnTRIQI6wR8GwwkLB64kMQfJwzb9UMG7BkogRQZ/is8E+EeW9uMW/wShFgMBiaMY/gVw9wHIDqUAUSpDBki25Pzi6l8AbThZBFcO+QYq5XsFuz9hBTZLNQKkfvUGvFWvBeUBEwTUEDkFXqc4/rJjWQFv7CkHJj5hAZXyQwb47jcFsZZ5BBtnbQJqDeMFjcgFB2Z3OP0KchMFwK4LBoPmPQE8ZIME/vL9BcLgTQOlx+UAROXXAIICNv0ndO0EfzZRAzZRZwYwwyEBoiBFBgT8VQS+5ecAQ64DBDjJhwAGHX8FwWMpAhOoSwcKB6ECCL1DAWmm1QRnZksGwnPhABGq+QWl+KMDzR4BA+rwbQU4mMUHemKPBaDGCwWa+XMBFM3jBbIqywQ6bm0D4KsFBNTKfP9RcosDrPpLBT9pdwHBYykDbhrzBMQ29QWWqLsCo1mrB0hPAv5/wH0GUcyZBB1gkQccY3b+Mvm/BynAOwb3nQMHSapDAkUJ2wCoDicFwQrhAUN42wcWr+UALOMpB4NmfwVRcRMFnbydBbqq/wWlxJkGdfCjAx1uYwSMNi8ErzqpAUh3BQBrow0GSDlbBbmx2QNYSgMF8HZXAAEmJwa8BDkGwNsHBV6nOP+t8lMFpUqNBL0ClQfoL00GoVcHBKy5xPkpmqUEoqnrArIVvQGTalcHAYBJBWEvAvxGfE0BDqF/BpYvhQExbo0FWSDRBcPmEwTKH1UEFjgdBZIk2wb/4f78ZGRzBR4WPwSRSp0BBAXPBqr7YQU4pAUG2YLfBYHqQwXOLtcC0KJjBYmjGP0dxkMFym4vAVLJFQb1wJkEw0ZRAXkwZQNQnMUFwar3BF4l1wdrN4UDzSsJA6MHov0oSjMFcQb5BvTacwLSpE0CiWXfA\",\"dtype\":\"float32\",\"order\":\"little\",\"shape\":[1050]}},\"selected\":{\"id\":\"1405\"},\"selection_policy\":{\"id\":\"1406\"}},\"id\":\"1363\",\"type\":\"ColumnDataSource\"},{\"attributes\":{\"axis\":{\"id\":\"1345\"},\"dimension\":1,\"ticker\":null},\"id\":\"1348\",\"type\":\"Grid\"},{\"attributes\":{},\"id\":\"1406\",\"type\":\"UnionRenderers\"},{\"attributes\":{},\"id\":\"1354\",\"type\":\"HelpTool\"},{\"attributes\":{\"text\":\"wall sticker home\",\"text_color\":\"#d62728\",\"x\":-2.189767837524414,\"y\":-4.77799654006958},\"id\":\"1374\",\"type\":\"Label\"},{\"attributes\":{},\"id\":\"1349\",\"type\":\"PanTool\"},{\"attributes\":{},\"id\":\"1342\",\"type\":\"BasicTicker\"},{\"attributes\":{\"text\":\"watch analog men\",\"text_color\":\"#1f77b4\",\"x\":-25.8776912689209,\"y\":2.2323944568634033},\"id\":\"1368\",\"type\":\"Label\"},{\"attributes\":{\"overlay\":{\"id\":\"1355\"}},\"id\":\"1351\",\"type\":\"BoxZoomTool\"},{\"attributes\":{},\"id\":\"1352\",\"type\":\"SaveTool\"},{\"attributes\":{\"active_drag\":\"auto\",\"active_inspect\":\"auto\",\"active_multi\":null,\"active_scroll\":\"auto\",\"active_tap\":\"auto\",\"tools\":[{\"id\":\"1349\"},{\"id\":\"1350\"},{\"id\":\"1351\"},{\"id\":\"1352\"},{\"id\":\"1353\"},{\"id\":\"1354\"}]},\"id\":\"1356\",\"type\":\"Toolbar\"},{\"attributes\":{\"text\":\"showpiec price best\",\"text_color\":\"#ff7f0e\",\"x\":24.025291442871094,\"y\":8.974283218383789},\"id\":\"1370\",\"type\":\"Label\"},{\"attributes\":{},\"id\":\"1333\",\"type\":\"DataRange1d\"},{\"attributes\":{\"fill_alpha\":{\"value\":0.1},\"fill_color\":{\"field\":\"fill_color\"},\"line_alpha\":{\"value\":0.1},\"line_color\":{\"field\":\"line_color\"},\"x\":{\"field\":\"x\"},\"y\":{\"field\":\"y\"}},\"id\":\"1365\",\"type\":\"Scatter\"},{\"attributes\":{\"text\":\"t-SNE Clustering avec 7 LDA Topics\"},\"id\":\"1331\",\"type\":\"Title\"}],\"root_ids\":[\"1330\"]},\"title\":\"Bokeh Application\",\"version\":\"2.1.1\"}};\n  var render_items = [{\"docid\":\"4fa3c2de-2fec-429d-8945-c8c82822010a\",\"root_ids\":[\"1330\"],\"roots\":{\"1330\":\"60a18d25-e659-40bf-aff3-6d6ce9b8e943\"}}];\n  root.Bokeh.embed.embed_items_notebook(docs_json, render_items);\n\n  }\n  if (root.Bokeh !== undefined) {\n    embed_document(root);\n  } else {\n    var attempts = 0;\n    var timer = setInterval(function(root) {\n      if (root.Bokeh !== undefined) {\n        clearInterval(timer);\n        embed_document(root);\n      } else {\n        attempts++;\n        if (attempts > 100) {\n          clearInterval(timer);\n          console.log(\"Bokeh: ERROR: Unable to run BokehJS code because BokehJS library is missing\");\n        }\n      }\n    }, 10, root)\n  }\n})(window);",
      "application/vnd.bokehjs_exec.v0+json": ""
     },
     "metadata": {
      "application/vnd.bokehjs_exec.v0+json": {
       "id": "1330"
      }
     },
     "output_type": "display_data"
    }
   ],
   "source": [
    "top_3_words_lda = get_top_n_words(3, lda_keys, small_document_term_matrix, small_count_vectorizer)\n",
    "lda_mean_topic_vectors = get_mean_topic_vectors(lda_keys, tsne_lda_vectors)\n",
    "\n",
    "plot = figure(title=\"t-SNE Clustering avec {} LDA Topics\".format(n_topics), plot_width=700, plot_height=700)\n",
    "plot.scatter(x=tsne_lda_vectors[:,0], y=tsne_lda_vectors[:,1], color=colormap[lda_keys])\n",
    "\n",
    "for i in range(n_topics):\n",
    "    label = Label(x=lda_mean_topic_vectors[i][0], y=lda_mean_topic_vectors[i][1], \n",
    "                  text=top_3_words_lda[i], text_color=colormap[i])\n",
    "    plot.add_layout(label)\n",
    "\n",
    "show(plot)"
   ]
  },
  {
   "cell_type": "markdown",
   "metadata": {},
   "source": [
    "### Evaluation des résultats"
   ]
  },
  {
   "cell_type": "code",
   "execution_count": 122,
   "metadata": {},
   "outputs": [
    {
     "name": "stdout",
     "output_type": "stream",
     "text": [
      "Accuracy:  0.1457142857142857\n"
     ]
    }
   ],
   "source": [
    "original_labels = []\n",
    "\n",
    "for i in range(len(Y.label.values)):\n",
    "    original_labels.append(Y.label.values[i])\n",
    "\n",
    "print(\"Accuracy: \", accuracy_score(original_labels, lda_keys))"
   ]
  },
  {
   "cell_type": "code",
   "execution_count": 98,
   "metadata": {},
   "outputs": [
    {
     "name": "stdout",
     "output_type": "stream",
     "text": [
      "Correspondance des clusters :  [5, 3, 1, 4, 2, 6, 0]\n",
      "[[17 23 19 21 26 30 14]\n",
      " [14 26 13 25 27 25 20]\n",
      " [ 9 26 18 21 35 25 16]\n",
      " [11 18 14 23 38 22 24]\n",
      " [11 31 14 25 22 32 15]\n",
      " [11 22 14 26 40 28  9]\n",
      " [11 25 20 17 41 21 15]]\n"
     ]
    }
   ],
   "source": [
    "def conf_mat_transform(y_true,y_pred) :\n",
    "    conf_mat = confusion_matrix(y_true,y_pred)\n",
    "    \n",
    "    corresp = [5,3,1,4,2,6,0]\n",
    "    print (\"Correspondance des clusters : \", corresp)\n",
    "    labels = pd.Series(y_true, name=\"y_true\").to_frame()\n",
    "    labels['y_pred'] = y_pred\n",
    "    labels['y_pred_transform'] = labels['y_pred'].apply(lambda x : corresp[x]) \n",
    "    \n",
    "    return labels['y_pred_transform']\n",
    "\n",
    "lda_labels_transform = conf_mat_transform(original_labels, lda_keys)\n",
    "conf_mat = confusion_matrix(original_labels, lda_labels_transform)\n",
    "print(conf_mat)"
   ]
  },
  {
   "cell_type": "code",
   "execution_count": 100,
   "metadata": {},
   "outputs": [],
   "source": [
    "class_names = ['Home furnishing','Beauty and Personal Care','Kichen and Dining','Home Decoration','Baby Care',\n",
    "               'Watches','Computers']"
   ]
  },
  {
   "cell_type": "code",
   "execution_count": 105,
   "metadata": {},
   "outputs": [
    {
     "data": {
      "text/plain": [
       "<matplotlib.axes._subplots.AxesSubplot at 0x1f11ad225b0>"
      ]
     },
     "execution_count": 105,
     "metadata": {},
     "output_type": "execute_result"
    },
    {
     "data": {
      "image/png": "[encoded data removed]",
      "text/plain": [
       "<Figure size 432x288 with 2 Axes>"
      ]
     },
     "metadata": {
      "needs_background": "light"
     },
     "output_type": "display_data"
    }
   ],
   "source": [
    "df_cm = pd.DataFrame(conf_mat, index = [label for label in class_names],\n",
    "                  columns = [i for i in \"0123456\"])\n",
    "plt.figure(figsize = (6,4))\n",
    "sb.heatmap(df_cm, annot=True, cmap=\"Blues\")"
   ]
  },
  {
   "cell_type": "markdown",
   "metadata": {},
   "source": [
    "Cette LDA nous a permis de regrouper par descriptions similaires nos produits.\n",
    "Cette méthode reste néanmoins peu précise, c'est pour cela que nous allons réaliser une classification en prenant comme cible la catégorie de chaque produit. \n",
    "## Classification de texte\n",
    "\n",
    "Une autre option est d'utiliser un **modèle supervisé** de classification, dans notre étude nous utiliserons **RandomFrorest Classifier de la librairie SKlearn**.\n",
    "Comme nous connaissons déjà les catégories de nos produits, nous allons pouvoir entraîner notre modèle à l'aides de celles-ci."
   ]
  },
  {
   "cell_type": "markdown",
   "metadata": {},
   "source": [
    "### Entraînement du modèle\n",
    "Il est temps maintenant de réaliser notre classification. Nous allons donc vectorialiser nos descriptions, les séparers et Train & Test puis réaliser une Classification RandomForest."
   ]
  },
  {
   "cell_type": "code",
   "execution_count": 107,
   "metadata": {},
   "outputs": [
    {
     "name": "stdout",
     "output_type": "stream",
     "text": [
      "  (0, 129)\t2\n",
      "  (0, 184)\t1\n",
      "  (0, 49)\t1\n",
      "  (0, 460)\t1\n",
      "  (0, 288)\t2\n",
      "  (0, 221)\t1\n",
      "  (0, 89)\t1\n",
      "  (0, 136)\t1\n",
      "  (0, 255)\t1\n",
      "  (0, 47)\t1\n",
      "  (0, 306)\t1\n",
      "  (0, 104)\t1\n",
      "  (0, 392)\t2\n",
      "  (0, 321)\t2\n",
      "  (0, 275)\t1\n",
      "  (0, 108)\t3\n",
      "  (0, 32)\t6\n",
      "  (0, 456)\t6\n",
      "  (0, 374)\t2\n",
      "  (0, 498)\t2\n",
      "  (0, 42)\t2\n",
      "  (0, 270)\t1\n",
      "  (0, 478)\t1\n",
      "  (0, 496)\t1\n",
      "  (0, 396)\t1\n",
      "  (0, 198)\t1\n",
      "  (0, 222)\t1\n",
      "  (0, 280)\t1\n",
      "  (0, 490)\t1\n",
      "  (0, 48)\t1\n",
      "  (0, 187)\t1\n",
      "  (0, 413)\t1\n",
      "  (0, 226)\t2\n",
      "  (0, 489)\t1\n"
     ]
    }
   ],
   "source": [
    "count_vectorizer=CountVectorizer(stop_words='english',max_features=500)\n",
    "\n",
    "vectorized_description = count_vectorizer.fit_transform(stemmed_tokenized_data.values)\n",
    "\n",
    "print(vectorized_description[1])"
   ]
  },
  {
   "cell_type": "code",
   "execution_count": 108,
   "metadata": {},
   "outputs": [],
   "source": [
    "X, y = vectorized_description, Y.label.values\n",
    "y=y.astype(int)\n",
    "X_train, X_test, y_train, y_test = train_test_split(X, y, test_size=0.3)"
   ]
  },
  {
   "cell_type": "code",
   "execution_count": 109,
   "metadata": {},
   "outputs": [],
   "source": [
    "X_train_array = X_train.toarray()"
   ]
  },
  {
   "cell_type": "code",
   "execution_count": 110,
   "metadata": {},
   "outputs": [
    {
     "data": {
      "text/plain": [
       "RandomForestClassifier()"
      ]
     },
     "execution_count": 110,
     "metadata": {},
     "output_type": "execute_result"
    }
   ],
   "source": [
    "from sklearn.ensemble import RandomForestClassifier\n",
    "\n",
    "model = RandomForestClassifier()\n",
    "model.fit(X_train_array, y_train)"
   ]
  },
  {
   "cell_type": "markdown",
   "metadata": {},
   "source": [
    "### Analyse des performances"
   ]
  },
  {
   "cell_type": "code",
   "execution_count": 111,
   "metadata": {},
   "outputs": [
    {
     "name": "stdout",
     "output_type": "stream",
     "text": [
      "Accuracy:  0.9079365079365079\n"
     ]
    }
   ],
   "source": [
    "y_pred = model.predict(X_test)\n",
    "\n",
    "print(\"Accuracy: \", accuracy_score(y_test, y_pred))"
   ]
  },
  {
   "cell_type": "code",
   "execution_count": 120,
   "metadata": {
    "scrolled": true
   },
   "outputs": [
    {
     "data": {
      "text/plain": [
       "Text(0.5, 1.0, 'Matrice de confusion RFClassifier')"
      ]
     },
     "execution_count": 120,
     "metadata": {},
     "output_type": "execute_result"
    },
    {
     "data": {
      "image/png": "[encoded data removed]",
      "text/plain": [
       "<Figure size 432x288 with 2 Axes>"
      ]
     },
     "metadata": {
      "needs_background": "light"
     },
     "output_type": "display_data"
    }
   ],
   "source": [
    "conf_mat_RFC = confusion_matrix(y_test, y_pred)\n",
    "\n",
    "df_cm2 = pd.DataFrame(conf_mat_RFC, index = [label for label in class_names],\n",
    "                  columns = [i for i in \"0123456\"])\n",
    "plt.figure(figsize = (6,4))\n",
    "sb.heatmap(df_cm2, annot=True, cmap=\"Blues\")\n",
    "plt.title(\"Matrice de confusion RFClassifier\")"
   ]
  },
  {
   "cell_type": "markdown",
   "metadata": {},
   "source": [
    "Sans même optimisations du modèle, nous obtenons une Accuracy de plus de 90%. Nous observons donc que la classification du texte des descriptions d'image est faisable et que nous avons tous les élément nécessaires à disposition. \n",
    "\n",
    "Nous allons passer désormais au traitement des images afin de voir s'il est possible d'en faire de même."
   ]
  },
  {
   "cell_type": "code",
   "execution_count": null,
   "metadata": {},
   "outputs": [],
   "source": []
  }
 ],
 "metadata": {
  "kernelspec": {
   "display_name": "Python 3",
   "language": "python",
   "name": "python3"
  },
  "language_info": {
   "codemirror_mode": {
    "name": "ipython",
    "version": 3
   },
   "file_extension": ".py",
   "mimetype": "text/x-python",
   "name": "python",
   "nbconvert_exporter": "python",
   "pygments_lexer": "ipython3",
   "version": "3.8.3"
  },
  "toc": {
   "base_numbering": 1,
   "nav_menu": {},
   "number_sections": true,
   "sideBar": true,
   "skip_h1_title": true,
   "title_cell": "Table of Contents",
   "title_sidebar": "Contents",
   "toc_cell": false,
   "toc_position": {},
   "toc_section_display": true,
   "toc_window_display": true
  }
 },
 "nbformat": 4,
 "nbformat_minor": 4
}
